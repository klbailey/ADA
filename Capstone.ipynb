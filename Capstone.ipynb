{
  "nbformat": 4,
  "nbformat_minor": 0,
  "metadata": {
    "colab": {
      "provenance": [],
      "authorship_tag": "ABX9TyPi7BYpCtKwVAW7fS6K0u5s"
    },
    "kernelspec": {
      "name": "python3",
      "display_name": "Python 3"
    },
    "language_info": {
      "name": "python"
    }
  },
  "cells": [
    {
      "cell_type": "markdown",
      "source": [
        "Can we predict energy consumption per value added for different sectors in the countries based on historical data from 2015 to 2021? Note: China data is not available in dataset. We want to filter and use 'Constant 2015 prices' to allow for better comparability and analysis as it is a method of adjusting economic data for inflation or deflation where prices are expressed in terms of a base year of 2015.\n",
        "\n",
        "https://www.iea.org/data-and-statistics/data-product/energy-and-emissions-per-value-added-database"
      ],
      "metadata": {
        "id": "EZqebfmZ_FPm"
      }
    },
    {
      "cell_type": "markdown",
      "source": [
        "**1. Visual Inspection:**"
      ],
      "metadata": {
        "id": "rNc_F8K0_L7w"
      }
    },
    {
      "cell_type": "code",
      "source": [
        "import pandas as pd\n",
        "\n",
        "# Define the filenames\n",
        "file_names = ['VAFilter.xlsx', 'MfgFilter.xlsx', 'IndFilter.xlsx']\n",
        "\n",
        "# Iterate over each file to get countries with data from desired time frame\n",
        "for file_name in file_names:\n",
        "    # Load Excel file\n",
        "    data = pd.read_excel(file_name)\n",
        "\n",
        "    # Get unique countries for the years 2015-2021\n",
        "    unique_countries = data[data['Year'].between(2015, 2021)]['Country'].unique()\n",
        "\n",
        "    # Count the number of unique countries\n",
        "    num_countries = len(unique_countries)\n",
        "\n",
        "    print(f\"Number of countries available in {file_name} for 2015-2021: {num_countries}\")\n"
      ],
      "metadata": {
        "colab": {
          "base_uri": "https://localhost:8080/"
        },
        "id": "9OtX24KA5ty6",
        "outputId": "b5ebd200-5696-40e5-951a-19f0da2e9210"
      },
      "execution_count": 11,
      "outputs": [
        {
          "output_type": "stream",
          "name": "stdout",
          "text": [
            "Number of countries available in VAFilter.xlsx for 2015-2021: 118\n",
            "Number of countries available in MfgFilter.xlsx for 2015-2021: 1\n",
            "Number of countries available in IndFilter.xlsx for 2015-2021: 83\n"
          ]
        }
      ]
    },
    {
      "cell_type": "markdown",
      "source": [
        "We will disregard MfgFilter.xlsx file as only one country is present."
      ],
      "metadata": {
        "id": "xyjCfG34eijV"
      }
    },
    {
      "cell_type": "code",
      "source": [
        "# Load the Excel file for IndFilter.xlsx\n",
        "ind_data = pd.read_excel('IndFilter.xlsx')\n",
        "\n",
        "# Filter out the countries from IndFilter.xlsx that are also present in VAFilter.xlsx\n",
        "common_countries_data = ind_data[ind_data['Country'].isin(unique_countries)]\n",
        "\n",
        "# Get unique countries from the filtered data\n",
        "common_countries = common_countries_data['Country'].unique()\n",
        "\n",
        "# Count the number of common countries\n",
        "num_common_countries = len(common_countries)\n",
        "\n",
        "# Print the number of common countries\n",
        "print(f\"\\nNumber of countries available in IndFilter.xlsx for 2015-2021 that are also present in VAFilter.xlsx: {num_common_countries}\")\n",
        "\n",
        "# Print the common countries\n",
        "print(\"\\nCommon countries between VAFilter.xlsx and IndFilter.xlsx:\")\n",
        "for country in common_countries:\n",
        "    print(country)\n"
      ],
      "metadata": {
        "colab": {
          "base_uri": "https://localhost:8080/"
        },
        "id": "F9sDeqX4E_Iz",
        "outputId": "1ee44a55-2141-4943-ee6b-a70396f4d78b"
      },
      "execution_count": 92,
      "outputs": [
        {
          "output_type": "stream",
          "name": "stdout",
          "text": [
            "\n",
            "Number of countries available in IndFilter.xlsx for 2015-2021 that are also present in VAFilter.xlsx: 39\n",
            "\n",
            "Common countries between VAFilter.xlsx and IndFilter.xlsx:\n",
            "Austria\n",
            "Belgium\n",
            "Bulgaria\n",
            "Canada\n",
            "Chile\n",
            "Colombia\n",
            "Croatia\n",
            "Cyprus\n",
            "Czech Republic\n",
            "Denmark\n",
            "Estonia\n",
            "Finland\n",
            "France\n",
            "Germany\n",
            "Greece\n",
            "Hungary\n",
            "Iceland\n",
            "Ireland\n",
            "Italy\n",
            "Japan\n",
            "Latvia\n",
            "Lithuania\n",
            "Luxembourg\n",
            "Mexico\n",
            "Namibia\n",
            "Norway\n",
            "Poland\n",
            "Portugal\n",
            "Romania\n",
            "Serbia\n",
            "Slovak Republic\n",
            "Slovenia\n",
            "Spain\n",
            "Suriname\n",
            "Sweden\n",
            "Switzerland\n",
            "Thailand\n",
            "United Kingdom\n",
            "United States\n"
          ]
        }
      ]
    },
    {
      "cell_type": "markdown",
      "source": [
        "Show common countries between the two files we are using."
      ],
      "metadata": {
        "id": "j1HE7rU3PNJg"
      }
    },
    {
      "cell_type": "code",
      "source": [
        "# Load the Excel file for VAFilter.xlsx\n",
        "va_data = pd.read_excel('VAFilter.xlsx')\n",
        "\n",
        "# Extract unique countries from VAFilter.xlsx\n",
        "unique_countries_va = set(va_data['Country'].unique())\n",
        "\n",
        "# Load the Excel file for IndFilter.xlsx\n",
        "ind_data = pd.read_excel('IndFilter.xlsx')\n",
        "\n",
        "# Filter IndFilter.xlsx for countries that are also in VAFilter.xlsx\n",
        "common_countries_data = ind_data[ind_data['Country'].isin(unique_countries_va)]\n",
        "\n",
        "# Get unique common countries\n",
        "common_countries = common_countries_data['Country'].unique()\n",
        "\n",
        "# Count the number of common countries\n",
        "num_common_countries = len(common_countries)\n",
        "\n",
        "# Print statement showing how many countries are shared\n",
        "print(f\"Number of countries shared between VAFilter.xlsx and IndFilter.xlsx: {num_common_countries}\")\n"
      ],
      "metadata": {
        "colab": {
          "base_uri": "https://localhost:8080/"
        },
        "id": "empX38yELVxb",
        "outputId": "0c28e1ee-1d02-4e40-987c-595dc1bfa951"
      },
      "execution_count": 93,
      "outputs": [
        {
          "output_type": "stream",
          "name": "stdout",
          "text": [
            "Number of countries shared between VAFilter.xlsx and IndFilter.xlsx: 74\n"
          ]
        }
      ]
    },
    {
      "cell_type": "markdown",
      "source": [
        "Filter data for countries that are present in both remaining files."
      ],
      "metadata": {
        "id": "FKvKFORrPF-A"
      }
    },
    {
      "cell_type": "code",
      "source": [
        "\n",
        "# Load the Excel file for VAFilter.xlsx\n",
        "va_data = pd.read_excel('VAFilter.xlsx')\n",
        "\n",
        "# Extract unique countries from VAFilter.xlsx\n",
        "unique_countries_va = set(va_data['Country'].unique())\n",
        "\n",
        "# Load the Excel file for IndFilter.xlsx\n",
        "ind_data = pd.read_excel('IndFilter.xlsx')\n",
        "\n",
        "# Filter IndFilter.xlsx for countries that are also in VAFilter.xlsx\n",
        "common_countries_data = ind_data[ind_data['Country'].isin(unique_countries_va)]\n",
        "\n",
        "# Get unique common countries\n",
        "common_countries = common_countries_data['Country'].unique()\n",
        "\n",
        "# Count the number of common countries\n",
        "num_common_countries = len(common_countries)\n",
        "\n",
        "# Print statement showing how many countries are shared\n",
        "print(f\"Number of countries shared between VAFilter.xlsx and IndFilter.xlsx: {num_common_countries}\")\n",
        "\n",
        "# Filter VAFilter.xlsx for common countries\n",
        "va_common_countries = va_data[va_data['Country'].isin(common_countries)]\n",
        "\n",
        "# Filter IndFilter.xlsx for common countries\n",
        "ind_common_countries = ind_data[ind_data['Country'].isin(common_countries)]\n",
        "\n",
        "# Define output filenames for filtered data\n",
        "output_filename_va = \"VA_CommonCountries.csv\"\n",
        "output_filename_ind = \"Ind_CommonCountries.csv\"\n",
        "\n",
        "# Save filtered data to CSV for VAFilter.xlsx\n",
        "va_common_countries.to_csv(output_filename_va, index=False)\n",
        "num_unique_va = len(va_common_countries['Country'].unique())  # Count unique countries\n",
        "print(f\"Number of unique countries in {output_filename_va}: {num_unique_va}\")\n",
        "\n",
        "# Save filtered data to CSV for IndFilter.xlsx\n",
        "ind_common_countries.to_csv(output_filename_ind, index=False)\n",
        "num_unique_ind = len(ind_common_countries['Country'].unique())  # Count unique countries\n",
        "print(f\"Number of unique countries in {output_filename_ind}: {num_unique_ind}\")"
      ],
      "metadata": {
        "colab": {
          "base_uri": "https://localhost:8080/"
        },
        "id": "1swPYapALoF3",
        "outputId": "33ed6bb0-18dc-411a-97d7-43f0e1152a7f"
      },
      "execution_count": 94,
      "outputs": [
        {
          "output_type": "stream",
          "name": "stdout",
          "text": [
            "Number of countries shared between VAFilter.xlsx and IndFilter.xlsx: 74\n",
            "Number of unique countries in VA_CommonCountries.csv: 74\n",
            "Number of unique countries in Ind_CommonCountries.csv: 74\n"
          ]
        }
      ]
    },
    {
      "cell_type": "markdown",
      "source": [
        "Print columns and a few rows of each file"
      ],
      "metadata": {
        "id": "HjjpjPQfPfJc"
      }
    },
    {
      "cell_type": "code",
      "source": [
        "#Print column and a few rows for VA_CommonCountries.csv\n",
        "va_common = pd.read_csv('VA_CommonCountries.csv')\n",
        "print(\"VA_CommonCountries.csv:\")\n",
        "print(va_common.head())  # Print first 5 rows by default\n",
        "\n",
        "# Print column and a few rows for Ind_CommonCountries.csv\n",
        "ind_common = pd.read_csv('Ind_CommonCountries.csv')\n",
        "print(\"\\nInd_CommonCountries.csv:\")\n",
        "print(ind_common.head())"
      ],
      "metadata": {
        "colab": {
          "base_uri": "https://localhost:8080/"
        },
        "id": "pLNicd59PimF",
        "outputId": "63ba67c8-c46e-4050-8c2d-afbcd2b57d73"
      },
      "execution_count": 95,
      "outputs": [
        {
          "output_type": "stream",
          "name": "stdout",
          "text": [
            "VA_CommonCountries.csv:\n",
            "  Country ISO3  Country  Year ISIC Section ISIC Division  \\\n",
            "0          ALB  Albania  2015            A         01-03   \n",
            "1          ALB  Albania  2015            B         05-09   \n",
            "2          ALB  Albania  2015            C         10-33   \n",
            "3          ALB  Albania  2015            D            35   \n",
            "4          ALB  Albania  2015            E         36-39   \n",
            "\n",
            "                                  ISIC Division Desc               Measure  \\\n",
            "0                  Agriculture, forestry and fishing  Constant 2015 prices   \n",
            "1                               Mining and quarrying  Constant 2015 prices   \n",
            "2                                      Manufacturing  Constant 2015 prices   \n",
            "3  Electricity, gas, steam and air conditioning s...  Constant 2015 prices   \n",
            "4  Water supply; sewerage, waste management and r...  Constant 2015 prices   \n",
            "\n",
            "    Method  Value LCU (Million national currency)  Value USD (Million USD)  \\\n",
            "0  Rebased                              283709.06                  2252.34   \n",
            "1  Rebased                               46714.36                   370.86   \n",
            "2  Rebased                               81346.56                   645.81   \n",
            "3  Rebased                               46119.06                   366.14   \n",
            "4  Rebased                               10215.76                    81.10   \n",
            "\n",
            "         Source  \n",
            "0  OECD Nat-Acc  \n",
            "1  OECD Nat-Acc  \n",
            "2  OECD Nat-Acc  \n",
            "3  OECD Nat-Acc  \n",
            "4  OECD Nat-Acc  \n",
            "\n",
            "Ind_CommonCountries.csv:\n",
            "  Country ISO3  Country  Year ISIC Division  \\\n",
            "0          ALB  Albania  2015         01-03   \n",
            "1          ALB  Albania  2015         05-09   \n",
            "2          ALB  Albania  2015         41-43   \n",
            "3          ALB  Albania  2016         01-03   \n",
            "4          ALB  Albania  2016         05-09   \n",
            "\n",
            "           ISIC division description                         Indicator  Value  \\\n",
            "0  Agriculture, forestry and fishing  Per value added carbon intensity   0.04   \n",
            "1               Mining and quarrying  Per value added carbon intensity   0.05   \n",
            "2                       Construction  Per value added carbon intensity   0.00   \n",
            "3  Agriculture, forestry and fishing  Per value added carbon intensity   0.04   \n",
            "4               Mining and quarrying  Per value added carbon intensity   0.13   \n",
            "\n",
            "                 Unit  \n",
            "0  kgCO2/USD PPP 2015  \n",
            "1  kgCO2/USD PPP 2015  \n",
            "2  kgCO2/USD PPP 2015  \n",
            "3  kgCO2/USD PPP 2015  \n",
            "4  kgCO2/USD PPP 2015  \n"
          ]
        }
      ]
    },
    {
      "cell_type": "markdown",
      "source": [
        "Delete columns we will not use."
      ],
      "metadata": {
        "id": "n9Bb56D1aYd9"
      }
    },
    {
      "cell_type": "code",
      "source": [
        "# Read VA_CommonCountries.csv\n",
        "va_common = pd.read_csv('VA_CommonCountries.csv')\n",
        "\n",
        "# List of columns to delete\n",
        "columns_to_delete = ['Country ISO3', 'ISIC Section', 'ISIC Division', 'Method',\n",
        "                     'Value LCU (Million national currency)', 'Source']\n",
        "\n",
        "# Drop columns\n",
        "va_common_updated = va_common.drop(columns=columns_to_delete)\n",
        "\n",
        "# Save to VA_Updated.csv\n",
        "va_common_updated.to_csv('VA_Updated.csv', index=False)\n",
        "\n",
        "# Print first columns and first few rows of VA_Updated.csv\n",
        "print(\"VA_Updated.csv:\")\n",
        "print(va_common_updated.head())"
      ],
      "metadata": {
        "id": "JYIgUFF6afBU",
        "colab": {
          "base_uri": "https://localhost:8080/"
        },
        "outputId": "6f7c69e2-11fb-469e-bdcd-468125075a9f"
      },
      "execution_count": 96,
      "outputs": [
        {
          "output_type": "stream",
          "name": "stdout",
          "text": [
            "VA_Updated.csv:\n",
            "   Country  Year                                 ISIC Division Desc  \\\n",
            "0  Albania  2015                  Agriculture, forestry and fishing   \n",
            "1  Albania  2015                               Mining and quarrying   \n",
            "2  Albania  2015                                      Manufacturing   \n",
            "3  Albania  2015  Electricity, gas, steam and air conditioning s...   \n",
            "4  Albania  2015  Water supply; sewerage, waste management and r...   \n",
            "\n",
            "                Measure  Value USD (Million USD)  \n",
            "0  Constant 2015 prices                  2252.34  \n",
            "1  Constant 2015 prices                   370.86  \n",
            "2  Constant 2015 prices                   645.81  \n",
            "3  Constant 2015 prices                   366.14  \n",
            "4  Constant 2015 prices                    81.10  \n"
          ]
        }
      ]
    },
    {
      "cell_type": "code",
      "source": [
        "# Read Ind_CommonCountries.csv\n",
        "ind_common = pd.read_csv('Ind_CommonCountries.csv')\n",
        "\n",
        "# List of columns to delete\n",
        "columns_to_delete = ['Country ISO3', 'ISIC Division']\n",
        "\n",
        "# Drop columns\n",
        "ind_common_updated = ind_common.drop(columns=columns_to_delete)\n",
        "\n",
        "# Save to Ind_Updated.csv\n",
        "ind_common_updated.to_csv('Ind_Updated.csv', index=False)\n",
        "\n",
        "# Print columns and first few rows of Ind_Updated.csv\n",
        "print(\"Ind_Updated.csv:\")\n",
        "print(ind_common_updated.head())"
      ],
      "metadata": {
        "id": "I3NyGZuEuj7R",
        "colab": {
          "base_uri": "https://localhost:8080/"
        },
        "outputId": "3f2e8834-7870-423a-cb3d-56c7b8937d84"
      },
      "execution_count": 97,
      "outputs": [
        {
          "output_type": "stream",
          "name": "stdout",
          "text": [
            "Ind_Updated.csv:\n",
            "   Country  Year          ISIC division description  \\\n",
            "0  Albania  2015  Agriculture, forestry and fishing   \n",
            "1  Albania  2015               Mining and quarrying   \n",
            "2  Albania  2015                       Construction   \n",
            "3  Albania  2016  Agriculture, forestry and fishing   \n",
            "4  Albania  2016               Mining and quarrying   \n",
            "\n",
            "                          Indicator  Value                Unit  \n",
            "0  Per value added carbon intensity   0.04  kgCO2/USD PPP 2015  \n",
            "1  Per value added carbon intensity   0.05  kgCO2/USD PPP 2015  \n",
            "2  Per value added carbon intensity   0.00  kgCO2/USD PPP 2015  \n",
            "3  Per value added carbon intensity   0.04  kgCO2/USD PPP 2015  \n",
            "4  Per value added carbon intensity   0.13  kgCO2/USD PPP 2015  \n"
          ]
        }
      ]
    },
    {
      "cell_type": "markdown",
      "source": [
        "Confirm new .csv's"
      ],
      "metadata": {
        "id": "QPxFxvy_RIm9"
      }
    },
    {
      "cell_type": "code",
      "source": [
        "# Define function to print file details\n",
        "def print_file_details(file_name):\n",
        "    # Read the CSV file\n",
        "    df = pd.read_csv(file_name)\n",
        "\n",
        "    # Print number of rows and columns\n",
        "    num_rows = len(df)\n",
        "    num_columns = len(df.columns)\n",
        "\n",
        "    # Print number of rows and columns\n",
        "    print(f\"File: {file_name}\")\n",
        "    print(f\"Number of rows: {num_rows}\")\n",
        "    print(f\"Number of columns: {num_columns}\")\n",
        "\n",
        "    # Count unique countries\n",
        "    unique_countries = df['Country'].nunique()\n",
        "    print(f\"Number of unique countries: {unique_countries}\")\n",
        "    print()\n",
        "\n",
        "# File names\n",
        "ind_file = 'Ind_Updated.csv'\n",
        "va_file = 'VA_Updated.csv'\n",
        "\n",
        "# Print details for IND_Updated.csv\n",
        "print_file_details(ind_file)\n",
        "\n",
        "# Print details for VA_Updated.csv\n",
        "print_file_details(va_file)"
      ],
      "metadata": {
        "id": "Gfo-3B0pvB0j",
        "colab": {
          "base_uri": "https://localhost:8080/"
        },
        "outputId": "c8d984b6-cf83-4794-f50d-7aa9347b473d"
      },
      "execution_count": 98,
      "outputs": [
        {
          "output_type": "stream",
          "name": "stdout",
          "text": [
            "File: Ind_Updated.csv\n",
            "Number of rows: 6123\n",
            "Number of columns: 6\n",
            "Number of unique countries: 74\n",
            "\n",
            "File: VA_Updated.csv\n",
            "Number of rows: 8260\n",
            "Number of columns: 5\n",
            "Number of unique countries: 74\n",
            "\n"
          ]
        }
      ]
    },
    {
      "cell_type": "markdown",
      "source": [
        "**2. Data Cleaning:**"
      ],
      "metadata": {
        "id": "6Mr3N3fs5Qnv"
      }
    },
    {
      "cell_type": "code",
      "source": [
        "# Load Ind_Updated.csv\n",
        "ind_df = pd.read_csv('Ind_Updated.csv')\n",
        "\n",
        "# Check for missing values in Ind_Updated.csv\n",
        "print(\"Missing values in Ind_Updated.csv:\")\n",
        "print(ind_df.isnull().sum())\n",
        "\n",
        "# Load VA_Updated.csv\n",
        "va_df = pd.read_csv('VA_Updated.csv')\n",
        "\n",
        "# Check for missing values in VA_Updated.csv\n",
        "print(\"\\nMissing values in VA_Updated.csv:\")\n",
        "print(va_df.isnull().sum())"
      ],
      "metadata": {
        "id": "jzrnz3I75VJA",
        "colab": {
          "base_uri": "https://localhost:8080/"
        },
        "outputId": "e94d7d53-39e7-4c16-8abd-d8b6bf661533"
      },
      "execution_count": 99,
      "outputs": [
        {
          "output_type": "stream",
          "name": "stdout",
          "text": [
            "Missing values in Ind_Updated.csv:\n",
            "Country                      0\n",
            "Year                         0\n",
            "ISIC division description    0\n",
            "Indicator                    0\n",
            "Value                        0\n",
            "Unit                         0\n",
            "dtype: int64\n",
            "\n",
            "Missing values in VA_Updated.csv:\n",
            "Country                      0\n",
            "Year                         0\n",
            "ISIC Division Desc           0\n",
            "Measure                      0\n",
            "Value USD (Million USD)    410\n",
            "dtype: int64\n"
          ]
        }
      ]
    },
    {
      "cell_type": "markdown",
      "source": [
        "Calculate percentage of missing data Value USD (Million USD)    410 is in VA_Updated.csv"
      ],
      "metadata": {
        "id": "mItNJBVxSY-f"
      }
    },
    {
      "cell_type": "code",
      "source": [
        "# Load VA_Updated.csv into a DataFrame\n",
        "va_updated = pd.read_csv('VA_Updated.csv')\n",
        "\n",
        "# Calculate percentage of missing values for each column\n",
        "missing_percentage = va_updated.isnull().mean() * 100\n",
        "\n",
        "# Print the results\n",
        "print(\"Percentage of missing values in VA_Updated.csv:\")\n",
        "print(missing_percentage)\n"
      ],
      "metadata": {
        "colab": {
          "base_uri": "https://localhost:8080/"
        },
        "id": "DYK9VshfSfLM",
        "outputId": "90f62982-14ac-49ba-d56a-8b9d3a16e326"
      },
      "execution_count": 100,
      "outputs": [
        {
          "output_type": "stream",
          "name": "stdout",
          "text": [
            "Percentage of missing values in VA_Updated.csv:\n",
            "Country                    0.00000\n",
            "Year                       0.00000\n",
            "ISIC Division Desc         0.00000\n",
            "Measure                    0.00000\n",
            "Value USD (Million USD)    4.96368\n",
            "dtype: float64\n"
          ]
        }
      ]
    },
    {
      "cell_type": "markdown",
      "source": [
        "With the amount of data:\n",
        "VA_Updated.csv has 4.96% missing, we will delete the missing data."
      ],
      "metadata": {
        "id": "So6_Iuk6wqYx"
      }
    },
    {
      "cell_type": "code",
      "source": [
        "# Load the updated CSV file\n",
        "va_updated = pd.read_csv('VA_Updated.csv')\n",
        "\n",
        "# Calculate percentage of missing values\n",
        "missing_percentage = (va_updated['Value USD (Million USD)'].isnull().sum() / len(va_updated)) * 100\n",
        "print(f\"Percentage of missing values: {missing_percentage:.2f}%\")\n",
        "\n",
        "# Drop rows with missing values in 'Value USD (Million USD)' column\n",
        "va_updated_cleaned = va_updated.dropna(subset=['Value USD (Million USD)'])\n",
        "\n",
        "# Save cleaned data to a new CSV file\n",
        "va_updated_cleaned.to_csv('VA_NewUpdated.csv', index=False)\n",
        "\n",
        "print(f\"Deleted {va_updated.shape[0] - va_updated_cleaned.shape[0]} rows with missing values.\")\n",
        "print(f\"Cleaned data saved to 'VA_NewUpdated.csv'.\")"
      ],
      "metadata": {
        "id": "pBYlHIjA5nUC",
        "colab": {
          "base_uri": "https://localhost:8080/"
        },
        "outputId": "bc8c3724-6b79-4e9e-c80a-a478a258ab55"
      },
      "execution_count": 101,
      "outputs": [
        {
          "output_type": "stream",
          "name": "stdout",
          "text": [
            "Percentage of missing values: 4.96%\n",
            "Deleted 410 rows with missing values.\n",
            "Cleaned data saved to 'VA_NewUpdated.csv'.\n"
          ]
        }
      ]
    },
    {
      "cell_type": "markdown",
      "source": [
        "Rerun for missing values"
      ],
      "metadata": {
        "id": "YUuy8BRGTpsb"
      }
    },
    {
      "cell_type": "code",
      "source": [
        "# Load the cleaned CSV file\n",
        "va_new_updated = pd.read_csv('VA_NewUpdated.csv')\n",
        "\n",
        "# Check number of rows and columns\n",
        "num_rows, num_cols = va_new_updated.shape\n",
        "\n",
        "# Check for missing values\n",
        "missing_values = va_new_updated.isnull().sum()\n",
        "\n",
        "# Print number of rows and columns\n",
        "print(f\"Number of rows in VA_NewUpdated.csv: {num_rows}\")\n",
        "print(f\"Number of columns in VA_NewUpdated.csv: {num_cols}\")\n",
        "\n",
        "# Print missing values (if any)\n",
        "if missing_values.any():\n",
        "    print(\"\\nMissing values in VA_NewUpdated.csv:\")\n",
        "    print(missing_values)\n",
        "else:\n",
        "    print(\"\\nNo missing values found in VA_NewUpdated.csv.\")"
      ],
      "metadata": {
        "colab": {
          "base_uri": "https://localhost:8080/"
        },
        "id": "ou6f0BckT9m2",
        "outputId": "b517f34f-d428-4cde-e5de-28ba58eabeeb"
      },
      "execution_count": 102,
      "outputs": [
        {
          "output_type": "stream",
          "name": "stdout",
          "text": [
            "Number of rows in VA_NewUpdated.csv: 7850\n",
            "Number of columns in VA_NewUpdated.csv: 5\n",
            "\n",
            "No missing values found in VA_NewUpdated.csv.\n"
          ]
        }
      ]
    },
    {
      "cell_type": "markdown",
      "source": [
        "Identify 0 or Nan values."
      ],
      "metadata": {
        "id": "tqr49EvGks45"
      }
    },
    {
      "cell_type": "code",
      "source": [
        "# Check for NaN values\n",
        "nan_values = va_new_updated.isnull().sum()\n",
        "\n",
        "# Check for 0 values\n",
        "zero_values = (va_new_updated == 0).sum()\n",
        "\n",
        "# Combine results\n",
        "missing_or_zero_values = nan_values + zero_values\n",
        "\n",
        "# Print the combined result\n",
        "if missing_or_zero_values.any():\n",
        "    print(\"\\nRows with NaN or 0 values in VA_NewUpdated.csv:\")\n",
        "    print(missing_or_zero_values[missing_or_zero_values > 0])\n",
        "else:\n",
        "    print(\"\\nNo NaN or 0 values found in VA_NewUpdated.csv.\")"
      ],
      "metadata": {
        "colab": {
          "base_uri": "https://localhost:8080/"
        },
        "id": "sncWAuGpk38H",
        "outputId": "5e2abd84-3542-454a-9399-d1680409f17f"
      },
      "execution_count": 103,
      "outputs": [
        {
          "output_type": "stream",
          "name": "stdout",
          "text": [
            "\n",
            "Rows with NaN or 0 values in VA_NewUpdated.csv:\n",
            "Value USD (Million USD)    65\n",
            "dtype: int64\n"
          ]
        }
      ]
    },
    {
      "cell_type": "code",
      "source": [
        "# Unique countries with '0' values\n",
        "countries_with_zero = va_new_updated[va_new_updated['Value USD (Million USD)'] == 0]['Country'].unique()\n",
        "print(\"Unique countries with '0' values:\")\n",
        "print(countries_with_zero)\n",
        "\n",
        "# Unique countries with NaN values\n",
        "countries_with_nan = va_new_updated[va_new_updated['Value USD (Million USD)'].isnull()]['Country'].unique()\n",
        "print(\"\\nUnique countries with NaN values:\")\n",
        "print(countries_with_nan)"
      ],
      "metadata": {
        "colab": {
          "base_uri": "https://localhost:8080/"
        },
        "id": "B_fyJubylO3Z",
        "outputId": "5ede9979-83b1-4f2b-eb5b-2edef9e6ab3e"
      },
      "execution_count": 104,
      "outputs": [
        {
          "output_type": "stream",
          "name": "stdout",
          "text": [
            "Unique countries with '0' values:\n",
            "['Bulgaria' 'Czech Republic' 'Greece' 'Italy' 'Luxembourg' 'Malta'\n",
            " 'Norway' 'Poland' 'Slovak Republic' 'Spain' 'Sweden']\n",
            "\n",
            "Unique countries with NaN values:\n",
            "[]\n"
          ]
        }
      ]
    },
    {
      "cell_type": "markdown",
      "source": [
        "The rows that have 0 are < 1 million USD or invalid. We will delete these rows as it may subsequently assist further analyses."
      ],
      "metadata": {
        "id": "ydqCweQzl72S"
      }
    },
    {
      "cell_type": "code",
      "source": [
        "# Check the initial number of rows\n",
        "initial_rows = va_new_updated.shape[0]\n",
        "print(f\"Initial number of rows: {initial_rows}\")\n",
        "\n",
        "# Filter rows where 'Value USD (Million USD)' is not equal to 0\n",
        "va_new_updated = va_new_updated[va_new_updated['Value USD (Million USD)'] != 0]\n",
        "\n",
        "# Check the number of rows after filtering\n",
        "remaining_rows = va_new_updated.shape[0]\n",
        "print(f\"Remaining number of rows after filtering: {remaining_rows}\")\n",
        "\n",
        "# Save the cleaned DataFrame back to CSV (overwrite the existing file)\n",
        "va_new_updated.to_csv('VA_NewUpdated.csv', index=False)\n",
        "\n",
        "print(\"Data cleaned and saved to VA_NewUpdated.csv.\")"
      ],
      "metadata": {
        "colab": {
          "base_uri": "https://localhost:8080/"
        },
        "id": "LGRlqR2vmwA7",
        "outputId": "494f8aea-79ed-465f-a2ec-940add8b4916"
      },
      "execution_count": 105,
      "outputs": [
        {
          "output_type": "stream",
          "name": "stdout",
          "text": [
            "Initial number of rows: 7850\n",
            "Remaining number of rows after filtering: 7785\n",
            "Data cleaned and saved to VA_NewUpdated.csv.\n"
          ]
        }
      ]
    },
    {
      "cell_type": "markdown",
      "source": [
        "Check for outliers."
      ],
      "metadata": {
        "id": "Gk8WK9WF26-W"
      }
    },
    {
      "cell_type": "code",
      "source": [
        "# Load the dataset\n",
        "va_data = pd.read_csv('VA_NewUpdated.csv')\n",
        "\n",
        "# Print data types of columns\n",
        "print(\"Data types of columns in VA_NewUpdated.csv:\")\n",
        "print(va_data.dtypes)"
      ],
      "metadata": {
        "colab": {
          "base_uri": "https://localhost:8080/"
        },
        "id": "P8k9IAuUU0RH",
        "outputId": "9e226dbd-bc95-4780-ff48-b369a0c600ff"
      },
      "execution_count": 106,
      "outputs": [
        {
          "output_type": "stream",
          "name": "stdout",
          "text": [
            "Data types of columns in VA_NewUpdated.csv:\n",
            "Country                     object\n",
            "Year                         int64\n",
            "ISIC Division Desc          object\n",
            "Measure                     object\n",
            "Value USD (Million USD)    float64\n",
            "dtype: object\n"
          ]
        }
      ]
    },
    {
      "cell_type": "markdown",
      "source": [
        "Value USD (Million USD) will be checked for outliers as the others are descriptive or non-numeric or not relevant to outlier detection."
      ],
      "metadata": {
        "id": "t-yCNcqXYIps"
      }
    },
    {
      "cell_type": "code",
      "source": [
        "# Load VA_NewUpdated.csv\n",
        "va_data = pd.read_csv('VA_NewUpdated.csv')\n",
        "\n",
        "# Define the column to check for outliers\n",
        "value_column = 'Value USD (Million USD)'\n",
        "values = va_data[value_column]\n",
        "\n",
        "# Calculate quartiles\n",
        "Q1 = values.quantile(0.25)\n",
        "Q3 = values.quantile(0.75)\n",
        "\n",
        "# Calculate IQR\n",
        "IQR = Q3 - Q1\n",
        "\n",
        "# Define outlier thresholds\n",
        "lower_bound = Q1 - 1.5 * IQR\n",
        "upper_bound = Q3 + 1.5 * IQR\n",
        "\n",
        "# Identify outliers\n",
        "outliers = va_data[(values < lower_bound) | (values > upper_bound)]\n",
        "\n",
        "print(f\"Number of outliers in '{value_column}': {len(outliers)}\")\n",
        "print(\"\\nOutliers:\")\n",
        "print(outliers[[value_column]])"
      ],
      "metadata": {
        "colab": {
          "base_uri": "https://localhost:8080/"
        },
        "id": "6sE-1rd9Xwbc",
        "outputId": "c3e8a828-1aa9-4d08-8e88-bade62aebdd0"
      },
      "execution_count": 107,
      "outputs": [
        {
          "output_type": "stream",
          "name": "stdout",
          "text": [
            "Number of outliers in 'Value USD (Million USD)': 1076\n",
            "\n",
            "Outliers:\n",
            "      Value USD (Million USD)\n",
            "55                   72700.56\n",
            "56                   75786.76\n",
            "58                   98735.61\n",
            "59                  105205.50\n",
            "60                   60177.74\n",
            "...                       ...\n",
            "7682               1649071.50\n",
            "7683               1002410.31\n",
            "7684               1526995.88\n",
            "7685                176351.77\n",
            "7686                240939.58\n",
            "\n",
            "[1076 rows x 1 columns]\n"
          ]
        }
      ]
    },
    {
      "cell_type": "code",
      "source": [
        "import matplotlib.pyplot as plt\n",
        "\n",
        "# Load VA_NewUpdated.csv\n",
        "va_data = pd.read_csv('VA_NewUpdated.csv')\n",
        "\n",
        "# Define the column to check for outliers\n",
        "value_column = 'Value USD (Million USD)'\n",
        "values = va_data[value_column]\n",
        "\n",
        "# Visualize distribution of 'Value USD (Million USD)'\n",
        "plt.figure(figsize=(10, 6))\n",
        "plt.hist(values, bins=30, edgecolor='black')\n",
        "plt.title(f'Distribution of {value_column}')\n",
        "plt.xlabel(value_column)\n",
        "plt.ylabel('Frequency')\n",
        "plt.grid(True)\n",
        "plt.show()\n"
      ],
      "metadata": {
        "colab": {
          "base_uri": "https://localhost:8080/",
          "height": 564
        },
        "id": "4w8cZxcFXfnC",
        "outputId": "65aa1efb-bda4-4b75-d1be-3df5fb2e6236"
      },
      "execution_count": 108,
      "outputs": [
        {
          "output_type": "display_data",
          "data": {
            "text/plain": [
              "<Figure size 1000x600 with 1 Axes>"
            ],
            "image/png": "[encoded data removed]"
          },
          "metadata": {}
        }
      ]
    },
    {
      "cell_type": "code",
      "source": [
        "import numpy as np\n",
        "\n",
        "# Define the column to check for outliers\n",
        "value_column = 'Value USD (Million USD)'\n",
        "values = va_data[value_column]\n",
        "\n",
        "# Plot histogram to visualize distribution\n",
        "plt.figure(figsize=(10, 6))\n",
        "plt.hist(values, bins=30, edgecolor='black')\n",
        "plt.title(f'Distribution of {value_column}')\n",
        "plt.xlabel(value_column)\n",
        "plt.ylabel('Frequency')\n",
        "plt.grid(True)\n",
        "plt.show()\n",
        "\n",
        "# Calculate and print histogram data\n",
        "hist, bin_edges = np.histogram(values, bins=30)\n",
        "for i, (count, bin_edge) in enumerate(zip(hist, bin_edges)):\n",
        "    if i < len(bin_edges) - 1:\n",
        "        print(f\"Bin {i+1}: {bin_edge:.2f} - {bin_edges[i+1]:.2f} \\t Count: {count}\")"
      ],
      "metadata": {
        "colab": {
          "base_uri": "https://localhost:8080/",
          "height": 1000
        },
        "id": "9B4_yaTecU_v",
        "outputId": "d30b6272-4ba7-4b9f-d4bf-c71c26960481"
      },
      "execution_count": 109,
      "outputs": [
        {
          "output_type": "display_data",
          "data": {
            "text/plain": [
              "<Figure size 1000x600 with 1 Axes>"
            ],
            "image/png": "[encoded data removed]"
          },
          "metadata": {}
        },
        {
          "output_type": "stream",
          "name": "stdout",
          "text": [
            "Bin 1: 0.34 - 78640.30 \t Count: 6972\n",
            "Bin 2: 78640.30 - 157280.25 \t Count: 393\n",
            "Bin 3: 157280.25 - 235920.21 \t Count: 184\n",
            "Bin 4: 235920.21 - 314560.17 \t Count: 79\n",
            "Bin 5: 314560.17 - 393200.12 \t Count: 31\n",
            "Bin 6: 393200.12 - 471840.08 \t Count: 11\n",
            "Bin 7: 471840.08 - 550480.04 \t Count: 13\n",
            "Bin 8: 550480.04 - 629119.99 \t Count: 10\n",
            "Bin 9: 629119.99 - 707759.95 \t Count: 7\n",
            "Bin 10: 707759.95 - 786399.91 \t Count: 14\n",
            "Bin 11: 786399.91 - 865039.86 \t Count: 2\n",
            "Bin 12: 865039.86 - 943679.82 \t Count: 3\n",
            "Bin 13: 943679.82 - 1022319.78 \t Count: 10\n",
            "Bin 14: 1022319.78 - 1100959.73 \t Count: 0\n",
            "Bin 15: 1100959.73 - 1179599.69 \t Count: 1\n",
            "Bin 16: 1179599.69 - 1258239.65 \t Count: 1\n",
            "Bin 17: 1258239.65 - 1336879.60 \t Count: 2\n",
            "Bin 18: 1336879.60 - 1415519.56 \t Count: 9\n",
            "Bin 19: 1415519.56 - 1494159.52 \t Count: 6\n",
            "Bin 20: 1494159.52 - 1572799.47 \t Count: 5\n",
            "Bin 21: 1572799.47 - 1651439.43 \t Count: 8\n",
            "Bin 22: 1651439.43 - 1730079.39 \t Count: 1\n",
            "Bin 23: 1730079.39 - 1808719.34 \t Count: 1\n",
            "Bin 24: 1808719.34 - 1887359.30 \t Count: 3\n",
            "Bin 25: 1887359.30 - 1965999.26 \t Count: 4\n",
            "Bin 26: 1965999.26 - 2044639.21 \t Count: 1\n",
            "Bin 27: 2044639.21 - 2123279.17 \t Count: 2\n",
            "Bin 28: 2123279.17 - 2201919.13 \t Count: 4\n",
            "Bin 29: 2201919.13 - 2280559.08 \t Count: 5\n",
            "Bin 30: 2280559.08 - 2359199.04 \t Count: 3\n"
          ]
        }
      ]
    },
    {
      "cell_type": "markdown",
      "source": [
        "This distribution is skewed to the right/positive skewness. There are more lower values and fewer higher values. These are probably poor vs rich countries."
      ],
      "metadata": {
        "id": "s1fKAf6RcjHh"
      }
    },
    {
      "cell_type": "code",
      "source": [
        "# Define the column to check for outliers\n",
        "value_column = 'Value USD (Million USD)'\n",
        "values = va_data[value_column]\n",
        "\n",
        "# Calculate quartiles and IQR\n",
        "Q1 = values.quantile(0.25)\n",
        "Q3 = values.quantile(0.75)\n",
        "IQR = Q3 - Q1\n",
        "\n",
        "# Define outlier thresholds\n",
        "lower_bound = Q1 - 1.5 * IQR\n",
        "upper_bound = Q3 + 1.5 * IQR\n",
        "\n",
        "# Identify outliers\n",
        "outliers_df = va_data[(values < lower_bound) | (values > upper_bound)]\n",
        "\n",
        "# Print unique country names of the outliers\n",
        "unique_countries = outliers_df['Country'].unique()\n",
        "print(\"Unique countries with outliers in 'Value USD (Million USD)':\")\n",
        "for country in unique_countries:\n",
        "    print(country)"
      ],
      "metadata": {
        "colab": {
          "base_uri": "https://localhost:8080/"
        },
        "id": "TIQxL8BndFG0",
        "outputId": "5e023931-4046-4f04-8ed8-33e617dc2a02"
      },
      "execution_count": 110,
      "outputs": [
        {
          "output_type": "stream",
          "name": "stdout",
          "text": [
            "Unique countries with outliers in 'Value USD (Million USD)':\n",
            "Australia\n",
            "Austria\n",
            "Belgium\n",
            "Canada\n",
            "France\n",
            "Germany\n",
            "India\n",
            "Indonesia\n",
            "Ireland\n",
            "Italy\n",
            "Japan\n",
            "Korea\n",
            "Malaysia\n",
            "Mexico\n",
            "Nigeria\n",
            "Norway\n",
            "Pakistan\n",
            "Philippines\n",
            "Poland\n",
            "Qatar\n",
            "Saudi Arabia\n",
            "Singapore\n",
            "Spain\n",
            "Sweden\n",
            "Switzerland\n",
            "Thailand\n",
            "United Kingdom\n",
            "United States\n"
          ]
        }
      ]
    },
    {
      "cell_type": "markdown",
      "source": [
        "At this juncture we will retain outliers as it is a representation of real-world data points and helps to maintain transparency and clarity. A sensitivity analysis may be performed later to assess how sensitive the results are to the presence of outliers. If necessary a data transformation may be needed or robust statistical methods that are less sensitive to outliers (using median or trimmed mean)."
      ],
      "metadata": {
        "id": "NRyd_OyUVEwH"
      }
    },
    {
      "cell_type": "code",
      "source": [
        "# Load Ind_Updated.csv\n",
        "ind_data = pd.read_csv('Ind_Updated.csv')\n",
        "\n",
        "# Print columns\n",
        "print(\"Columns in Ind_Updated.csv:\")\n",
        "print(ind_data.columns.tolist())"
      ],
      "metadata": {
        "colab": {
          "base_uri": "https://localhost:8080/"
        },
        "id": "0S75SnPBfQxm",
        "outputId": "ad65c344-f03a-4567-d137-47aea7d18c10"
      },
      "execution_count": 111,
      "outputs": [
        {
          "output_type": "stream",
          "name": "stdout",
          "text": [
            "Columns in Ind_Updated.csv:\n",
            "['Country', 'Year', 'ISIC division description', 'Indicator', 'Value', 'Unit']\n"
          ]
        }
      ]
    },
    {
      "cell_type": "code",
      "source": [
        "# Load the data\n",
        "ind_data = pd.read_csv('Ind_Updated.csv')\n",
        "\n",
        "# Define the column to check for outliers\n",
        "value_column = 'Value'\n",
        "\n",
        "# Calculate quartiles and IQR\n",
        "Q1 = ind_data[value_column].quantile(0.25)\n",
        "Q3 = ind_data[value_column].quantile(0.75)\n",
        "IQR = Q3 - Q1\n",
        "\n",
        "# Define outlier thresholds\n",
        "lower_bound = Q1 - 1.5 * IQR\n",
        "upper_bound = Q3 + 1.5 * IQR\n",
        "\n",
        "# Identify outliers\n",
        "outliers = ind_data[(ind_data[value_column] < lower_bound) | (ind_data[value_column] > upper_bound)]\n",
        "\n",
        "# Create bins for outlier analysis\n",
        "bins = [-float('inf'), lower_bound, Q1, Q3, upper_bound, float('inf')]\n",
        "bin_labels = ['Bin 1', 'Bin 2', 'Bin 3', 'Bin 4', 'Bin 5']\n",
        "\n",
        "# Assign outliers to bins\n",
        "outliers['Bin'] = pd.cut(outliers[value_column], bins=bins, labels=bin_labels, include_lowest=True)\n",
        "\n",
        "# Count outliers in each bin\n",
        "bin_counts = outliers['Bin'].value_counts().sort_index()\n",
        "\n",
        "# Print bin counts\n",
        "print(\"Outlier Counts by Bin:\")\n",
        "for bin_label, count in bin_counts.items():\n",
        "    print(f\"{bin_label}: {count}\")\n",
        "\n",
        "# Print the outliers in each bin for further investigation\n",
        "for bin_label in bin_labels:\n",
        "    if bin_label in bin_counts.index:\n",
        "        print(f\"\\nOutliers in {bin_label}:\")\n",
        "        print(outliers[outliers['Bin'] == bin_label][[value_column]])\n",
        "\n",
        "# Print unique countries with outliers\n",
        "unique_countries = outliers['Country'].unique()\n",
        "print(\"\\nUnique countries with outliers:\")\n",
        "print(unique_countries)"
      ],
      "metadata": {
        "colab": {
          "base_uri": "https://localhost:8080/"
        },
        "id": "6MTIynzngi1O",
        "outputId": "a088cd03-7911-4492-f1ef-475aab74e9de"
      },
      "execution_count": 112,
      "outputs": [
        {
          "output_type": "stream",
          "name": "stdout",
          "text": [
            "Outlier Counts by Bin:\n",
            "Bin 1: 12\n",
            "Bin 2: 0\n",
            "Bin 3: 0\n",
            "Bin 4: 0\n",
            "Bin 5: 873\n",
            "\n",
            "Outliers in Bin 1:\n",
            "         Value\n",
            "491     -11.87\n",
            "569    -217.68\n",
            "1384 -10658.41\n",
            "1680   -370.55\n",
            "1692   -318.75\n",
            "1704   -229.95\n",
            "1716   -197.59\n",
            "1728   -170.57\n",
            "1740   -143.88\n",
            "1752   -106.06\n",
            "3037    -25.17\n",
            "3115   -557.64\n",
            "\n",
            "Outliers in Bin 2:\n",
            "Empty DataFrame\n",
            "Columns: [Value]\n",
            "Index: []\n",
            "\n",
            "Outliers in Bin 3:\n",
            "Empty DataFrame\n",
            "Columns: [Value]\n",
            "Index: []\n",
            "\n",
            "Outliers in Bin 4:\n",
            "Empty DataFrame\n",
            "Columns: [Value]\n",
            "Index: []\n",
            "\n",
            "Outliers in Bin 5:\n",
            "      Value\n",
            "136   11.96\n",
            "139   10.36\n",
            "140   19.00\n",
            "141   43.25\n",
            "143   12.44\n",
            "...     ...\n",
            "6071  21.09\n",
            "6072  22.33\n",
            "6073   7.92\n",
            "6074  11.55\n",
            "6075  17.46\n",
            "\n",
            "[873 rows x 1 columns]\n",
            "\n",
            "Unique countries with outliers:\n",
            "['Austria' 'Belgium' 'Bulgaria' 'Canada' 'Chile' 'Colombia' 'Croatia'\n",
            " 'Cyprus' 'Czech Republic' 'Denmark' 'Estonia' 'Finland' 'France'\n",
            " 'Germany' 'Greece' 'Hungary' 'Iceland' 'Ireland' 'Italy' 'Japan' 'Latvia'\n",
            " 'Lithuania' 'Luxembourg' 'Mexico' 'Namibia' 'Norway' 'Poland' 'Portugal'\n",
            " 'Romania' 'Serbia' 'Slovak Republic' 'Slovenia' 'Spain' 'Suriname'\n",
            " 'Sweden' 'Switzerland' 'Thailand' 'United Kingdom' 'United States']\n"
          ]
        },
        {
          "output_type": "stream",
          "name": "stderr",
          "text": [
            "<ipython-input-112-611253fe9be0>:24: SettingWithCopyWarning: \n",
            "A value is trying to be set on a copy of a slice from a DataFrame.\n",
            "Try using .loc[row_indexer,col_indexer] = value instead\n",
            "\n",
            "See the caveats in the documentation: https://pandas.pydata.org/pandas-docs/stable/user_guide/indexing.html#returning-a-view-versus-a-copy\n",
            "  outliers['Bin'] = pd.cut(outliers[value_column], bins=bins, labels=bin_labels, include_lowest=True)\n"
          ]
        }
      ]
    },
    {
      "cell_type": "markdown",
      "source": [
        "At this juncture we will retain outliers as it is a representation of real-world data points and helps to maintain transparency and clarity. A sensitivity analysis may be performed later to assess how sensitive the results are to the presence of outliers. If necessary a data transformation may be needed or robust statistical methods that are less sensitive to outliers (using median or trimmed mean)."
      ],
      "metadata": {
        "id": "z1pHV6amh-Uf"
      }
    },
    {
      "cell_type": "markdown",
      "source": [
        "**3. Exploratory Data Analysis:**"
      ],
      "metadata": {
        "id": "M3qJ4lil_NOP"
      }
    },
    {
      "cell_type": "code",
      "source": [
        "# Load VA_NewUpdated.csv\n",
        "va_data = pd.read_csv('VA_NewUpdated.csv')\n",
        "\n",
        "# Summary Statistics\n",
        "summary_stats_va = va_data.describe()\n",
        "print(\"Summary Statistics for VA_NewUpdated.csv:\")\n",
        "print(summary_stats_va)"
      ],
      "metadata": {
        "colab": {
          "base_uri": "https://localhost:8080/"
        },
        "id": "OE9C64VVi8Vk",
        "outputId": "cb23831f-c5de-4d3c-8719-cfe3d3b31dbc"
      },
      "execution_count": 113,
      "outputs": [
        {
          "output_type": "stream",
          "name": "stdout",
          "text": [
            "Summary Statistics for VA_NewUpdated.csv:\n",
            "              Year  Value USD (Million USD)\n",
            "count  7785.000000             7.785000e+03\n",
            "mean   2017.570713             4.270331e+04\n",
            "std       1.815533             1.666048e+05\n",
            "min    2015.000000             3.400000e-01\n",
            "25%    2016.000000             1.091350e+03\n",
            "50%    2018.000000             5.044810e+03\n",
            "75%    2019.000000             2.312337e+04\n",
            "max    2021.000000             2.359199e+06\n"
          ]
        }
      ]
    },
    {
      "cell_type": "markdown",
      "source": [
        " The mean year is approximately 2017.57 and standard deviation is ~ 1.82 years (a wide range of values from very low to very high). The Value USD (Million USD) column indicates values ranging from 0.34 to 2,359,199 million USD, with a mean of approximately 42,703.31 USD million and a standard deviation of about 166,604.8 USD million."
      ],
      "metadata": {
        "id": "yvp2wWx3j9Zm"
      }
    },
    {
      "cell_type": "code",
      "source": [
        "import matplotlib.pyplot as plt\n",
        "\n",
        "# Scatter plot for Value USD (Million USD) vs Year\n",
        "plt.figure(figsize=(10, 6))\n",
        "plt.scatter(va_data['Year'], va_data['Value USD (Million USD)'], alpha=0.5)\n",
        "plt.title('Scatter Plot: Value USD (Million USD) vs Year')\n",
        "plt.xlabel('Year')\n",
        "plt.ylabel('Value USD (Million USD)')\n",
        "plt.grid(True)\n",
        "plt.show()\n"
      ],
      "metadata": {
        "colab": {
          "base_uri": "https://localhost:8080/",
          "height": 564
        },
        "id": "d78HvExQjH2Z",
        "outputId": "278efb9d-baf9-4030-9fd5-52caa79f04c6"
      },
      "execution_count": 116,
      "outputs": [
        {
          "output_type": "display_data",
          "data": {
            "text/plain": [
              "<Figure size 1000x600 with 1 Axes>"
            ],
            "image/png": "[encoded data removed]"
          },
          "metadata": {}
        }
      ]
    },
    {
      "cell_type": "code",
      "source": [
        "# Correlation matrix for VA_NewUpdated.csv\n",
        "# Select only numeric columns for correlation analysis\n",
        "numeric_columns = va_data.select_dtypes(include=['float64', 'int64'])\n",
        "\n",
        "# Correlation matrix for numeric columns\n",
        "correlation_va = numeric_columns.corr()\n",
        "print(\"\\nCorrelation Matrix for VA_NewUpdated.csv:\")\n",
        "print(correlation_va)"
      ],
      "metadata": {
        "colab": {
          "base_uri": "https://localhost:8080/"
        },
        "id": "gGt11-_zjMnT",
        "outputId": "7a715f51-980b-4cc3-ec9c-7dfcbaa77df1"
      },
      "execution_count": 117,
      "outputs": [
        {
          "output_type": "stream",
          "name": "stdout",
          "text": [
            "\n",
            "Correlation Matrix for VA_NewUpdated.csv:\n",
            "                             Year  Value USD (Million USD)\n",
            "Year                     1.000000                 0.038467\n",
            "Value USD (Million USD)  0.038467                 1.000000\n"
          ]
        }
      ]
    },
    {
      "cell_type": "markdown",
      "source": [
        "The correlation between the \"Year\" and \"Value USD (Million USD)\" is approximately 0.038467. This suggests a very weak positive linear relationship between the year and the value in USD (negligible).\n",
        "\n",
        "The correlation of a variable with itself is always 1, indicating a perfect positive linear relationship (since it is identical); the correlation of the \"Value USD (Million USD)\" with itself is also 1, indicating a perfect positive linear relationship.\n",
        "\n",
        "Weak Correlation and no strong patterns. The year alone is not a significant predictor of the value in USD."
      ],
      "metadata": {
        "id": "niI2ffXepUYB"
      }
    },
    {
      "cell_type": "code",
      "source": [
        "# Grouping by Country and calculating mean Value USD (Million USD)\n",
        "grouped_va = va_data.groupby('Country')['Value USD (Million USD)'].mean()\n",
        "print(\"\\nGrouped Mean Value USD (Million USD) by Country:\")\n",
        "print(grouped_va)\n"
      ],
      "metadata": {
        "colab": {
          "base_uri": "https://localhost:8080/"
        },
        "id": "IXhgHfVOjS__",
        "outputId": "0551d907-1e75-402e-b5b6-0d7e767f73b1"
      },
      "execution_count": 118,
      "outputs": [
        {
          "output_type": "stream",
          "name": "stdout",
          "text": [
            "\n",
            "Grouped Mean Value USD (Million USD) by Country:\n",
            "Country\n",
            "Albania                   574.931111\n",
            "Australia               68785.026429\n",
            "Austria                 17757.911571\n",
            "Belgium                 21412.779857\n",
            "Benin                     602.160842\n",
            "                           ...      \n",
            "Trinidad and Tobago      1212.901711\n",
            "United Kingdom         140505.439340\n",
            "United States          930232.235214\n",
            "Viet Nam                16755.893333\n",
            "Zambia                   1210.419231\n",
            "Name: Value USD (Million USD), Length: 74, dtype: float64\n"
          ]
        }
      ]
    },
    {
      "cell_type": "code",
      "source": [
        "# Load Ind_Updated.csv\n",
        "ind_data = pd.read_csv('Ind_Updated.csv')\n",
        "\n",
        "# Summary Statistics\n",
        "summary_stats_ind = ind_data.describe()\n",
        "print(\"\\nSummary Statistics for Ind_Updated.csv:\")\n",
        "print(summary_stats_ind)"
      ],
      "metadata": {
        "colab": {
          "base_uri": "https://localhost:8080/"
        },
        "id": "-7-wG3Iti9_k",
        "outputId": "cb36c927-57ff-41cb-a5cf-33384678fdf0"
      },
      "execution_count": 119,
      "outputs": [
        {
          "output_type": "stream",
          "name": "stdout",
          "text": [
            "\n",
            "Summary Statistics for Ind_Updated.csv:\n",
            "              Year         Value\n",
            "count  6123.000000   6123.000000\n",
            "mean   2017.499755      2.419435\n",
            "std       1.751499    137.650104\n",
            "min    2015.000000 -10658.410000\n",
            "25%    2016.000000      0.150000\n",
            "50%    2017.000000      0.750000\n",
            "75%    2019.000000      3.220000\n",
            "max    2021.000000    553.540000\n"
          ]
        }
      ]
    },
    {
      "cell_type": "markdown",
      "source": [
        "The average year is ~ 2017.5 wwith a standard deviation of 1.75 years meaning the data is spread out over a few years around the mean.\n",
        "\n",
        "Value: The average is ~2.42 with a standard deviation 13765 indicating a high level of variabilitly in the data. Values range from -10658.41 to 553.54 - need to check for negative values (it is possible but unusual)."
      ],
      "metadata": {
        "id": "Y2y_8kqvqMW3"
      }
    },
    {
      "cell_type": "code",
      "source": [
        "# Identify negative values in the 'Value' column\n",
        "negative_values = ind_data[ind_data['Value'] < 0]\n",
        "\n",
        "# Count the number of negative values\n",
        "negative_value_count = negative_values['Value'].count()\n",
        "\n",
        "# Print the count of negative values\n",
        "print(f\"Count of negative values in 'Value': {negative_value_count}\")\n",
        "\n",
        "# Print the 'Value' column for rows with negative values\n",
        "print(\"\\nNegative values in 'Value':\")\n",
        "print(negative_values['Value'])\n",
        "\n",
        "# Print the unique countries with negative values\n",
        "unique_countries_with_negative_values = negative_values['Country'].unique()\n",
        "print(\"\\nUnique countries with negative values:\")\n",
        "print(unique_countries_with_negative_values)"
      ],
      "metadata": {
        "colab": {
          "base_uri": "https://localhost:8080/"
        },
        "id": "JjS78W-yrSsA",
        "outputId": "82aef124-5625-465e-acec-e49297d012fa"
      },
      "execution_count": 123,
      "outputs": [
        {
          "output_type": "stream",
          "name": "stdout",
          "text": [
            "Count of negative values in 'Value': 12\n",
            "\n",
            "Negative values in 'Value':\n",
            "491       -11.87\n",
            "569      -217.68\n",
            "1384   -10658.41\n",
            "1680     -370.55\n",
            "1692     -318.75\n",
            "1704     -229.95\n",
            "1716     -197.59\n",
            "1728     -170.57\n",
            "1740     -143.88\n",
            "1752     -106.06\n",
            "3037      -25.17\n",
            "3115     -557.64\n",
            "Name: Value, dtype: float64\n",
            "\n",
            "Unique countries with negative values:\n",
            "['Bulgaria' 'Czech Republic' 'Estonia' 'Italy']\n"
          ]
        }
      ]
    },
    {
      "cell_type": "markdown",
      "source": [
        "We will keep the negative values because they reflect real-world variability and anomalies in industrial data, which are crucial for understanding economic fluctuations and sector-specific challenges. Analyzing these values helps capture nuanced insights into industrial performance across different contexts and timeframes, enriching the robustness of our analytical findings."
      ],
      "metadata": {
        "id": "llfgKPc2t2io"
      }
    },
    {
      "cell_type": "code",
      "source": [
        "# Scatter plot for Value vs Year\n",
        "plt.figure(figsize=(10, 6))\n",
        "plt.scatter(ind_data['Year'], ind_data['Value'], alpha=0.5)\n",
        "plt.title('Scatter Plot: Value vs Year')\n",
        "plt.xlabel('Year')\n",
        "plt.ylabel('Value')\n",
        "plt.grid(True)\n",
        "plt.show()\n"
      ],
      "metadata": {
        "colab": {
          "base_uri": "https://localhost:8080/",
          "height": 564
        },
        "id": "QTHr3lbfjLVO",
        "outputId": "17529fff-26ae-4323-e5ae-f5ca9bb3eefc"
      },
      "execution_count": 124,
      "outputs": [
        {
          "output_type": "display_data",
          "data": {
            "text/plain": [
              "<Figure size 1000x600 with 1 Axes>"
            ],
            "image/png": "[encoded data removed]"
          },
          "metadata": {}
        }
      ]
    },
    {
      "cell_type": "code",
      "source": [
        "# Scatter plot for Value vs Year\n",
        "plt.figure(figsize=(10, 6))\n",
        "plt.scatter(ind_data['Year'], ind_data['Value'], alpha=0.5)\n",
        "plt.title('Scatter Plot: Value vs Year')\n",
        "plt.xlabel('Year')\n",
        "plt.ylabel('Value')\n",
        "plt.grid(True)\n",
        "plt.show()\n"
      ],
      "metadata": {
        "colab": {
          "base_uri": "https://localhost:8080/",
          "height": 564
        },
        "id": "vAVPlZ-OjONO",
        "outputId": "d6fbf73f-dc6e-4b10-ed36-70100018180f"
      },
      "execution_count": 125,
      "outputs": [
        {
          "output_type": "display_data",
          "data": {
            "text/plain": [
              "<Figure size 1000x600 with 1 Axes>"
            ],
            "image/png": "[encoded data removed]"
          },
          "metadata": {}
        }
      ]
    },
    {
      "cell_type": "code",
      "source": [
        "# Grouping by Year and calculating mean Value\n",
        "grouped_ind = ind_data.groupby('Year')['Value'].mean()\n",
        "print(\"\\nGrouped Mean Value by Year:\")\n",
        "print(grouped_ind)\n"
      ],
      "metadata": {
        "colab": {
          "base_uri": "https://localhost:8080/"
        },
        "id": "dSgDSmLejT-Y",
        "outputId": "7330c53a-d1d6-4aea-980e-681a1d92d587"
      },
      "execution_count": 126,
      "outputs": [
        {
          "output_type": "stream",
          "name": "stdout",
          "text": [
            "\n",
            "Grouped Mean Value by Year:\n",
            "Year\n",
            "2015     3.885444\n",
            "2016     3.932769\n",
            "2017     3.916547\n",
            "2018     4.621506\n",
            "2019     4.615460\n",
            "2020     3.019273\n",
            "2021   -49.529838\n",
            "Name: Value, dtype: float64\n"
          ]
        }
      ]
    }
  ]
}