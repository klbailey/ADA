{
  "nbformat": 4,
  "nbformat_minor": 0,
  "metadata": {
    "colab": {
      "provenance": [],
      "authorship_tag": "ABX9TyOe9EH8UYTYths+7lDZIDUt"
    },
    "kernelspec": {
      "name": "python3",
      "display_name": "Python 3"
    },
    "language_info": {
      "name": "python"
    }
  },
  "cells": [
    {
      "cell_type": "markdown",
      "source": [
        "The industrial sector is a significant contributor to global carbon emissions and energy consumption. However, there is considerable variability in how different countries manage these impacts. Some countries exhibit high levels of efficiency and low carbon intensity, while others struggle with high emissions and energy usage. This disparity reflects underlying differences in technology, policy, economic development, and industrial practices. Understanding these differences is crucial for formulating effective policies and strategies to promote sustainable industrial development globally.\n",
        "\n",
        "Based on the data and initial analysis, the project seeks to address the following research questions:\n",
        "\n",
        "*   How does 'Value USD (Million USD)' vary across different countries?\n",
        "*   What is the impact of industrial sectors (ISIC divisions) on 'Value USD (Million USD)'?\n",
        "*   Which specific countries contribute the most to variations in 'Value USD (Million USD)'?\n",
        "*   How do different industrial sectors (ISIC divisions) impact 'Value USD (Million USD)'?\n",
        "*   Can 'Country' and 'ISIC Division Desc' be used to predict 'Value USD (Million USD)' accurately?\n",
        "\n",
        "\n",
        "\n",
        "\n",
        "\n",
        "\n",
        "Using: historical data from 2015 to 2021. Note: China data is not available in dataset. 'Constant 2015 prices' to allow for better comparability and analysis as it is a method of adjusting economic data for inflation or deflation where prices are expressed in terms of a base year of 2015.\n",
        "\n",
        "Data from: https://www.iea.org/data-and-statistics/data-product/energy-and-emissions-per-value-added-database\n",
        "\n"
      ],
      "metadata": {
        "id": "EZqebfmZ_FPm"
      }
    },
    {
      "cell_type": "markdown",
      "source": [
        "**1. Visual Inspection:**"
      ],
      "metadata": {
        "id": "rNc_F8K0_L7w"
      }
    },
    {
      "cell_type": "code",
      "source": [
        "import pandas as pd\n",
        "\n",
        "# Load the VA_Section dataset\n",
        "df_va_section = pd.read_excel('VA_Section.xlsx')\n",
        "\n",
        "# Display the column names\n",
        "print(df_va_section.columns)\n"
      ],
      "metadata": {
        "colab": {
          "base_uri": "https://localhost:8080/"
        },
        "id": "9OtX24KA5ty6",
        "outputId": "d761ecbc-6a60-417b-d33c-39ee5976112f"
      },
      "execution_count": null,
      "outputs": [
        {
          "output_type": "stream",
          "name": "stdout",
          "text": [
            "Index(['Country ISO3', 'Country', 'Year', 'ISIC Section', 'ISIC Division',\n",
            "       'ISIC Division Desc', 'Measure', 'Method',\n",
            "       'Value LCU (Million national currency)', 'Value USD (Million USD)',\n",
            "       'Source'],\n",
            "      dtype='object')\n"
          ]
        }
      ]
    },
    {
      "cell_type": "markdown",
      "source": [
        "Delete columns we will not use."
      ],
      "metadata": {
        "id": "n9Bb56D1aYd9"
      }
    },
    {
      "cell_type": "code",
      "source": [
        "# Drop unnecessary columns\n",
        "df_va_section_cleaned = df_va_section.drop(columns=['Country ISO3', 'Value LCU (Million national currency)', 'Source', 'Method'])\n",
        "\n",
        "# Display the remaining columns after dropping\n",
        "print(df_va_section_cleaned.columns)\n"
      ],
      "metadata": {
        "id": "JYIgUFF6afBU",
        "colab": {
          "base_uri": "https://localhost:8080/"
        },
        "outputId": "13db558d-b9ac-4abc-cc2c-f7d730942245"
      },
      "execution_count": null,
      "outputs": [
        {
          "output_type": "stream",
          "name": "stdout",
          "text": [
            "Index(['Country', 'Year', 'ISIC Section', 'ISIC Division',\n",
            "       'ISIC Division Desc', 'Measure', 'Value USD (Million USD)'],\n",
            "      dtype='object')\n"
          ]
        }
      ]
    },
    {
      "cell_type": "markdown",
      "source": [
        "How many rows/columns?"
      ],
      "metadata": {
        "id": "R6jtFH7qMHJ1"
      }
    },
    {
      "cell_type": "code",
      "source": [
        "# Print the shape of the dataset\n",
        "print(f\"Number of rows: {df_va_section_cleaned.shape[0]}\")\n",
        "print(f\"Number of columns: {df_va_section_cleaned.shape[1]}\")\n"
      ],
      "metadata": {
        "colab": {
          "base_uri": "https://localhost:8080/"
        },
        "id": "44MnRU3_MItH",
        "outputId": "60cee49a-61fe-4e5c-a473-e52528fa78b4"
      },
      "execution_count": null,
      "outputs": [
        {
          "output_type": "stream",
          "name": "stdout",
          "text": [
            "Number of rows: 12280\n",
            "Number of columns: 7\n"
          ]
        }
      ]
    },
    {
      "cell_type": "markdown",
      "source": [
        "**2. Data Cleaning:**"
      ],
      "metadata": {
        "id": "6Mr3N3fs5Qnv"
      }
    },
    {
      "cell_type": "markdown",
      "source": [
        "Check for missing values."
      ],
      "metadata": {
        "id": "cX3cCGx1MZcO"
      }
    },
    {
      "cell_type": "code",
      "source": [
        "# Check for missing values in each column of interest\n",
        "missing_values = df_va_section_cleaned[['Country', 'Year', 'ISIC Section',\n",
        "                                       'ISIC Division', 'ISIC Division Desc', 'Measure',\n",
        "                                       'Value USD (Million USD)']].isnull().sum()\n",
        "\n",
        "print(\"Missing values per column:\\n\", missing_values)\n",
        "\n"
      ],
      "metadata": {
        "id": "jzrnz3I75VJA",
        "colab": {
          "base_uri": "https://localhost:8080/"
        },
        "outputId": "48682623-b6fc-4411-f4f2-dd31a696535b"
      },
      "execution_count": null,
      "outputs": [
        {
          "output_type": "stream",
          "name": "stdout",
          "text": [
            "Missing values per column:\n",
            " Country                       0\n",
            "Year                          0\n",
            "ISIC Section                  0\n",
            "ISIC Division                 0\n",
            "ISIC Division Desc            0\n",
            "Measure                       0\n",
            "Value USD (Million USD)    1063\n",
            "dtype: int64\n"
          ]
        }
      ]
    },
    {
      "cell_type": "markdown",
      "source": [
        "Inpute missing values with mean."
      ],
      "metadata": {
        "id": "mItNJBVxSY-f"
      }
    },
    {
      "cell_type": "code",
      "source": [
        "# Impute missing values with mean\n",
        "mean_value = df_va_section_cleaned['Value USD (Million USD)'].mean()\n",
        "df_va_section_cleaned['Value USD (Million USD)'].fillna(mean_value, inplace=True)\n",
        "\n",
        "# Check again for missing values\n",
        "missing_values = df_va_section_cleaned.isnull().sum()\n",
        "print(\"Missing values per column after imputation:\\n\", missing_values)\n"
      ],
      "metadata": {
        "colab": {
          "base_uri": "https://localhost:8080/"
        },
        "id": "DYK9VshfSfLM",
        "outputId": "771b5d66-5f17-47e6-feae-d0ff16f35012"
      },
      "execution_count": null,
      "outputs": [
        {
          "output_type": "stream",
          "name": "stdout",
          "text": [
            "Missing values per column after imputation:\n",
            " Country                    0\n",
            "Year                       0\n",
            "ISIC Section               0\n",
            "ISIC Division              0\n",
            "ISIC Division Desc         0\n",
            "Measure                    0\n",
            "Value USD (Million USD)    0\n",
            "dtype: int64\n"
          ]
        }
      ]
    },
    {
      "cell_type": "markdown",
      "source": [
        "Identify 0 or Nan values."
      ],
      "metadata": {
        "id": "tqr49EvGks45"
      }
    },
    {
      "cell_type": "code",
      "source": [
        "# Check for 0 values\n",
        "zero_values = (df_va_section_cleaned == 0).sum()\n",
        "print(\"Number of 0 values per column:\\n\", zero_values)\n",
        "\n",
        "# Check for NaN values\n",
        "nan_values = df_va_section_cleaned.isna().sum()\n",
        "print(\"\\nNumber of NaN values per column:\\n\", nan_values)\n"
      ],
      "metadata": {
        "colab": {
          "base_uri": "https://localhost:8080/"
        },
        "id": "sncWAuGpk38H",
        "outputId": "d52905c6-a58b-4040-92b8-bde312a3874d"
      },
      "execution_count": null,
      "outputs": [
        {
          "output_type": "stream",
          "name": "stdout",
          "text": [
            "Number of 0 values per column:\n",
            " Country                      0\n",
            "Year                         0\n",
            "ISIC Section                 0\n",
            "ISIC Division                0\n",
            "ISIC Division Desc           0\n",
            "Measure                      0\n",
            "Value USD (Million USD)    395\n",
            "dtype: int64\n",
            "\n",
            "Number of NaN values per column:\n",
            " Country                    0\n",
            "Year                       0\n",
            "ISIC Section               0\n",
            "ISIC Division              0\n",
            "ISIC Division Desc         0\n",
            "Measure                    0\n",
            "Value USD (Million USD)    0\n",
            "dtype: int64\n"
          ]
        }
      ]
    },
    {
      "cell_type": "markdown",
      "source": [
        "Interpretation of Zero Values:\n",
        "\n",
        "    Zero Values: These could indicate very low values, values close to zero, or break even year, or potentially missing data.\n",
        "    \n",
        "    Negative Values: These typically indicate financial losses or deficits."
      ],
      "metadata": {
        "id": "wcE62jnKT1pC"
      }
    },
    {
      "cell_type": "markdown",
      "source": [
        "Check for outliers. Filter out the aggregates."
      ],
      "metadata": {
        "id": "Gk8WK9WF26-W"
      }
    },
    {
      "cell_type": "code",
      "source": [
        "import pandas as pd\n",
        "import numpy as np\n",
        "\n",
        "# Define the list of aggregates with potential variations\n",
        "aggregates = [\n",
        "    'ASEAN', 'Asia-Pacific Economic Cooperation', 'Euro Area',\n",
        "    'Euro area (12 countries)', 'European Union', 'European Union (13 countries)',\n",
        "    'European Union (15 countries)', 'European Union (28 countries)',\n",
        "    'G20', 'Non-OECD', 'OECD members', 'World'\n",
        "]\n",
        "\n",
        "# Standardize 'Country' column by stripping any leading/trailing spaces and converting to consistent case\n",
        "df_va_section_cleaned['Country'] = df_va_section_cleaned['Country'].str.strip().str.title()\n",
        "\n",
        "# Verify if there are still any spaces or case differences\n",
        "unique_countries = df_va_section_cleaned['Country'].unique()\n",
        "print(\"Unique values in 'Country' column after standardization:\")\n",
        "print(unique_countries)\n",
        "\n",
        "# Filter out rows where 'Country' column is in aggregates list\n",
        "filtered_df = df_va_section_cleaned[~df_va_section_cleaned['Country'].isin(aggregates)]\n",
        "\n",
        "# Verify that aggregates are excluded\n",
        "remaining_aggregates = filtered_df[filtered_df['Country'].isin(aggregates)]\n",
        "print(\"Remaining aggregates in filtered DataFrame:\")\n",
        "print(remaining_aggregates['Country'].unique())\n",
        "\n",
        "# Calculate IQR\n",
        "Q1 = filtered_df['Value USD (Million USD)'].quantile(0.25)\n",
        "Q3 = filtered_df['Value USD (Million USD)'].quantile(0.75)\n",
        "IQR = Q3 - Q1\n",
        "\n",
        "# Define outliers using IQR method\n",
        "lower_bound = Q1 - 1.5 * IQR\n",
        "upper_bound = Q3 + 1.5 * IQR\n",
        "\n",
        "# Filter outliers\n",
        "outliers = filtered_df[(filtered_df['Value USD (Million USD)'] < lower_bound) |\n",
        "                       (filtered_df['Value USD (Million USD)'] > upper_bound)]\n",
        "\n",
        "# Print unique countries with outliers\n",
        "unique_countries_outliers = outliers['Country'].unique()\n",
        "print(\"Unique countries with outliers (excluding aggregates):\")\n",
        "print(unique_countries_outliers)\n",
        "\n",
        "# Print number of outliers\n",
        "print(f\"Number of outliers: {len(outliers)}\")\n",
        "\n"
      ],
      "metadata": {
        "id": "f_juIGMAU-DE",
        "colab": {
          "base_uri": "https://localhost:8080/"
        },
        "outputId": "9593319a-ab7e-4d7f-fd04-3d56cfdad2b7"
      },
      "execution_count": null,
      "outputs": [
        {
          "output_type": "stream",
          "name": "stdout",
          "text": [
            "Unique values in 'Country' column after standardization:\n",
            "['Albania' 'Andorra' 'Australia' 'Austria' 'Bahamas' 'Barbados' 'Belgium'\n",
            " 'Benin' 'Bermuda' 'British Virgin Islands' 'Brunei Darussalam' 'Bulgaria'\n",
            " 'Burkina Faso' 'Cameroon' 'Canada' 'Cape Verde' 'Cayman Islands' 'Chile'\n",
            " 'Colombia' 'Cook Islands' 'Costa Rica' 'Croatia' 'Cyprus'\n",
            " 'Czech Republic' 'Denmark' 'Dominican Republic' 'Ecuador' 'Estonia'\n",
            " 'Eswatini' 'Euro Area' 'European Union' 'Fiji' 'Finland' 'France'\n",
            " 'Gambia' 'Georgia' 'Germany' 'Ghana' 'Greece' 'Greenland' 'Guatemala'\n",
            " 'Guyana' 'Haiti' 'Hong Kong' 'Hungary' 'Iceland' 'India' 'Indonesia'\n",
            " 'Ireland' 'Islamic Republic Of Iran' 'Israel' 'Italy' 'Japan' 'Jordan'\n",
            " 'Kenya' 'Korea' 'Laos' 'Latvia' 'Lebanon' 'Leshoto' 'Lithuania'\n",
            " 'Luxembourg' 'Malawi' 'Malaysia' 'Maldives' 'Malta' 'Marshall Islands'\n",
            " 'Mauritania' 'Mauritius' 'Mexico' 'Mongolia' 'Mozambique' 'Namibia'\n",
            " 'Nepal' 'New Zealand' 'Niger' 'Nigeria' 'North Macedonia' 'Norway'\n",
            " 'Pakistan' 'Palau' 'Papua New Guinea' 'Paraguay' 'Peru' 'Philippines'\n",
            " 'Poland' 'Portugal' 'Qatar' 'Romania' 'Russian Federation' 'Rwanda'\n",
            " 'Saint Lucia' 'Samoa' 'Saudi Arabia' 'Senegal' 'Serbia' 'Seychelles'\n",
            " 'Singapore' 'Slovak Republic' 'Slovenia' 'Spain' 'Sri Lanka'\n",
            " 'State Of Palestine' 'Suriname' 'Sweden' 'Switzerland' 'Thailand'\n",
            " 'The Netherlands' 'Timor-Leste' 'Tonga' 'Trinidad And Tobago' 'Turkey'\n",
            " 'Uganda' 'United Kingdom' 'United Republic Of Tanzania' 'United States'\n",
            " 'Vanuatu' 'Viet Nam' 'Zambia' 'Zanzibar']\n",
            "Remaining aggregates in filtered DataFrame:\n",
            "[]\n",
            "Unique countries with outliers (excluding aggregates):\n",
            "['Australia' 'Austria' 'Canada' 'France' 'Germany' 'Hong Kong' 'India'\n",
            " 'Indonesia' 'Ireland' 'Italy' 'Japan' 'Korea' 'Malaysia' 'Mexico'\n",
            " 'Nigeria' 'Philippines' 'Poland' 'Russian Federation' 'Saudi Arabia'\n",
            " 'Singapore' 'Spain' 'Sweden' 'Switzerland' 'Thailand' 'The Netherlands'\n",
            " 'Turkey' 'United Kingdom' 'United States']\n",
            "Number of outliers: 978\n"
          ]
        }
      ]
    },
    {
      "cell_type": "code",
      "source": [
        "import numpy as np\n",
        "\n",
        "# Calculate IQR\n",
        "Q1 = filtered_df['Value USD (Million USD)'].quantile(0.25)\n",
        "Q3 = filtered_df['Value USD (Million USD)'].quantile(0.75)\n",
        "IQR = Q3 - Q1\n",
        "\n",
        "# Define outliers using IQR method\n",
        "lower_bound = Q1 - 1.5 * IQR\n",
        "upper_bound = Q3 + 1.5 * IQR\n",
        "\n",
        "# Filter outliers\n",
        "outliers = filtered_df[(filtered_df['Value USD (Million USD)'] < lower_bound) |\n",
        "                       (filtered_df['Value USD (Million USD)'] > upper_bound)]\n",
        "\n",
        "# Print unique countries with outliers\n",
        "unique_countries_outliers = outliers['Country'].unique()\n",
        "print(\"Unique countries with outliers (excluding aggregates):\")\n",
        "print(unique_countries_outliers)\n",
        "\n",
        "# Print number of outliers\n",
        "print(f\"Number of outliers: {len(outliers)}\")\n",
        "\n"
      ],
      "metadata": {
        "colab": {
          "base_uri": "https://localhost:8080/"
        },
        "id": "ROIDxu_MVhho",
        "outputId": "a8a76f0b-35df-4580-d033-0c38487ddb1f"
      },
      "execution_count": null,
      "outputs": [
        {
          "output_type": "stream",
          "name": "stdout",
          "text": [
            "Unique countries with outliers (excluding aggregates):\n",
            "['Australia' 'Austria' 'Canada' 'France' 'Germany' 'Hong Kong' 'India'\n",
            " 'Indonesia' 'Ireland' 'Italy' 'Japan' 'Korea' 'Malaysia' 'Mexico'\n",
            " 'Nigeria' 'Philippines' 'Poland' 'Russian Federation' 'Saudi Arabia'\n",
            " 'Singapore' 'Spain' 'Sweden' 'Switzerland' 'Thailand' 'The Netherlands'\n",
            " 'Turkey' 'United Kingdom' 'United States']\n",
            "Number of outliers: 978\n"
          ]
        }
      ]
    },
    {
      "cell_type": "code",
      "source": [
        "import matplotlib.pyplot as plt\n",
        "\n",
        "# Calculate IQR\n",
        "Q1 = filtered_df['Value USD (Million USD)'].quantile(0.25)\n",
        "Q3 = filtered_df['Value USD (Million USD)'].quantile(0.75)\n",
        "IQR = Q3 - Q1\n",
        "\n",
        "# Define outliers using IQR method\n",
        "lower_bound = Q1 - 1.5 * IQR\n",
        "upper_bound = Q3 + 1.5 * IQR\n",
        "\n",
        "# Filter outliers\n",
        "outliers = filtered_df[(filtered_df['Value USD (Million USD)'] < lower_bound) |\n",
        "                       (filtered_df['Value USD (Million USD)'] > upper_bound)]\n",
        "\n",
        "# Count outliers per country\n",
        "outliers_counts = outliers['Country'].value_counts().reset_index()\n",
        "outliers_counts.columns = ['Country', 'Number of Outliers']\n",
        "\n",
        "# Print number of outliers per country\n",
        "print(\"Number of outliers per country:\")\n",
        "print(outliers_counts)\n",
        "\n",
        "# Plotting\n",
        "plt.figure(figsize=(10, 8))\n",
        "plt.barh(outliers_counts['Country'], outliers_counts['Number of Outliers'], color='skyblue')\n",
        "plt.xlabel('Number of Outliers')\n",
        "plt.title('Number of Outliers by Country')\n",
        "plt.gca().invert_yaxis()  # Invert y-axis to list countries from top to bottom\n",
        "plt.tight_layout()\n",
        "plt.show()\n"
      ],
      "metadata": {
        "colab": {
          "base_uri": "https://localhost:8080/",
          "height": 1000
        },
        "id": "Xmp56Np2XN3w",
        "outputId": "c75a4201-1eb7-4b86-e70e-fad9e2a3c62f"
      },
      "execution_count": null,
      "outputs": [
        {
          "output_type": "stream",
          "name": "stdout",
          "text": [
            "Number of outliers per country:\n",
            "               Country  Number of Outliers\n",
            "0        United States                 126\n",
            "1              Germany                  86\n",
            "2               France                  84\n",
            "3                Japan                  84\n",
            "4       United Kingdom                  70\n",
            "5                Italy                  63\n",
            "6            Australia                  60\n",
            "7                Korea                  52\n",
            "8                India                  51\n",
            "9               Canada                  43\n",
            "10  Russian Federation                  42\n",
            "11               Spain                  31\n",
            "12              Mexico                  28\n",
            "13              Turkey                  27\n",
            "14        Saudi Arabia                  24\n",
            "15           Indonesia                  24\n",
            "16         Switzerland                  17\n",
            "17             Nigeria                  13\n",
            "18              Poland                  12\n",
            "19     The Netherlands                  12\n",
            "20             Ireland                   8\n",
            "21            Thailand                   6\n",
            "22            Malaysia                   4\n",
            "23         Philippines                   3\n",
            "24             Austria                   3\n",
            "25              Sweden                   3\n",
            "26           Singapore                   1\n",
            "27           Hong Kong                   1\n"
          ]
        },
        {
          "output_type": "display_data",
          "data": {
            "text/plain": [
              "<Figure size 1000x800 with 1 Axes>"
            ],
            "image/png": "[encoded data removed]"
          },
          "metadata": {}
        }
      ]
    },
    {
      "cell_type": "code",
      "source": [
        "# Calculate IQR\n",
        "Q1 = df_va_section_cleaned['Value USD (Million USD)'].quantile(0.25)\n",
        "Q3 = df_va_section_cleaned['Value USD (Million USD)'].quantile(0.75)\n",
        "IQR = Q3 - Q1\n",
        "\n",
        "# Define outliers using IQR method\n",
        "lower_bound = Q1 - 1.5 * IQR\n",
        "upper_bound = Q3 + 1.5 * IQR\n",
        "\n",
        "# Filter outliers\n",
        "outliers = df_va_section_cleaned[(df_va_section_cleaned['Value USD (Million USD)'] < lower_bound) |\n",
        "                                 (df_va_section_cleaned['Value USD (Million USD)'] > upper_bound)]\n",
        "\n",
        "# Print unique countries with outliers\n",
        "unique_countries_outliers = outliers['Country'].unique()\n",
        "print(\"Unique countries with outliers (excluding aggregates):\")\n",
        "print(unique_countries_outliers)\n",
        "print()\n",
        "\n",
        "# Print number of outliers per country\n",
        "outliers_count_per_country = outliers['Country'].value_counts()\n",
        "print(\"Number of outliers per country:\")\n",
        "print(outliers_count_per_country)\n",
        "print()\n",
        "\n",
        "# Print years of outliers for each country\n",
        "print(\"Years of outliers per country:\")\n",
        "for country in unique_countries_outliers:\n",
        "    country_outliers = outliers[outliers['Country'] == country]\n",
        "    outlier_years = country_outliers['Year'].unique()\n",
        "    print(f\"{country}: {list(outlier_years)}\")\n"
      ],
      "metadata": {
        "colab": {
          "base_uri": "https://localhost:8080/"
        },
        "id": "yDLg86G2ZIEi",
        "outputId": "a1ac1554-38fd-49b7-a9a8-74248258db66"
      },
      "execution_count": null,
      "outputs": [
        {
          "output_type": "stream",
          "name": "stdout",
          "text": [
            "Unique countries with outliers (excluding aggregates):\n",
            "['Australia' 'Canada' 'Euro Area' 'European Union' 'France' 'Germany'\n",
            " 'India' 'Indonesia' 'Ireland' 'Italy' 'Japan' 'Korea' 'Mexico' 'Nigeria'\n",
            " 'Poland' 'Russian Federation' 'Saudi Arabia' 'Spain' 'Switzerland'\n",
            " 'Thailand' 'The Netherlands' 'Turkey' 'United Kingdom' 'United States']\n",
            "\n",
            "Number of outliers per country:\n",
            "Country\n",
            "United States         126\n",
            "Euro Area             107\n",
            "European Union        107\n",
            "France                 84\n",
            "Germany                84\n",
            "Japan                  83\n",
            "United Kingdom         67\n",
            "Italy                  56\n",
            "India                  48\n",
            "Australia              44\n",
            "Korea                  35\n",
            "Russian Federation     35\n",
            "Canada                 30\n",
            "Mexico                 25\n",
            "Indonesia              24\n",
            "Saudi Arabia           23\n",
            "Spain                  18\n",
            "Turkey                 16\n",
            "Nigeria                12\n",
            "The Netherlands        12\n",
            "Switzerland            11\n",
            "Poland                 10\n",
            "Ireland                 7\n",
            "Thailand                6\n",
            "Name: count, dtype: int64\n",
            "\n",
            "Years of outliers per country:\n",
            "Australia: [2015, 2016, 2017, 2018, 2019, 2020, 2021]\n",
            "Canada: [2015, 2016, 2017, 2018, 2019, 2020, 2021]\n",
            "Euro Area: [2015, 2016, 2017, 2018, 2019, 2020]\n",
            "European Union: [2015, 2016, 2017, 2018, 2019, 2020]\n",
            "France: [2015, 2016, 2017, 2018, 2019, 2020, 2021]\n",
            "Germany: [2015, 2016, 2017, 2018, 2019, 2020, 2021]\n",
            "India: [2015, 2016, 2017, 2018, 2019]\n",
            "Indonesia: [2015, 2016, 2017, 2018, 2019, 2020]\n",
            "Ireland: [2015, 2016, 2017, 2018, 2019, 2020, 2021]\n",
            "Italy: [2015, 2016, 2017, 2018, 2019, 2020, 2021]\n",
            "Japan: [2015, 2016, 2017, 2018, 2019, 2020]\n",
            "Korea: [2015, 2016, 2017, 2018, 2019, 2020]\n",
            "Mexico: [2015, 2016, 2017, 2018, 2019, 2020]\n",
            "Nigeria: [2015, 2016, 2017, 2018, 2019, 2020]\n",
            "Poland: [2015, 2016, 2017, 2018, 2019, 2020]\n",
            "Russian Federation: [2015, 2016, 2017, 2018, 2019, 2020]\n",
            "Saudi Arabia: [2015, 2016, 2017, 2018, 2019, 2020]\n",
            "Spain: [2015, 2016, 2017, 2018, 2019, 2020]\n",
            "Switzerland: [2015, 2016, 2017, 2018, 2019, 2020]\n",
            "Thailand: [2015, 2016, 2017, 2018, 2019, 2020]\n",
            "The Netherlands: [2015, 2016, 2017, 2018, 2019, 2020]\n",
            "Turkey: [2015, 2016, 2017, 2018, 2019, 2020, 2021]\n",
            "United Kingdom: [2015, 2016, 2017, 2018, 2019, 2020]\n",
            "United States: [2015, 2016, 2017, 2018, 2019, 2020, 2021]\n"
          ]
        }
      ]
    },
    {
      "cell_type": "markdown",
      "source": [
        "We will keep these outliers in for now as outliers can occur for various reasons (weather, economic fluctuations, policy change, pandemic, etc.) It could also reflect global or regional events impacting the energy sectors differently."
      ],
      "metadata": {
        "id": "TEadaHFOZ2dF"
      }
    },
    {
      "cell_type": "markdown",
      "source": [
        "Save this cleaned data to a .csv"
      ],
      "metadata": {
        "id": "UV1ZrqY5af1k"
      }
    },
    {
      "cell_type": "code",
      "source": [
        "df_va_section_cleaned.to_csv('cleaned_data.csv', index=False)\n",
        "\n",
        "print(\"Cleaned data saved to cleaned_data.csv\")"
      ],
      "metadata": {
        "colab": {
          "base_uri": "https://localhost:8080/"
        },
        "id": "3KrkqeecaiDf",
        "outputId": "b244c7e0-58d7-4ada-b1f0-9a91c8c1ea1b"
      },
      "execution_count": null,
      "outputs": [
        {
          "output_type": "stream",
          "name": "stdout",
          "text": [
            "Cleaned data saved to cleaned_data.csv\n"
          ]
        }
      ]
    },
    {
      "cell_type": "markdown",
      "source": [
        "**3. Exploratory Data Analysis:**"
      ],
      "metadata": {
        "id": "M3qJ4lil_NOP"
      }
    },
    {
      "cell_type": "code",
      "source": [
        "# Load the cleaned data from CSV\n",
        "df_cleaned = pd.read_csv('cleaned_data.csv')\n",
        "\n",
        "# Display the first few rows and check the columns\n",
        "print(df_cleaned.head())\n",
        "print(df_cleaned.columns)"
      ],
      "metadata": {
        "colab": {
          "base_uri": "https://localhost:8080/"
        },
        "id": "OE9C64VVi8Vk",
        "outputId": "1b8fc22f-17bb-48be-eee4-a6474fb2157d"
      },
      "execution_count": null,
      "outputs": [
        {
          "output_type": "stream",
          "name": "stdout",
          "text": [
            "   Country  Year ISIC Section ISIC Division  \\\n",
            "0  Albania  2015            A         01-03   \n",
            "1  Albania  2015            B         05-09   \n",
            "2  Albania  2015            C         10-33   \n",
            "3  Albania  2015            D            35   \n",
            "4  Albania  2015            E         36-39   \n",
            "\n",
            "                                  ISIC Division Desc               Measure  \\\n",
            "0                  Agriculture, forestry and fishing  Constant 2015 prices   \n",
            "1                               Mining and quarrying  Constant 2015 prices   \n",
            "2                                      Manufacturing  Constant 2015 prices   \n",
            "3  Electricity, gas, steam and air conditioning s...  Constant 2015 prices   \n",
            "4  Water supply; sewerage, waste management and r...  Constant 2015 prices   \n",
            "\n",
            "   Value USD (Million USD)  \n",
            "0                  2252.34  \n",
            "1                   370.86  \n",
            "2                   645.81  \n",
            "3                   366.14  \n",
            "4                    81.10  \n",
            "Index(['Country', 'Year', 'ISIC Section', 'ISIC Division',\n",
            "       'ISIC Division Desc', 'Measure', 'Value USD (Million USD)'],\n",
            "      dtype='object')\n"
          ]
        }
      ]
    },
    {
      "cell_type": "markdown",
      "source": [
        "Filter out aggregates."
      ],
      "metadata": {
        "id": "1E0GaIOCbU0S"
      }
    },
    {
      "cell_type": "code",
      "source": [
        "# List of aggregates\n",
        "aggregates = ['ASEAN', 'Asia-Pacific Economic Cooperation', 'Euro Area',\n",
        "              'Euro area (12 countries)', 'European Union',\n",
        "              'European Union (13 countries)', 'European Union (15 countries)',\n",
        "              'European Union (28 countries)', 'G20', 'Non-OECD', 'OECD members',\n",
        "              'World']\n",
        "\n",
        "# Filter out rows where 'Country' is not in the aggregates list\n",
        "df_countries = df_cleaned[~df_cleaned['Country'].isin(aggregates)]\n",
        "\n",
        "# Calculate the count of unique countries\n",
        "unique_countries_count = df_countries['Country'].nunique()\n",
        "\n",
        "# Print the count of unique countries\n",
        "print(f\"Number of unique countries after filtering out aggregates: {unique_countries_count}\")\n"
      ],
      "metadata": {
        "colab": {
          "base_uri": "https://localhost:8080/"
        },
        "id": "Zr-o4OJpbaT7",
        "outputId": "162fdb1c-8d52-4494-e2ff-e87e72e22b17"
      },
      "execution_count": null,
      "outputs": [
        {
          "output_type": "stream",
          "name": "stdout",
          "text": [
            "Number of unique countries after filtering out aggregates: 118\n"
          ]
        }
      ]
    },
    {
      "cell_type": "markdown",
      "source": [
        "Summary Statistics"
      ],
      "metadata": {
        "id": "eoDx_re2dNTM"
      }
    },
    {
      "cell_type": "code",
      "source": [
        "# Load cleaned data from CSV\n",
        "df = pd.read_csv('cleaned_data.csv')\n",
        "\n",
        "# List of aggregates (based on previous information)\n",
        "aggregates = ['ASEAN', 'Asia-Pacific Economic Cooperation', 'Euro Area', 'Euro area (12 countrie)',\n",
        "              'European Union', 'European Union (13 countries)', 'European Union (15 countries)',\n",
        "              'European Union (28 countries)', 'G20', 'Non-OECD', 'OECD members', 'World']\n",
        "\n",
        "# Filtering out aggregates\n",
        "df_filtered = df[~df['Country'].isin(aggregates)]\n",
        "\n",
        "# Summary statistics for numerical variable 'Value USD (Million USD)'\n",
        "summary_stats = df_filtered['Value USD (Million USD)'].describe()\n",
        "\n",
        "# Print summary statistics\n",
        "print(\"Summary Statistics for 'Value USD (Million USD)' (excluding aggregates):\")\n",
        "print(summary_stats)\n",
        "\n",
        "# Frequency count for 'Country' (excluding aggregates)\n",
        "country_counts = df_filtered['Country'].value_counts()\n",
        "print(\"\\nFrequency of Countries (excluding aggregates):\")\n",
        "print(country_counts)\n"
      ],
      "metadata": {
        "colab": {
          "base_uri": "https://localhost:8080/"
        },
        "id": "v_bujBcpbytr",
        "outputId": "97f6fc11-3fe7-479c-b49b-465a6211f099"
      },
      "execution_count": null,
      "outputs": [
        {
          "output_type": "stream",
          "name": "stdout",
          "text": [
            "Summary Statistics for 'Value USD (Million USD)' (excluding aggregates):\n",
            "count    1.203000e+04\n",
            "mean     3.328201e+04\n",
            "std      1.354358e+05\n",
            "min     -1.720000e+00\n",
            "25%      3.974425e+02\n",
            "50%      3.256930e+03\n",
            "75%      2.856542e+04\n",
            "max      2.359199e+06\n",
            "Name: Value USD (Million USD), dtype: float64\n",
            "\n",
            "Frequency of Countries (excluding aggregates):\n",
            "Country\n",
            "Luxembourg         147\n",
            "Greece             147\n",
            "Slovak Republic    147\n",
            "Slovenia           147\n",
            "Norway             147\n",
            "                  ... \n",
            "Timor-Leste         40\n",
            "Andorra             40\n",
            "Jordan              38\n",
            "North Macedonia     36\n",
            "New Zealand         30\n",
            "Name: count, Length: 118, dtype: int64\n"
          ]
        }
      ]
    },
    {
      "cell_type": "markdown",
      "source": [
        "Count: 12,030 observations\n",
        "\n",
        "Mean: ~33,282,010 USD\n",
        "\n",
        "SD: ~ 135,435.800 USD suggesting significant variability\n",
        "\n",
        "Min/Max: -1.72 USD / 2,359,199,000 USD\n",
        "\n",
        "Percentiles: 25th (Q1) is ~ 397,442.5 USD; median is 3,256,930 USD; 75th (Q3) is 28,565,420 USD.\n",
        "\n",
        "Countries like Luxembourg, Greece, Slovak Republic, Slovenia, and Norway show 147 data points each, indicating they have consistent reporting across multiple years or periods.\n",
        "\n",
        "Some countries, such as New Zealand with 30 data points, have fewer observations, suggesting less frequent reporting or narrower coverage in the dataset.\n",
        "\n",
        "Interpretation: Value USD (Million USD) has a wide range and variability suggesting the energy value added across countries varies significantly."
      ],
      "metadata": {
        "id": "SY5TPyCtcHoW"
      }
    },
    {
      "cell_type": "markdown",
      "source": [
        "Plot top ten countries"
      ],
      "metadata": {
        "id": "eiY3JKVtdkk0"
      }
    },
    {
      "cell_type": "code",
      "source": [
        "# Get top ten countries with outliers\n",
        "\n",
        "aggregates = ['ASEAN', 'Asia-Pacific Economic Cooperation', 'Euro Area',\n",
        "              'Euro area (12 countries)', 'European Union',\n",
        "              'European Union (13 countries)', 'European Union (15 countries)',\n",
        "              'European Union (28 countries)', 'G20', 'Non-OECD', 'OECD members',\n",
        "              'World']\n",
        "\n",
        "# Filter out rows where 'Country' is not in the aggregates list\n",
        "df_countries = df_cleaned[~df_cleaned['Country'].isin(aggregates)]\n",
        "\n",
        "# Calculate IQR for 'Value USD (Million USD)'\n",
        "Q1 = df_countries['Value USD (Million USD)'].quantile(0.25)\n",
        "Q3 = df_countries['Value USD (Million USD)'].quantile(0.75)\n",
        "IQR = Q3 - Q1\n",
        "\n",
        "# Define lower and upper bounds for outliers\n",
        "lower_bound = Q1 - 1.5 * IQR\n",
        "upper_bound = Q3 + 1.5 * IQR\n",
        "\n",
        "# Identify outliers based on the bounds\n",
        "outliers = df_countries[(df_countries['Value USD (Million USD)'] < lower_bound) |\n",
        "                         (df_countries['Value USD (Million USD)'] > upper_bound)]\n",
        "\n",
        "# Count outliers per country\n",
        "outliers_count_per_country = outliers['Country'].value_counts()\n",
        "\n",
        "# Get the top 10 countries with most outliers\n",
        "top_ten_countries_outliers = outliers_count_per_country.head(10)\n",
        "\n",
        "# Print or further analyze the top ten countries with most outliers\n",
        "print(\"Top Ten Countries with Most Outliers:\")\n",
        "print(top_ten_countries_outliers)\n"
      ],
      "metadata": {
        "colab": {
          "base_uri": "https://localhost:8080/"
        },
        "id": "5RGUCuABHY5Y",
        "outputId": "2b4f813f-80d8-4d58-f10b-5f976e4be071"
      },
      "execution_count": null,
      "outputs": [
        {
          "output_type": "stream",
          "name": "stdout",
          "text": [
            "Top Ten Countries with Most Outliers:\n",
            "Country\n",
            "United States     126\n",
            "Germany            86\n",
            "France             84\n",
            "Japan              84\n",
            "United Kingdom     70\n",
            "Italy              63\n",
            "Australia          60\n",
            "Korea              52\n",
            "India              51\n",
            "Canada             43\n",
            "Name: count, dtype: int64\n"
          ]
        }
      ]
    },
    {
      "cell_type": "code",
      "source": [
        "import matplotlib.pyplot as plt\n",
        "\n",
        "# Top ten countries with most outliers\n",
        "top_ten_countries_outliers = outliers_count_per_country.head(10)\n",
        "\n",
        "# Plotting the top ten countries with most outliers\n",
        "plt.figure(figsize=(10, 6))\n",
        "top_ten_countries_outliers.plot(kind='bar', color='skyblue')\n",
        "plt.title('Top Ten Countries with Most Outliers')\n",
        "plt.xlabel('Country')\n",
        "plt.ylabel('Number of Outliers')\n",
        "plt.xticks(rotation=45)\n",
        "plt.tight_layout()\n",
        "plt.show()\n"
      ],
      "metadata": {
        "colab": {
          "base_uri": "https://localhost:8080/",
          "height": 607
        },
        "id": "9Yg10bS7dniV",
        "outputId": "58872e48-ddb8-448c-d206-9a226f267a3a"
      },
      "execution_count": null,
      "outputs": [
        {
          "output_type": "display_data",
          "data": {
            "text/plain": [
              "<Figure size 1000x600 with 1 Axes>"
            ],
            "image/png": "[encoded data removed]"
          },
          "metadata": {}
        }
      ]
    },
    {
      "cell_type": "markdown",
      "source": [
        "Review aggregate outliers"
      ],
      "metadata": {
        "id": "v_oybgjve12J"
      }
    },
    {
      "cell_type": "code",
      "source": [
        "# Load the cleaned data from CSV (assuming you have already loaded your cleaned data)\n",
        "df_cleaned = pd.read_csv('cleaned_data.csv')\n",
        "\n",
        "# List of aggregates\n",
        "aggregates = ['ASEAN', 'Asia-Pacific Economic Cooperation', 'Euro Area',\n",
        "              'Euro area (12 countries)', 'European Union',\n",
        "              'European Union (13 countries)', 'European Union (15 countries)',\n",
        "              'European Union (28 countries)', 'G20', 'Non-OECD', 'OECD members',\n",
        "              'World']\n",
        "\n",
        "# Filter out rows where 'Country' is in the aggregates list\n",
        "df_aggregates = df_cleaned[df_cleaned['Country'].isin(aggregates)]\n",
        "\n",
        "# Calculate IQR for Value USD (Million USD)\n",
        "Q1 = df_aggregates['Value USD (Million USD)'].quantile(0.25)\n",
        "Q3 = df_aggregates['Value USD (Million USD)'].quantile(0.75)\n",
        "IQR = Q3 - Q1\n",
        "\n",
        "# Define outliers using IQR method\n",
        "lower_bound = Q1 - 1.5 * IQR\n",
        "upper_bound = Q3 + 1.5 * IQR\n",
        "\n",
        "# Filter outliers\n",
        "outliers_aggregates = df_aggregates[(df_aggregates['Value USD (Million USD)'] < lower_bound) |\n",
        "                                    (df_aggregates['Value USD (Million USD)'] > upper_bound)]\n",
        "\n",
        "# Print unique countries with outliers in aggregates\n",
        "unique_countries_outliers_aggregates = outliers_aggregates['Country'].unique()\n",
        "print(\"Unique countries with outliers in aggregates:\")\n",
        "print(unique_countries_outliers_aggregates)\n",
        "\n",
        "# Print number of outliers in aggregates\n",
        "print(f\"Number of outliers in aggregates: {len(outliers_aggregates)}\")\n"
      ],
      "metadata": {
        "colab": {
          "base_uri": "https://localhost:8080/"
        },
        "id": "GaQrHoicIWzb",
        "outputId": "e9bab38e-f261-4c13-b75e-aca1361bb703"
      },
      "execution_count": null,
      "outputs": [
        {
          "output_type": "stream",
          "name": "stdout",
          "text": [
            "Unique countries with outliers in aggregates:\n",
            "['Euro Area' 'European Union']\n",
            "Number of outliers in aggregates: 12\n"
          ]
        }
      ]
    },
    {
      "cell_type": "code",
      "source": [
        "outliers_aggregates = pd.DataFrame({\n",
        "    'Country': ['Euro Area', 'European Union'],\n",
        "    'Count': [6, 6]  # Replace with your actual counts\n",
        "})\n",
        "\n",
        "# Plotting\n",
        "plt.figure(figsize=(10, 6))\n",
        "plt.bar(outliers_aggregates['Country'], outliers_aggregates['Count'], color='skyblue')\n",
        "plt.title('Number of Outliers in Aggregates')\n",
        "plt.xlabel('Country')\n",
        "plt.ylabel('Number of Outliers')\n",
        "plt.xticks(rotation=45)\n",
        "plt.tight_layout()\n",
        "plt.show()"
      ],
      "metadata": {
        "colab": {
          "base_uri": "https://localhost:8080/",
          "height": 607
        },
        "id": "GWGwDQyze6sJ",
        "outputId": "a2dfdd69-8c16-4f68-da76-7d87440e576f"
      },
      "execution_count": null,
      "outputs": [
        {
          "output_type": "display_data",
          "data": {
            "text/plain": [
              "<Figure size 1000x600 with 1 Axes>"
            ],
            "image/png": "[encoded data removed]"
          },
          "metadata": {}
        }
      ]
    },
    {
      "cell_type": "markdown",
      "source": [
        "The presence of outliers across a diverse set of countries that are not confined to the two regions/aggregate outliers suggest they appear to be distributed randomly across various nations. At this point we will retain the outliers in the analysis."
      ],
      "metadata": {
        "id": "1kiri5zegZvd"
      }
    },
    {
      "cell_type": "markdown",
      "source": [
        "TO DO:  ADD A HYPOTHESIS TESTING SOMEWHERE HERE"
      ],
      "metadata": {
        "id": "JgTkyfEhlNdu"
      }
    },
    {
      "cell_type": "markdown",
      "source": [
        "**4. Identify Predictors and Model Selection**"
      ],
      "metadata": {
        "id": "44zUb7XLftYZ"
      }
    },
    {
      "cell_type": "code",
      "source": [
        "pip install plotly"
      ],
      "metadata": {
        "colab": {
          "base_uri": "https://localhost:8080/"
        },
        "id": "1Ut568xaNLz6",
        "outputId": "d47a17be-52d0-47b3-d3d5-ee9bfe1613f2"
      },
      "execution_count": null,
      "outputs": [
        {
          "output_type": "stream",
          "name": "stdout",
          "text": [
            "Requirement already satisfied: plotly in /usr/local/lib/python3.10/dist-packages (5.15.0)\n",
            "Requirement already satisfied: tenacity>=6.2.0 in /usr/local/lib/python3.10/dist-packages (from plotly) (8.3.0)\n",
            "Requirement already satisfied: packaging in /usr/local/lib/python3.10/dist-packages (from plotly) (24.1)\n"
          ]
        }
      ]
    },
    {
      "cell_type": "code",
      "source": [
        "import seaborn as sns\n",
        "# Load your cleaned dataset\n",
        "df = pd.read_csv('cleaned_data.csv')\n",
        "\n",
        "print(df.columns)\n",
        "\n",
        "# Summary statistics for 'Value USD (Million USD)'\n",
        "value_stats = df['Value USD (Million USD)'].describe()\n",
        "print(\"Summary Statistics for 'Value USD (Million USD)':\")\n",
        "print(value_stats)\n",
        "\n",
        "plt.figure(figsize=(10, 6))\n",
        "sns.histplot(df['Value USD (Million USD)'], bins=30, kde=True)\n",
        "plt.title('Distribution of Value USD (Million USD)')\n",
        "plt.xlabel('Value USD (Million USD)')\n",
        "plt.ylabel('Frequency')\n",
        "plt.show()"
      ],
      "metadata": {
        "colab": {
          "base_uri": "https://localhost:8080/",
          "height": 797
        },
        "id": "nPIDTNI7LRlz",
        "outputId": "98625fd7-d217-4785-c3f0-e882f7360904"
      },
      "execution_count": null,
      "outputs": [
        {
          "output_type": "stream",
          "name": "stdout",
          "text": [
            "Index(['Country', 'Year', 'ISIC Section', 'ISIC Division',\n",
            "       'ISIC Division Desc', 'Measure', 'Value USD (Million USD)'],\n",
            "      dtype='object')\n",
            "Summary Statistics for 'Value USD (Million USD)':\n",
            "count    1.228000e+04\n",
            "mean     4.409901e+04\n",
            "std      1.690160e+05\n",
            "min     -1.720000e+00\n",
            "25%      4.160700e+02\n",
            "50%      3.614290e+03\n",
            "75%      3.271460e+04\n",
            "max      2.359199e+06\n",
            "Name: Value USD (Million USD), dtype: float64\n"
          ]
        },
        {
          "output_type": "display_data",
          "data": {
            "text/plain": [
              "<Figure size 1000x600 with 1 Axes>"
            ],
            "image/png": "[encoded data removed]"
          },
          "metadata": {}
        }
      ]
    },
    {
      "cell_type": "markdown",
      "source": [
        "The data is skewed with a long right tail indicating few observations have high values compared to the outliers."
      ],
      "metadata": {
        "id": "_8gl6YivMsm5"
      }
    },
    {
      "cell_type": "code",
      "source": [
        "# Find the maximum 'Value USD (Million USD)'\n",
        "max_value = df['Value USD (Million USD)'].max()\n",
        "\n",
        "# Filter the DataFrame to include only rows where 'Value USD (Million USD)' equals max_value\n",
        "highest_value_countries = df[df['Value USD (Million USD)'] == max_value]['Country'].unique()\n",
        "\n",
        "# Check if there are any countries with the highest value\n",
        "if len(highest_value_countries) > 0:\n",
        "    print(f\"Countries with the highest 'Value USD (Million USD)' ({max_value} million USD):\")\n",
        "    for country in highest_value_countries:\n",
        "        print(country)\n",
        "else:\n",
        "    print(f\"No countries found with the highest 'Value USD (Million USD)' ({max_value} million USD).\")\n"
      ],
      "metadata": {
        "colab": {
          "base_uri": "https://localhost:8080/"
        },
        "id": "xSrIDxaxNTTD",
        "outputId": "c5500b66-d2a6-4c18-93a4-845a430c6c20"
      },
      "execution_count": null,
      "outputs": [
        {
          "output_type": "stream",
          "name": "stdout",
          "text": [
            "Countries with the highest 'Value USD (Million USD)' (2359199.04 million USD):\n",
            "United States\n"
          ]
        }
      ]
    },
    {
      "cell_type": "markdown",
      "source": [
        "Correlation Matrix"
      ],
      "metadata": {
        "id": "9F8ubN7WR7tO"
      }
    },
    {
      "cell_type": "code",
      "source": [
        "# Print column name and data type\n",
        "for column in df.columns:\n",
        "    print(f\"Column: {column}, Data Type: {df[column].dtype}\")\n"
      ],
      "metadata": {
        "colab": {
          "base_uri": "https://localhost:8080/"
        },
        "id": "tUQvZzXFMCyB",
        "outputId": "57b71539-9c21-4c4c-e7e8-7fdeffeab94b"
      },
      "execution_count": null,
      "outputs": [
        {
          "output_type": "stream",
          "name": "stdout",
          "text": [
            "Column: Country, Data Type: object\n",
            "Column: Year, Data Type: int64\n",
            "Column: ISIC Section, Data Type: object\n",
            "Column: ISIC Division, Data Type: object\n",
            "Column: ISIC Division Desc, Data Type: object\n",
            "Column: Measure, Data Type: object\n",
            "Column: Value USD (Million USD), Data Type: float64\n"
          ]
        }
      ]
    },
    {
      "cell_type": "code",
      "source": [
        "# Filter out aggregate countries\n",
        "aggregates = ['ASEAN', 'Asia-Pacific Economic Cooperation', 'Euro Area',\n",
        "              'Euro area (12 countries)', 'European Union',\n",
        "              'European Union (13 countries)', 'European Union (15 countries)',\n",
        "              'European Union (28 countries)', 'G20', 'Non-OECD', 'OECD members',\n",
        "              'World']\n",
        "df_filtered = df[~df['Country'].isin(aggregates)]\n",
        "\n",
        "# Display the first few rows to verify\n",
        "print(df_filtered.head())"
      ],
      "metadata": {
        "colab": {
          "base_uri": "https://localhost:8080/"
        },
        "id": "RZX6pZXAUpN7",
        "outputId": "555b9812-64d4-45d6-efc9-71074baeb7cb"
      },
      "execution_count": null,
      "outputs": [
        {
          "output_type": "stream",
          "name": "stdout",
          "text": [
            "   Country  Year ISIC Section ISIC Division  \\\n",
            "0  Albania  2015            A         01-03   \n",
            "1  Albania  2015            B         05-09   \n",
            "2  Albania  2015            C         10-33   \n",
            "3  Albania  2015            D            35   \n",
            "4  Albania  2015            E         36-39   \n",
            "\n",
            "                                  ISIC Division Desc               Measure  \\\n",
            "0                  Agriculture, forestry and fishing  Constant 2015 prices   \n",
            "1                               Mining and quarrying  Constant 2015 prices   \n",
            "2                                      Manufacturing  Constant 2015 prices   \n",
            "3  Electricity, gas, steam and air conditioning s...  Constant 2015 prices   \n",
            "4  Water supply; sewerage, waste management and r...  Constant 2015 prices   \n",
            "\n",
            "   Value USD (Million USD)  \n",
            "0                  2252.34  \n",
            "1                   370.86  \n",
            "2                   645.81  \n",
            "3                   366.14  \n",
            "4                    81.10  \n"
          ]
        }
      ]
    },
    {
      "cell_type": "code",
      "source": [
        "from sklearn.preprocessing import LabelEncoder\n",
        "\n",
        "# Define columns of interest\n",
        "columns_of_interest = ['Country', 'Year', 'ISIC Section', 'Value USD (Million USD)']\n",
        "\n",
        "# Encode categorical columns\n",
        "encoder = LabelEncoder()\n",
        "df['Country_encoded'] = encoder.fit_transform(df['Country'])\n",
        "df['ISIC Section_encoded'] = encoder.fit_transform(df['ISIC Section'])\n",
        "\n",
        "# Select columns of interest including encoded categorical and numeric columns\n",
        "selected_columns = ['Country_encoded', 'Year', 'ISIC Section_encoded', 'Value USD (Million USD)']\n",
        "df_selected = df[selected_columns]\n",
        "\n",
        "# Calculate correlation matrix\n",
        "correlation_matrix = df_selected.corr()\n",
        "\n",
        "# Display the correlation matrix\n",
        "print(\"Correlation Matrix:\")\n",
        "print(correlation_matrix)\n"
      ],
      "metadata": {
        "colab": {
          "base_uri": "https://localhost:8080/"
        },
        "id": "w9Ct34wkVvP7",
        "outputId": "b5228006-6559-43ce-a157-4aaee98ed8ed"
      },
      "execution_count": null,
      "outputs": [
        {
          "output_type": "stream",
          "name": "stdout",
          "text": [
            "Correlation Matrix:\n",
            "                         Country_encoded      Year  ISIC Section_encoded  \\\n",
            "Country_encoded                 1.000000  0.007061             -0.006342   \n",
            "Year                            0.007061  1.000000              0.015452   \n",
            "ISIC Section_encoded           -0.006342  0.015452              1.000000   \n",
            "Value USD (Million USD)         0.040200  0.039385             -0.014169   \n",
            "\n",
            "                         Value USD (Million USD)  \n",
            "Country_encoded                         0.040200  \n",
            "Year                                    0.039385  \n",
            "ISIC Section_encoded                   -0.014169  \n",
            "Value USD (Million USD)                 1.000000  \n"
          ]
        }
      ]
    },
    {
      "cell_type": "markdown",
      "source": [
        "Weak Correlations as all are near zero, with the exception of Country_encoded and Value USD (Million USD), which is relatively low. This suggests there is little to no linear relationship between these variables."
      ],
      "metadata": {
        "id": "bidodI2SXjF6"
      }
    },
    {
      "cell_type": "markdown",
      "source": [
        "Basic Linear Regression model to understand the relationships."
      ],
      "metadata": {
        "id": "yHnGoQx9aHCr"
      }
    },
    {
      "cell_type": "code",
      "source": [
        "from sklearn.preprocessing import OneHotEncoder\n",
        "from sklearn.compose import ColumnTransformer\n",
        "from sklearn.model_selection import train_test_split\n",
        "from sklearn.linear_model import LinearRegression\n",
        "from sklearn.metrics import r2_score\n",
        "import pandas as pd\n",
        "\n",
        "# Load data\n",
        "df = pd.read_csv('cleaned_data.csv')\n",
        "\n",
        "# Verify column names\n",
        "print(df.columns)\n",
        "\n",
        "# Encode categorical variables\n",
        "categorical_cols = ['Country', 'ISIC Division Desc']\n",
        "transformer = ColumnTransformer([('encoder', OneHotEncoder(), categorical_cols)], remainder='passthrough')\n",
        "X_encoded = transformer.fit_transform(df[['Country', 'ISIC Division Desc', 'Year']])\n",
        "\n",
        "# Split data\n",
        "X_train, X_test, y_train, y_test = train_test_split(X_encoded, df['Value USD (Million USD)'], test_size=0.2, random_state=42)\n",
        "\n",
        "# Build and train the model\n",
        "model = LinearRegression()\n",
        "model.fit(X_train, y_train)\n",
        "\n",
        "# Predict and evaluate\n",
        "y_pred = model.predict(X_test)\n",
        "r2 = r2_score(y_test, y_pred)\n",
        "print(f\"R-squared: {r2}\")\n"
      ],
      "metadata": {
        "colab": {
          "base_uri": "https://localhost:8080/"
        },
        "id": "HPwuDO4zaK0b",
        "outputId": "a5d80ba0-3da0-42e9-b684-673091d4cdcf"
      },
      "execution_count": null,
      "outputs": [
        {
          "output_type": "stream",
          "name": "stdout",
          "text": [
            "Index(['Country', 'Year', 'ISIC Section', 'ISIC Division',\n",
            "       'ISIC Division Desc', 'Measure', 'Value USD (Million USD)'],\n",
            "      dtype='object')\n",
            "R-squared: 0.5673184311763959\n"
          ]
        }
      ]
    },
    {
      "cell_type": "markdown",
      "source": [
        "This suggests the predictors colectively explain ~ 56.73% of the variability observed in the Value USD (Million USD). It's not close to 1, so it's a moderate fit."
      ],
      "metadata": {
        "id": "ChiJ430Hapch"
      }
    },
    {
      "cell_type": "markdown",
      "source": [
        "Importance and Significance"
      ],
      "metadata": {
        "id": "U8K0sILDbHRP"
      }
    },
    {
      "cell_type": "code",
      "source": [
        "from sklearn.preprocessing import OneHotEncoder\n",
        "from sklearn.compose import ColumnTransformer\n",
        "from sklearn.model_selection import train_test_split\n",
        "from sklearn.linear_model import LinearRegression\n",
        "from sklearn.metrics import r2_score\n",
        "import pandas as pd\n",
        "\n",
        "# Load data\n",
        "df = pd.read_csv('cleaned_data.csv')\n",
        "\n",
        "# Verify column names\n",
        "print(df.columns)\n",
        "\n"
      ],
      "metadata": {
        "colab": {
          "base_uri": "https://localhost:8080/"
        },
        "id": "WjcXdTrlbXpP",
        "outputId": "2b4e3500-b58b-4359-8a55-1ea6c965537f"
      },
      "execution_count": null,
      "outputs": [
        {
          "output_type": "stream",
          "name": "stdout",
          "text": [
            "Index(['Country', 'Year', 'ISIC Section', 'ISIC Division',\n",
            "       'ISIC Division Desc', 'Measure', 'Value USD (Million USD)'],\n",
            "      dtype='object')\n"
          ]
        }
      ]
    },
    {
      "cell_type": "code",
      "source": [
        "# Encode categorical variables using OneHotEncoder and ColumnTransformer\n",
        "categorical_cols = ['Country', 'ISIC Division Desc']\n",
        "transformer = ColumnTransformer([('encoder', OneHotEncoder(), categorical_cols)], remainder='passthrough')\n",
        "X_encoded = transformer.fit_transform(df[['Country', 'ISIC Division Desc', 'Year']])\n",
        "\n",
        "# Split data into training and test sets\n",
        "X_train, X_test, y_train, y_test = train_test_split(X_encoded, df['Value USD (Million USD)'], test_size=0.2, random_state=42)\n",
        "\n",
        "# Build and train the model using sklearn LinearRegression\n",
        "model = LinearRegression()\n",
        "model.fit(X_train, y_train)\n",
        "\n",
        "# Predict and evaluate\n",
        "y_pred = model.predict(X_test)\n",
        "r2 = r2_score(y_test, y_pred)\n",
        "print(f\"R-squared: {r2}\")\n"
      ],
      "metadata": {
        "colab": {
          "base_uri": "https://localhost:8080/"
        },
        "id": "X462nFXVbaoe",
        "outputId": "98100aed-33e4-47c8-87be-3c22b1c80e5d"
      },
      "execution_count": null,
      "outputs": [
        {
          "output_type": "stream",
          "name": "stdout",
          "text": [
            "R-squared: 0.5673184311763959\n"
          ]
        }
      ]
    },
    {
      "cell_type": "code",
      "source": [
        "import pandas as pd\n",
        "from sklearn.model_selection import train_test_split\n",
        "from sklearn.preprocessing import LabelEncoder\n",
        "from sklearn.linear_model import LinearRegression\n",
        "from sklearn.metrics import mean_squared_error\n",
        "\n",
        "# Load your cleaned dataset\n",
        "df = pd.read_csv('cleaned_data.csv')\n",
        "\n",
        "# Select columns of interest\n",
        "columns_of_interest = ['Country', 'Year', 'ISIC Section', 'Value USD (Million USD)']\n",
        "df_subset = df[columns_of_interest].copy()  # Use .copy() to explicitly create a copy\n",
        "\n",
        "# Encode categorical variables\n",
        "encoder_country = LabelEncoder()\n",
        "df_subset['Country_encoded'] = encoder_country.fit_transform(df_subset['Country'])\n",
        "\n",
        "encoder_isic_section = LabelEncoder()\n",
        "df_subset['ISIC Section_encoded'] = encoder_isic_section.fit_transform(df_subset['ISIC Section'])\n",
        "\n",
        "# Drop original categorical columns\n",
        "df_subset.drop(['Country', 'ISIC Section'], axis=1, inplace=True)\n",
        "\n",
        "# Split data into train and test sets\n",
        "X = df_subset.drop('Value USD (Million USD)', axis=1)\n",
        "y = df_subset['Value USD (Million USD)']\n",
        "\n",
        "X_train, X_test, y_train, y_test = train_test_split(X, y, test_size=0.2, random_state=42)\n",
        "\n",
        "# Initialize and fit a model (e.g., Linear Regression)\n",
        "model = LinearRegression()\n",
        "model.fit(X_train, y_train)\n",
        "\n",
        "# Predict on test set\n",
        "y_pred = model.predict(X_test)\n",
        "\n",
        "# Evaluate model performance\n",
        "mse = mean_squared_error(y_test, y_pred)\n",
        "r_squared = model.score(X_test, y_test)\n",
        "\n",
        "print(f\"Mean Squared Error: {mse}\")\n",
        "print(f\"R-squared: {r_squared}\")\n",
        "\n",
        "# Example of feature importance for models like Random Forest\n",
        "# if using RandomForestRegressor or other models with feature_importances_\n",
        "\n",
        "# Hyperparameter tuning, cross-validation, and other advanced steps can follow based on results.\n",
        "\n"
      ],
      "metadata": {
        "colab": {
          "base_uri": "https://localhost:8080/"
        },
        "id": "D5C_dJcxcnEn",
        "outputId": "a890fa29-b7e8-4f18-ece4-2851ae937d11"
      },
      "execution_count": null,
      "outputs": [
        {
          "output_type": "stream",
          "name": "stdout",
          "text": [
            "Mean Squared Error: 26314505756.281677\n",
            "R-squared: 0.001959985180817192\n"
          ]
        }
      ]
    },
    {
      "cell_type": "markdown",
      "source": [
        "Decision Tree Regressor Model excluding aggregates"
      ],
      "metadata": {
        "id": "-CQf8OEYeBcT"
      }
    },
    {
      "cell_type": "code",
      "source": [
        "from sklearn.preprocessing import LabelEncoder\n",
        "from sklearn.model_selection import train_test_split\n",
        "from sklearn.tree import DecisionTreeRegressor\n",
        "from sklearn.metrics import mean_squared_error, r2_score\n",
        "import pandas as pd\n",
        "\n",
        "# Example DataFrame (replace this with your actual DataFrame loading process)\n",
        "# df = pd.read_csv('your_data.csv')\n",
        "\n",
        "# Example encoding for illustration\n",
        "encoder_country = LabelEncoder()\n",
        "encoder_section = LabelEncoder()\n",
        "\n",
        "df['Country_encoded'] = encoder_country.fit_transform(df['Country'])\n",
        "df['ISIC Section_encoded'] = encoder_section.fit_transform(df['ISIC Section'])\n",
        "\n",
        "# Define predictors and target\n",
        "predictors = ['Country_encoded', 'Year', 'ISIC Section_encoded']\n",
        "target = 'Value USD (Million USD)'\n",
        "\n",
        "# Filter out aggregates from 'Country' column\n",
        "aggregates = ['Euro Area', 'European Union']\n",
        "df_filtered = df[~df['Country'].isin(aggregates)]\n",
        "\n",
        "# Split data into training and test sets\n",
        "X_train, X_test, y_train, y_test = train_test_split(df_filtered[predictors], df_filtered[target], test_size=0.2, random_state=42)\n",
        "\n",
        "# Initialize Decision Tree Regressor\n",
        "tree_reg = DecisionTreeRegressor(random_state=42)\n",
        "\n",
        "# Fit the model\n",
        "tree_reg.fit(X_train, y_train)\n",
        "\n",
        "# Predict on test set\n",
        "y_pred = tree_reg.predict(X_test)\n",
        "\n",
        "# Calculate Mean Squared Error\n",
        "mse = mean_squared_error(y_test, y_pred)\n",
        "print(f\"Mean Squared Error: {mse}\")\n",
        "\n",
        "# Calculate R-squared\n",
        "r2 = r2_score(y_test, y_pred)\n",
        "print(f\"R-squared: {r2}\")\n",
        "\n",
        "# Get feature importances\n",
        "feature_importances = tree_reg.feature_importances_\n",
        "\n",
        "# Create a DataFrame to display feature importances\n",
        "feature_importance_df = pd.DataFrame({'Feature': predictors,\n",
        "                                      'Importance': feature_importances})\n",
        "\n",
        "# Sort features by importance\n",
        "feature_importance_df = feature_importance_df.sort_values(by='Importance', ascending=False)\n",
        "\n",
        "# Display the feature importance\n",
        "print(\"\\nFeature Importance:\")\n",
        "print(feature_importance_df)\n",
        "\n"
      ],
      "metadata": {
        "colab": {
          "base_uri": "https://localhost:8080/"
        },
        "id": "S5ej5B-TeCwb",
        "outputId": "53de4172-2059-428a-e3d1-5ebc3a4db8dc"
      },
      "execution_count": null,
      "outputs": [
        {
          "output_type": "stream",
          "name": "stdout",
          "text": [
            "Mean Squared Error: 47673317.05194359\n",
            "R-squared: 0.9977456018263334\n",
            "\n",
            "Feature Importance:\n",
            "                Feature  Importance\n",
            "0       Country_encoded    0.570209\n",
            "2  ISIC Section_encoded    0.426420\n",
            "1                  Year    0.003371\n"
          ]
        }
      ]
    },
    {
      "cell_type": "markdown",
      "source": [
        "Mean Squared Error (MSE): The lower MSE indicates a better model perfomance. Here 47673317.05 fairly high.\n",
        "\n",
        "R-squared (R2): 0.997456 The proportion of variance in the DV Value USD (Million USD) that is predictable from the IV (Country, Year, ISIC Section after encodeing). Closer to 1 indicates that the model explains approximately 99.77% of the variance in the target variable using the predictors included.\n",
        "\n",
        "Country_encoded has the highest importance (0.5702) indicating it is the most influential predictor in the model.\n",
        "\n",
        "ISIC Section_encoded has a significant importance (0.4264).\n",
        "\n",
        "Year is the least at 0.0034 very low.\n",
        "\n",
        "Overall, this current model that excludes aggregates performs well with the high R-squared value and then the Country_encoded and ISIC Section_encoded."
      ],
      "metadata": {
        "id": "YNyVPF2RekuA"
      }
    },
    {
      "cell_type": "markdown",
      "source": [
        "Random Forest model excluding aggregates"
      ],
      "metadata": {
        "id": "0FBmIPKVl_Bs"
      }
    },
    {
      "cell_type": "markdown",
      "source": [
        "Random Forest is a supervised learning algorithm that falls under the broader umbrella of AI; used for both classification and regression tasks and is often used due to its robustness and effectiveness across a wide range of datasets."
      ],
      "metadata": {
        "id": "G9eaa6Cl4bwB"
      }
    },
    {
      "cell_type": "code",
      "source": [
        "from sklearn.ensemble import RandomForestRegressor\n",
        "from sklearn.metrics import mean_squared_error, r2_score\n",
        "import pandas as pd\n",
        "from sklearn.model_selection import train_test_split\n",
        "\n",
        "\n",
        "# Filter out aggregates from 'Country' column\n",
        "aggregates = ['Euro Area', 'European Union']  # List of aggregates\n",
        "\n",
        "df_filtered = df[~df['Country'].isin(aggregates)].copy()  # Use .copy() to avoid SettingWithCopyWarning\n",
        "\n",
        "# Example encoding for illustration\n",
        "encoder_country = LabelEncoder()\n",
        "encoder_section = LabelEncoder()\n",
        "\n",
        "df_filtered['Country_encoded'] = encoder_country.fit_transform(df_filtered['Country'])\n",
        "df_filtered['ISIC Section_encoded'] = encoder_section.fit_transform(df_filtered['ISIC Section'])\n",
        "\n",
        "# Define predictors and target\n",
        "predictors = ['Country_encoded', 'Year', 'ISIC Section_encoded']\n",
        "target = 'Value USD (Million USD)'\n",
        "\n",
        "# Split data into training and test sets\n",
        "X_train, X_test, y_train, y_test = train_test_split(df_filtered[predictors], df_filtered[target], test_size=0.2, random_state=42)\n",
        "\n",
        "# Initialize Random Forest Regressor\n",
        "forest_reg = RandomForestRegressor(random_state=42)\n",
        "\n",
        "# Fit the model\n",
        "forest_reg.fit(X_train, y_train)\n",
        "\n",
        "# Predict on test set\n",
        "y_pred = forest_reg.predict(X_test)\n",
        "\n",
        "# Calculate Mean Squared Error\n",
        "mse = mean_squared_error(y_test, y_pred)\n",
        "print(f\"Random Forest Mean Squared Error: {mse}\")\n",
        "\n",
        "# Calculate R-squared\n",
        "r2 = r2_score(y_test, y_pred)\n",
        "print(f\"Random Forest R-squared: {r2}\")\n",
        "\n",
        "# Get feature importances\n",
        "feature_importances = forest_reg.feature_importances_\n",
        "\n",
        "# Create a DataFrame to display feature importances\n",
        "feature_importance_df = pd.DataFrame({'Feature': predictors,\n",
        "                                      'Importance': feature_importances})\n",
        "\n",
        "# Sort features by importance\n",
        "feature_importance_df = feature_importance_df.sort_values(by='Importance', ascending=False)\n",
        "\n",
        "# Display the feature importance\n",
        "print(\"\\nFeature Importance:\")\n",
        "print(feature_importance_df)\n"
      ],
      "metadata": {
        "colab": {
          "base_uri": "https://localhost:8080/"
        },
        "id": "j10HB04UmCL-",
        "outputId": "bd51f2c8-e093-4793-8d00-d88c30688398"
      },
      "execution_count": null,
      "outputs": [
        {
          "output_type": "stream",
          "name": "stdout",
          "text": [
            "Random Forest Mean Squared Error: 110079532.28456974\n",
            "Random Forest R-squared: 0.9947945074543479\n",
            "\n",
            "Feature Importance:\n",
            "                Feature  Importance\n",
            "0       Country_encoded    0.573185\n",
            "2  ISIC Section_encoded    0.417928\n",
            "1                  Year    0.008887\n"
          ]
        }
      ]
    },
    {
      "cell_type": "markdown",
      "source": [
        "Random Forest Mean Squared Error: 110079532.28456974\n",
        "\n",
        "Random Forest R-squared: 0.0.9947945074543479\n",
        "\n",
        "The Random Forest model shows relatively high performance with a high R-squared. It suggests the Country_encoded and ISIC Section_encoded predictors collectively explain about 99.47% of the variance in the target. Year plays a lesser role."
      ],
      "metadata": {
        "id": "9yzdEz7wmWlu"
      }
    },
    {
      "cell_type": "markdown",
      "source": [
        "Hyperparameter Tuning for Random Forest to identify what we want to optimize and use a grid or randomized search."
      ],
      "metadata": {
        "id": "F5zp2NUToGjr"
      }
    },
    {
      "cell_type": "code",
      "source": [
        "from sklearn.model_selection import GridSearchCV\n",
        "from sklearn.ensemble import RandomForestRegressor\n",
        "from sklearn.metrics import mean_squared_error, r2_score\n",
        "\n",
        "# Define the parameter grid\n",
        "param_grid = {\n",
        "    'n_estimators': [50, 100, 150],\n",
        "    'max_depth': [None, 10, 20, 30]\n",
        "}\n",
        "\n",
        "# Initialize Random Forest Regressor from prior run\n",
        "forest_reg = RandomForestRegressor(random_state=42)\n",
        "\n",
        "# Initialize Grid Search with cross-validation\n",
        "grid_search = GridSearchCV(estimator=forest_reg, param_grid=param_grid,\n",
        "                           scoring='neg_mean_squared_error', cv=5, verbose=1, n_jobs=-1)\n",
        "\n",
        "# Perform Grid Search on the training data\n",
        "grid_search.fit(X_train, y_train)\n",
        "\n",
        "# Best hyperparameter values found\n",
        "print(\"Best Parameters:\", grid_search.best_params_)\n",
        "\n",
        "# Evaluate model with best parameters on test set\n",
        "best_forest = grid_search.best_estimator_\n",
        "y_pred = best_forest.predict(X_test)\n",
        "mse = mean_squared_error(y_test, y_pred)\n",
        "r2 = r2_score(y_test, y_pred)\n",
        "print(f\"Random Forest Mean Squared Error (tuned): {mse}\")\n",
        "print(f\"Random Forest R-squared (tuned): {r2}\")\n"
      ],
      "metadata": {
        "colab": {
          "base_uri": "https://localhost:8080/"
        },
        "id": "S4_h9tfIoHun",
        "outputId": "51ad777a-e2df-47d2-9256-e529558236e8"
      },
      "execution_count": null,
      "outputs": [
        {
          "output_type": "stream",
          "name": "stdout",
          "text": [
            "Fitting 5 folds for each of 12 candidates, totalling 60 fits\n",
            "Best Parameters: {'max_depth': 30, 'n_estimators': 50}\n",
            "Random Forest Mean Squared Error (tuned): 125842950.0404087\n",
            "Random Forest R-squared (tuned): 0.9940490795630856\n"
          ]
        }
      ]
    },
    {
      "cell_type": "markdown",
      "source": [
        "Grid search performs cross-validation with 5 folds  (splitting the data into 5 paarts). 12 parameter combinations being evaluated, resulting in 60 fits (5 folds X 12 combinations).\n",
        "\n",
        "Best set of hyperparameters for the Random Forest model is max_depth=30 and n_estimators=50.\n",
        "\n",
        "Random Forest R-squared (tuned): 0.9940490795630856 model explains 99.4% of variance and should perform well."
      ],
      "metadata": {
        "id": "lg738Tq9sfWt"
      }
    },
    {
      "cell_type": "markdown",
      "source": [
        "Visualize and explore tuned Random Forest model."
      ],
      "metadata": {
        "id": "LE7qS2UjtTSb"
      }
    },
    {
      "cell_type": "code",
      "source": [
        "# Extract feature importances from the best estimator\n",
        "feature_importances = best_forest.feature_importances_\n",
        "\n",
        "# Create a DataFrame to display feature importances\n",
        "feature_importance_df = pd.DataFrame({'Feature': predictors,\n",
        "                                      'Importance': feature_importances})\n",
        "\n",
        "# Sort features by importance\n",
        "feature_importance_df = feature_importance_df.sort_values(by='Importance', ascending=False)\n",
        "\n",
        "# Plotting the feature importances\n",
        "plt.figure(figsize=(10, 6))\n",
        "plt.barh(feature_importance_df['Feature'], feature_importance_df['Importance'], color='skyblue')\n",
        "plt.xlabel('Importance')\n",
        "plt.ylabel('Feature')\n",
        "plt.title('Feature Importances')\n",
        "plt.gca().invert_yaxis()  # Invert y-axis to display most important feature on top\n",
        "plt.show()\n",
        "\n",
        "# Display the feature importance table\n",
        "print(\"\\nFeature Importance:\")\n",
        "print(feature_importance_df)\n"
      ],
      "metadata": {
        "colab": {
          "base_uri": "https://localhost:8080/",
          "height": 672
        },
        "id": "TBxMRi2StXtg",
        "outputId": "1cc7d0c5-92e3-49f3-bd4f-8f614b8f28cd"
      },
      "execution_count": null,
      "outputs": [
        {
          "output_type": "display_data",
          "data": {
            "text/plain": [
              "<Figure size 1000x600 with 1 Axes>"
            ],
            "image/png": "[encoded data removed]"
          },
          "metadata": {}
        },
        {
          "output_type": "stream",
          "name": "stdout",
          "text": [
            "\n",
            "Feature Importance:\n",
            "                Feature  Importance\n",
            "0       Country_encoded    0.570923\n",
            "2  ISIC Section_encoded    0.419019\n",
            "1                  Year    0.010059\n"
          ]
        }
      ]
    },
    {
      "cell_type": "markdown",
      "source": [
        "Country_encoded importance ~57.09% suggests its variations have the most significant impact on the target.\n",
        "\n",
        "ISIC Section_encoded importance ~41.9% captures variations in economic sectors indicating different economic activities or sectors influence the target.\n",
        "\n",
        "Year importance ~1.01% suggests changes over time, annual variations, contribute but to a much lesser extent compared to the other 2.\n",
        "\n",
        "This is important for policy decisions to understand which countries or economic sectors drive the Value USD (Million USD); and important for business strategy to prioritize sectors for investment or resource allocation."
      ],
      "metadata": {
        "id": "U71Lb4pBtjiL"
      }
    },
    {
      "cell_type": "markdown",
      "source": [
        "Visualize ISIC Section Map"
      ],
      "metadata": {
        "id": "gNMKEOpGvPMe"
      }
    },
    {
      "cell_type": "code",
      "source": [
        "df = pd.read_csv('cleaned_data.csv')\n",
        "\n",
        "# Print unique values in 'ISIC Division Desc' column\n",
        "unique_division_desc = df['ISIC Division Desc'].unique()\n",
        "print(\"Unique ISIC Division Desc:\")\n",
        "for desc in unique_division_desc:\n",
        "    print(desc)\n"
      ],
      "metadata": {
        "colab": {
          "base_uri": "https://localhost:8080/"
        },
        "id": "WKFXxv-q3N_M",
        "outputId": "3306e8d3-add3-4f46-ee08-f52a02a309d4"
      },
      "execution_count": null,
      "outputs": [
        {
          "output_type": "stream",
          "name": "stdout",
          "text": [
            "Unique ISIC Division Desc:\n",
            "Agriculture, forestry and fishing\n",
            "Mining and quarrying\n",
            "Manufacturing\n",
            "Electricity, gas, steam and air conditioning supply\n",
            "Water supply; sewerage, waste management and remediation activities\n",
            "Construction\n",
            "Wholesale and retail trade; repair of motor vehicles and motorcycles\n",
            "Transportation and storage\n",
            "Accommodation and food service activities\n",
            "Information and communication\n",
            "Financial and insurance activities\n",
            "Real estate activities\n",
            "Professional, scientific and technical activities\n",
            "Administrative and support service activities\n",
            "Public administration and defence; compulsory social security\n",
            "Education\n",
            "Human health and social work activities\n",
            "Arts, entertainment and recreation\n",
            "Other service activities\n",
            "Activities of households as employers; undifferentiated goods- and services-producing activities of households for own use\n",
            "Activities of extraterritorial organizations and bodies\n"
          ]
        }
      ]
    },
    {
      "cell_type": "code",
      "source": [
        "df = pd.read_csv('cleaned_data.csv')\n",
        "\n",
        "# List of aggregates to exclude from 'Country' column\n",
        "aggregates = [\n",
        "    'ASEAN', 'Asia-Pacific Economic Cooperation', 'Euro Area',\n",
        "    'Euro area (12 countries)', 'European Union',\n",
        "    'European Union (13 countries)', 'European Union (15 countries)',\n",
        "    'European Union (28 countries)', 'G20', 'Non-OECD', 'OECD members',\n",
        "    'World'\n",
        "]\n",
        "\n",
        "# Print unique values in 'Country' column before filtering\n",
        "print(\"Unique values in 'Country' column before filtering:\")\n",
        "unique_countries_before = df['Country'].unique()\n",
        "print(unique_countries_before)\n",
        "\n",
        "# Filter out rows with aggregates in 'Country' column\n",
        "df_filtered = df[~df['Country'].isin(aggregates)]\n",
        "\n",
        "# Print unique values in 'Country' column after filtering\n",
        "print(\"\\nUnique values in 'Country' column after filtering out aggregates:\")\n",
        "unique_countries_after = df_filtered['Country'].unique()\n",
        "print(unique_countries_after)\n",
        "\n",
        "# Print unique values in 'ISIC Division Desc' column before filtering\n",
        "unique_division_desc = df['ISIC Division Desc'].unique()\n",
        "print(\"\\nUnique ISIC Division Desc before filtering:\")\n",
        "for desc in unique_division_desc:\n",
        "    print(desc)\n",
        "\n",
        "# Print unique values in 'ISIC Division Desc' column after filtering\n",
        "unique_division_desc_filtered = df_filtered['ISIC Division Desc'].unique()\n",
        "print(\"\\nUnique ISIC Division Desc after filtering out aggregates:\")\n",
        "for desc in unique_division_desc_filtered:\n",
        "    print(desc)"
      ],
      "metadata": {
        "colab": {
          "base_uri": "https://localhost:8080/"
        },
        "id": "KwQwmVcj9EiS",
        "outputId": "d1768b5b-e71c-4f65-ee9a-5f763d7bcd55"
      },
      "execution_count": null,
      "outputs": [
        {
          "output_type": "stream",
          "name": "stdout",
          "text": [
            "Unique values in 'Country' column before filtering:\n",
            "['Albania' 'Andorra' 'Australia' 'Austria' 'Bahamas' 'Barbados' 'Belgium'\n",
            " 'Benin' 'Bermuda' 'British Virgin Islands' 'Brunei Darussalam' 'Bulgaria'\n",
            " 'Burkina Faso' 'Cameroon' 'Canada' 'Cape Verde' 'Cayman Islands' 'Chile'\n",
            " 'Colombia' 'Cook Islands' 'Costa Rica' 'Croatia' 'Cyprus'\n",
            " 'Czech Republic' 'Denmark' 'Dominican Republic' 'Ecuador' 'Estonia'\n",
            " 'Eswatini' 'Euro Area' 'European Union' 'Fiji' 'Finland' 'France'\n",
            " 'Gambia' 'Georgia' 'Germany' 'Ghana' 'Greece' 'Greenland' 'Guatemala'\n",
            " 'Guyana' 'Haiti' 'Hong Kong' 'Hungary' 'Iceland' 'India' 'Indonesia'\n",
            " 'Ireland' 'Islamic Republic Of Iran' 'Israel' 'Italy' 'Japan' 'Jordan'\n",
            " 'Kenya' 'Korea' 'Laos' 'Latvia' 'Lebanon' 'Leshoto' 'Lithuania'\n",
            " 'Luxembourg' 'Malawi' 'Malaysia' 'Maldives' 'Malta' 'Marshall Islands'\n",
            " 'Mauritania' 'Mauritius' 'Mexico' 'Mongolia' 'Mozambique' 'Namibia'\n",
            " 'Nepal' 'New Zealand' 'Niger' 'Nigeria' 'North Macedonia' 'Norway'\n",
            " 'Pakistan' 'Palau' 'Papua New Guinea' 'Paraguay' 'Peru' 'Philippines'\n",
            " 'Poland' 'Portugal' 'Qatar' 'Romania' 'Russian Federation' 'Rwanda'\n",
            " 'Saint Lucia' 'Samoa' 'Saudi Arabia' 'Senegal' 'Serbia' 'Seychelles'\n",
            " 'Singapore' 'Slovak Republic' 'Slovenia' 'Spain' 'Sri Lanka'\n",
            " 'State Of Palestine' 'Suriname' 'Sweden' 'Switzerland' 'Thailand'\n",
            " 'The Netherlands' 'Timor-Leste' 'Tonga' 'Trinidad And Tobago' 'Turkey'\n",
            " 'Uganda' 'United Kingdom' 'United Republic Of Tanzania' 'United States'\n",
            " 'Vanuatu' 'Viet Nam' 'Zambia' 'Zanzibar']\n",
            "\n",
            "Unique values in 'Country' column after filtering out aggregates:\n",
            "['Albania' 'Andorra' 'Australia' 'Austria' 'Bahamas' 'Barbados' 'Belgium'\n",
            " 'Benin' 'Bermuda' 'British Virgin Islands' 'Brunei Darussalam' 'Bulgaria'\n",
            " 'Burkina Faso' 'Cameroon' 'Canada' 'Cape Verde' 'Cayman Islands' 'Chile'\n",
            " 'Colombia' 'Cook Islands' 'Costa Rica' 'Croatia' 'Cyprus'\n",
            " 'Czech Republic' 'Denmark' 'Dominican Republic' 'Ecuador' 'Estonia'\n",
            " 'Eswatini' 'Fiji' 'Finland' 'France' 'Gambia' 'Georgia' 'Germany' 'Ghana'\n",
            " 'Greece' 'Greenland' 'Guatemala' 'Guyana' 'Haiti' 'Hong Kong' 'Hungary'\n",
            " 'Iceland' 'India' 'Indonesia' 'Ireland' 'Islamic Republic Of Iran'\n",
            " 'Israel' 'Italy' 'Japan' 'Jordan' 'Kenya' 'Korea' 'Laos' 'Latvia'\n",
            " 'Lebanon' 'Leshoto' 'Lithuania' 'Luxembourg' 'Malawi' 'Malaysia'\n",
            " 'Maldives' 'Malta' 'Marshall Islands' 'Mauritania' 'Mauritius' 'Mexico'\n",
            " 'Mongolia' 'Mozambique' 'Namibia' 'Nepal' 'New Zealand' 'Niger' 'Nigeria'\n",
            " 'North Macedonia' 'Norway' 'Pakistan' 'Palau' 'Papua New Guinea'\n",
            " 'Paraguay' 'Peru' 'Philippines' 'Poland' 'Portugal' 'Qatar' 'Romania'\n",
            " 'Russian Federation' 'Rwanda' 'Saint Lucia' 'Samoa' 'Saudi Arabia'\n",
            " 'Senegal' 'Serbia' 'Seychelles' 'Singapore' 'Slovak Republic' 'Slovenia'\n",
            " 'Spain' 'Sri Lanka' 'State Of Palestine' 'Suriname' 'Sweden'\n",
            " 'Switzerland' 'Thailand' 'The Netherlands' 'Timor-Leste' 'Tonga'\n",
            " 'Trinidad And Tobago' 'Turkey' 'Uganda' 'United Kingdom'\n",
            " 'United Republic Of Tanzania' 'United States' 'Vanuatu' 'Viet Nam'\n",
            " 'Zambia' 'Zanzibar']\n",
            "\n",
            "Unique ISIC Division Desc before filtering:\n",
            "Agriculture, forestry and fishing\n",
            "Mining and quarrying\n",
            "Manufacturing\n",
            "Electricity, gas, steam and air conditioning supply\n",
            "Water supply; sewerage, waste management and remediation activities\n",
            "Construction\n",
            "Wholesale and retail trade; repair of motor vehicles and motorcycles\n",
            "Transportation and storage\n",
            "Accommodation and food service activities\n",
            "Information and communication\n",
            "Financial and insurance activities\n",
            "Real estate activities\n",
            "Professional, scientific and technical activities\n",
            "Administrative and support service activities\n",
            "Public administration and defence; compulsory social security\n",
            "Education\n",
            "Human health and social work activities\n",
            "Arts, entertainment and recreation\n",
            "Other service activities\n",
            "Activities of households as employers; undifferentiated goods- and services-producing activities of households for own use\n",
            "Activities of extraterritorial organizations and bodies\n",
            "\n",
            "Unique ISIC Division Desc after filtering out aggregates:\n",
            "Agriculture, forestry and fishing\n",
            "Mining and quarrying\n",
            "Manufacturing\n",
            "Electricity, gas, steam and air conditioning supply\n",
            "Water supply; sewerage, waste management and remediation activities\n",
            "Construction\n",
            "Wholesale and retail trade; repair of motor vehicles and motorcycles\n",
            "Transportation and storage\n",
            "Accommodation and food service activities\n",
            "Information and communication\n",
            "Financial and insurance activities\n",
            "Real estate activities\n",
            "Professional, scientific and technical activities\n",
            "Administrative and support service activities\n",
            "Public administration and defence; compulsory social security\n",
            "Education\n",
            "Human health and social work activities\n",
            "Arts, entertainment and recreation\n",
            "Other service activities\n",
            "Activities of households as employers; undifferentiated goods- and services-producing activities of households for own use\n",
            "Activities of extraterritorial organizations and bodies\n"
          ]
        }
      ]
    },
    {
      "cell_type": "code",
      "source": [
        "# Create a mapping dictionary for ISIC Section and ISIC Division Desc\n",
        "isic_mapping = {\n",
        "    'A': 'Agriculture, forestry and fishing',\n",
        "    'B': 'Mining and quarrying',\n",
        "    'C': 'Manufacturing',\n",
        "    'D': 'Electricity, gas, steam and air conditioning supply',\n",
        "    'E': 'Water supply; sewerage, waste management and remediation activities',\n",
        "    'F': 'Construction',\n",
        "    'G': 'Wholesale and retail trade; repair of motor vehicles and motorcycles',\n",
        "    'H': 'Transportation and storage',\n",
        "    'I': 'Accommodation and food service activities',\n",
        "    'J': 'Information and communication',\n",
        "    'K': 'Financial and insurance activities',\n",
        "    'L': 'Real estate activities',\n",
        "    'M': 'Professional, scientific and technical activities',\n",
        "    'N': 'Administrative and support service activities',\n",
        "    'O': 'Public administration and defence; compulsory social security',\n",
        "    'P': 'Education',\n",
        "    'Q': 'Human health and social work activities',\n",
        "    'R': 'Arts, entertainment and recreation',\n",
        "    'S': 'Other services activities',\n",
        "    'T': 'Activities of households as employers; undifferentiated goods- and services-producing activities of households for own use',\n",
        "    'U': 'Activities of extraterritorial organizations and bodies'\n",
        "}\n",
        "\n",
        "# Aggregate sum of Value USD (Million USD) for each ISIC Section\n",
        "isic_section_sum = df_filtered.groupby('ISIC Section')['Value USD (Million USD)'].sum().reset_index()\n",
        "\n",
        "# Sort by descending order of sum\n",
        "isic_section_sum = isic_section_sum.sort_values(by='Value USD (Million USD)', ascending=False)\n"
      ],
      "metadata": {
        "id": "uqCr3pJO2VhF"
      },
      "execution_count": null,
      "outputs": []
    },
    {
      "cell_type": "code",
      "source": [
        "# Plotting\n",
        "plt.figure(figsize=(12, 8))\n",
        "bars = plt.bar(isic_section_sum['ISIC Section'], isic_section_sum['Value USD (Million USD)'])\n",
        "plt.xlabel('ISIC Section')\n",
        "plt.ylabel('Sum of Value USD (Million USD)')\n",
        "plt.title('Sum of Value USD (Million USD) by ISIC Section')\n",
        "plt.xticks(rotation=0)\n",
        "plt.tight_layout()\n",
        "\n",
        "# Create custom legend\n",
        "legend_labels = [f\"{sec}: {desc}\" for sec, desc in isic_mapping.items() if sec in isic_section_sum['ISIC Section'].values]\n",
        "plt.legend(bars, legend_labels, bbox_to_anchor=(1.05, 1), loc='upper left')\n",
        "\n",
        "plt.show()"
      ],
      "metadata": {
        "colab": {
          "base_uri": "https://localhost:8080/",
          "height": 479
        },
        "id": "xr5-MJ1_vEhb",
        "outputId": "2e6254da-ca9d-4f7c-af96-5f5a338a5d40"
      },
      "execution_count": null,
      "outputs": [
        {
          "output_type": "display_data",
          "data": {
            "text/plain": [
              "<Figure size 1200x800 with 1 Axes>"
            ],
            "image/png": "[encoded data removed]"
          },
          "metadata": {}
        }
      ]
    },
    {
      "cell_type": "markdown",
      "source": [
        "This illustrates the economic landscape represented by the data. C: Manufacturing is the highest total value in USD. This incdicates it is the largest contributor to the economic value reported. The least sector is T: Activities of households as employers; undifferentiated goods- and services-producing activities of households for own use.\n",
        "\n",
        "Manufacturing may have high levels due to high levels of industrial activity, employment, investment, ability to export.\n",
        "\n",
        "Sectors similar to household activities being at the bottom suggest they are less economically significant in terms of monetary value. Perhaps due to the fact they are typically small-scale and may not generate substantial commercial revenue.\n",
        "\n",
        "This is important for resource allocation, policy making, economic planning, development projects, investment decisions, and/or understanding the health of the economy."
      ],
      "metadata": {
        "id": "5kbY90f_BFgl"
      }
    },
    {
      "cell_type": "markdown",
      "source": [
        "**5. Interpretation and Insights Integration:**"
      ],
      "metadata": {
        "id": "4BhcvAeUJbHD"
      }
    },
    {
      "cell_type": "markdown",
      "source": [
        "Summary of Findings:\n",
        "\n",
        "    Data Overview:\n",
        "        The dataset comprises 12,030 observations of 'Value USD (Million USD)', showcasing a wide range from -1.72 to 2,359,199,000 USD.\n",
        "        Outliers are distributed across various countries, with notable contributions from the United States and Germany.\n",
        "\n",
        "    Predictive Modeling Insights:\n",
        "        Random Forest models achieve high R-squared values (~0.994), indicating robust predictive performance.\n",
        "        'Country_encoded' and 'ISIC Section_encoded' are significant predictors, explaining approximately 99.47% of the variance in 'Value USD (Million USD)'.\n",
        "\n",
        "    Sector Analysis:\n",
        "        Manufacturing emerges as the leading sector in economic value, driven by industrial activity, employment levels, and export capacity.\n",
        "        Sectors resembling household activities show lower economic impact, likely due to their smaller scale and revenue generation.\n",
        "\n",
        "    Implications and Recommendations:\n",
        "        Insights are valuable for policy-making, economic planning, and investment decisions to optimize resource allocation and foster economic stability.\n",
        "        Further refinement of models and exploration of additional variables could enhance predictive accuracy and deepen understanding of economic dynamics."
      ],
      "metadata": {
        "id": "LewdLgDdLmme"
      }
    },
    {
      "cell_type": "markdown",
      "source": [
        "Research questions:\n",
        "\n",
        "How does 'Value USD (Million USD)' vary across different countries?\n",
        "\n",
        "    'Value USD (Million USD)' varies significantly across countries, ranging from -1.72 USD to 2,359,199,000 USD.\n",
        "    Countries like the United States, Germany, and others exhibit diverse economic contributions, with outliers indicating substantial economic activities.\n",
        "\n",
        "What is the impact of industrial sectors (ISIC divisions) on 'Value USD (Million USD)'?\n",
        "\n",
        "    Industrial sectors, categorized by ISIC divisions, play a crucial role in influencing 'Value USD (Million USD)'.\n",
        "    Manufacturing sectors, characterized by high industrial activity and export potential, emerge as primary contributors to economic value.\n",
        "\n",
        "Which specific countries contribute the most to variations in 'Value USD (Million USD)'?\n",
        "\n",
        "    Countries such as the United States, Germany, and others contribute significantly to variations in 'Value USD (Million USD)' due to their substantial economic outputs and diverse industrial sectors.\n",
        "\n",
        "How do different industrial sectors (ISIC divisions) impact 'Value USD (Million USD)'?\n",
        "\n",
        "    Different ISIC divisions impact 'Value USD (Million USD)' differently based on their economic activities and sector-specific contributions.\n",
        "    Sectors like manufacturing demonstrate higher economic impact compared to sectors resembling household activities, which typically generate lower economic value.\n",
        "\n",
        "Can 'Country' and 'ISIC Division Desc' be used to predict 'Value USD (Million USD)' accurately?\n",
        "\n",
        "    Yes, 'Country' and 'ISIC Division Desc' can be used to predict 'Value USD (Million USD)' with high accuracy.\n",
        "    Models incorporating 'Country_encoded' and 'ISIC Section_encoded' as predictors achieve high R-squared values (~0.994), indicating strong predictive capability for economic values based on these factors.\n"
      ],
      "metadata": {
        "id": "KZZ8qAvYLvvn"
      }
    }
  ]
}