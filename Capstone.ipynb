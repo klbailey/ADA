{
  "nbformat": 4,
  "nbformat_minor": 0,
  "metadata": {
    "colab": {
      "provenance": [],
      "authorship_tag": "ABX9TyPmI/EntL+vpyNrOCR7tvpe"
    },
    "kernelspec": {
      "name": "python3",
      "display_name": "Python 3"
    },
    "language_info": {
      "name": "python"
    }
  },
  "cells": [
    {
      "cell_type": "markdown",
      "source": [
        "Can we predict energy consumption per value added for different sectors in the USA and India based on historical data from 2015 to 2021? Note: China data is not available in dataset.\n",
        "\n",
        "https://www.iea.org/data-and-statistics/data-product/energy-and-emissions-per-value-added-database"
      ],
      "metadata": {
        "id": "EZqebfmZ_FPm"
      }
    },
    {
      "cell_type": "markdown",
      "source": [
        "**1. Visual Inspection:**"
      ],
      "metadata": {
        "id": "rNc_F8K0_L7w"
      }
    },
    {
      "cell_type": "code",
      "execution_count": null,
      "metadata": {
        "colab": {
          "base_uri": "https://localhost:8080/"
        },
        "id": "TgaUxOmf0pBl",
        "outputId": "3b80ab0c-b83c-4d7e-e010-3382b1b9686f"
      },
      "outputs": [
        {
          "output_type": "stream",
          "name": "stdout",
          "text": [
            "RangeIndex(start=0, stop=90494, step=1)\n",
            "RangeIndex(start=0, stop=134, step=1)\n",
            "RangeIndex(start=0, stop=21448, step=1)\n",
            "RangeIndex(start=0, stop=528, step=1)\n",
            "Index(['Country ISO3', 'Country', 'Year', 'ISIC Section', 'ISIC Division',\n",
            "       'ISIC Division Desc', 'Measure', 'Method',\n",
            "       'Value LCU (Million national currency)', 'Value USD (Million USD)',\n",
            "       'Source'],\n",
            "      dtype='object')\n",
            "Index(['ISIC section', 'ISIC division', 'ISIC division description',\n",
            "       'ISIC aggregation level'],\n",
            "      dtype='object')\n",
            "Index(['Country ISO3', 'Country', 'Year', 'ISIC Division',\n",
            "       'ISIC division description', 'Indicator', 'Value', 'Unit'],\n",
            "      dtype='object')\n",
            "Index(['Country ISO3', 'Country', 'Year', 'ISIC Division',\n",
            "       'ISIC Division Desc', 'Measure', 'Method',\n",
            "       'Value LCU (million national currency)', 'Value USD (million USD)'],\n",
            "      dtype='object')\n"
          ]
        }
      ],
      "source": [
        "import pandas as pd\n",
        "\n",
        "# Load Excel files\n",
        "va_section_data_file = 'VASectionData.xlsx'\n",
        "india_usa_isic_rev4_file = 'IndiaUSAISICrev4.xlsx'\n",
        "india_usa_indicators_file = 'IndiaUSAIndicators.xlsx'\n",
        "india_usa_mfg_file = 'IndiaUSAMfg.xlsx'\n",
        "\n",
        "# Load the sheets\n",
        "va_section_data_df = pd.read_excel(va_section_data_file, sheet_name=0)\n",
        "isic_rev4_df = pd.read_excel(india_usa_isic_rev4_file)\n",
        "indicators_df = pd.read_excel(india_usa_indicators_file)\n",
        "mfg_df = pd.read_excel(india_usa_mfg_file)\n",
        "\n",
        "# Save the sheets as CSV files\n",
        "va_section_data_df.to_csv('VASectionData.csv', index=False)\n",
        "isic_rev4_df.to_csv('IndiaUSAISICrev4.csv', index=False)\n",
        "indicators_df.to_csv('IndiaUSAIndicators.csv', index=False)\n",
        "mfg_df.to_csv('IndiaUSAMfg.csv', index=False)\n",
        "\n",
        "# Print the index of the DataFrames (optional)\n",
        "print(va_section_data_df.index)\n",
        "print(isic_rev4_df.index)\n",
        "print(indicators_df.index)\n",
        "print(mfg_df.index)\n",
        "\n",
        "# Print the columns of the DataFrames (optional)\n",
        "print(va_section_data_df.columns)\n",
        "print(isic_rev4_df.columns)\n",
        "print(indicators_df.columns)\n",
        "print(mfg_df.columns)\n"
      ]
    },
    {
      "cell_type": "code",
      "source": [
        "# Load the sheets as DataFrames\n",
        "va_section_data_df = pd.read_csv('VASectionData.csv')\n",
        "isic_rev4_df = pd.read_csv('IndiaUSAISICrev4.csv')\n",
        "indicators_df = pd.read_csv('IndiaUSAIndicators.csv')\n",
        "mfg_df = pd.read_csv('IndiaUSAMfg.csv')\n",
        "\n",
        "# Print the column names for each DataFrame\n",
        "print(\"VASectionData Columns:\")\n",
        "print(va_section_data_df.columns)\n",
        "\n",
        "print(\"\\nISICrev4 Columns:\")\n",
        "print(isic_rev4_df.columns)\n",
        "\n",
        "print(\"\\nIndicators Columns:\")\n",
        "print(indicators_df.columns)\n",
        "\n",
        "print(\"\\nMfg Columns:\")\n",
        "print(mfg_df.columns)\n"
      ],
      "metadata": {
        "colab": {
          "base_uri": "https://localhost:8080/"
        },
        "id": "Um9yGPFL30rw",
        "outputId": "fae48335-0b67-404b-e8f9-8918b5315a1b"
      },
      "execution_count": null,
      "outputs": [
        {
          "output_type": "stream",
          "name": "stdout",
          "text": [
            "VASectionData Columns:\n",
            "Index(['Country ISO3', 'Country', 'Year', 'ISIC Section', 'ISIC Division',\n",
            "       'ISIC Division Desc', 'Measure', 'Method',\n",
            "       'Value LCU (Million national currency)', 'Value USD (Million USD)',\n",
            "       'Source'],\n",
            "      dtype='object')\n",
            "\n",
            "ISICrev4 Columns:\n",
            "Index(['ISIC section', 'ISIC division', 'ISIC division description',\n",
            "       'ISIC aggregation level'],\n",
            "      dtype='object')\n",
            "\n",
            "Indicators Columns:\n",
            "Index(['Country ISO3', 'Country', 'Year', 'ISIC Division',\n",
            "       'ISIC division description', 'Indicator', 'Value', 'Unit'],\n",
            "      dtype='object')\n",
            "\n",
            "Mfg Columns:\n",
            "Index(['Country ISO3', 'Country', 'Year', 'ISIC Division',\n",
            "       'ISIC Division Desc', 'Measure', 'Method',\n",
            "       'Value LCU (million national currency)', 'Value USD (million USD)'],\n",
            "      dtype='object')\n"
          ]
        }
      ]
    },
    {
      "cell_type": "markdown",
      "source": [
        "Delete columns we will not use."
      ],
      "metadata": {
        "id": "n9Bb56D1aYd9"
      }
    },
    {
      "cell_type": "code",
      "source": [
        "# Delete columns from va_section_data_df\n",
        "va_section_data_df = va_section_data_df.drop(['Country ISO3', 'ISIC Section', 'ISIC Division', 'Method', 'Value LCU (Million national currency)', 'Source'], axis=1)\n",
        "\n",
        "# Delete columns from isic_rev4_df\n",
        "isic_rev4_df = isic_rev4_df.drop(['ISIC section', 'ISIC division'], axis=1)\n",
        "\n",
        "# Delete columns from indicators_df\n",
        "indicators_df = indicators_df.drop(['Country ISO3', 'ISIC Division'], axis=1)\n",
        "\n",
        "# Delete columns from mfg_df\n",
        "mfg_df = mfg_df.drop(['Country ISO3', 'ISIC Division', 'Method', 'Value LCU (million national currency)'], axis=1)\n",
        "\n",
        "# Save the modified DataFrames to CSV files\n",
        "va_section_data_df.to_csv('VASectionData.csv', index=False)\n",
        "isic_rev4_df.to_csv('IndiaUSAISICrev4.csv', index=False)\n",
        "indicators_df.to_csv('IndiaUSAIndicators.csv', index=False)\n",
        "mfg_df.to_csv('IndiaUSAMfg.csv', index=False)\n",
        "\n",
        "# Print the column names for each DataFrame\n",
        "print(\"VASectionData Columns:\")\n",
        "print(va_section_data_df.columns)\n",
        "\n",
        "print(\"\\nISICrev4 Columns:\")\n",
        "print(isic_rev4_df.columns)\n",
        "\n",
        "print(\"\\nIndicators Columns:\")\n",
        "print(indicators_df.columns)\n",
        "\n",
        "print(\"\\nMfg Columns:\")\n",
        "print(mfg_df.columns)\n",
        "\n"
      ],
      "metadata": {
        "colab": {
          "base_uri": "https://localhost:8080/"
        },
        "id": "JYIgUFF6afBU",
        "outputId": "f3b46d10-01cc-4935-d5f0-931ff5882879"
      },
      "execution_count": null,
      "outputs": [
        {
          "output_type": "stream",
          "name": "stdout",
          "text": [
            "VASectionData Columns:\n",
            "Index(['Country', 'Year', 'ISIC Division Desc', 'Measure',\n",
            "       'Value USD (Million USD)'],\n",
            "      dtype='object')\n",
            "\n",
            "ISICrev4 Columns:\n",
            "Index(['ISIC division description', 'ISIC aggregation level'], dtype='object')\n",
            "\n",
            "Indicators Columns:\n",
            "Index(['Country', 'Year', 'ISIC division description', 'Indicator', 'Value',\n",
            "       'Unit'],\n",
            "      dtype='object')\n",
            "\n",
            "Mfg Columns:\n",
            "Index(['Country', 'Year', 'ISIC Division Desc', 'Measure',\n",
            "       'Value USD (million USD)'],\n",
            "      dtype='object')\n"
          ]
        }
      ]
    },
    {
      "cell_type": "code",
      "source": [
        "# Print column names for VASectionData\n",
        "print(\"VASectionData Columns:\")\n",
        "print(va_section_data_df.columns)\n",
        "\n",
        "# Print column names for ISICrev4\n",
        "print(\"\\nISICrev4 Columns:\")\n",
        "print(isic_rev4_df.columns)\n",
        "\n",
        "# Print column names for Indicators\n",
        "print(\"\\nIndicators Columns:\")\n",
        "print(indicators_df.columns)\n",
        "\n",
        "# Print column names for Mfg\n",
        "print(\"\\nMfg Columns:\")\n",
        "print(mfg_df.columns)\n"
      ],
      "metadata": {
        "colab": {
          "base_uri": "https://localhost:8080/"
        },
        "id": "_lOZ9QlPXYTd",
        "outputId": "9ac55a7f-44c8-40c0-bd20-acd3516e8457"
      },
      "execution_count": null,
      "outputs": [
        {
          "output_type": "stream",
          "name": "stdout",
          "text": [
            "VASectionData Columns:\n",
            "Index(['Country ISO3', 'Country', 'Year', 'ISIC Section', 'ISIC Division',\n",
            "       'ISIC Division Desc', 'Measure', 'Method',\n",
            "       'Value LCU (Million national currency)', 'Value USD (Million USD)',\n",
            "       'Source'],\n",
            "      dtype='object')\n",
            "\n",
            "ISICrev4 Columns:\n",
            "Index(['ISIC section', 'ISIC division', 'ISIC division description',\n",
            "       'ISIC aggregation level'],\n",
            "      dtype='object')\n",
            "\n",
            "Indicators Columns:\n",
            "Index(['Country ISO3', 'Country', 'Year', 'ISIC Division',\n",
            "       'ISIC division description', 'Indicator', 'Value', 'Unit'],\n",
            "      dtype='object')\n",
            "\n",
            "Mfg Columns:\n",
            "Index(['Country ISO3', 'Country', 'Year', 'ISIC Division',\n",
            "       'ISIC Division Desc', 'Measure', 'Method',\n",
            "       'Value LCU (million national currency)', 'Value USD (million USD)'],\n",
            "      dtype='object')\n"
          ]
        }
      ]
    },
    {
      "cell_type": "markdown",
      "source": [
        "Filter India and United States"
      ],
      "metadata": {
        "id": "spIVUAF_a3xE"
      }
    },
    {
      "cell_type": "code",
      "source": [
        "# Filter VASectionData for USA and India\n",
        "df_filtered_va_section_data = va_section_data_df[va_section_data_df['Country'].isin(['United States', 'India'])]\n",
        "\n",
        "# Filter ISICrev4 for USA and India\n",
        "df_filtered_isic_rev4 = isic_rev4_df  # No 'Country' column in ISICrev4 DataFrame\n",
        "\n",
        "# Filter Indicators for USA and India\n",
        "df_filtered_indicators = indicators_df[indicators_df['Country'].isin(['United States', 'India'])]\n",
        "\n",
        "# Filter Mfg for USA and India\n",
        "df_filtered_mfg = mfg_df[mfg_df['Country'].isin(['United States', 'India'])]\n"
      ],
      "metadata": {
        "id": "cahSzJQ6a2gi"
      },
      "execution_count": null,
      "outputs": []
    },
    {
      "cell_type": "code",
      "source": [
        "# Print column names and first few rows for VASectionData\n",
        "print(\"VASectionData Columns:\")\n",
        "print(df_filtered_va_section_data.columns)\n",
        "print(\"\\nFirst few rows:\")\n",
        "print(df_filtered_va_section_data.head())\n",
        "\n",
        "# Print column names and first few rows for ISICrev4\n",
        "print(\"\\nISICrev4 Columns:\")\n",
        "print(df_filtered_isic_rev4.columns)\n",
        "print(\"\\nFirst few rows:\")\n",
        "print(df_filtered_isic_rev4.head())\n",
        "\n",
        "# Print column names and first few rows for Indicators\n",
        "print(\"\\nIndicators Columns:\")\n",
        "print(df_filtered_indicators.columns)\n",
        "print(\"\\nFirst few rows:\")\n",
        "print(df_filtered_indicators.head())\n",
        "\n",
        "# Print column names and first few rows for Mfg\n",
        "print(\"\\nMfg Columns:\")\n",
        "print(df_filtered_mfg.columns)\n",
        "print(\"\\nFirst few rows:\")\n",
        "print(df_filtered_mfg.head())\n"
      ],
      "metadata": {
        "colab": {
          "base_uri": "https://localhost:8080/"
        },
        "id": "ENP75p5obHdr",
        "outputId": "9a2ff6b5-ed25-4d31-837c-e76f96bf3caf"
      },
      "execution_count": null,
      "outputs": [
        {
          "output_type": "stream",
          "name": "stdout",
          "text": [
            "VASectionData Columns:\n",
            "Index(['Country', 'Year', 'ISIC Division Desc', 'Measure',\n",
            "       'Value USD (Million USD)'],\n",
            "      dtype='object')\n",
            "\n",
            "First few rows:\n",
            "      Country  Year                                 ISIC Division Desc  \\\n",
            "36297   India  2000                  Agriculture, forestry and fishing   \n",
            "36298   India  2000                               Mining and quarrying   \n",
            "36299   India  2000                                      Manufacturing   \n",
            "36300   India  2000  Electricity, gas, steam and air conditioning s...   \n",
            "36301   India  2000  Water supply; sewerage, waste management and r...   \n",
            "\n",
            "              Measure  Value USD (Million USD)  \n",
            "36297  Current prices                  99132.8  \n",
            "36298  Current prices                  11394.6  \n",
            "36299  Current prices                  89764.6  \n",
            "36300  Current prices                  12415.0  \n",
            "36301  Current prices                   1692.2  \n",
            "\n",
            "ISICrev4 Columns:\n",
            "Index(['ISIC division description', 'ISIC aggregation level'], dtype='object')\n",
            "\n",
            "First few rows:\n",
            "                           ISIC division description ISIC aggregation level\n",
            "0                                              Total                  Total\n",
            "1                  Agriculture, forestry and fishing                Section\n",
            "2                           Agriculture and forestry              Aggregate\n",
            "3  Crop and animal production, hunting and relate...               Division\n",
            "4                               Forestry and logging               Division\n",
            "\n",
            "Indicators Columns:\n",
            "Index(['Country', 'Year', 'ISIC division description', 'Indicator', 'Value',\n",
            "       'Unit'],\n",
            "      dtype='object')\n",
            "\n",
            "First few rows:\n",
            "     Country  Year          ISIC division description  \\\n",
            "8964   India  2000  Agriculture, forestry and fishing   \n",
            "8965   India  2000               Mining and quarrying   \n",
            "8966   India  2001  Agriculture, forestry and fishing   \n",
            "8967   India  2001               Mining and quarrying   \n",
            "8968   India  2002  Agriculture, forestry and fishing   \n",
            "\n",
            "                             Indicator  Value                Unit  \n",
            "8964  Per value added carbon intensity   0.17  kgCO2/USD PPP 2015  \n",
            "8965  Per value added carbon intensity   0.16  kgCO2/USD PPP 2015  \n",
            "8966  Per value added carbon intensity   0.15  kgCO2/USD PPP 2015  \n",
            "8967  Per value added carbon intensity   0.16  kgCO2/USD PPP 2015  \n",
            "8968  Per value added carbon intensity   0.16  kgCO2/USD PPP 2015  \n",
            "\n",
            "Mfg Columns:\n",
            "Index(['Country', 'Year', 'ISIC Division Desc', 'Measure',\n",
            "       'Value USD (million USD)'],\n",
            "      dtype='object')\n",
            "\n",
            "First few rows:\n",
            "         Country  Year                                 ISIC Division Desc  \\\n",
            "0  United States  2000  Manufacture of food products, beverages and to...   \n",
            "1  United States  2000  Manufacture of textiles, wearing apparel, leat...   \n",
            "2  United States  2000  Manufacture of wood and of products of wood an...   \n",
            "3  United States  2000         Manufacture of paper products and printing   \n",
            "4  United States  2000  Manufacture of coke and refined petroleum prod...   \n",
            "\n",
            "          Measure  Value USD (million USD)  \n",
            "0  Current prices                149757.73  \n",
            "1  Current prices                 50093.83  \n",
            "2  Current prices                 28208.67  \n",
            "3  Current prices                108738.10  \n",
            "4  Current prices                 45952.32  \n"
          ]
        }
      ]
    },
    {
      "cell_type": "markdown",
      "source": [
        "Explanation of Each Column\n",
        "\n",
        "    Year: The year of the data point.\n",
        "    Measure: Current Prices: Nominal values without adjustment for inflation and Constant 2015 Prices: Values adjusted for inflation to maintain the purchasing power of the currency.\n",
        "    Value USD (Million USD): The value of the measure in million USD.\n",
        "    Source: Organization for Economic Cooperation and Development National Accounts database."
      ],
      "metadata": {
        "id": "uNeB2KsC3eN-"
      }
    },
    {
      "cell_type": "code",
      "source": [
        "print(\"VASectionData Columns:\")\n",
        "print(va_section_data_df.columns)\n",
        "\n",
        "print(\"\\nIndicators Columns:\")\n",
        "print(indicators_df.columns)\n",
        "\n",
        "print(\"\\nMfg Columns:\")\n",
        "print(mfg_df.columns)\n"
      ],
      "metadata": {
        "colab": {
          "base_uri": "https://localhost:8080/"
        },
        "id": "A9UIM2a0eoM7",
        "outputId": "8b2a9597-6214-4688-d9d6-6aa181bb335b"
      },
      "execution_count": null,
      "outputs": [
        {
          "output_type": "stream",
          "name": "stdout",
          "text": [
            "VASectionData Columns:\n",
            "Index(['Country', 'Year', 'ISIC Division Desc', 'Measure',\n",
            "       'Value USD (Million USD)'],\n",
            "      dtype='object')\n",
            "\n",
            "Indicators Columns:\n",
            "Index(['Country', 'Year', 'ISIC division description', 'Indicator', 'Value',\n",
            "       'Unit'],\n",
            "      dtype='object')\n",
            "\n",
            "Mfg Columns:\n",
            "Index(['Country', 'Year', 'ISIC Division Desc', 'Measure',\n",
            "       'Value USD (million USD)'],\n",
            "      dtype='object')\n"
          ]
        }
      ]
    },
    {
      "cell_type": "code",
      "source": [
        "# Filter for the years 2015 to 2021 and 'Constant 2015 prices' in the 'Measure' column\n",
        "\n",
        "# Filter VASectionData for 'United States' and 'India' and years 2015 to 2021 and 'Constant 2015 prices' in the 'Measure' column\n",
        "df_filtered_va_section_data = va_section_data_df[(va_section_data_df['Country'].isin(['United States', 'India'])) &\n",
        "                                                 (va_section_data_df['Year'].between(2015, 2021)) &\n",
        "                                                 (va_section_data_df['Measure'] == 'Constant 2015 prices')]\n",
        "\n",
        "# Filter Indicators for 'United States' and 'India' and years 2015 to 2021\n",
        "df_filtered_indicators = indicators_df[(indicators_df['Country'].isin(['United States', 'India'])) &\n",
        "                                       (indicators_df['Year'].between(2015, 2021))]\n",
        "\n",
        "# Filter Mfg for 'United States' and 'India' and years 2015 to 2021 and 'Constant 2015 prices' in the 'Measure' column\n",
        "df_filtered_mfg = mfg_df[(mfg_df['Country'].isin(['United States', 'India'])) &\n",
        "                         (mfg_df['Year'].between(2015, 2021)) &\n",
        "                         (mfg_df['Measure'] == 'Constant 2015 prices')]\n",
        "\n",
        "# Print the first few rows of each filtered DataFrame\n",
        "print(\"VASectionData:\")\n",
        "print(df_filtered_va_section_data.head())\n",
        "\n",
        "print(\"\\nIndicators:\")\n",
        "print(df_filtered_indicators.head())\n",
        "\n",
        "print(\"\\nMfg:\")\n",
        "print(df_filtered_mfg.head())\n"
      ],
      "metadata": {
        "colab": {
          "base_uri": "https://localhost:8080/"
        },
        "id": "GcfGaXJXHr80",
        "outputId": "dc0aa96f-80f5-403f-c509-7914c3e68c17"
      },
      "execution_count": null,
      "outputs": [
        {
          "output_type": "stream",
          "name": "stdout",
          "text": [
            "VASectionData:\n",
            "      Country  Year                                 ISIC Division Desc  \\\n",
            "36872   India  2015                  Agriculture, forestry and fishing   \n",
            "36873   India  2015                               Mining and quarrying   \n",
            "36874   India  2015                                      Manufacturing   \n",
            "36875   India  2015  Electricity, gas, steam and air conditioning s...   \n",
            "36876   India  2015  Water supply; sewerage, waste management and r...   \n",
            "\n",
            "                    Measure  Value USD (Million USD)  \n",
            "36872  Constant 2015 prices                355740.20  \n",
            "36873  Constant 2015 prices                 46495.71  \n",
            "36874  Constant 2015 prices                350505.28  \n",
            "36875  Constant 2015 prices                 44015.19  \n",
            "36876  Constant 2015 prices                  8214.00  \n",
            "\n",
            "Indicators:\n",
            "     Country  Year          ISIC division description  \\\n",
            "9003   India  2015  Agriculture, forestry and fishing   \n",
            "9004   India  2015               Mining and quarrying   \n",
            "9005   India  2015                       Construction   \n",
            "9006   India  2016  Agriculture, forestry and fishing   \n",
            "9007   India  2016               Mining and quarrying   \n",
            "\n",
            "                             Indicator  Value                Unit  \n",
            "9003  Per value added carbon intensity   0.18  kgCO2/USD PPP 2015  \n",
            "9004  Per value added carbon intensity   0.14  kgCO2/USD PPP 2015  \n",
            "9005  Per value added carbon intensity   0.00  kgCO2/USD PPP 2015  \n",
            "9006  Per value added carbon intensity   0.17  kgCO2/USD PPP 2015  \n",
            "9007  Per value added carbon intensity   0.12  kgCO2/USD PPP 2015  \n",
            "\n",
            "Mfg:\n",
            "           Country  Year                                 ISIC Division Desc  \\\n",
            "444  United States  2015  Manufacture of food products, beverages and to...   \n",
            "445  United States  2015  Manufacture of textiles, wearing apparel, leat...   \n",
            "446  United States  2015  Manufacture of wood and of products of wood an...   \n",
            "447  United States  2015         Manufacture of paper products and printing   \n",
            "448  United States  2015  Manufacture of coke and refined petroleum prod...   \n",
            "\n",
            "                  Measure  Value USD (million USD)  \n",
            "444  Constant 2015 prices                238081.05  \n",
            "445  Constant 2015 prices                 27631.92  \n",
            "446  Constant 2015 prices                 32391.29  \n",
            "447  Constant 2015 prices                 99761.17  \n",
            "448  Constant 2015 prices                133850.03  \n"
          ]
        }
      ]
    },
    {
      "cell_type": "code",
      "source": [
        "print(\"VASectionData Columns:\")\n",
        "print(va_section_data_df.columns)\n",
        "\n",
        "print(\"\\nIndiaUSAISICrev4 Columns:\")\n",
        "print(isic_rev4_df.columns)\n",
        "\n",
        "print(\"\\nIndiaUSAIndicators Columns:\")\n",
        "print(indicators_df.columns)\n",
        "\n",
        "print(\"\\nIndiaUSAMfg Columns:\")\n",
        "print(mfg_df.columns)\n"
      ],
      "metadata": {
        "colab": {
          "base_uri": "https://localhost:8080/"
        },
        "id": "Gwc9ivMCgZJk",
        "outputId": "8c74e98d-5c4c-4145-fe4b-d9da096041b7"
      },
      "execution_count": null,
      "outputs": [
        {
          "output_type": "stream",
          "name": "stdout",
          "text": [
            "VASectionData Columns:\n",
            "Index(['Country', 'Year', 'ISIC Division Desc', 'Measure',\n",
            "       'Value USD (Million USD)'],\n",
            "      dtype='object')\n",
            "\n",
            "IndiaUSAISICrev4 Columns:\n",
            "Index(['ISIC division description', 'ISIC aggregation level'], dtype='object')\n",
            "\n",
            "IndiaUSAIndicators Columns:\n",
            "Index(['Country', 'Year', 'ISIC division description', 'Indicator', 'Value',\n",
            "       'Unit'],\n",
            "      dtype='object')\n",
            "\n",
            "IndiaUSAMfg Columns:\n",
            "Index(['Country', 'Year', 'ISIC Division Desc', 'Measure',\n",
            "       'Value USD (million USD)'],\n",
            "      dtype='object')\n"
          ]
        }
      ]
    },
    {
      "cell_type": "markdown",
      "source": [
        "**2. Data Cleaning:**"
      ],
      "metadata": {
        "id": "6Mr3N3fs5Qnv"
      }
    },
    {
      "cell_type": "code",
      "source": [
        "# Load the filtered CSV file for analysis\n",
        "# Check for null values in VASectionData\n",
        "print(\"Null values in VASectionData:\")\n",
        "print(va_section_data_df.isnull().sum())\n",
        "\n",
        "# Check for null values in IndiaUSAISICrev4\n",
        "print(\"\\nNull values in IndiaUSAISICrev4:\")\n",
        "print(isic_rev4_df.isnull().sum())\n",
        "\n",
        "# Check for null values in IndiaUSAIndicators\n",
        "print(\"\\nNull values in IndiaUSAIndicators:\")\n",
        "print(indicators_df.isnull().sum())\n",
        "\n",
        "# Check for null values in IndiaUSAMfg\n",
        "print(\"\\nNull values in IndiaUSAMfg:\")\n",
        "print(mfg_df.isnull().sum())\n"
      ],
      "metadata": {
        "colab": {
          "base_uri": "https://localhost:8080/"
        },
        "id": "jzrnz3I75VJA",
        "outputId": "c5540af3-1d2d-48cc-c96c-ca0126f7e146"
      },
      "execution_count": null,
      "outputs": [
        {
          "output_type": "stream",
          "name": "stdout",
          "text": [
            "Null values in VASectionData:\n",
            "Country                       0\n",
            "Year                          0\n",
            "ISIC Division Desc            0\n",
            "Measure                       0\n",
            "Value USD (Million USD)    3326\n",
            "dtype: int64\n",
            "\n",
            "Null values in IndiaUSAISICrev4:\n",
            "ISIC division description    0\n",
            "ISIC aggregation level       0\n",
            "dtype: int64\n",
            "\n",
            "Null values in IndiaUSAIndicators:\n",
            "Country                      0\n",
            "Year                         0\n",
            "ISIC division description    0\n",
            "Indicator                    0\n",
            "Value                        0\n",
            "Unit                         0\n",
            "dtype: int64\n",
            "\n",
            "Null values in IndiaUSAMfg:\n",
            "Country                    0\n",
            "Year                       0\n",
            "ISIC Division Desc         0\n",
            "Measure                    0\n",
            "Value USD (million USD)    0\n",
            "dtype: int64\n"
          ]
        }
      ]
    },
    {
      "cell_type": "code",
      "source": [
        "# Handle missing values by imputing with median\n",
        "# Mean imputation for VASectionData\n",
        "mean_va_section_data = df_filtered_va_section_data['Value USD (Million USD)'].mean()\n",
        "df_filtered_va_section_data = df_filtered_va_section_data.copy()  # Create a copy of the DataFrame\n",
        "df_filtered_va_section_data['Value USD (Million USD)'].fillna(mean_va_section_data, inplace=True)\n",
        "\n",
        "# Check if all missing values are filled\n",
        "print(\"Null values after mean imputation in VASectionData:\")\n",
        "print(df_filtered_va_section_data.isnull().sum())\n"
      ],
      "metadata": {
        "colab": {
          "base_uri": "https://localhost:8080/"
        },
        "id": "pBYlHIjA5nUC",
        "outputId": "4854418c-62dd-4951-b05c-ce3264889b99"
      },
      "execution_count": null,
      "outputs": [
        {
          "output_type": "stream",
          "name": "stdout",
          "text": [
            "Null values after mean imputation in VASectionData:\n",
            "Country                    0\n",
            "Year                       0\n",
            "ISIC Division Desc         0\n",
            "Measure                    0\n",
            "Value USD (Million USD)    0\n",
            "dtype: int64\n"
          ]
        }
      ]
    },
    {
      "cell_type": "markdown",
      "source": [
        "Check for outliers."
      ],
      "metadata": {
        "id": "Gk8WK9WF26-W"
      }
    },
    {
      "cell_type": "code",
      "source": [
        "import matplotlib.pyplot as plt\n",
        "\n",
        "# Function to detect outliers using IQR method\n",
        "def detect_outliers_iqr(data):\n",
        "    Q1 = data.quantile(0.25)\n",
        "    Q3 = data.quantile(0.75)\n",
        "    IQR = Q3 - Q1\n",
        "    lower_bound = Q1 - 1.5 * IQR\n",
        "    upper_bound = Q3 + 1.5 * IQR\n",
        "    outliers = (data < lower_bound) | (data > upper_bound)\n",
        "    return outliers\n",
        "\n",
        "# Check for outliers in VASectionData\n",
        "outliers_va_section_data = detect_outliers_iqr(df_filtered_va_section_data['Value USD (Million USD)'])\n",
        "print(\"Outliers in VASectionData:\")\n",
        "print(outliers_va_section_data.sum())\n",
        "\n",
        "# Filter out non-numeric values from 'ISIC aggregation level' column\n",
        "numeric_isic_agg_level = pd.to_numeric(df_filtered_isic_rev4['ISIC aggregation level'], errors='coerce')\n",
        "filtered_isic_rev4 = df_filtered_isic_rev4[~numeric_isic_agg_level.isna()]\n",
        "\n",
        "# Check for outliers in ISICrev4\n",
        "outliers_isic_rev4 = detect_outliers_iqr(filtered_isic_rev4['ISIC aggregation level'])\n",
        "print(\"\\nOutliers in ISICrev4:\")\n",
        "print(outliers_isic_rev4.sum())\n",
        "\n",
        "\n",
        "\n",
        "\n",
        "# Check for outliers in Indicators\n",
        "outliers_indicators = detect_outliers_iqr(df_filtered_indicators['Value'])\n",
        "print(\"\\nOutliers in Indicators:\")\n",
        "print(outliers_indicators.sum())\n",
        "\n",
        "# Check for outliers in Mfg\n",
        "outliers_mfg = detect_outliers_iqr(df_filtered_mfg['Value USD (million USD)'])\n",
        "print(\"\\nOutliers in Mfg:\")\n",
        "print(outliers_mfg.sum())\n"
      ],
      "metadata": {
        "colab": {
          "base_uri": "https://localhost:8080/"
        },
        "id": "A1vj-PL552cg",
        "outputId": "053d331d-f6f4-46d9-8d41-c43cdf6edb6b"
      },
      "execution_count": null,
      "outputs": [
        {
          "output_type": "stream",
          "name": "stdout",
          "text": [
            "Outliers in VASectionData:\n",
            "0\n",
            "\n",
            "Outliers in ISICrev4:\n",
            "0\n",
            "\n",
            "Outliers in Indicators:\n",
            "27\n",
            "\n",
            "Outliers in Mfg:\n",
            "7\n"
          ]
        }
      ]
    },
    {
      "cell_type": "code",
      "source": [
        "# Print outliers in Indicators\n",
        "print(\"Outliers in Indicators:\")\n",
        "print(df_filtered_indicators[outliers_indicators])\n",
        "\n",
        "# Print outliers in Mfg\n",
        "print(\"\\nOutliers in Mfg:\")\n",
        "print(df_filtered_mfg[outliers_mfg])\n"
      ],
      "metadata": {
        "colab": {
          "base_uri": "https://localhost:8080/"
        },
        "id": "pfRzLHepi7kf",
        "outputId": "ade6f780-72a5-42d4-a7a9-b5a66715023d"
      },
      "execution_count": null,
      "outputs": [
        {
          "output_type": "stream",
          "name": "stdout",
          "text": [
            "Outliers in Indicators:\n",
            "             Country  Year                          ISIC division description  \\\n",
            "21270  United States  2015         Manufacture of paper products and printing   \n",
            "21271  United States  2015  Manufacture of coke and refined petroleum prod...   \n",
            "21274  United States  2015                        Manufacture of basic metals   \n",
            "21286  United States  2016         Manufacture of paper products and printing   \n",
            "21287  United States  2016  Manufacture of coke and refined petroleum prod...   \n",
            "21289  United States  2016  Manufacture of other non-metallic mineral prod...   \n",
            "21290  United States  2016                        Manufacture of basic metals   \n",
            "21302  United States  2017         Manufacture of paper products and printing   \n",
            "21303  United States  2017  Manufacture of coke and refined petroleum prod...   \n",
            "21306  United States  2017                        Manufacture of basic metals   \n",
            "21318  United States  2018         Manufacture of paper products and printing   \n",
            "21319  United States  2018  Manufacture of coke and refined petroleum prod...   \n",
            "21321  United States  2018  Manufacture of other non-metallic mineral prod...   \n",
            "21322  United States  2018                        Manufacture of basic metals   \n",
            "21334  United States  2019         Manufacture of paper products and printing   \n",
            "21335  United States  2019  Manufacture of coke and refined petroleum prod...   \n",
            "21337  United States  2019  Manufacture of other non-metallic mineral prod...   \n",
            "21338  United States  2019                        Manufacture of basic metals   \n",
            "21350  United States  2020         Manufacture of paper products and printing   \n",
            "21351  United States  2020  Manufacture of coke and refined petroleum prod...   \n",
            "21353  United States  2020  Manufacture of other non-metallic mineral prod...   \n",
            "21354  United States  2020                        Manufacture of basic metals   \n",
            "21361  United States  2021                               Mining and quarrying   \n",
            "21366  United States  2021         Manufacture of paper products and printing   \n",
            "21367  United States  2021  Manufacture of coke and refined petroleum prod...   \n",
            "21369  United States  2021  Manufacture of other non-metallic mineral prod...   \n",
            "21370  United States  2021                        Manufacture of basic metals   \n",
            "\n",
            "                              Indicator  Value             Unit  \n",
            "21270  Per value added energy intensity  18.63  MJ/USD PPP 2015  \n",
            "21271  Per value added energy intensity  16.15  MJ/USD PPP 2015  \n",
            "21274  Per value added energy intensity  21.09  MJ/USD PPP 2015  \n",
            "21286  Per value added energy intensity  19.03  MJ/USD PPP 2015  \n",
            "21287  Per value added energy intensity  18.58  MJ/USD PPP 2015  \n",
            "21289  Per value added energy intensity  11.35  MJ/USD PPP 2015  \n",
            "21290  Per value added energy intensity  18.81  MJ/USD PPP 2015  \n",
            "21302  Per value added energy intensity  20.07  MJ/USD PPP 2015  \n",
            "21303  Per value added energy intensity  15.44  MJ/USD PPP 2015  \n",
            "21306  Per value added energy intensity  19.64  MJ/USD PPP 2015  \n",
            "21318  Per value added energy intensity  19.78  MJ/USD PPP 2015  \n",
            "21319  Per value added energy intensity  14.05  MJ/USD PPP 2015  \n",
            "21321  Per value added energy intensity  12.29  MJ/USD PPP 2015  \n",
            "21322  Per value added energy intensity  21.02  MJ/USD PPP 2015  \n",
            "21334  Per value added energy intensity  18.59  MJ/USD PPP 2015  \n",
            "21335  Per value added energy intensity  14.15  MJ/USD PPP 2015  \n",
            "21337  Per value added energy intensity  12.64  MJ/USD PPP 2015  \n",
            "21338  Per value added energy intensity  19.06  MJ/USD PPP 2015  \n",
            "21350  Per value added energy intensity  19.46  MJ/USD PPP 2015  \n",
            "21351  Per value added energy intensity  21.34  MJ/USD PPP 2015  \n",
            "21353  Per value added energy intensity  11.61  MJ/USD PPP 2015  \n",
            "21354  Per value added energy intensity  15.96  MJ/USD PPP 2015  \n",
            "21361  Per value added energy intensity  11.01  MJ/USD PPP 2015  \n",
            "21366  Per value added energy intensity  21.09  MJ/USD PPP 2015  \n",
            "21367  Per value added energy intensity  22.33  MJ/USD PPP 2015  \n",
            "21369  Per value added energy intensity  11.55  MJ/USD PPP 2015  \n",
            "21370  Per value added energy intensity  17.46  MJ/USD PPP 2015  \n",
            "\n",
            "Outliers in Mfg:\n",
            "           Country  Year                                 ISIC Division Desc  \\\n",
            "453  United States  2015  Manufacture of fabricated metal products, mach...   \n",
            "465  United States  2016  Manufacture of fabricated metal products, mach...   \n",
            "477  United States  2017  Manufacture of fabricated metal products, mach...   \n",
            "489  United States  2018  Manufacture of fabricated metal products, mach...   \n",
            "501  United States  2019  Manufacture of fabricated metal products, mach...   \n",
            "513  United States  2020  Manufacture of fabricated metal products, mach...   \n",
            "525  United States  2021  Manufacture of fabricated metal products, mach...   \n",
            "\n",
            "                  Measure  Value USD (million USD)  \n",
            "453  Constant 2015 prices                631619.25  \n",
            "465  Constant 2015 prices                619570.50  \n",
            "477  Constant 2015 prices                658421.50  \n",
            "489  Constant 2015 prices                704486.06  \n",
            "501  Constant 2015 prices                703831.81  \n",
            "513  Constant 2015 prices                690731.19  \n",
            "525  Constant 2015 prices                747994.38  \n"
          ]
        }
      ]
    },
    {
      "cell_type": "markdown",
      "source": [
        "Use Interquartile Range method to handle outliers."
      ],
      "metadata": {
        "id": "krCV_mANjZDM"
      }
    },
    {
      "cell_type": "code",
      "source": [
        "# Calculate the IQR for the 'Value' column\n",
        "Q1 = df_filtered_indicators['Value'].quantile(0.25)\n",
        "Q3 = df_filtered_indicators['Value'].quantile(0.75)\n",
        "IQR = Q3 - Q1\n",
        "\n",
        "# Define the lower and upper bounds for outliers\n",
        "lower_bound = Q1 - 1.5 * IQR\n",
        "upper_bound = Q3 + 1.5 * IQR\n",
        "\n",
        "# Filter the dataset to remove outliers\n",
        "filtered_indicators_no_outliers = df_filtered_indicators[\n",
        "    (df_filtered_indicators['Value'] >= lower_bound) &\n",
        "    (df_filtered_indicators['Value'] <= upper_bound)\n",
        "]\n",
        "\n",
        "# Print the shape of the original and filtered datasets\n",
        "print(\"Original Dataset Shape:\", df_filtered_indicators.shape)\n",
        "print(\"Filtered Dataset Shape:\", filtered_indicators_no_outliers.shape)\n"
      ],
      "metadata": {
        "colab": {
          "base_uri": "https://localhost:8080/"
        },
        "id": "qaXK3DoEjdyL",
        "outputId": "7b02b096-789c-42f8-f636-f12097ef51cf"
      },
      "execution_count": null,
      "outputs": [
        {
          "output_type": "stream",
          "name": "stdout",
          "text": [
            "Original Dataset Shape: (238, 6)\n",
            "Filtered Dataset Shape: (211, 6)\n"
          ]
        }
      ]
    },
    {
      "cell_type": "markdown",
      "source": [
        "Removed datasize set from 238 rows to 211 rows indicating outliers were successfully identified and removed from the dataset. We can now focus on a more representative subset of data for an analysis."
      ],
      "metadata": {
        "id": "Bh7c-FJvjpyp"
      }
    },
    {
      "cell_type": "code",
      "source": [
        "# Check unique values in all four files\n",
        "unique_values_va_section_data = va_section_data_df.apply(lambda x: x.unique())\n",
        "print(\"Unique values in VASectionData:\")\n",
        "print(unique_values_va_section_data)\n",
        "\n",
        "unique_values_isic_rev4 = isic_rev4_df.apply(lambda x: x.unique())\n",
        "print(\"\\nUnique values in IndiaUSAISICrev4:\")\n",
        "print(unique_values_isic_rev4)\n",
        "\n",
        "unique_values_indicators = indicators_df.apply(lambda x: x.unique())\n",
        "print(\"\\nUnique values in IndiaUSAIndicators:\")\n",
        "print(unique_values_indicators)\n",
        "\n",
        "unique_values_mfg = mfg_df.apply(lambda x: x.unique())\n",
        "print(\"\\nUnique values in IndiaUSAMfg:\")\n",
        "print(unique_values_mfg)\n"
      ],
      "metadata": {
        "colab": {
          "base_uri": "https://localhost:8080/"
        },
        "id": "USFt50IP6Ah7",
        "outputId": "384fbb6a-6d2c-47d2-a856-db12af18698c"
      },
      "execution_count": null,
      "outputs": [
        {
          "output_type": "stream",
          "name": "stdout",
          "text": [
            "Unique values in VASectionData:\n",
            "Country                    [ASEAN, Afghanistan, Albania, Andorra, Argenti...\n",
            "Year                       [2000, 2001, 2002, 2003, 2004, 2005, 2006, 200...\n",
            "ISIC Division Desc         [Agriculture, forestry and fishing, Mining and...\n",
            "Measure                               [Current prices, Constant 2015 prices]\n",
            "Value USD (Million USD)    [61859.0, 38303.1, 154807.2, 12307.0, 2319.7, ...\n",
            "dtype: object\n",
            "\n",
            "Unique values in IndiaUSAISICrev4:\n",
            "ISIC division description    [Total, Agriculture, forestry and fishing, Agr...\n",
            "ISIC aggregation level                   [Total, Section, Aggregate, Division]\n",
            "dtype: object\n",
            "\n",
            "Unique values in IndiaUSAIndicators:\n",
            "Country                      [Albania, Australia, Austria, Belgium, Benin, ...\n",
            "Year                         [2000, 2001, 2002, 2003, 2004, 2005, 2006, 200...\n",
            "ISIC division description    [Agriculture, forestry and fishing, Mining and...\n",
            "Indicator                    [Per value added carbon intensity, Per value a...\n",
            "Value                        [0.13, 0.26, 0.01, 0.12, 0.3, 0.14, 0.15, 0.0,...\n",
            "Unit                                     [kgCO2/USD PPP 2015, MJ/USD PPP 2015]\n",
            "dtype: object\n",
            "\n",
            "Unique values in IndiaUSAMfg:\n",
            "Country                                                      [United States]\n",
            "Year                       [2000, 2001, 2002, 2003, 2004, 2005, 2006, 200...\n",
            "ISIC Division Desc         [Manufacture of food products, beverages and t...\n",
            "Measure                               [Current prices, Constant 2015 prices]\n",
            "Value USD (million USD)    [149757.73, 50093.83, 28208.67, 108738.1, 4595...\n",
            "dtype: object\n"
          ]
        }
      ]
    },
    {
      "cell_type": "markdown",
      "source": [
        "**3. Exploratory Data Analysis:**"
      ],
      "metadata": {
        "id": "M3qJ4lil_NOP"
      }
    },
    {
      "cell_type": "code",
      "source": [
        "# For df_filtered_va_section_data\n",
        "print(\"Statistical Summary for df_filtered_va_section_data:\")\n",
        "print(df_filtered_va_section_data.describe())\n",
        "\n",
        "# For filtered_isic_rev4\n",
        "print(\"\\nStatistical Summary for filtered_isic_rev4:\")\n",
        "print(filtered_isic_rev4.describe())\n",
        "\n",
        "# For df_filtered_indicators\n",
        "print(\"\\nStatistical Summary for df_filtered_indicators:\")\n",
        "print(df_filtered_indicators.describe())\n",
        "\n",
        "# For df_filtered_mfg\n",
        "print(\"\\nStatistical Summary for df_filtered_mfg:\")\n",
        "print(df_filtered_mfg.describe())\n"
      ],
      "metadata": {
        "colab": {
          "base_uri": "https://localhost:8080/"
        },
        "id": "l2Ejavx9_SLo",
        "outputId": "ef723885-89b3-435f-f308-59794cf8e4c0"
      },
      "execution_count": null,
      "outputs": [
        {
          "output_type": "stream",
          "name": "stdout",
          "text": [
            "Statistical Summary for df_filtered_va_section_data:\n",
            "              Year  Value USD (Million USD)\n",
            "count   242.000000             2.420000e+02\n",
            "mean   2017.607438             6.017343e+05\n",
            "std       1.862166             6.788782e+05\n",
            "min    2015.000000             3.594210e+03\n",
            "25%    2016.000000             8.288114e+04\n",
            "50%    2018.000000             2.600123e+05\n",
            "75%    2019.000000             1.001469e+06\n",
            "max    2021.000000             2.359199e+06\n",
            "\n",
            "Statistical Summary for filtered_isic_rev4:\n",
            "       ISIC division description ISIC aggregation level\n",
            "count                          0                      0\n",
            "unique                         0                      0\n",
            "top                          NaN                    NaN\n",
            "freq                         NaN                    NaN\n",
            "\n",
            "Statistical Summary for df_filtered_indicators:\n",
            "              Year       Value\n",
            "count   238.000000  238.000000\n",
            "mean   2017.672269    3.617857\n",
            "std       1.856039    5.582994\n",
            "min    2015.000000    0.000000\n",
            "25%    2016.000000    0.352500\n",
            "50%    2018.000000    0.830000\n",
            "75%    2019.000000    4.577500\n",
            "max    2021.000000   22.330000\n",
            "\n",
            "Statistical Summary for df_filtered_mfg:\n",
            "              Year  Value USD (million USD)\n",
            "count    84.000000                84.000000\n",
            "mean   2018.000000            183765.235952\n",
            "std       2.012012            182502.296874\n",
            "min    2015.000000             22456.950000\n",
            "25%    2016.000000             67855.767500\n",
            "50%    2018.000000             99914.215000\n",
            "75%    2020.000000            282272.420000\n",
            "max    2021.000000            747994.380000\n"
          ]
        }
      ]
    },
    {
      "cell_type": "markdown",
      "source": [
        "    df_filtered_va_section_data:\n",
        "        Year: The data spans from 2015 to 2021, with a mean year of 2017.6.\n",
        "        Value USD (Million USD): The values range from $3.6 million to $2.36 billion USD, with a mean of approximately $601.7 million USD.\n",
        "\n",
        "    filtered_isic_rev4:\n",
        "        There is no data available for this dataset, as both columns (\"ISIC division description\" and \"ISIC aggregation level\") have no valid entries.\n",
        "\n",
        "    df_filtered_indicators:\n",
        "        Year: Similar to the first dataset, the data spans from 2015 to 2021, with a mean year of 2017.7.\n",
        "        Value: The values range from 0 to 22.33, with a mean of approximately 3.62. This could represent some kind of indicator value, possibly related to environmental or economic metrics.\n",
        "\n",
        "    df_filtered_mfg:\n",
        "        Year: The data spans from 2015 to 2021, with a mean year of 2018.\n",
        "        Value USD (million USD): The values range from $22.46 million to $747.99 million USD, with a mean of approximately $183.77 million USD. This dataset likely pertains to manufacturing-related financial figures.\n",
        "\n",
        "Overall, these summaries give you a snapshot of the range, central tendency, and variability of the filtered data in each dataset, which can help you understand the distribution and characteristics of the data.\n"
      ],
      "metadata": {
        "id": "zS0WJrdV_hpM"
      }
    }
  ]
}