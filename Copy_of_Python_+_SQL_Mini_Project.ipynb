{
  "nbformat": 4,
  "nbformat_minor": 0,
  "metadata": {
    "colab": {
      "provenance": []
    },
    "kernelspec": {
      "name": "python3",
      "display_name": "Python 3"
    },
    "language_info": {
      "name": "python"
    }
  },
  "cells": [
    {
      "cell_type": "markdown",
      "source": [
        "#PART 1"
      ],
      "metadata": {
        "id": "wJy0WV0X4X0q"
      }
    },
    {
      "cell_type": "markdown",
      "source": [
        "1. Import the libraries"
      ],
      "metadata": {
        "id": "xGwxXUXWmaRU"
      }
    },
    {
      "cell_type": "code",
      "execution_count": 1,
      "metadata": {
        "id": "RKCFXo4qmZsR"
      },
      "outputs": [],
      "source": [
        "import sqlite3\n",
        "import pandas as pd\n",
        "import matplotlib.pyplot as plt\n",
        "import seaborn as sns"
      ]
    },
    {
      "cell_type": "markdown",
      "source": [
        "2. Import the csv file 'Survey.csv' into df"
      ],
      "metadata": {
        "id": "XGUH66W4mr4o"
      }
    },
    {
      "cell_type": "code",
      "source": [
        "# Read the CSV file into a DataFrame\n",
        "df = pd.read_csv('Survey.csv')\n",
        "\n",
        "column_names = df.columns\n",
        "print(column_names)"
      ],
      "metadata": {
        "id": "wIIoK4Kdmzjo",
        "colab": {
          "base_uri": "https://localhost:8080/"
        },
        "outputId": "474c08ee-26bb-4e60-cdc6-2991a7adf5b3"
      },
      "execution_count": 2,
      "outputs": [
        {
          "output_type": "stream",
          "name": "stdout",
          "text": [
            "Index(['Timestamp', 'Name', 'Age', 'Sex', 'Cell', 'From Bulacan',\n",
            "       'Extended Family', 'Household Size', 'Students in Household',\n",
            "       'Bill Contributors', 'Monthly Household Salary',\n",
            "       'Other Financial Assistance', 'Monthly Electric Budget',\n",
            "       'Owned Appliances', 'Month A', 'Month B', 'Month C', 'Amount',\n",
            "       'Frequency', 'Number of Students in Household', 'Electronics Owned',\n",
            "       'Struggle Paying Electric Bill', 'Failure Paying Electric Bill'],\n",
            "      dtype='object')\n"
          ]
        }
      ]
    },
    {
      "cell_type": "markdown",
      "source": [],
      "metadata": {
        "id": "co2tpirTYEPh"
      }
    },
    {
      "cell_type": "markdown",
      "source": [
        "3. Connect to a database, name the database 'Survey_Database.db'"
      ],
      "metadata": {
        "id": "DSLGVHrZ_ywO"
      }
    },
    {
      "cell_type": "code",
      "source": [
        "conn = sqlite3.connect('Survey_Database.db')"
      ],
      "metadata": {
        "id": "tlqlkbd6_-yP"
      },
      "execution_count": 3,
      "outputs": []
    },
    {
      "cell_type": "markdown",
      "source": [
        "4. Add your dataframe to the database. Name the table 'Initial_Table'"
      ],
      "metadata": {
        "id": "5XZvvCpQAGXb"
      }
    },
    {
      "cell_type": "code",
      "source": [
        "# Add DataFrame to the database with table name 'Initial_Table'\n",
        "df.to_sql('Initial_Table', conn, if_exists='replace', index=False)"
      ],
      "metadata": {
        "id": "nrraEgA2AMIw",
        "colab": {
          "base_uri": "https://localhost:8080/"
        },
        "outputId": "c928e89c-91d3-483e-e43f-099fab12165b"
      },
      "execution_count": 4,
      "outputs": [
        {
          "output_type": "execute_result",
          "data": {
            "text/plain": [
              "116"
            ]
          },
          "metadata": {},
          "execution_count": 4
        }
      ]
    },
    {
      "cell_type": "markdown",
      "source": [
        "5. Check column names"
      ],
      "metadata": {
        "id": "XSzmWKcMAbd3"
      }
    },
    {
      "cell_type": "code",
      "source": [
        "query2 = \"PRAGMA table_info('Initial_table');\"\n",
        "columns = pd.read_sql_query(query2, conn)\n",
        "columns"
      ],
      "metadata": {
        "id": "DeEnxJe2Ag1n",
        "colab": {
          "base_uri": "https://localhost:8080/",
          "height": 770
        },
        "outputId": "cb193cb5-6c86-4282-ea2a-937b21b6ac0e"
      },
      "execution_count": 5,
      "outputs": [
        {
          "output_type": "execute_result",
          "data": {
            "text/plain": [
              "    cid                             name     type  notnull dflt_value  pk\n",
              "0     0                        Timestamp     TEXT        0       None   0\n",
              "1     1                             Name     REAL        0       None   0\n",
              "2     2                              Age     REAL        0       None   0\n",
              "3     3                              Sex     TEXT        0       None   0\n",
              "4     4                             Cell     REAL        0       None   0\n",
              "5     5                     From Bulacan     TEXT        0       None   0\n",
              "6     6                  Extended Family     TEXT        0       None   0\n",
              "7     7                   Household Size     REAL        0       None   0\n",
              "8     8            Students in Household     TEXT        0       None   0\n",
              "9     9                Bill Contributors     REAL        0       None   0\n",
              "10   10         Monthly Household Salary     TEXT        0       None   0\n",
              "11   11       Other Financial Assistance     TEXT        0       None   0\n",
              "12   12          Monthly Electric Budget     REAL        0       None   0\n",
              "13   13                 Owned Appliances     TEXT        0       None   0\n",
              "14   14                          Month A     REAL        0       None   0\n",
              "15   15                          Month B  INTEGER        0       None   0\n",
              "16   16                          Month C  INTEGER        0       None   0\n",
              "17   17                           Amount     TEXT        0       None   0\n",
              "18   18                        Frequency     TEXT        0       None   0\n",
              "19   19  Number of Students in Household     TEXT        0       None   0\n",
              "20   20                Electronics Owned     TEXT        0       None   0\n",
              "21   21    Struggle Paying Electric Bill     TEXT        0       None   0\n",
              "22   22     Failure Paying Electric Bill     TEXT        0       None   0"
            ],
            "text/html": [
              "\n",
              "  <div id=\"df-d576e56c-b15d-4ea2-a2e2-a80a07777542\" class=\"colab-df-container\">\n",
              "    <div>\n",
              "<style scoped>\n",
              "    .dataframe tbody tr th:only-of-type {\n",
              "        vertical-align: middle;\n",
              "    }\n",
              "\n",
              "    .dataframe tbody tr th {\n",
              "        vertical-align: top;\n",
              "    }\n",
              "\n",
              "    .dataframe thead th {\n",
              "        text-align: right;\n",
              "    }\n",
              "</style>\n",
              "<table border=\"1\" class=\"dataframe\">\n",
              "  <thead>\n",
              "    <tr style=\"text-align: right;\">\n",
              "      <th></th>\n",
              "      <th>cid</th>\n",
              "      <th>name</th>\n",
              "      <th>type</th>\n",
              "      <th>notnull</th>\n",
              "      <th>dflt_value</th>\n",
              "      <th>pk</th>\n",
              "    </tr>\n",
              "  </thead>\n",
              "  <tbody>\n",
              "    <tr>\n",
              "      <th>0</th>\n",
              "      <td>0</td>\n",
              "      <td>Timestamp</td>\n",
              "      <td>TEXT</td>\n",
              "      <td>0</td>\n",
              "      <td>None</td>\n",
              "      <td>0</td>\n",
              "    </tr>\n",
              "    <tr>\n",
              "      <th>1</th>\n",
              "      <td>1</td>\n",
              "      <td>Name</td>\n",
              "      <td>REAL</td>\n",
              "      <td>0</td>\n",
              "      <td>None</td>\n",
              "      <td>0</td>\n",
              "    </tr>\n",
              "    <tr>\n",
              "      <th>2</th>\n",
              "      <td>2</td>\n",
              "      <td>Age</td>\n",
              "      <td>REAL</td>\n",
              "      <td>0</td>\n",
              "      <td>None</td>\n",
              "      <td>0</td>\n",
              "    </tr>\n",
              "    <tr>\n",
              "      <th>3</th>\n",
              "      <td>3</td>\n",
              "      <td>Sex</td>\n",
              "      <td>TEXT</td>\n",
              "      <td>0</td>\n",
              "      <td>None</td>\n",
              "      <td>0</td>\n",
              "    </tr>\n",
              "    <tr>\n",
              "      <th>4</th>\n",
              "      <td>4</td>\n",
              "      <td>Cell</td>\n",
              "      <td>REAL</td>\n",
              "      <td>0</td>\n",
              "      <td>None</td>\n",
              "      <td>0</td>\n",
              "    </tr>\n",
              "    <tr>\n",
              "      <th>5</th>\n",
              "      <td>5</td>\n",
              "      <td>From Bulacan</td>\n",
              "      <td>TEXT</td>\n",
              "      <td>0</td>\n",
              "      <td>None</td>\n",
              "      <td>0</td>\n",
              "    </tr>\n",
              "    <tr>\n",
              "      <th>6</th>\n",
              "      <td>6</td>\n",
              "      <td>Extended Family</td>\n",
              "      <td>TEXT</td>\n",
              "      <td>0</td>\n",
              "      <td>None</td>\n",
              "      <td>0</td>\n",
              "    </tr>\n",
              "    <tr>\n",
              "      <th>7</th>\n",
              "      <td>7</td>\n",
              "      <td>Household Size</td>\n",
              "      <td>REAL</td>\n",
              "      <td>0</td>\n",
              "      <td>None</td>\n",
              "      <td>0</td>\n",
              "    </tr>\n",
              "    <tr>\n",
              "      <th>8</th>\n",
              "      <td>8</td>\n",
              "      <td>Students in Household</td>\n",
              "      <td>TEXT</td>\n",
              "      <td>0</td>\n",
              "      <td>None</td>\n",
              "      <td>0</td>\n",
              "    </tr>\n",
              "    <tr>\n",
              "      <th>9</th>\n",
              "      <td>9</td>\n",
              "      <td>Bill Contributors</td>\n",
              "      <td>REAL</td>\n",
              "      <td>0</td>\n",
              "      <td>None</td>\n",
              "      <td>0</td>\n",
              "    </tr>\n",
              "    <tr>\n",
              "      <th>10</th>\n",
              "      <td>10</td>\n",
              "      <td>Monthly Household Salary</td>\n",
              "      <td>TEXT</td>\n",
              "      <td>0</td>\n",
              "      <td>None</td>\n",
              "      <td>0</td>\n",
              "    </tr>\n",
              "    <tr>\n",
              "      <th>11</th>\n",
              "      <td>11</td>\n",
              "      <td>Other Financial Assistance</td>\n",
              "      <td>TEXT</td>\n",
              "      <td>0</td>\n",
              "      <td>None</td>\n",
              "      <td>0</td>\n",
              "    </tr>\n",
              "    <tr>\n",
              "      <th>12</th>\n",
              "      <td>12</td>\n",
              "      <td>Monthly Electric Budget</td>\n",
              "      <td>REAL</td>\n",
              "      <td>0</td>\n",
              "      <td>None</td>\n",
              "      <td>0</td>\n",
              "    </tr>\n",
              "    <tr>\n",
              "      <th>13</th>\n",
              "      <td>13</td>\n",
              "      <td>Owned Appliances</td>\n",
              "      <td>TEXT</td>\n",
              "      <td>0</td>\n",
              "      <td>None</td>\n",
              "      <td>0</td>\n",
              "    </tr>\n",
              "    <tr>\n",
              "      <th>14</th>\n",
              "      <td>14</td>\n",
              "      <td>Month A</td>\n",
              "      <td>REAL</td>\n",
              "      <td>0</td>\n",
              "      <td>None</td>\n",
              "      <td>0</td>\n",
              "    </tr>\n",
              "    <tr>\n",
              "      <th>15</th>\n",
              "      <td>15</td>\n",
              "      <td>Month B</td>\n",
              "      <td>INTEGER</td>\n",
              "      <td>0</td>\n",
              "      <td>None</td>\n",
              "      <td>0</td>\n",
              "    </tr>\n",
              "    <tr>\n",
              "      <th>16</th>\n",
              "      <td>16</td>\n",
              "      <td>Month C</td>\n",
              "      <td>INTEGER</td>\n",
              "      <td>0</td>\n",
              "      <td>None</td>\n",
              "      <td>0</td>\n",
              "    </tr>\n",
              "    <tr>\n",
              "      <th>17</th>\n",
              "      <td>17</td>\n",
              "      <td>Amount</td>\n",
              "      <td>TEXT</td>\n",
              "      <td>0</td>\n",
              "      <td>None</td>\n",
              "      <td>0</td>\n",
              "    </tr>\n",
              "    <tr>\n",
              "      <th>18</th>\n",
              "      <td>18</td>\n",
              "      <td>Frequency</td>\n",
              "      <td>TEXT</td>\n",
              "      <td>0</td>\n",
              "      <td>None</td>\n",
              "      <td>0</td>\n",
              "    </tr>\n",
              "    <tr>\n",
              "      <th>19</th>\n",
              "      <td>19</td>\n",
              "      <td>Number of Students in Household</td>\n",
              "      <td>TEXT</td>\n",
              "      <td>0</td>\n",
              "      <td>None</td>\n",
              "      <td>0</td>\n",
              "    </tr>\n",
              "    <tr>\n",
              "      <th>20</th>\n",
              "      <td>20</td>\n",
              "      <td>Electronics Owned</td>\n",
              "      <td>TEXT</td>\n",
              "      <td>0</td>\n",
              "      <td>None</td>\n",
              "      <td>0</td>\n",
              "    </tr>\n",
              "    <tr>\n",
              "      <th>21</th>\n",
              "      <td>21</td>\n",
              "      <td>Struggle Paying Electric Bill</td>\n",
              "      <td>TEXT</td>\n",
              "      <td>0</td>\n",
              "      <td>None</td>\n",
              "      <td>0</td>\n",
              "    </tr>\n",
              "    <tr>\n",
              "      <th>22</th>\n",
              "      <td>22</td>\n",
              "      <td>Failure Paying Electric Bill</td>\n",
              "      <td>TEXT</td>\n",
              "      <td>0</td>\n",
              "      <td>None</td>\n",
              "      <td>0</td>\n",
              "    </tr>\n",
              "  </tbody>\n",
              "</table>\n",
              "</div>\n",
              "    <div class=\"colab-df-buttons\">\n",
              "\n",
              "  <div class=\"colab-df-container\">\n",
              "    <button class=\"colab-df-convert\" onclick=\"convertToInteractive('df-d576e56c-b15d-4ea2-a2e2-a80a07777542')\"\n",
              "            title=\"Convert this dataframe to an interactive table.\"\n",
              "            style=\"display:none;\">\n",
              "\n",
              "  <svg xmlns=\"http://www.w3.org/2000/svg\" height=\"24px\" viewBox=\"0 -960 960 960\">\n",
              "    <path d=\"M120-120v-720h720v720H120Zm60-500h600v-160H180v160Zm220 220h160v-160H400v160Zm0 220h160v-160H400v160ZM180-400h160v-160H180v160Zm440 0h160v-160H620v160ZM180-180h160v-160H180v160Zm440 0h160v-160H620v160Z\"/>\n",
              "  </svg>\n",
              "    </button>\n",
              "\n",
              "  <style>\n",
              "    .colab-df-container {\n",
              "      display:flex;\n",
              "      gap: 12px;\n",
              "    }\n",
              "\n",
              "    .colab-df-convert {\n",
              "      background-color: #E8F0FE;\n",
              "      border: none;\n",
              "      border-radius: 50%;\n",
              "      cursor: pointer;\n",
              "      display: none;\n",
              "      fill: #1967D2;\n",
              "      height: 32px;\n",
              "      padding: 0 0 0 0;\n",
              "      width: 32px;\n",
              "    }\n",
              "\n",
              "    .colab-df-convert:hover {\n",
              "      background-color: #E2EBFA;\n",
              "      box-shadow: 0px 1px 2px rgba(60, 64, 67, 0.3), 0px 1px 3px 1px rgba(60, 64, 67, 0.15);\n",
              "      fill: #174EA6;\n",
              "    }\n",
              "\n",
              "    .colab-df-buttons div {\n",
              "      margin-bottom: 4px;\n",
              "    }\n",
              "\n",
              "    [theme=dark] .colab-df-convert {\n",
              "      background-color: #3B4455;\n",
              "      fill: #D2E3FC;\n",
              "    }\n",
              "\n",
              "    [theme=dark] .colab-df-convert:hover {\n",
              "      background-color: #434B5C;\n",
              "      box-shadow: 0px 1px 3px 1px rgba(0, 0, 0, 0.15);\n",
              "      filter: drop-shadow(0px 1px 2px rgba(0, 0, 0, 0.3));\n",
              "      fill: #FFFFFF;\n",
              "    }\n",
              "  </style>\n",
              "\n",
              "    <script>\n",
              "      const buttonEl =\n",
              "        document.querySelector('#df-d576e56c-b15d-4ea2-a2e2-a80a07777542 button.colab-df-convert');\n",
              "      buttonEl.style.display =\n",
              "        google.colab.kernel.accessAllowed ? 'block' : 'none';\n",
              "\n",
              "      async function convertToInteractive(key) {\n",
              "        const element = document.querySelector('#df-d576e56c-b15d-4ea2-a2e2-a80a07777542');\n",
              "        const dataTable =\n",
              "          await google.colab.kernel.invokeFunction('convertToInteractive',\n",
              "                                                    [key], {});\n",
              "        if (!dataTable) return;\n",
              "\n",
              "        const docLinkHtml = 'Like what you see? Visit the ' +\n",
              "          '<a target=\"_blank\" href=https://colab.research.google.com/notebooks/data_table.ipynb>data table notebook</a>'\n",
              "          + ' to learn more about interactive tables.';\n",
              "        element.innerHTML = '';\n",
              "        dataTable['output_type'] = 'display_data';\n",
              "        await google.colab.output.renderOutput(dataTable, element);\n",
              "        const docLink = document.createElement('div');\n",
              "        docLink.innerHTML = docLinkHtml;\n",
              "        element.appendChild(docLink);\n",
              "      }\n",
              "    </script>\n",
              "  </div>\n",
              "\n",
              "\n",
              "<div id=\"df-88419203-5fe6-45ba-9db2-88840cafb1ba\">\n",
              "  <button class=\"colab-df-quickchart\" onclick=\"quickchart('df-88419203-5fe6-45ba-9db2-88840cafb1ba')\"\n",
              "            title=\"Suggest charts\"\n",
              "            style=\"display:none;\">\n",
              "\n",
              "<svg xmlns=\"http://www.w3.org/2000/svg\" height=\"24px\"viewBox=\"0 0 24 24\"\n",
              "     width=\"24px\">\n",
              "    <g>\n",
              "        <path d=\"M19 3H5c-1.1 0-2 .9-2 2v14c0 1.1.9 2 2 2h14c1.1 0 2-.9 2-2V5c0-1.1-.9-2-2-2zM9 17H7v-7h2v7zm4 0h-2V7h2v10zm4 0h-2v-4h2v4z\"/>\n",
              "    </g>\n",
              "</svg>\n",
              "  </button>\n",
              "\n",
              "<style>\n",
              "  .colab-df-quickchart {\n",
              "      --bg-color: #E8F0FE;\n",
              "      --fill-color: #1967D2;\n",
              "      --hover-bg-color: #E2EBFA;\n",
              "      --hover-fill-color: #174EA6;\n",
              "      --disabled-fill-color: #AAA;\n",
              "      --disabled-bg-color: #DDD;\n",
              "  }\n",
              "\n",
              "  [theme=dark] .colab-df-quickchart {\n",
              "      --bg-color: #3B4455;\n",
              "      --fill-color: #D2E3FC;\n",
              "      --hover-bg-color: #434B5C;\n",
              "      --hover-fill-color: #FFFFFF;\n",
              "      --disabled-bg-color: #3B4455;\n",
              "      --disabled-fill-color: #666;\n",
              "  }\n",
              "\n",
              "  .colab-df-quickchart {\n",
              "    background-color: var(--bg-color);\n",
              "    border: none;\n",
              "    border-radius: 50%;\n",
              "    cursor: pointer;\n",
              "    display: none;\n",
              "    fill: var(--fill-color);\n",
              "    height: 32px;\n",
              "    padding: 0;\n",
              "    width: 32px;\n",
              "  }\n",
              "\n",
              "  .colab-df-quickchart:hover {\n",
              "    background-color: var(--hover-bg-color);\n",
              "    box-shadow: 0 1px 2px rgba(60, 64, 67, 0.3), 0 1px 3px 1px rgba(60, 64, 67, 0.15);\n",
              "    fill: var(--button-hover-fill-color);\n",
              "  }\n",
              "\n",
              "  .colab-df-quickchart-complete:disabled,\n",
              "  .colab-df-quickchart-complete:disabled:hover {\n",
              "    background-color: var(--disabled-bg-color);\n",
              "    fill: var(--disabled-fill-color);\n",
              "    box-shadow: none;\n",
              "  }\n",
              "\n",
              "  .colab-df-spinner {\n",
              "    border: 2px solid var(--fill-color);\n",
              "    border-color: transparent;\n",
              "    border-bottom-color: var(--fill-color);\n",
              "    animation:\n",
              "      spin 1s steps(1) infinite;\n",
              "  }\n",
              "\n",
              "  @keyframes spin {\n",
              "    0% {\n",
              "      border-color: transparent;\n",
              "      border-bottom-color: var(--fill-color);\n",
              "      border-left-color: var(--fill-color);\n",
              "    }\n",
              "    20% {\n",
              "      border-color: transparent;\n",
              "      border-left-color: var(--fill-color);\n",
              "      border-top-color: var(--fill-color);\n",
              "    }\n",
              "    30% {\n",
              "      border-color: transparent;\n",
              "      border-left-color: var(--fill-color);\n",
              "      border-top-color: var(--fill-color);\n",
              "      border-right-color: var(--fill-color);\n",
              "    }\n",
              "    40% {\n",
              "      border-color: transparent;\n",
              "      border-right-color: var(--fill-color);\n",
              "      border-top-color: var(--fill-color);\n",
              "    }\n",
              "    60% {\n",
              "      border-color: transparent;\n",
              "      border-right-color: var(--fill-color);\n",
              "    }\n",
              "    80% {\n",
              "      border-color: transparent;\n",
              "      border-right-color: var(--fill-color);\n",
              "      border-bottom-color: var(--fill-color);\n",
              "    }\n",
              "    90% {\n",
              "      border-color: transparent;\n",
              "      border-bottom-color: var(--fill-color);\n",
              "    }\n",
              "  }\n",
              "</style>\n",
              "\n",
              "  <script>\n",
              "    async function quickchart(key) {\n",
              "      const quickchartButtonEl =\n",
              "        document.querySelector('#' + key + ' button');\n",
              "      quickchartButtonEl.disabled = true;  // To prevent multiple clicks.\n",
              "      quickchartButtonEl.classList.add('colab-df-spinner');\n",
              "      try {\n",
              "        const charts = await google.colab.kernel.invokeFunction(\n",
              "            'suggestCharts', [key], {});\n",
              "      } catch (error) {\n",
              "        console.error('Error during call to suggestCharts:', error);\n",
              "      }\n",
              "      quickchartButtonEl.classList.remove('colab-df-spinner');\n",
              "      quickchartButtonEl.classList.add('colab-df-quickchart-complete');\n",
              "    }\n",
              "    (() => {\n",
              "      let quickchartButtonEl =\n",
              "        document.querySelector('#df-88419203-5fe6-45ba-9db2-88840cafb1ba button');\n",
              "      quickchartButtonEl.style.display =\n",
              "        google.colab.kernel.accessAllowed ? 'block' : 'none';\n",
              "    })();\n",
              "  </script>\n",
              "</div>\n",
              "\n",
              "  <div id=\"id_cd5f0039-eaf1-4e55-bc24-c959de317683\">\n",
              "    <style>\n",
              "      .colab-df-generate {\n",
              "        background-color: #E8F0FE;\n",
              "        border: none;\n",
              "        border-radius: 50%;\n",
              "        cursor: pointer;\n",
              "        display: none;\n",
              "        fill: #1967D2;\n",
              "        height: 32px;\n",
              "        padding: 0 0 0 0;\n",
              "        width: 32px;\n",
              "      }\n",
              "\n",
              "      .colab-df-generate:hover {\n",
              "        background-color: #E2EBFA;\n",
              "        box-shadow: 0px 1px 2px rgba(60, 64, 67, 0.3), 0px 1px 3px 1px rgba(60, 64, 67, 0.15);\n",
              "        fill: #174EA6;\n",
              "      }\n",
              "\n",
              "      [theme=dark] .colab-df-generate {\n",
              "        background-color: #3B4455;\n",
              "        fill: #D2E3FC;\n",
              "      }\n",
              "\n",
              "      [theme=dark] .colab-df-generate:hover {\n",
              "        background-color: #434B5C;\n",
              "        box-shadow: 0px 1px 3px 1px rgba(0, 0, 0, 0.15);\n",
              "        filter: drop-shadow(0px 1px 2px rgba(0, 0, 0, 0.3));\n",
              "        fill: #FFFFFF;\n",
              "      }\n",
              "    </style>\n",
              "    <button class=\"colab-df-generate\" onclick=\"generateWithVariable('columns')\"\n",
              "            title=\"Generate code using this dataframe.\"\n",
              "            style=\"display:none;\">\n",
              "\n",
              "  <svg xmlns=\"http://www.w3.org/2000/svg\" height=\"24px\"viewBox=\"0 0 24 24\"\n",
              "       width=\"24px\">\n",
              "    <path d=\"M7,19H8.4L18.45,9,17,7.55,7,17.6ZM5,21V16.75L18.45,3.32a2,2,0,0,1,2.83,0l1.4,1.43a1.91,1.91,0,0,1,.58,1.4,1.91,1.91,0,0,1-.58,1.4L9.25,21ZM18.45,9,17,7.55Zm-12,3A5.31,5.31,0,0,0,4.9,8.1,5.31,5.31,0,0,0,1,6.5,5.31,5.31,0,0,0,4.9,4.9,5.31,5.31,0,0,0,6.5,1,5.31,5.31,0,0,0,8.1,4.9,5.31,5.31,0,0,0,12,6.5,5.46,5.46,0,0,0,6.5,12Z\"/>\n",
              "  </svg>\n",
              "    </button>\n",
              "    <script>\n",
              "      (() => {\n",
              "      const buttonEl =\n",
              "        document.querySelector('#id_cd5f0039-eaf1-4e55-bc24-c959de317683 button.colab-df-generate');\n",
              "      buttonEl.style.display =\n",
              "        google.colab.kernel.accessAllowed ? 'block' : 'none';\n",
              "\n",
              "      buttonEl.onclick = () => {\n",
              "        google.colab.notebook.generateWithVariable('columns');\n",
              "      }\n",
              "      })();\n",
              "    </script>\n",
              "  </div>\n",
              "\n",
              "    </div>\n",
              "  </div>\n"
            ],
            "application/vnd.google.colaboratory.intrinsic+json": {
              "type": "dataframe",
              "variable_name": "columns",
              "repr_error": "Out of range float values are not JSON compliant: nan"
            }
          },
          "metadata": {},
          "execution_count": 5
        }
      ]
    },
    {
      "cell_type": "markdown",
      "source": [
        "6. Query: Make a table 'Initial_Table2' without the columns, timestamp, name, mobile number."
      ],
      "metadata": {
        "id": "sVkqAxDnBGro"
      }
    },
    {
      "cell_type": "code",
      "source": [
        "# Create a cursor object Need this otherwise NameError: name 'cursor' is not defined\n",
        "cursor = conn.cursor()\n",
        "\n",
        "# Drop the table if it exists\n",
        "cursor.execute(\"DROP TABLE IF EXISTS Initial_Table2\")\n",
        "\n",
        "# Create a new table 'Initial_Table2' as a copy of 'Initial_Table'\n",
        "cursor.execute(\"CREATE TABLE Initial_Table2 AS SELECT * FROM Initial_Table\")\n",
        "\n",
        "# Drop the specified columns from 'Initial_Table2' if they exist\n",
        "cursor.execute(\"ALTER TABLE Initial_Table2 DROP COLUMN Timestamp\")\n",
        "cursor.execute(\"ALTER TABLE Initial_Table2 DROP COLUMN Name\")\n",
        "cursor.execute(\"ALTER TABLE Initial_Table2 DROP COLUMN Cell\")\n"
      ],
      "metadata": {
        "id": "NeO8OC39Bf-M",
        "colab": {
          "base_uri": "https://localhost:8080/"
        },
        "outputId": "1420f240-218e-4dd5-a517-e7cab1f18ba1"
      },
      "execution_count": 6,
      "outputs": [
        {
          "output_type": "execute_result",
          "data": {
            "text/plain": [
              "<sqlite3.Cursor at 0x7c40efd1cf40>"
            ]
          },
          "metadata": {},
          "execution_count": 6
        }
      ]
    },
    {
      "cell_type": "code",
      "source": [
        "# Fetch the column names of the 'Initial_Table2' table\n",
        "query2 = \"PRAGMA table_info('Initial_Table2');\"\n",
        "columns = pd.read_sql_query(query2, conn)\n",
        "print(columns.to_string(index=False))"
      ],
      "metadata": {
        "id": "HYRHjRYTuS7k",
        "colab": {
          "base_uri": "https://localhost:8080/"
        },
        "outputId": "dd91a69d-5d29-49cd-d2b5-0bc22831c4a1"
      },
      "execution_count": 7,
      "outputs": [
        {
          "output_type": "stream",
          "name": "stdout",
          "text": [
            " cid                            name type  notnull dflt_value  pk\n",
            "   0                             Age REAL        0       None   0\n",
            "   1                             Sex TEXT        0       None   0\n",
            "   2                    From Bulacan TEXT        0       None   0\n",
            "   3                 Extended Family TEXT        0       None   0\n",
            "   4                  Household Size REAL        0       None   0\n",
            "   5           Students in Household TEXT        0       None   0\n",
            "   6               Bill Contributors REAL        0       None   0\n",
            "   7        Monthly Household Salary TEXT        0       None   0\n",
            "   8      Other Financial Assistance TEXT        0       None   0\n",
            "   9         Monthly Electric Budget REAL        0       None   0\n",
            "  10                Owned Appliances TEXT        0       None   0\n",
            "  11                         Month A REAL        0       None   0\n",
            "  12                         Month B  INT        0       None   0\n",
            "  13                         Month C  INT        0       None   0\n",
            "  14                          Amount TEXT        0       None   0\n",
            "  15                       Frequency TEXT        0       None   0\n",
            "  16 Number of Students in Household TEXT        0       None   0\n",
            "  17               Electronics Owned TEXT        0       None   0\n",
            "  18   Struggle Paying Electric Bill TEXT        0       None   0\n",
            "  19    Failure Paying Electric Bill TEXT        0       None   0\n"
          ]
        }
      ]
    },
    {
      "cell_type": "markdown",
      "source": [
        "Note: this will not work the same as when we store a query result in a variable, it will give you the 'int' object has no attribute 'to_sql'"
      ],
      "metadata": {
        "id": "dsxz7iYcwluD"
      }
    },
    {
      "cell_type": "markdown",
      "source": [
        "Instead, we have to store a query result in a variable to be able to call it to sql"
      ],
      "metadata": {
        "id": "Dfw-xsvGxWd0"
      }
    },
    {
      "cell_type": "markdown",
      "source": [
        "Now we have a variable Initial_Table 2, we then store it in the table Initial_Table2"
      ],
      "metadata": {
        "id": "HcVgfY48x9Cr"
      }
    },
    {
      "cell_type": "markdown",
      "source": [
        "Checking existing tables"
      ],
      "metadata": {
        "id": "g5Bs4i6CyVJ1"
      }
    },
    {
      "cell_type": "code",
      "source": [
        "# Fetch existing table names\n",
        "tables = cursor.execute(\"SELECT name FROM sqlite_master WHERE type='table'\").fetchall()\n",
        "\n",
        "# Print the table names\n",
        "for table in tables:\n",
        "    print(table[0])\n"
      ],
      "metadata": {
        "id": "ZoWLxNU4ySYs",
        "colab": {
          "base_uri": "https://localhost:8080/"
        },
        "outputId": "6fa28fde-7bc6-40ca-a7d9-cb18e27c9b80"
      },
      "execution_count": 8,
      "outputs": [
        {
          "output_type": "stream",
          "name": "stdout",
          "text": [
            "Initial_Table\n",
            "Initial_Table2\n"
          ]
        }
      ]
    },
    {
      "cell_type": "markdown",
      "source": [
        "7. Query: Only retrieve data of respondents from Bulacan."
      ],
      "metadata": {
        "id": "XQ579DkWI-sn"
      }
    },
    {
      "cell_type": "code",
      "source": [
        "# Query to retrieve data of respondents from Bulacan\n",
        "query = \"SELECT * FROM Initial_Table2 WHERE [From Bulacan] = 'Yes'\"\n",
        "\n",
        "# Execute the query\n",
        "bulacan_respondents = pd.read_sql_query(query, conn)\n",
        "print(bulacan_respondents)"
      ],
      "metadata": {
        "id": "PCbQKDBUJWVl",
        "colab": {
          "base_uri": "https://localhost:8080/"
        },
        "outputId": "fbad79a7-5b7b-49d0-fd72-dab1f5cf685c"
      },
      "execution_count": 10,
      "outputs": [
        {
          "output_type": "stream",
          "name": "stdout",
          "text": [
            "       Age     Sex From Bulacan Extended Family  Household Size  \\\n",
            "0     21.0    Male          Yes              No             5.0   \n",
            "1     20.0    Male          Yes              No             3.0   \n",
            "2     21.0    Male          Yes              No             5.0   \n",
            "3     20.0    Male          Yes              No             6.0   \n",
            "4     20.0  Female          Yes              No             4.0   \n",
            "..     ...     ...          ...             ...             ...   \n",
            "107   22.0  Female          Yes             Yes             3.0   \n",
            "108   22.0  Female          Yes             Yes             6.0   \n",
            "109  151.0  Female          Yes             Yes             7.0   \n",
            "110    2.0  Female          Yes              No             7.0   \n",
            "111    NaN    Male          Yes              No             3.0   \n",
            "\n",
            "    Students in Household  Bill Contributors  \\\n",
            "0                     Yes                2.0   \n",
            "1                     Yes                3.0   \n",
            "2                     Yes                3.0   \n",
            "3                     Yes                2.0   \n",
            "4                     Yes                2.0   \n",
            "..                    ...                ...   \n",
            "107                   Yes                1.0   \n",
            "108                   Yes                3.0   \n",
            "109                   Yes                4.0   \n",
            "110                   Yes                2.0   \n",
            "111                   Yes                2.0   \n",
            "\n",
            "               Monthly Household Salary Other Financial Assistance  \\\n",
            "0    Between Php 21,194 and Php 43, 828                        Yes   \n",
            "1    Between Php 21,194 and Php 43, 828                         No   \n",
            "2                  Less than Php 21,194                        Yes   \n",
            "3                  Less than Php 21,194                        Yes   \n",
            "4                  Less than Php 21,194                         No   \n",
            "..                                  ...                        ...   \n",
            "107                Less than Php 21,194                         No   \n",
            "108  Between Php 21,194 and Php 43, 828                        Yes   \n",
            "109                Less than Php 21,194                         No   \n",
            "110                Less than Php 21,194                         No   \n",
            "111                Less than Php 21,194                         No   \n",
            "\n",
            "     Monthly Electric Budget  \\\n",
            "0                     1000.0   \n",
            "1                     3000.0   \n",
            "2                     5500.0   \n",
            "3                     2000.0   \n",
            "4                     3000.0   \n",
            "..                       ...   \n",
            "107                   1500.0   \n",
            "108                   3000.0   \n",
            "109                   1000.0   \n",
            "110                   2000.0   \n",
            "111                    500.0   \n",
            "\n",
            "                                      Owned Appliances  Month A  Month B  \\\n",
            "0                      TV;Refrigerator;Washing Machine   1000.0     1504   \n",
            "1         Air Conditioner;Desktop Computer;Rice Cooker   2500.0     3004   \n",
            "2     TV;Refrigerator;Washing Machine;Desktop Computer   5000.0     5504   \n",
            "3                      TV;Refrigerator;Washing Machine   1000.0     1504   \n",
            "4    Air Conditioner;TV;Refrigerator;Washing Machin...   2800.0     3304   \n",
            "..                                                 ...      ...      ...   \n",
            "107  Air Conditioner;TV;Refrigerator;Washing Machin...   1500.0     2004   \n",
            "108  Air Conditioner;TV;Refrigerator;Washing Machin...   2500.0     3004   \n",
            "109  TV;Refrigerator;Washing Machine;Rice Cooker;El...    800.0     1304   \n",
            "110                   TV;Refrigerator;Desktop Computer   1634.0     2138   \n",
            "111                     TV;Washing Machine;Rice Cooker    200.0      704   \n",
            "\n",
            "     Month C               Amount                      Frequency  \\\n",
            "0       1252  Higher than Php3000                        Monthly   \n",
            "1       2752                 None                           None   \n",
            "2       5252  Higher than Php3000                         Yearly   \n",
            "3       1252      Php1000-Php1999  Occasionally ( Not regularly)   \n",
            "4       3052                 None                           None   \n",
            "..       ...                  ...                            ...   \n",
            "107     1752                 None                           None   \n",
            "108     2752  Higher than Php3000                        Monthly   \n",
            "109     1052                 None                           None   \n",
            "110     1886                 None                           None   \n",
            "111      452                 None                           None   \n",
            "\n",
            "    Number of Students in Household  \\\n",
            "0                                 2   \n",
            "1                                 2   \n",
            "2                                 2   \n",
            "3                                 4   \n",
            "4                                 2   \n",
            "..                              ...   \n",
            "107                               2   \n",
            "108                               2   \n",
            "109                               2   \n",
            "110                               2   \n",
            "111                               1   \n",
            "\n",
            "                              Electronics Owned Struggle Paying Electric Bill  \\\n",
            "0                            Laptop;Smart Phone                     Sometimes   \n",
            "1           Laptop;Desktop Computer;Smart Phone                         Never   \n",
            "2           Laptop;Desktop Computer;Smart Phone                    Very Often   \n",
            "3                            Laptop;Smart Phone                     Sometimes   \n",
            "4                     Laptop;Tablet;Smart Phone                     Sometimes   \n",
            "..                                          ...                           ...   \n",
            "107         Laptop;Desktop Computer;Smart Phone                         Often   \n",
            "108                   Laptop;Tablet;Smart Phone                         Never   \n",
            "109                          Laptop;Smart Phone                     Sometimes   \n",
            "110  Laptop;Desktop Computer;Tablet;Smart Phone                     Sometimes   \n",
            "111                          Laptop;Smart Phone                     Sometimes   \n",
            "\n",
            "    Failure Paying Electric Bill  \n",
            "0                      Sometimes  \n",
            "1                          Never  \n",
            "2                      Sometimes  \n",
            "3                          Never  \n",
            "4                          Never  \n",
            "..                           ...  \n",
            "107                    Sometimes  \n",
            "108                        Never  \n",
            "109                    Sometimes  \n",
            "110                    Sometimes  \n",
            "111                    Sometimes  \n",
            "\n",
            "[112 rows x 20 columns]\n"
          ]
        }
      ]
    },
    {
      "cell_type": "markdown",
      "source": [
        "8. Make a table from the query in item 7, call it 'Main_Table'"
      ],
      "metadata": {
        "id": "AMN81CjgJQY7"
      }
    },
    {
      "cell_type": "code",
      "source": [
        "# Create a new table 'Main_Table' with the query result\n",
        "bulacan_respondents.to_sql('Main_Table', conn, if_exists='replace', index=False)\n",
        "\n",
        "# Verify the creation by fetching and displaying the table\n",
        "verify_query = \"SELECT * FROM Main_Table\"\n",
        "main_table = pd.read_sql_query(verify_query, conn)\n",
        "\n",
        "# To see the column names\n",
        "print(main_table.columns)"
      ],
      "metadata": {
        "id": "MzqBsqkOKtGt",
        "colab": {
          "base_uri": "https://localhost:8080/"
        },
        "outputId": "a8f1e5b1-2bca-426f-ce89-28f6ed713003"
      },
      "execution_count": 11,
      "outputs": [
        {
          "output_type": "stream",
          "name": "stdout",
          "text": [
            "Index(['Age', 'Sex', 'From Bulacan', 'Extended Family', 'Household Size',\n",
            "       'Students in Household', 'Bill Contributors',\n",
            "       'Monthly Household Salary', 'Other Financial Assistance',\n",
            "       'Monthly Electric Budget', 'Owned Appliances', 'Month A', 'Month B',\n",
            "       'Month C', 'Amount', 'Frequency', 'Number of Students in Household',\n",
            "       'Electronics Owned', 'Struggle Paying Electric Bill',\n",
            "       'Failure Paying Electric Bill'],\n",
            "      dtype='object')\n"
          ]
        }
      ]
    },
    {
      "cell_type": "code",
      "source": [
        "# Close the connection when done\n",
        "conn.close()"
      ],
      "metadata": {
        "id": "v5LS5ENzcwbv"
      },
      "execution_count": 12,
      "outputs": []
    },
    {
      "cell_type": "markdown",
      "source": [
        "9. Query: Retrieve responses with students in household"
      ],
      "metadata": {
        "id": "K5evC8TqKp09"
      }
    },
    {
      "cell_type": "code",
      "source": [
        "# Connect to the SQLite database\n",
        "conn = sqlite3.connect('Survey_Database.db')\n",
        "\n",
        "# Define the SQL query to retrieve responses with students in the household\n",
        "sql_query = '''\n",
        "SELECT * FROM Main_Table\n",
        "WHERE [Students in Household] = 'Yes';\n",
        "'''\n",
        "\n",
        "# Execute the query and fetch the results into a DataFrame\n",
        "students_in_household_df = pd.read_sql_query(sql_query, conn)\n",
        "\n",
        "# Close the connection before creating a new table\n",
        "conn.close()"
      ],
      "metadata": {
        "id": "gKB4NeR4LU5s"
      },
      "execution_count": 13,
      "outputs": []
    },
    {
      "cell_type": "markdown",
      "source": [
        "10. Make a table from the Query in item 9. Call it 'With_Students'"
      ],
      "metadata": {
        "id": "7VmSDHGzLfBo"
      }
    },
    {
      "cell_type": "code",
      "source": [
        "# Reconnect to the SQLite database\n",
        "conn = sqlite3.connect('Survey_Database.db')\n",
        "\n",
        "# Create a new table 'With_Students' from the query result\n",
        "students_in_household_df.to_sql('With_Students', conn, if_exists='replace', index=False)\n",
        "\n",
        "print(\"Table 'With_Students' has been created from the query result.\")"
      ],
      "metadata": {
        "id": "rm7-55FeNgTZ",
        "colab": {
          "base_uri": "https://localhost:8080/"
        },
        "outputId": "508b0b1d-1d14-488f-9b76-3704a208c506"
      },
      "execution_count": 14,
      "outputs": [
        {
          "output_type": "stream",
          "name": "stdout",
          "text": [
            "Table 'With_Students' has been created from the query result.\n"
          ]
        }
      ]
    },
    {
      "cell_type": "markdown",
      "source": [
        "11. Query: Retrieve responses from table 'With_Students' where students have at least a Laptop or a Desktop COmputer"
      ],
      "metadata": {
        "id": "7VLDRNhTLVwK"
      }
    },
    {
      "cell_type": "code",
      "source": [
        "query = \"SELECT * FROM With_Students WHERE [Electronics Owned] LIKE '%Laptop%' OR [Electronics Owned] LIKE '%Desktop Computer%'\"\n",
        "students_with_devices = pd.read_sql_query(query, conn)\n"
      ],
      "metadata": {
        "id": "YFknhJQRNgpt"
      },
      "execution_count": 15,
      "outputs": []
    },
    {
      "cell_type": "markdown",
      "source": [
        "12. Show the existing tables in the current database."
      ],
      "metadata": {
        "id": "lM6zWCJmL9L8"
      }
    },
    {
      "cell_type": "code",
      "source": [
        "tables = pd.read_sql_query(\"SELECT name FROM sqlite_master WHERE type='table'\", conn)\n",
        "print(tables)\n"
      ],
      "metadata": {
        "id": "gaP1Aq6vNhaP",
        "colab": {
          "base_uri": "https://localhost:8080/"
        },
        "outputId": "a4efe76d-771d-464a-eb3e-8c4bdf0e4ad5"
      },
      "execution_count": 16,
      "outputs": [
        {
          "output_type": "stream",
          "name": "stdout",
          "text": [
            "             name\n",
            "0   Initial_Table\n",
            "1  Initial_Table2\n",
            "2      Main_Table\n",
            "3   With_Students\n"
          ]
        }
      ]
    },
    {
      "cell_type": "markdown",
      "source": [
        "13. Close the connection"
      ],
      "metadata": {
        "id": "mbb61hvrMJ8y"
      }
    },
    {
      "cell_type": "code",
      "source": [
        "conn.close()\n"
      ],
      "metadata": {
        "id": "9pvdYmQZNiEr"
      },
      "execution_count": 17,
      "outputs": []
    },
    {
      "cell_type": "markdown",
      "source": [
        "14. Call the database again, verify if we have the new tables."
      ],
      "metadata": {
        "id": "oVn84_c1MSi4"
      }
    },
    {
      "cell_type": "code",
      "source": [
        "# Reconnect to the SQLite database\n",
        "conn = sqlite3.connect('Survey_Database.db')\n",
        "\n",
        "# Verify if the new tables exist\n",
        "tables = pd.read_sql_query(\"SELECT name FROM sqlite_master WHERE type='table'\", conn)\n",
        "print(tables)"
      ],
      "metadata": {
        "id": "yTnc3SQXNizK",
        "colab": {
          "base_uri": "https://localhost:8080/"
        },
        "outputId": "04a23f8e-58a1-4dae-d679-303123f2dec0"
      },
      "execution_count": 18,
      "outputs": [
        {
          "output_type": "stream",
          "name": "stdout",
          "text": [
            "             name\n",
            "0   Initial_Table\n",
            "1  Initial_Table2\n",
            "2      Main_Table\n",
            "3   With_Students\n"
          ]
        }
      ]
    },
    {
      "cell_type": "markdown",
      "source": [
        "15. Drop both of the Initial Tables"
      ],
      "metadata": {
        "id": "8PovUJ-_MZ40"
      }
    },
    {
      "cell_type": "code",
      "source": [
        "# Drop the Initial_Table and Initial_Table2 tables if they exist\n",
        "cursor = conn.cursor()\n",
        "cursor.execute(\"DROP TABLE IF EXISTS Initial_Table\")\n",
        "cursor.execute(\"DROP TABLE IF EXISTS Initial_Table2\")\n",
        "\n",
        "# Verify if the tables are dropped by checking existing tables\n",
        "tables = pd.read_sql_query(\"SELECT name FROM sqlite_master WHERE type='table'\", conn)\n",
        "print(tables)\n",
        "\n"
      ],
      "metadata": {
        "id": "G1ubDtC9Njeh",
        "colab": {
          "base_uri": "https://localhost:8080/"
        },
        "outputId": "7f59e7b4-b7f0-453a-86a9-9f0be29d92c2"
      },
      "execution_count": 19,
      "outputs": [
        {
          "output_type": "stream",
          "name": "stdout",
          "text": [
            "            name\n",
            "0     Main_Table\n",
            "1  With_Students\n"
          ]
        }
      ]
    },
    {
      "cell_type": "markdown",
      "source": [
        "#PART 2"
      ],
      "metadata": {
        "id": "i-478EIFIr8Q"
      }
    },
    {
      "cell_type": "markdown",
      "source": [
        "## OUR CONCLUSION SHOUD REVOLVE AROUND THE LOW INCOME HOUSEHOLDS EARNING LESS THAN PHP 21,194."
      ],
      "metadata": {
        "id": "Ar043j5X8WYJ"
      }
    },
    {
      "cell_type": "markdown",
      "source": [
        "###1. FILTERING QUALIFIED RESPONDENTS"
      ],
      "metadata": {
        "id": "N6GA6kKx8jrK"
      }
    },
    {
      "cell_type": "markdown",
      "source": [
        "a. Query_Sample: Only retrieve respondents who belongs to the low income households. Use Main_Table"
      ],
      "metadata": {
        "id": "G_yjV4GT8xlu"
      }
    },
    {
      "cell_type": "code",
      "source": [
        "# Define the query to retrieve salary per month from Main_Table\n",
        "query = \"\"\"\n",
        "SELECT [Monthly Household Salary]\n",
        "FROM Main_Table\n",
        "\"\"\"\n",
        "\n",
        "# Execute the query\n",
        "salary_per_month = pd.read_sql_query(query, conn)\n",
        "\n",
        "# Display the results\n",
        "print(salary_per_month)"
      ],
      "metadata": {
        "id": "NF-mTvuF4tdq",
        "colab": {
          "base_uri": "https://localhost:8080/"
        },
        "outputId": "eaea9dbf-e689-457a-f8ee-d0e1eb6678d3"
      },
      "execution_count": 20,
      "outputs": [
        {
          "output_type": "stream",
          "name": "stdout",
          "text": [
            "               Monthly Household Salary\n",
            "0    Between Php 21,194 and Php 43, 828\n",
            "1    Between Php 21,194 and Php 43, 828\n",
            "2                  Less than Php 21,194\n",
            "3                  Less than Php 21,194\n",
            "4                  Less than Php 21,194\n",
            "..                                  ...\n",
            "107                Less than Php 21,194\n",
            "108  Between Php 21,194 and Php 43, 828\n",
            "109                Less than Php 21,194\n",
            "110                Less than Php 21,194\n",
            "111                Less than Php 21,194\n",
            "\n",
            "[112 rows x 1 columns]\n"
          ]
        }
      ]
    },
    {
      "cell_type": "code",
      "source": [
        "# Define the SQL query to retrieve low-income respondents from Main_Table\n",
        "query = \"\"\"\n",
        "SELECT *\n",
        "FROM Main_Table\n",
        "WHERE [Monthly Household Salary] LIKE 'Less than Php 21,194%'\n",
        "\"\"\"\n",
        "\n",
        "# Execute the query\n",
        "low_income_respondents = pd.read_sql_query(query, conn)"
      ],
      "metadata": {
        "id": "zc2BlMnpUKaR"
      },
      "execution_count": 21,
      "outputs": []
    },
    {
      "cell_type": "markdown",
      "source": [
        "b. Make a table and call it 'sample' <br><br>\n",
        "*--- > a \"sample\" refers to a subset of individuals or elements from a larger population that is selected for study.*"
      ],
      "metadata": {
        "id": "4gfKfP2A87l7"
      }
    },
    {
      "cell_type": "code",
      "source": [
        "# Save the DataFrame 'low_income_respondents' as a table named 'sample'\n",
        "low_income_respondents.to_sql('sample', conn, if_exists='replace', index=False)\n"
      ],
      "metadata": {
        "id": "ozpmSXCv9E4U",
        "colab": {
          "base_uri": "https://localhost:8080/"
        },
        "outputId": "a79a3a0a-4933-4152-c82e-7e00a2662b72"
      },
      "execution_count": 22,
      "outputs": [
        {
          "output_type": "execute_result",
          "data": {
            "text/plain": [
              "58"
            ]
          },
          "metadata": {},
          "execution_count": 22
        }
      ]
    },
    {
      "cell_type": "markdown",
      "source": [
        "###2. Average Bill"
      ],
      "metadata": {
        "id": "ZJMaBn9V_YB-"
      }
    },
    {
      "cell_type": "markdown",
      "source": [
        "a. Query_avg_bill: Add a column in sample, call it \"avg_bill\" and get the average of month a, month b, month c columns. Retrieve ALL information including the new column."
      ],
      "metadata": {
        "id": "Am7OOAeD_cqF"
      }
    },
    {
      "cell_type": "code",
      "source": [
        "# Calculate the average of month a, month b, and month c columns but what if it has missing values or NaN\n",
        "# Can use numpy.nanmean() to calculate mean of array, ignoring NaN values\n",
        "import numpy as np\n",
        "\n",
        "# Calculate the average of Month A, Month B, and Month C columns, handling missing values or NaN\n",
        "avg_bill = np.nanmean(low_income_respondents[[\"Month A\", \"Month B\", \"Month C\"]], axis=1)\n",
        "\n",
        "# Add the 'avg_bill' column to the DataFrame\n",
        "low_income_respondents[\"avg_bill\"] = avg_bill"
      ],
      "metadata": {
        "id": "TmKuliafbkKZ"
      },
      "execution_count": 23,
      "outputs": []
    },
    {
      "cell_type": "markdown",
      "source": [
        "b. Store the information we retrieved to our updated table, call it 'final_sample'"
      ],
      "metadata": {
        "id": "LMqJjXdIDdbq"
      }
    },
    {
      "cell_type": "code",
      "source": [
        "# Store the updated DataFrame as a new table named 'final_sample'\n",
        "low_income_respondents.to_sql('final_sample', conn, if_exists='replace', index=False)\n"
      ],
      "metadata": {
        "id": "7ivAsv7yEuOO",
        "colab": {
          "base_uri": "https://localhost:8080/"
        },
        "outputId": "22725456-b1b7-49b6-a3d9-ee3685693814"
      },
      "execution_count": 24,
      "outputs": [
        {
          "output_type": "execute_result",
          "data": {
            "text/plain": [
              "58"
            ]
          },
          "metadata": {},
          "execution_count": 24
        }
      ]
    },
    {
      "cell_type": "markdown",
      "source": [
        "c. We can now drop columns Month A, Month B, and Month C."
      ],
      "metadata": {
        "id": "VmhgsGcRFPD1"
      }
    },
    {
      "cell_type": "code",
      "source": [
        "# Define the SQL query to drop columns\n",
        "query_drop_columns = \"\"\"\n",
        "ALTER TABLE final_sample\n",
        "DROP COLUMN 'Month A';\n",
        "ALTER TABLE final_sample\n",
        "DROP COLUMN 'Month B';\n",
        "ALTER TABLE final_sample\n",
        "DROP COLUMN 'Month C';\n",
        "\"\"\"\n",
        "\n",
        "# Execute the query to drop columns\n",
        "cursor.executescript(query_drop_columns)\n",
        "\n",
        "# Commit the changes\n",
        "conn.commit()"
      ],
      "metadata": {
        "id": "QUXFSVYaFUQF"
      },
      "execution_count": 25,
      "outputs": []
    },
    {
      "cell_type": "markdown",
      "source": [
        "d. final_sample: Retrieve all the information in final_sample to verify the column drops."
      ],
      "metadata": {
        "id": "smPDbS-3FvLv"
      }
    },
    {
      "cell_type": "code",
      "source": [
        "# Define the SQL query to retrieve all information from final_sample\n",
        "query_final_sample = \"\"\"\n",
        "SELECT *\n",
        "FROM final_sample;\n",
        "\"\"\"\n",
        "\n",
        "# Execute the query\n",
        "final_sample_info = pd.read_sql_query(query_final_sample, conn)\n",
        "\n",
        "# Get the column names of the final_sample_info DataFrame\n",
        "columns = final_sample_info.columns\n",
        "\n",
        "# Print the column names\n",
        "print(columns)\n"
      ],
      "metadata": {
        "id": "TXw42NtgFuWy",
        "colab": {
          "base_uri": "https://localhost:8080/"
        },
        "outputId": "423d0302-ab63-482b-c928-bd007d3b697c"
      },
      "execution_count": 26,
      "outputs": [
        {
          "output_type": "stream",
          "name": "stdout",
          "text": [
            "Index(['Age', 'Sex', 'From Bulacan', 'Extended Family', 'Household Size',\n",
            "       'Students in Household', 'Bill Contributors',\n",
            "       'Monthly Household Salary', 'Other Financial Assistance',\n",
            "       'Monthly Electric Budget', 'Owned Appliances', 'Amount', 'Frequency',\n",
            "       'Number of Students in Household', 'Electronics Owned',\n",
            "       'Struggle Paying Electric Bill', 'Failure Paying Electric Bill',\n",
            "       'avg_bill'],\n",
            "      dtype='object')\n"
          ]
        }
      ]
    },
    {
      "cell_type": "markdown",
      "source": [
        "##Deriving Conclusions from final_sample"
      ],
      "metadata": {
        "id": "JN7fZcwx-tly"
      }
    },
    {
      "cell_type": "markdown",
      "source": [
        "FIRST!! close the connection, we will use python for the rest of the conclusions."
      ],
      "metadata": {
        "id": "8MDcxCu5NHiz"
      }
    },
    {
      "cell_type": "code",
      "source": [
        "# Close the connection\n",
        "conn.close()"
      ],
      "metadata": {
        "id": "BaAH9DnnNOPD"
      },
      "execution_count": 27,
      "outputs": []
    },
    {
      "cell_type": "markdown",
      "source": [
        "ANSWER THE FOLLOWING QUESTIONS: <br>\n",
        "use python through 'final_sample' dataframe we made a while ago"
      ],
      "metadata": {
        "id": "z52eIplY_GU4"
      }
    },
    {
      "cell_type": "markdown",
      "source": [
        "###3. Extended family"
      ],
      "metadata": {
        "id": "Zjfh2J05K_Lw"
      }
    },
    {
      "cell_type": "markdown",
      "source": [
        "a. How many low income households live with extended family?"
      ],
      "metadata": {
        "id": "fNG1kVxSGzfC"
      }
    },
    {
      "cell_type": "code",
      "source": [
        "# Reconnect to the SQLite database\n",
        "conn = sqlite3.connect('Survey_Database.db')\n",
        "\n",
        "# Define the SQL query to count households living with extended family from 'final_sample'\n",
        "query_count_extended_family = \"\"\"\n",
        "SELECT COUNT(*)\n",
        "FROM final_sample\n",
        "WHERE [Extended Family] = 'Yes'\n",
        "\"\"\"\n",
        "\n",
        "# Execute the query\n",
        "result = pd.read_sql_query(query_count_extended_family, conn)\n",
        "\n",
        "# Print the count [0, is row index and 0] is column index; It's value at top left corner of DataFrame result which is sum of count\n",
        "print(\"Number of low income households living with extended family:\", result.iloc[0, 0])"
      ],
      "metadata": {
        "id": "q1qbyChLHoZg",
        "colab": {
          "base_uri": "https://localhost:8080/"
        },
        "outputId": "f25e5b67-690a-4d27-ba69-19adfd2982b2"
      },
      "execution_count": 28,
      "outputs": [
        {
          "output_type": "stream",
          "name": "stdout",
          "text": [
            "Number of low income households living with extended family: 23\n"
          ]
        }
      ]
    },
    {
      "cell_type": "markdown",
      "source": [
        "b. Make a pie chart showing the difference between the households living with extended family and those who do not. (ONLY PYTHON)"
      ],
      "metadata": {
        "id": "S44QqDCXLHU8"
      }
    },
    {
      "cell_type": "code",
      "source": [
        "# Reconnect to the SQLite database\n",
        "conn = sqlite3.connect('Survey_Database.db')\n",
        "\n",
        "# Define the SQL queries to count households living with and without extended family from 'final_sample'\n",
        "query_extended_family = \"\"\"\n",
        "SELECT COUNT(*) AS count_extended_family\n",
        "FROM final_sample\n",
        "WHERE [Extended Family] = 'Yes'\n",
        "\"\"\"\n",
        "\n",
        "query_no_extended_family = \"\"\"\n",
        "SELECT COUNT(*) AS count_no_extended_family\n",
        "FROM final_sample\n",
        "WHERE [Extended Family] = 'No'\n",
        "\"\"\"\n",
        "\n",
        "# Execute the queries and fetch the results\n",
        "cursor = conn.cursor()\n",
        "\n",
        "cursor.execute(query_extended_family)\n",
        "# fetch next row of query result set; if > rows available returns values of columns in that row as tuple, [0] accesses 1st element of tuple\n",
        "count_extended_family = cursor.fetchone()[0]\n",
        "\n",
        "cursor.execute(query_no_extended_family)\n",
        "count_no_extended_family = cursor.fetchone()[0]\n",
        "\n",
        "# Close the cursor and the connection\n",
        "cursor.close()\n",
        "conn.close()\n",
        "\n",
        "# Calculate total count\n",
        "total_count = count_extended_family + count_no_extended_family\n",
        "\n",
        "# Calculate percentages\n",
        "percent_extended_family = (count_extended_family / total_count) * 100\n",
        "percent_no_extended_family = (count_no_extended_family / total_count) * 100\n",
        "\n",
        "# Create labels for the pie chart\n",
        "labels = ['Extended Family\\n{} ({:.1f}%)'.format(count_extended_family, percent_extended_family),\n",
        "          'No Extended Family\\n{} ({:.1f}%)'.format(count_no_extended_family, percent_no_extended_family)]\n",
        "\n",
        "# Create sizes for the pie chart\n",
        "sizes = [count_extended_family, count_no_extended_family]\n",
        "\n",
        "# Create the pie chart\n",
        "plt.figure(figsize=(8, 8))\n",
        "plt.pie(sizes, labels=labels, autopct='%1.1f%%', startangle=140)\n",
        "plt.title('Households Living with Extended Family')\n",
        "plt.axis('equal')  # Equal aspect ratio ensures that pie is drawn as a circle.\n",
        "\n",
        "# Show the pie chart\n",
        "plt.show()"
      ],
      "metadata": {
        "id": "87xPtCDCLWsc",
        "colab": {
          "base_uri": "https://localhost:8080/",
          "height": 675
        },
        "outputId": "460b1c6a-dfc4-4706-d6db-a4e86148c87c"
      },
      "execution_count": 29,
      "outputs": [
        {
          "output_type": "display_data",
          "data": {
            "text/plain": [
              "<Figure size 800x800 with 1 Axes>"
            ],
            "image/png": "[encoded data removed]"
          },
          "metadata": {}
        }
      ]
    },
    {
      "cell_type": "markdown",
      "source": [
        "###4. Students at home"
      ],
      "metadata": {
        "id": "KNLbqq7oM5W1"
      }
    },
    {
      "cell_type": "markdown",
      "source": [
        "a. How many households have students?"
      ],
      "metadata": {
        "id": "WwmkPE7EJYI9"
      }
    },
    {
      "cell_type": "code",
      "source": [
        "import sqlite3\n",
        "\n",
        "# Reconnect to the SQLite database\n",
        "conn = sqlite3.connect('Survey_Database.db')\n",
        "\n",
        "# Define the SQL query to count households with students from 'final_sample'\n",
        "query_students_at_home = \"\"\"\n",
        "SELECT COUNT(*)\n",
        "FROM final_sample\n",
        "WHERE [Students in Household] = 'Yes'\n",
        "\"\"\"\n",
        "\n",
        "# Execute the query and fetch the result\n",
        "cursor = conn.cursor()\n",
        "cursor.execute(query_students_at_home)\n",
        "num_households_with_students = cursor.fetchone()[0]\n",
        "\n",
        "# Close the cursor and the connection\n",
        "cursor.close()\n",
        "conn.close()\n",
        "\n",
        "# Print the result\n",
        "print(\"Number of households with students:\", num_households_with_students)\n"
      ],
      "metadata": {
        "id": "ztxsFfUhJe3u",
        "colab": {
          "base_uri": "https://localhost:8080/"
        },
        "outputId": "3b18db0c-9427-4d20-a876-d2f4519f6a73"
      },
      "execution_count": 30,
      "outputs": [
        {
          "output_type": "stream",
          "name": "stdout",
          "text": [
            "Number of households with students: 57\n"
          ]
        }
      ]
    },
    {
      "cell_type": "code",
      "source": [
        "\n",
        "# Reconnect to the SQLite database\n",
        "conn = sqlite3.connect('Survey_Database.db')\n",
        "\n",
        "# Define the SQL query to count households without students from 'final_sample'\n",
        "query_students_at_home = \"\"\"\n",
        "SELECT COUNT(*) AS num_households_without_students\n",
        "FROM final_sample\n",
        "WHERE [Students in Household] = 'No'\n",
        "\"\"\"\n",
        "\n",
        "# Execute the query and fetch the result\n",
        "cursor = conn.cursor()\n",
        "cursor.execute(query_students_at_home)\n",
        "num_households_without_students = cursor.fetchone()[0]\n",
        "\n",
        "# Close the cursor and the connection\n",
        "cursor.close()\n",
        "conn.close()\n",
        "\n",
        "# Print the count of households without students\n",
        "print(\"Number of households without students:\", num_households_without_students)\n"
      ],
      "metadata": {
        "colab": {
          "base_uri": "https://localhost:8080/"
        },
        "id": "C-rxEPo9lZh3",
        "outputId": "a230a4fb-5a66-4aab-baeb-dceae4751e62"
      },
      "execution_count": 31,
      "outputs": [
        {
          "output_type": "stream",
          "name": "stdout",
          "text": [
            "Number of households without students: 1\n"
          ]
        }
      ]
    },
    {
      "cell_type": "markdown",
      "source": [
        "b. Make a pie chart from it."
      ],
      "metadata": {
        "id": "74rJr_KfNu5E"
      }
    },
    {
      "cell_type": "code",
      "source": [
        "\n",
        "# Reconnect to the SQLite database\n",
        "conn = sqlite3.connect('Survey_Database.db')\n",
        "\n",
        "# Define the SQL query to count households with students from 'final_sample'\n",
        "query_students_at_home = \"\"\"\n",
        "SELECT COUNT(*) AS num_households_with_students,\n",
        "       (SELECT COUNT(*) FROM final_sample WHERE [Students in Household] = 'No') AS num_households_without_students\n",
        "FROM final_sample\n",
        "WHERE [Students in Household] = 'Yes'\n",
        "\"\"\"\n",
        "\n",
        "# Execute the query and fetch the result\n",
        "cursor = conn.cursor()\n",
        "cursor.execute(query_students_at_home)\n",
        "result = cursor.fetchone()\n",
        "\n",
        "# Extract the counts\n",
        "num_households_with_students = result[0]\n",
        "num_households_without_students = result[1]\n",
        "\n",
        "# Close the cursor and the connection\n",
        "cursor.close()\n",
        "conn.close()\n",
        "\n",
        "# Create labels for the pie chart\n",
        "labels = ['Households with Students\\n{}'.format(num_households_with_students),\n",
        "          'Households without Students\\n{}'.format(num_households_without_students)]\n",
        "sizes = [num_households_with_students, num_households_without_students]\n",
        "\n",
        "# Create the pie chart\n",
        "plt.figure(figsize=(8, 8))\n",
        "plt.pie(sizes, labels=labels, autopct='%1.1f%%', startangle=140)\n",
        "plt.title('Households with and without Students')\n",
        "plt.axis('equal')  # Equal aspect ratio ensures that pie is drawn as a circle.\n",
        "\n",
        "# Show the pie chart\n",
        "plt.show()\n"
      ],
      "metadata": {
        "id": "TtvBSo68N2qd",
        "colab": {
          "base_uri": "https://localhost:8080/",
          "height": 675
        },
        "outputId": "7836968f-6ddd-4f45-9258-81dafc539e3c"
      },
      "execution_count": 32,
      "outputs": [
        {
          "output_type": "display_data",
          "data": {
            "text/plain": [
              "<Figure size 800x800 with 1 Axes>"
            ],
            "image/png": "[encoded data removed]"
          },
          "metadata": {}
        }
      ]
    },
    {
      "cell_type": "markdown",
      "source": [
        "###5. AVERAGE BILL / AVERAGE BUDGET"
      ],
      "metadata": {
        "id": "oyGcZl5hN3iO"
      }
    },
    {
      "cell_type": "markdown",
      "source": [
        "a. How much is the average bill of the low income households? call the variable 'avg_bill_household'"
      ],
      "metadata": {
        "id": "pIwximqaOclN"
      }
    },
    {
      "cell_type": "code",
      "source": [
        "# Reconnect to the SQLite database\n",
        "conn = sqlite3.connect('Survey_Database.db')\n",
        "\n",
        "# Define the SQL query to retrieve all information from final_sample\n",
        "query_final_sample = \"\"\"\n",
        "SELECT *\n",
        "FROM final_sample;\n",
        "\"\"\"\n",
        "\n",
        "# Execute the query\n",
        "final_sample_info = pd.read_sql_query(query_final_sample, conn)\n",
        "\n",
        "# Get the column names of the final_sample_info DataFrame\n",
        "columns = final_sample_info.columns\n",
        "\n",
        "# Check if 'avg_bill' is present in the column names\n",
        "if 'avg_bill' in columns:\n",
        "    print(\"The 'avg_bill' column is present in the final_sample table.\")\n",
        "else:\n",
        "    print(\"The 'avg_bill' column is not present in the final_sample table.\")\n"
      ],
      "metadata": {
        "id": "lBHaQeqDOpHp",
        "colab": {
          "base_uri": "https://localhost:8080/"
        },
        "outputId": "4960bfa4-c807-4136-c2df-9ef46e4d4d36"
      },
      "execution_count": 33,
      "outputs": [
        {
          "output_type": "stream",
          "name": "stdout",
          "text": [
            "The 'avg_bill' column is present in the final_sample table.\n"
          ]
        }
      ]
    },
    {
      "cell_type": "code",
      "source": [
        "# Since the 'avg_bill' column is present in the 'final_sample' table, we can directly query this table to calculate the average bill of low-income households\n",
        "# Define the SQL query to calculate the average bill for low-income households from the 'final_sample' table\n",
        "query_avg_bill_low_income = \"\"\"\n",
        "SELECT AVG(avg_bill) AS avg_bill_household\n",
        "FROM final_sample\n",
        "\"\"\"\n",
        "\n",
        "# Execute the query and fetch the result\n",
        "cursor = conn.cursor()\n",
        "cursor.execute(query_avg_bill_low_income)\n",
        "avg_bill_household = cursor.fetchone()[0]\n",
        "\n",
        "# Close the cursor\n",
        "cursor.close()\n",
        "\n",
        "# Print the average bill of low-income households\n",
        "print(\"Average bill of low-income households:\", avg_bill_household)\n"
      ],
      "metadata": {
        "id": "ikp6gHqOPHd6",
        "colab": {
          "base_uri": "https://localhost:8080/"
        },
        "outputId": "e86d3347-d8e5-4e6e-f8f8-a8d14d193be1"
      },
      "execution_count": 34,
      "outputs": [
        {
          "output_type": "stream",
          "name": "stdout",
          "text": [
            "Average bill of low-income households: 3498.948275862069\n"
          ]
        }
      ]
    },
    {
      "cell_type": "markdown",
      "source": [
        "b. How much is the average budget of the low income households? Call the variable 'avg_budget_household'."
      ],
      "metadata": {
        "id": "qS0Yn3-FPWkQ"
      }
    },
    {
      "cell_type": "code",
      "source": [
        "# Define the SQL query to calculate the average budget for low-income households from the 'final_sample' table\n",
        "query_avg_budget_low_income = \"\"\"\n",
        "SELECT AVG([Monthly Electric Budget]) AS avg_budget_household\n",
        "FROM final_sample\n",
        "\"\"\"\n",
        "\n",
        "# Execute the query and fetch the result\n",
        "cursor = conn.cursor()\n",
        "cursor.execute(query_avg_budget_low_income)\n",
        "avg_budget_household = cursor.fetchone()[0]\n",
        "\n",
        "# Close the cursor\n",
        "cursor.close()\n",
        "\n",
        "# Print the average budget of low-income households\n",
        "print(\"Average budget of low-income households:\", avg_budget_household)\n"
      ],
      "metadata": {
        "id": "13yZ5r9zPfW8",
        "colab": {
          "base_uri": "https://localhost:8080/"
        },
        "outputId": "f669d7f9-47d2-43d0-d703-58337489077d"
      },
      "execution_count": 35,
      "outputs": [
        {
          "output_type": "stream",
          "name": "stdout",
          "text": [
            "Average budget of low-income households: 2327.0862068965516\n"
          ]
        }
      ]
    },
    {
      "cell_type": "markdown",
      "source": [
        "c. Based on the numbers, what can you conclude?"
      ],
      "metadata": {
        "id": "xyyhBYQBPvby"
      }
    },
    {
      "cell_type": "markdown",
      "source": [
        "ANSWER HERE:"
      ],
      "metadata": {
        "id": "AJt1ycfYP_iW"
      }
    },
    {
      "cell_type": "markdown",
      "source": [
        "Low-income households spend more on bills than the allocated budget."
      ],
      "metadata": {
        "id": "JTX1O22s0ksl"
      }
    },
    {
      "cell_type": "markdown",
      "source": [
        "###6. AVERAGE BILL with students"
      ],
      "metadata": {
        "id": "b52kDe0AQD23"
      }
    },
    {
      "cell_type": "markdown",
      "source": [
        "a. What is the average bill of households with students at home? Use .groupby\n",
        "\n",
        "```\n",
        "# sample code from previous lecture\n",
        "\n",
        "df[['Education',\"Income\"]].groupby(\"Education\").mean()\n",
        "```\n",
        "\n"
      ],
      "metadata": {
        "id": "3RgqLF8UQfdS"
      }
    },
    {
      "cell_type": "code",
      "source": [
        "# Reconnect to the SQLite database\n",
        "conn = sqlite3.connect('Survey_Database.db')\n",
        "\n",
        "# Define the SQL query to retrieve all information from 'final_sample' table\n",
        "query_final_sample = \"\"\"\n",
        "SELECT *\n",
        "FROM final_sample;\n",
        "\"\"\"\n",
        "\n",
        "# Execute the query and fetch the data into a DataFrame\n",
        "final_sample = pd.read_sql_query(query_final_sample, conn)\n",
        "\n",
        "# Filter the data to include only households with students at home and where the response is 'Yes'\n",
        "students_with_home_yes = final_sample[final_sample['Students in Household'] == 'Yes']\n",
        "\n",
        "# Calculate the average bill of households with students at home using groupby\n",
        "average_bill_with_students = students_with_home_yes.groupby('Students in Household')['avg_bill'].mean()\n",
        "\n",
        "# Close the connection\n",
        "conn.close()\n",
        "\n",
        "# Print the result\n",
        "print(\"Average bill of households with students at home:\")\n",
        "print(average_bill_with_students)\n"
      ],
      "metadata": {
        "id": "e2jnxoIfRVej",
        "colab": {
          "base_uri": "https://localhost:8080/"
        },
        "outputId": "e5948f5a-7da1-4b1c-c674-27672869798d"
      },
      "execution_count": 36,
      "outputs": [
        {
          "output_type": "stream",
          "name": "stdout",
          "text": [
            "Average bill of households with students at home:\n",
            "Students in Household\n",
            "Yes    3538.368421\n",
            "Name: avg_bill, dtype: float64\n"
          ]
        }
      ]
    },
    {
      "cell_type": "markdown",
      "source": [
        "b. What can you conclude from the information above? Note: This is a trick question."
      ],
      "metadata": {
        "id": "-GdVjMsJQpUC"
      }
    },
    {
      "cell_type": "markdown",
      "source": [
        "ANSWER HERE:"
      ],
      "metadata": {
        "id": "-nwId6PjSU-D"
      }
    },
    {
      "cell_type": "markdown",
      "source": [
        "Households with students at home, despite being low-income, tend to have higher bills compared to the overall average bill of low-income households. There may be a potential additional expense(s) associated with having students at home."
      ],
      "metadata": {
        "id": "Ob9-nnut2dbN"
      }
    },
    {
      "cell_type": "markdown",
      "source": [],
      "metadata": {
        "id": "krU3Iz151w56"
      }
    },
    {
      "cell_type": "markdown",
      "source": [
        "###7. Struggle to find money."
      ],
      "metadata": {
        "id": "HQqMAXzOS6im"
      }
    },
    {
      "cell_type": "markdown",
      "source": [
        "a. How many households struggle to pay the bill always, very often, often, sometimes, and never?\n",
        "\n",
        "\n",
        "\n",
        "```\n",
        ".value_counts()\n",
        "```\n",
        "\n"
      ],
      "metadata": {
        "id": "FyE1RuN6TBwp"
      }
    },
    {
      "cell_type": "markdown",
      "source": [
        "This method counts the occurrences of each unique value in the selected column. It returns a Series where the index contains the unique values from the column, and the values contain the counts of each unique value.\n"
      ],
      "metadata": {
        "id": "NogJJkIpn7oK"
      }
    },
    {
      "cell_type": "code",
      "source": [
        "# Reconnect to the SQLite database\n",
        "conn = sqlite3.connect('Survey_Database.db')\n",
        "\n",
        "# Define the SQL query to retrieve the column containing the responses\n",
        "query_struggle_to_pay = \"\"\"\n",
        "SELECT \"Struggle Paying Electric Bill\"\n",
        "FROM final_sample;\n",
        "\"\"\"\n",
        "# Count the occurrences of each response option\n",
        "struggle_counts = final_sample['Struggle Paying Electric Bill'].value_counts()\n",
        "\n",
        "# Print the counts\n",
        "print(\"Struggle to pay bill counts:\")\n",
        "print(struggle_counts)\n"
      ],
      "metadata": {
        "id": "jZp6Ed7rTRar",
        "colab": {
          "base_uri": "https://localhost:8080/"
        },
        "outputId": "67a72a16-7dcf-4790-91b1-bec10ad8c53b"
      },
      "execution_count": 37,
      "outputs": [
        {
          "output_type": "stream",
          "name": "stdout",
          "text": [
            "Struggle to pay bill counts:\n",
            "Struggle Paying Electric Bill\n",
            "Sometimes     26\n",
            "Always        11\n",
            "Often         10\n",
            "Very Often     8\n",
            "Never          3\n",
            "Name: count, dtype: int64\n"
          ]
        }
      ]
    },
    {
      "cell_type": "markdown",
      "source": [
        "b. Make a bar chart"
      ],
      "metadata": {
        "id": "mMwykX1GWG3x"
      }
    },
    {
      "cell_type": "code",
      "source": [
        "# Plot the bar chart\n",
        "struggle_counts.plot(kind='bar', color='skyblue')\n",
        "plt.title('Frequency of Struggle to Pay Electric Bill')\n",
        "plt.xlabel('Frequency')\n",
        "plt.ylabel('Number of Households')\n",
        "plt.xticks(rotation=45)  # Rotate x-axis labels for better readability\n",
        "plt.tight_layout()\n",
        "plt.show()\n"
      ],
      "metadata": {
        "colab": {
          "base_uri": "https://localhost:8080/",
          "height": 487
        },
        "id": "SiF8g0Uj5qhI",
        "outputId": "7ef00059-fe40-4c83-b267-c2b0fbeddc1a"
      },
      "execution_count": 38,
      "outputs": [
        {
          "output_type": "display_data",
          "data": {
            "text/plain": [
              "<Figure size 640x480 with 1 Axes>"
            ],
            "image/png": "[encoded data removed]"
          },
          "metadata": {}
        }
      ]
    },
    {
      "cell_type": "markdown",
      "source": [
        "###8. Fail to pay the bill"
      ],
      "metadata": {
        "id": "pQIEfW8pVFBc"
      }
    },
    {
      "cell_type": "markdown",
      "source": [
        "a. How many households struggle to pay the bill always, very often, often, sometimes, and never?\n",
        "\n",
        "\n",
        "\n",
        "```\n",
        ".value_counts()\n",
        "```\n"
      ],
      "metadata": {
        "id": "jlF9ewB4VIZP"
      }
    },
    {
      "cell_type": "code",
      "source": [
        "# Close the previous database connection\n",
        "conn.close()\n"
      ],
      "metadata": {
        "id": "ARUfq4xiVLKm"
      },
      "execution_count": 39,
      "outputs": []
    },
    {
      "cell_type": "code",
      "source": [
        "# Reconnect to the SQLite database\n",
        "conn = sqlite3.connect('Survey_Database.db')\n",
        "\n",
        "# Define the SQL query to retrieve the column containing the responses\n",
        "query_struggle_to_pay = \"\"\"\n",
        "SELECT \"Failure Paying Electric Bill\"\n",
        "FROM final_sample;\n",
        "\"\"\"\n",
        "\n",
        "# Execute the SQL query and fetch the data into a DataFrame\n",
        "struggle_df = pd.read_sql_query(query_struggle_to_pay, conn)\n",
        "\n",
        "# Count the occurrences of each response option\n",
        "struggle_counts = struggle_df['Failure Paying Electric Bill'].value_counts()\n",
        "\n",
        "# Print the counts\n",
        "print(\"Struggle to pay bill counts:\")\n",
        "print(struggle_counts)\n"
      ],
      "metadata": {
        "colab": {
          "base_uri": "https://localhost:8080/"
        },
        "id": "2oF9NgAQ93uK",
        "outputId": "a773aae4-a8c3-4aac-ea71-974e0628c5a3"
      },
      "execution_count": 40,
      "outputs": [
        {
          "output_type": "stream",
          "name": "stdout",
          "text": [
            "Struggle to pay bill counts:\n",
            "Failure Paying Electric Bill\n",
            "Sometimes     31\n",
            "Never         12\n",
            "Often          9\n",
            "Very Often     4\n",
            "Always         2\n",
            "Name: count, dtype: int64\n"
          ]
        }
      ]
    },
    {
      "cell_type": "markdown",
      "source": [
        "b. Make a bar chart"
      ],
      "metadata": {
        "id": "GcINq_CaWdGV"
      }
    },
    {
      "cell_type": "code",
      "source": [
        "\n",
        "# Plot the bar chart\n",
        "struggle_counts.plot(kind='bar', color='skyblue')\n",
        "plt.title('Frequency of Struggle/Fail to Pay Electric Bill')\n",
        "plt.xlabel('Frequency')\n",
        "plt.ylabel('Number of Households')\n",
        "plt.xticks(rotation=45)  # Rotate x-axis labels for better readability\n",
        "plt.tight_layout()\n",
        "plt.show()\n"
      ],
      "metadata": {
        "id": "ug4v39ZcWez7",
        "colab": {
          "base_uri": "https://localhost:8080/",
          "height": 487
        },
        "outputId": "1844b58e-ab5b-4f4f-ea2e-ddb23941d233"
      },
      "execution_count": 41,
      "outputs": [
        {
          "output_type": "display_data",
          "data": {
            "text/plain": [
              "<Figure size 640x480 with 1 Axes>"
            ],
            "image/png": "[encoded data removed]"
          },
          "metadata": {}
        }
      ]
    },
    {
      "cell_type": "code",
      "source": [
        "\n",
        "# Close the previous database connection\n",
        "conn.close()"
      ],
      "metadata": {
        "id": "tCdeJon__jJt"
      },
      "execution_count": 42,
      "outputs": []
    },
    {
      "cell_type": "markdown",
      "source": [
        "###9. You now may use SQL, or Python, whichever is more comfortable.\n",
        "\n",
        "if you will use SQL, make sure to reconnect to the database THAT IS already in our directory. Careful with the spelling.\n"
      ],
      "metadata": {
        "id": "_0DC5tSqeqAU"
      }
    },
    {
      "cell_type": "markdown",
      "source": [
        "a. Count how many households have each of the essential appliances.\n",
        "\n",
        "1. TV\n",
        "2. Refrigerator\n",
        "3. Rice Cooker\n",
        "4. Washing Machine\n",
        "\n",
        "<br>\n",
        "\n",
        "also count how many households got the luxury of having these appliances.\n",
        "\n",
        "1. Electric Water Dispenser\n",
        "2. Air Conditioner"
      ],
      "metadata": {
        "id": "WEdBoM-PhABD"
      }
    },
    {
      "cell_type": "code",
      "source": [
        "# Reconnect to the SQLite database\n",
        "conn = sqlite3.connect('Survey_Database.db')\n",
        "\n",
        "# Define the SQL query to retrieve the column containing the appliance ownership information\n",
        "query_appliances = \"\"\"\n",
        "SELECT \"Owned Appliances\"\n",
        "FROM final_sample;\n",
        "\"\"\"\n",
        "\n",
        "# Execute the SQL query and fetch the data into a DataFrame\n",
        "appliances_df = pd.read_sql_query(query_appliances, conn)\n",
        "\n",
        "# Count the occurrences of each appliance (eg. from Owned Appliances column dataframe appliances_df string in column\n",
        "# that contains \"TV\" true-1 false-0 then adds sum of boolean values)\n",
        "tv_count = appliances_df['Owned Appliances'].str.contains('TV').sum()\n",
        "refrigerator_count = appliances_df['Owned Appliances'].str.contains('Refrigerator').sum()\n",
        "rice_cooker_count = appliances_df['Owned Appliances'].str.contains('Rice Cooker').sum()\n",
        "washing_machine_count = appliances_df['Owned Appliances'].str.contains('Washing Machine').sum()\n",
        "\n",
        "# Print the counts for each appliance\n",
        "print(\"Count of households with each essential appliance:\")\n",
        "print(\"TV:\", tv_count)\n",
        "print(\"Refrigerator:\", refrigerator_count)\n",
        "print(\"Rice Cooker:\", rice_cooker_count)\n",
        "print(\"Washing Machine:\", washing_machine_count)\n"
      ],
      "metadata": {
        "id": "02gpMUkxf_SL",
        "colab": {
          "base_uri": "https://localhost:8080/"
        },
        "outputId": "81973be8-4766-410a-98ec-40962ac1f620"
      },
      "execution_count": 43,
      "outputs": [
        {
          "output_type": "stream",
          "name": "stdout",
          "text": [
            "Count of households with each essential appliance:\n",
            "TV: 55\n",
            "Refrigerator: 42\n",
            "Rice Cooker: 33\n",
            "Washing Machine: 51\n"
          ]
        }
      ]
    },
    {
      "cell_type": "code",
      "source": [
        "conn.close()"
      ],
      "metadata": {
        "id": "SUbhMZMIALI2"
      },
      "execution_count": 44,
      "outputs": []
    },
    {
      "cell_type": "code",
      "source": [
        "# Reconnect to the SQLite database\n",
        "conn = sqlite3.connect('Survey_Database.db')\n",
        "\n",
        "# Define the SQL query to retrieve the column containing the appliance ownership information\n",
        "query_luxury_appliances = \"\"\"\n",
        "SELECT \"Owned Appliances\"\n",
        "FROM final_sample;\n",
        "\"\"\"\n",
        "\n",
        "# Execute the SQL query and fetch the data into a DataFrame\n",
        "luxury_appliances_df = pd.read_sql_query(query_luxury_appliances, conn)\n",
        "\n",
        "# Count the occurrences of each luxury appliance\n",
        "electric_water_dispenser_count = luxury_appliances_df['Owned Appliances'].str.contains('Electric Water Dispenser').sum()\n",
        "air_conditioner_count = luxury_appliances_df['Owned Appliances'].str.contains('Air Conditioner').sum()\n",
        "\n",
        "# Print the counts for each luxury appliance\n",
        "print(\"Count of households with each luxury appliance:\")\n",
        "print(\"Electric Water Dispenser:\", electric_water_dispenser_count)\n",
        "print(\"Air Conditioner:\", air_conditioner_count)\n",
        "\n",
        "conn.close()\n"
      ],
      "metadata": {
        "colab": {
          "base_uri": "https://localhost:8080/"
        },
        "id": "NtZK2cxmAY6K",
        "outputId": "a5c3b677-c510-4718-be85-58e09ff845b2"
      },
      "execution_count": 45,
      "outputs": [
        {
          "output_type": "stream",
          "name": "stdout",
          "text": [
            "Count of households with each luxury appliance:\n",
            "Electric Water Dispenser: 8\n",
            "Air Conditioner: 22\n"
          ]
        }
      ]
    },
    {
      "cell_type": "markdown",
      "source": [
        "###10. Remember the With_Students table? Now get the number of the students in low income households who has at least a laptop or desktop computer."
      ],
      "metadata": {
        "id": "-vNJfnCvf_6G"
      }
    },
    {
      "cell_type": "code",
      "source": [
        "# Reconnect to the SQLite database\n",
        "conn = sqlite3.connect('Survey_Database.db')\n",
        "\n",
        "# Define the SQL query to count the number of students in low-income households\n",
        "# with at least a laptop or desktop computer\n",
        "query_num_students_with_computer = \"\"\"\n",
        "SELECT COUNT(*) AS num_students_with_computer\n",
        "FROM With_Students\n",
        "WHERE [Students in Household] = 'Yes'\n",
        "AND [Monthly Household Salary] LIKE 'Less than Php 21,194%'\n",
        "AND (\"Electronics Owned\" LIKE '%Laptop%' OR\n",
        "     \"Electronics Owned\" LIKE '%Desktop%');\n",
        "\"\"\"\n",
        "\n",
        "# Execute the SQL query and fetch the result\n",
        "cursor = conn.cursor()\n",
        "cursor.execute(query_num_students_with_computer)\n",
        "num_students_with_computer = cursor.fetchone()[0]\n",
        "\n",
        "# Close the cursor and the connection\n",
        "cursor.close()\n",
        "conn.close()\n",
        "\n",
        "# Print the number of students in low-income households with at least a laptop or desktop computer\n",
        "print(\"Number of students in low-income households with computer/laptop:\", num_students_with_computer)\n",
        "conn.close()"
      ],
      "metadata": {
        "id": "My71OblugQJ4",
        "colab": {
          "base_uri": "https://localhost:8080/"
        },
        "outputId": "9e2987e0-d6f5-4475-d990-a36d77e59923"
      },
      "execution_count": 46,
      "outputs": [
        {
          "output_type": "stream",
          "name": "stdout",
          "text": [
            "Number of students in low-income households with computer/laptop: 43\n"
          ]
        }
      ]
    }
  ]
}