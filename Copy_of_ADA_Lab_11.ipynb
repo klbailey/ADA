{
  "nbformat": 4,
  "nbformat_minor": 0,
  "metadata": {
    "colab": {
      "provenance": []
    },
    "kernelspec": {
      "name": "python3",
      "display_name": "Python 3"
    },
    "language_info": {
      "name": "python"
    }
  },
  "cells": [
    {
      "cell_type": "markdown",
      "source": [
        "#PART 1:\n",
        "\n",
        "**TASKS:**\n",
        "<br>\n",
        "*1. Derive the null and alternative hypothesis.* <br>\n",
        "*2. Determine whether the test is right-tailed or left-tailed*"
      ],
      "metadata": {
        "id": "AnWZ9VlbRBQW"
      }
    },
    {
      "cell_type": "markdown",
      "source": [
        "1. Statement:\n",
        "A manufacturer states that the percentage of defective items produced by a new machine is less than the industry average of 5%."
      ],
      "metadata": {
        "id": "6KKjzDmTRYSv"
      }
    },
    {
      "cell_type": "markdown",
      "source": [
        "Null(H0): p>= 0.05 = % of defective items by new machine >= industry average of 5% and p is proportion of defective items\n",
        "<br>\n",
        "Alternative(H1): p<0.05 = test % of defective items are less than average 5%\n"
      ],
      "metadata": {
        "id": "7kxwXNXdR1Za"
      }
    },
    {
      "cell_type": "markdown",
      "source": [
        "Test: Since alternative states p < 5% it's 1 tailed test - left-tailed"
      ],
      "metadata": {
        "id": "Byg7ULbGR1Zg"
      }
    },
    {
      "cell_type": "markdown",
      "source": [],
      "metadata": {
        "id": "6tao_zoOcNoL"
      }
    },
    {
      "cell_type": "markdown",
      "source": [
        "2. Statement:\n",
        "An educational consultant suggests that the average test scores of students who attend a test preparation course are greater than the national average."
      ],
      "metadata": {
        "id": "Ls-UMPFwRbSh"
      }
    },
    {
      "cell_type": "markdown",
      "source": [
        "Null:(H0): population mean of test scores who attend <= national average test score (no effect hypothesis)\n",
        "<br>\n",
        "Alternative(H1): population mean of test scores who attend > national average test score"
      ],
      "metadata": {
        "id": "7Ws9KRbBR1vo"
      }
    },
    {
      "cell_type": "markdown",
      "source": [
        "Test: Testing alternative > indicates 1-tailed test, a right-tailed test."
      ],
      "metadata": {
        "id": "YE_BvwB5R1vp"
      }
    },
    {
      "cell_type": "markdown",
      "source": [
        "#PART 2:\n",
        "\n",
        "Use scipy.stats for this. All 5 steps should be seen."
      ],
      "metadata": {
        "id": "lFl3h6wbQ6oO"
      }
    },
    {
      "cell_type": "markdown",
      "source": [
        "1. A school claimed that the students who study that are more intelligent than the average school. On calculating the IQ scores of 50 students, the average turns out to be 110. The mean of the population IQ is 100 and the standard deviation is 15. State whether the claim of the principal is right or not at a 5% significance level.\n",
        "\n"
      ],
      "metadata": {
        "id": "XeecCyZ6KKIl"
      }
    },
    {
      "cell_type": "code",
      "source": [
        "import numpy as np\n",
        "import scipy.stats as stats"
      ],
      "metadata": {
        "id": "ZgAePA7ydGhc"
      },
      "execution_count": null,
      "outputs": []
    },
    {
      "cell_type": "markdown",
      "source": [
        "**Step 1: Formulate research question and hypothesis:**\n",
        "\n",
        "Null(H0): no effect-students who study are <= average school intelligence\n",
        "\n",
        "Alternate(H1): test claim-students who study are > average school intelligence\n",
        "\n",
        "Right-tailed\n",
        "\n",
        "**Step 2: Collect a sample and calculate the sample mean (x bar: x̄) and standard deviation (s)**\n",
        "\n",
        "xˉ is the sample mean (110)\n",
        "\n",
        "μ is the population mean (100)\n",
        "\n",
        "σ is the population standard deviation (15)\n",
        "\n",
        "n is the sample size (50)\n",
        "\n",
        "z = 110 - 100 / 15 squareroot 50\n",
        "\n",
        "z = 10 /(15/7.0710)= 10/2.12 = 4.72"
      ],
      "metadata": {
        "id": "DkMfuzfYdKhF"
      }
    },
    {
      "cell_type": "code",
      "source": [
        "# Step 3: Use the one-tailed z-test formula to calculate the test statistic.\n",
        "from scipy.stats import norm\n",
        "sample_mean = 110\n",
        "population_mean = 100\n",
        "population_std = 15\n",
        "sample_size = 50\n",
        "alpha = 0.05\n",
        "\n",
        "# Find critical value(z_alpha)\n",
        "z_alpha = norm.ppf(1 - alpha)\n",
        "print(\"Critical value (z_alpha):\", z_alpha)\n",
        "\n",
        "z_score = (sample_mean - population_mean) / (population_std / np.sqrt(sample_size))\n",
        "print(\"Z-Score:\", z_score)"
      ],
      "metadata": {
        "colab": {
          "base_uri": "https://localhost:8080/"
        },
        "id": "2bjjaltKgQmk",
        "outputId": "a0bcb9dd-ae56-4f24-e4fa-b528d38439a8"
      },
      "execution_count": null,
      "outputs": [
        {
          "output_type": "stream",
          "name": "stdout",
          "text": [
            "Critical value (z_alpha): 1.6448536269514722\n",
            "Z-Score: 4.714045207910317\n"
          ]
        }
      ]
    },
    {
      "cell_type": "markdown",
      "source": [
        "4.72 > 1.64 we reject null hypothesis\n",
        "\n",
        "4.71 Z-Score Sample mean is 4.71 standard deviations above population mean. This suggests sample mean of 110 is higher than population mean of 100, providing evidence to support claim."
      ],
      "metadata": {
        "id": "lWnhfU9AhB8y"
      }
    },
    {
      "cell_type": "code",
      "source": [
        "# Step 4: find the p-value.\n",
        "from scipy import stats\n",
        "\n",
        "# Calculate the p-value\n",
        "p_value = 1 - norm.cdf(z_score)\n",
        "\n",
        "print('P-value:', p_value)"
      ],
      "metadata": {
        "colab": {
          "base_uri": "https://localhost:8080/"
        },
        "id": "XzLaNyCri8sF",
        "outputId": "b7222b1b-258a-4987-e847-8285aaeb48b0"
      },
      "execution_count": null,
      "outputs": [
        {
          "output_type": "stream",
          "name": "stdout",
          "text": [
            "P-value: 1.2142337364462463e-06\n"
          ]
        }
      ]
    },
    {
      "cell_type": "markdown",
      "source": [
        "P-Value is 1.2142 X 10 to power of -6 which is equivilant to  0.0000012142337364462463.\n",
        "\n",
        "P-Value is smaller than 0.05 which is evidence against  null hypotheses."
      ],
      "metadata": {
        "id": "dycCBQ7EjH_K"
      }
    },
    {
      "cell_type": "code",
      "source": [
        "# Step 5: Reject or fail to reject the null hypothesis based on the significance level.\n",
        "print('p-value :',p_value)\n",
        "\n",
        "# Hypothesis\n",
        "if p_value <  alpha:\n",
        "    print(\"Reject Null Hypothesis\")\n",
        "else:\n",
        "  print(\"Fail to Reject Null Hypothesis\")"
      ],
      "metadata": {
        "colab": {
          "base_uri": "https://localhost:8080/"
        },
        "id": "0TanGZrOk-Ry",
        "outputId": "e61bd05e-374a-4840-a83f-d18ac098783f"
      },
      "execution_count": null,
      "outputs": [
        {
          "output_type": "stream",
          "name": "stdout",
          "text": [
            "p-value : 1.2142337364462463e-06\n",
            "Reject Null Hypothesis\n"
          ]
        }
      ]
    },
    {
      "cell_type": "markdown",
      "source": [
        "2. A company claims that the average response time for their customer support hotline is less than 5 minutes. You conducted a sample of 36 calls and found that the average response time was 4.7 minutes with a standard deviation of 1.2 minutes. Conduct a hypothesis test to determine whether there is sufficient evidence to support the company's claim."
      ],
      "metadata": {
        "id": "-apys4mTUJRz"
      }
    },
    {
      "cell_type": "markdown",
      "source": [
        "**Step 1: Formulate research question and hypothesis:**\n",
        "\n",
        "Null(H0): no effect-average response time for cs hotline >= 5 minutes\n",
        "\n",
        "Alternative(H1): test claim-average response time for cs hotline < 5 minutes\n",
        "\n",
        "Left-tailed"
      ],
      "metadata": {
        "id": "3ejQM_8dl-jP"
      }
    },
    {
      "cell_type": "markdown",
      "source": [
        "**Step 2: Collect a sample and calculate the sample mean (x bar: x̄) and standard deviation (s)**\n",
        "\n",
        "xˉ is the sample mean (4.7)\n",
        "\n",
        "μ is the population mean (5)\n",
        "\n",
        "σ is the population standard deviation (1.2)\n",
        "\n",
        "n is the sample size (36)\n",
        "\n",
        "z = 4.7 - 5 / 1.2 / squareroot 36\n",
        "\n",
        "z = -0.3 /(1.2/6)= -0.3/.2 = -0.15\n"
      ],
      "metadata": {
        "id": "gQg3WKQhmkQ1"
      }
    },
    {
      "cell_type": "code",
      "source": [
        "# Step 3: Use the one-tailed z-test formula to calculate the test statistic.\n",
        "from scipy.stats import norm\n",
        "sample_mean = 4.7\n",
        "population_mean = 5\n",
        "population_std = 1.2\n",
        "sample_size = 36\n",
        "alpha = 0.05\n",
        "\n",
        "# Find critical value(z_alpha)\n",
        "z_alpha = norm.ppf(1 - alpha)\n",
        "print(\"Critical value (z_alpha):\", z_alpha)\n",
        "\n",
        "z_score = (sample_mean - population_mean) / (population_std / np.sqrt(sample_size))\n",
        "print(\"Z-Score:\", z_score)"
      ],
      "metadata": {
        "colab": {
          "base_uri": "https://localhost:8080/"
        },
        "id": "e0LramgRo5Bz",
        "outputId": "f7f8e553-0974-45f1-f1f9-82bb5ab89525"
      },
      "execution_count": null,
      "outputs": [
        {
          "output_type": "stream",
          "name": "stdout",
          "text": [
            "Critical value (z_alpha): 1.6448536269514722\n",
            "Z-Score: -1.4999999999999993\n"
          ]
        }
      ]
    },
    {
      "cell_type": "markdown",
      "source": [
        "-1.5 < 1.64 we accept null hypothesis (Zscore < critical value)\n",
        "\n",
        "-1.5 Z-Score shows sample mean is 1.5 sd below population mean. Not enough to support claim."
      ],
      "metadata": {
        "id": "_cfrDcjvpEI7"
      }
    },
    {
      "cell_type": "code",
      "source": [
        "# Step 4: find the p-value.\n",
        "from scipy import stats\n",
        "\n",
        "# Calculate the p-value cumulative distribution function (CDF) since we're testing for less than (1-CDF)\n",
        "p_value = norm.cdf(z_score)\n",
        "\n",
        "print('P-value:', p_value)\n"
      ],
      "metadata": {
        "colab": {
          "base_uri": "https://localhost:8080/"
        },
        "id": "38MuzM-8sAPx",
        "outputId": "4f18a7d8-df3c-400d-a523-53c45a771523"
      },
      "execution_count": null,
      "outputs": [
        {
          "output_type": "stream",
          "name": "stdout",
          "text": [
            "P-value: 0.06680720126885814\n"
          ]
        }
      ]
    },
    {
      "cell_type": "markdown",
      "source": [
        "P-Value is 0.06680720126885814\n",
        "\n",
        "P-Value is greater than 0.05 which is evidence against the alternative hypotheses and cannot reject null hypotheses. There's around a 6.68% probability of observing the sample mean of 4.7 minutes or less. There's not enough evidence to support alternative hypotheses."
      ],
      "metadata": {
        "id": "oeLqHaAOsKV2"
      }
    },
    {
      "cell_type": "code",
      "source": [
        "# Step 5: Reject or fail to reject the null hypothesis based on the significance level.\n",
        "print('p-value :',p_value)\n",
        "\n",
        "# Hypothesis\n",
        "if p_value <  alpha:\n",
        "    print(\"Reject Null Hypothesis\")\n",
        "else:\n",
        "  print(\"Fail to Reject Null Hypothesis\")"
      ],
      "metadata": {
        "colab": {
          "base_uri": "https://localhost:8080/"
        },
        "id": "UnOuVGUDvMiU",
        "outputId": "904568af-54bd-4e6a-e1b0-fa44686dbe50"
      },
      "execution_count": null,
      "outputs": [
        {
          "output_type": "stream",
          "name": "stdout",
          "text": [
            "p-value : 0.06680720126885814\n",
            "Fail to Reject Null Hypothesis\n"
          ]
        }
      ]
    },
    {
      "cell_type": "markdown",
      "source": [
        "p-value : 0.06680720126885814\n",
        "Fail to Reject Null Hypothesis p-value < alpha"
      ],
      "metadata": {
        "id": "NpuSY5Ob6ZoB"
      }
    }
  ]
}