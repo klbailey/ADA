{
  "nbformat": 4,
  "nbformat_minor": 0,
  "metadata": {
    "colab": {
      "provenance": []
    },
    "kernelspec": {
      "name": "python3",
      "display_name": "Python 3"
    },
    "language_info": {
      "name": "python"
    }
  },
  "cells": [
    {
      "cell_type": "markdown",
      "source": [
        "#**LAB 16**"
      ],
      "metadata": {
        "id": "YpRzz3ne_YOw"
      }
    },
    {
      "cell_type": "markdown",
      "source": [
        "There are four problem statements given to you. Your task is to figure out what test to use. You are tasked to show the following:\n",
        "1. State the statistical test you will use\n",
        "2. Variables (IV and DV)\n",
        "3. Hypotheses\n",
        "4. Interpretation\n",
        "\n",
        "Here are the libraries you would be needing.\n",
        "\n",
        "T-Test:\n",
        "\n",
        "\n",
        "```\n",
        "import numpy as np\n",
        "from scipy.stats import ttest_ind\n",
        "```\n",
        "\n",
        "Z-Test:\n",
        "\n",
        "\n",
        "```\n",
        "import scipy.stats as stats\n",
        "import numpy as np\n",
        "```\n",
        "\n",
        "Chi-Square:\n",
        "\n",
        "\n",
        "```\n",
        "import numpy as np\n",
        "from scipy.stats import chi2_contingency\n",
        "```\n",
        "\n",
        "Anova:\n",
        "\n",
        "\n",
        "```\n",
        "import numpy as np\n",
        "from scipy.stats import f_oneway\n",
        "```\n",
        "\n",
        "\n",
        "\n",
        "\n"
      ],
      "metadata": {
        "id": "VFjFrKIW_eP1"
      }
    },
    {
      "cell_type": "markdown",
      "source": [
        "##1. Problem Statement:\n",
        "You are investigating whether there is a relationship between gender (Male/Female) and smartphone brand preference (Samsung, Apple, Other) among a sample of users. Conduct a test to determine if there is a significant association between gender and smartphone brand preference."
      ],
      "metadata": {
        "id": "jhmfF3rKAOkW"
      }
    },
    {
      "cell_type": "markdown",
      "source": [
        "**State the statistical test you will use, Variables (IV and DV),\n",
        "Hypotheses**\n",
        "\n",
        "\n",
        "2 groups: gender/brand. Has categories.\n",
        "\n",
        "Independent Variable: Gender\n",
        "\n",
        "Dependent Variable: Smartphone brand preference\n",
        "\n",
        "I will use chi-square test to determine a significant association between the two categorical variables. This is a test of independent variables.\n",
        "\n",
        "Null(H0): There is no association between gender and smartphone brand preference as the variables are independent.\n",
        "\n",
        "Alternative(H1): There is an association between gender and smartphone brand preference as the variables are not independent."
      ],
      "metadata": {
        "id": "sP4q91PKN1_e"
      }
    },
    {
      "cell_type": "code",
      "source": [
        "# Import libraries\n",
        "import numpy as np\n",
        "from scipy.stats import chi2_contingency"
      ],
      "metadata": {
        "id": "pPc3UvxUCGxM"
      },
      "execution_count": null,
      "outputs": []
    },
    {
      "cell_type": "code",
      "execution_count": null,
      "metadata": {
        "id": "_jj-3T7j_Xeb"
      },
      "outputs": [],
      "source": [
        "# Data\n",
        "observed_data = np.array([[30, 20, 15], [25, 35, 10]])  # Example frequencies, rows represent gender, columns represent smartphone brand"
      ]
    },
    {
      "cell_type": "code",
      "source": [
        "# Data\n",
        "import pandas as pd\n",
        "import numpy as np\n",
        "\n",
        "observed_data = np.array([[30, 20, 15], [25, 35, 10]])\n",
        "\n",
        "# Convert the array to a DataFrame\n",
        "df = pd.DataFrame(observed_data, index=['Male', 'Female'], columns=['Brand A', 'Brand B', 'Brand C'])\n",
        "\n",
        "# Display the DataFrame as a table\n",
        "print(df)"
      ],
      "metadata": {
        "id": "J25aKHrwsqZJ",
        "colab": {
          "base_uri": "https://localhost:8080/"
        },
        "outputId": "737f9894-7740-49ab-8a98-e504f2cadd22"
      },
      "execution_count": null,
      "outputs": [
        {
          "output_type": "stream",
          "name": "stdout",
          "text": [
            "        Brand A  Brand B  Brand C\n",
            "Male         30       20       15\n",
            "Female       25       35       10\n"
          ]
        }
      ]
    },
    {
      "cell_type": "code",
      "source": [
        "# Perform chi-squared test\n",
        "chi2_stat, p_value, dof, expected = chi2_contingency(observed_data)\n",
        "\n",
        "# Print the results\n",
        "print(f\"Chi-Squared Statistic: {chi2_stat}\")\n",
        "print(f\"P-value: {p_value}\")\n",
        "print(f\"Degrees of Freedom: {dof}\")\n",
        "print(\"Expected Frequencies:\")\n",
        "print(expected)"
      ],
      "metadata": {
        "colab": {
          "base_uri": "https://localhost:8080/"
        },
        "id": "pn07f45XRqdb",
        "outputId": "8eb10437-5db6-4e2f-ff9a-031f59acf639"
      },
      "execution_count": null,
      "outputs": [
        {
          "output_type": "stream",
          "name": "stdout",
          "text": [
            "Chi-Squared Statistic: 5.367632367632368\n",
            "P-value: 0.06830200317201793\n",
            "Degrees of Freedom: 2\n",
            "Expected Frequencies:\n",
            "[[26.48148148 26.48148148 12.03703704]\n",
            " [28.51851852 28.51851852 12.96296296]]\n"
          ]
        }
      ]
    },
    {
      "cell_type": "markdown",
      "source": [
        "**Interpretation:**\n",
        "\n",
        "With a p-value of 0.068 > significance level (alpha) 0.05, we do not have enough evidence to reject the null(H0).\n",
        "\n",
        "There is no significant association between gender and smartphone brand preference as the variables are independent."
      ],
      "metadata": {
        "id": "V5W5KHX8SiXU"
      }
    },
    {
      "cell_type": "markdown",
      "source": [
        "##2. Problem Statement:\n",
        "You are a data scientist analyzing the average response time (continuous) of two versions of a website feature. Conduct a test to determine if the average response time of Version A is significantly different from the expected average response time."
      ],
      "metadata": {
        "id": "XV243WkLCUKO"
      }
    },
    {
      "cell_type": "markdown",
      "source": [
        "**State the statistical test you will use, Variables (IV and DV), Hypotheses**\n",
        "\n",
        "Independent Variable is the website Version A and the expected average response time.\n",
        "\n",
        "Dependent Variable is the average response time(continuous)\n",
        "\n",
        "Null(H0): The average response time of Version A is not significantly different from the expected response time.\n",
        "\n",
        "Alternative(H1): The average response time of Version A is significantly different from the expected response time.\n",
        "\n",
        "We will need to compare the average response time of Version A to the expected average response time, I will use the one-sample t-test."
      ],
      "metadata": {
        "id": "BW0ybPqeUFOP"
      }
    },
    {
      "cell_type": "code",
      "source": [
        "import numpy as np\n",
        "from scipy.stats import ttest_ind"
      ],
      "metadata": {
        "id": "BOIdTmCuCahT"
      },
      "execution_count": null,
      "outputs": []
    },
    {
      "cell_type": "code",
      "execution_count": null,
      "metadata": {
        "id": "lfcvTl9uCahU"
      },
      "outputs": [],
      "source": [
        "# Data\n",
        "response_times_version_a = np.array([0.25, 0.28, 0.24, 0.26, 0.27])\n",
        "expected_average_time = 0.3  # hypothetical value"
      ]
    },
    {
      "cell_type": "code",
      "source": [
        "t_statistic, p_value = ttest_ind(response_times_version_a, expected_average_time)"
      ],
      "metadata": {
        "id": "jf_oN1n5YZWL"
      },
      "execution_count": null,
      "outputs": []
    },
    {
      "cell_type": "code",
      "source": [
        "# Perform two-sample t-test\n",
        "t_statistic, p_value = ttest_ind(response_times_version_a, expected_average_time)\n",
        "\n",
        "# Print the results\n",
        "print(f\"Two-Sample T-Test Results:\")\n",
        "print(f\"T-statistic: {t_statistic}\")\n",
        "print(f\"P-value: {p_value}\")\n",
        "\n",
        "# Interpret the results\n",
        "if p_value < 0.05:\n",
        "    print(\"The means of the two groups are significantly different.\")\n",
        "else:\n",
        "    print(\"There is no significant difference between the means of the two groups.\")"
      ],
      "metadata": {
        "colab": {
          "base_uri": "https://localhost:8080/"
        },
        "id": "shuWCvJMaUx1",
        "outputId": "2dc9451e-e16e-44f4-f9d3-acc14c51f254"
      },
      "execution_count": null,
      "outputs": [
        {
          "output_type": "stream",
          "name": "stdout",
          "text": [
            "Two-Sample T-Test Results:\n",
            "T-statistic: -2.3094010767585003\n",
            "P-value: 0.08208627983473407\n",
            "There is no significant difference between the means of the two groups.\n"
          ]
        }
      ]
    },
    {
      "cell_type": "markdown",
      "source": [
        "**Interpretation**\n",
        "\n",
        "p-value 0.082 > significance level (alpha) 0.05, we fail to reject the null hypothesis.  \n",
        "\n",
        "There is no significant difference between the average response time of Version A and the expected average response time. The average response time of Version A is not significantly different from the expected response time"
      ],
      "metadata": {
        "id": "WqlpsN9RaoTZ"
      }
    },
    {
      "cell_type": "markdown",
      "source": [
        "##3. Problem Statement:\n",
        "You have two datasets representing the scores of two groups of students (Group A and Group B) who underwent different teaching methods. Perform a test to determine if there is a significant difference in the mean scores of the two groups."
      ],
      "metadata": {
        "id": "KLmLg4MXCjk3"
      }
    },
    {
      "cell_type": "markdown",
      "source": [
        "**State the statistical test you will use, Variables (IV and DV), Hypotheses**\n",
        "\n",
        "2 group scores; 2 different teaching methods\n",
        "\n",
        "Independent Variable: Teaching Method A and B\n",
        "\n",
        "Dependent Variable: Test Scores\n",
        "\n",
        "Null(H0): There is no significant difference in the mean scores of the two groups who underwent different teaching methods.\n",
        "\n",
        "Alternative(H1): There is significant difference in the mean scores of the two groups who underwent different teaching methods.\n",
        "\n",
        "I will use Paired Samples T-Test."
      ],
      "metadata": {
        "id": "37pkgCpEj0_Q"
      }
    },
    {
      "cell_type": "code",
      "source": [
        "# Import libraries\n",
        "from scipy.stats import ttest_ind"
      ],
      "metadata": {
        "id": "svJg_uRyDlXX"
      },
      "execution_count": null,
      "outputs": []
    },
    {
      "cell_type": "code",
      "execution_count": null,
      "metadata": {
        "id": "_Mlh645NDlXd"
      },
      "outputs": [],
      "source": [
        "# Data\n",
        "group_a_scores = np.array([85, 88, 92, 78, 95, 89, 91])\n",
        "group_b_scores = np.array([76, 80, 82, 79, 88, 85, 87])"
      ]
    },
    {
      "cell_type": "code",
      "source": [
        "# Perform two-sample t-test\n",
        "t_statistic, p_value = ttest_ind(group_a_scores, group_b_scores)\n",
        "\n",
        "# Print the results\n",
        "print(f\"Two-Sample T-Test Results:\")\n",
        "print(f\"T-statistic: {t_statistic}\")\n",
        "print(f\"P-value: {p_value}\")\n",
        "\n",
        "# Interpret the results\n",
        "if p_value < 0.05:\n",
        "    print(\"The means of the two groups are significantly different.\")\n",
        "else:\n",
        "    print(\"There is no significant difference between the means of the two groups.\")"
      ],
      "metadata": {
        "colab": {
          "base_uri": "https://localhost:8080/"
        },
        "id": "fM2epVfBlVb0",
        "outputId": "5472fad1-4165-4292-fd0b-9c5731db0c7b"
      },
      "execution_count": null,
      "outputs": [
        {
          "output_type": "stream",
          "name": "stdout",
          "text": [
            "Two-Sample T-Test Results:\n",
            "T-statistic: 2.187379706640956\n",
            "P-value: 0.04923856926406315\n",
            "The means of the two groups are significantly different.\n"
          ]
        }
      ]
    },
    {
      "cell_type": "markdown",
      "source": [
        "**Interpretation**\n",
        "\n",
        "P-value 0.049 < significance level 0.05, we reject the null.  We reject there is no significant difference in the mean scores of the two groups who underwent different teaching methods."
      ],
      "metadata": {
        "id": "a4Mxk8cCoVNs"
      }
    },
    {
      "cell_type": "markdown",
      "source": [
        "##4. Problem Statement:\n",
        "You have test scores from three different teaching methods (Method A, Method B, Method C). Conduct a one-way ANOVA to determine if there is a significant difference in the mean scores among the three teaching methods."
      ],
      "metadata": {
        "id": "tQ4CsW01DzSJ"
      }
    },
    {
      "cell_type": "markdown",
      "source": [
        "**State the statistical test you will use, Variables (IV and DV), Hypotheses**\n",
        "\n",
        "Statistical Test: one-way ANOVA\n",
        "\n",
        "Independent variable: 3 teaching methods\n",
        "\n",
        "Dependent variable: scores\n",
        "\n",
        "Do any of these three samples differ from each other?\n",
        "\n",
        "Null(H0): There is no significant difference in the mean scores among the three teaching methods.\n",
        "\n",
        "Alternative(H1): There is significant difference in the mean scores among the three teaching methods."
      ],
      "metadata": {
        "id": "UF5yqVv8vXnR"
      }
    },
    {
      "cell_type": "code",
      "source": [
        "# Import libraries\n",
        "import numpy as np\n",
        "from scipy.stats import f_oneway"
      ],
      "metadata": {
        "id": "JGZWxN0ID-Ot"
      },
      "execution_count": null,
      "outputs": []
    },
    {
      "cell_type": "code",
      "execution_count": null,
      "metadata": {
        "id": "DVZ1d7eLD-Ou"
      },
      "outputs": [],
      "source": [
        "# Data\n",
        "method_a_scores = np.array([80, 85, 88, 82, 87])\n",
        "method_b_scores = np.array([75, 78, 80, 72, 79])\n",
        "method_c_scores = np.array([88, 92, 85, 90, 89])"
      ]
    },
    {
      "cell_type": "code",
      "source": [
        "# Perform one-way ANOVA\n",
        "f_statistic, p_value = f_oneway(method_a_scores, method_b_scores, method_c_scores)\n",
        "\n",
        "# Print the results\n",
        "print(f\"One-way ANOVA F-statistic: {f_statistic}\")\n",
        "print(f\"P-value: {p_value}\")\n",
        "\n",
        "# Interpret the results\n",
        "if p_value < 0.05:\n",
        "    print(\"There are significant differences between the group means.\")\n",
        "else:\n",
        "    print(\"There is no significant difference between the group means.\")"
      ],
      "metadata": {
        "colab": {
          "base_uri": "https://localhost:8080/"
        },
        "id": "8HsZ_LZVwYqD",
        "outputId": "09708757-ff12-4e53-b2f1-6be4296dc311"
      },
      "execution_count": null,
      "outputs": [
        {
          "output_type": "stream",
          "name": "stdout",
          "text": [
            "One-way ANOVA F-statistic: 19.261324041811857\n",
            "P-value: 0.0001795439780165966\n",
            "There are significant differences between the group means.\n"
          ]
        }
      ]
    },
    {
      "cell_type": "markdown",
      "source": [
        "**Interpretation**\n",
        "\n",
        "The calculated F-statistic is 19.261 (greater than alpha 0.05). This measures the ratio of variance between the groups to the variance within the groups. A larger F-statistic suggests larger differences between the group means relative to the variability within the group.\n",
        "\n",
        "P-value 0.0001 < significance level(alpha) 0.05.\n",
        "\n",
        "We reject there is no significant difference in the mean scores among the three teaching methods."
      ],
      "metadata": {
        "id": "jutfd1Jgwg7N"
      }
    }
  ]
}