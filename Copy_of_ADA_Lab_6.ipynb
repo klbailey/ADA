{
  "nbformat": 4,
  "nbformat_minor": 0,
  "metadata": {
    "colab": {
      "provenance": []
    },
    "kernelspec": {
      "name": "python3",
      "display_name": "Python 3"
    },
    "language_info": {
      "name": "python"
    }
  },
  "cells": [
    {
      "cell_type": "markdown",
      "source": [
        "# LAB 6"
      ],
      "metadata": {
        "id": "osT51zPUNnhw"
      }
    },
    {
      "cell_type": "markdown",
      "source": [
        "To our analyst, for the first step of this project, here are a few things we want to be done. Do it in whatever method you can think of. We will use SQL and Python.\n",
        "\n",
        "This dataset is an actual research survey dataset extracted directly from google forms. Real life data can look like this.\n",
        "\n",
        "\n",
        " Good luck!"
      ],
      "metadata": {
        "id": "MzIjGu5E8dpe"
      }
    },
    {
      "cell_type": "markdown",
      "source": [
        "#TASK 1:\n",
        "1. Open the survey sheet [Survey](https://docs.google.com/spreadsheets/d/1aS0-hcmZloRCT6zn2olOgEZvYh1fHJ5utET4i1RiaJk/edit#gid=0)\n",
        "2. make a copy\n",
        "3. set column names (Set them logically, in a way others will understand)\n",
        "    Open the file \"Questionnaire\" to see where the columns are from\n",
        "4. Download as Csv\n",
        "5. Upload it in your colab directory.\n"
      ],
      "metadata": {
        "id": "76r8T7NME46O"
      }
    },
    {
      "cell_type": "markdown",
      "source": [
        "1. Import your libraries"
      ],
      "metadata": {
        "id": "rXrShv1e87EK"
      }
    },
    {
      "cell_type": "code",
      "execution_count": null,
      "metadata": {
        "id": "py_2fmhj7FrU"
      },
      "outputs": [],
      "source": [
        "import pandas as pd\n",
        "import numpy as np\n",
        "import matplotlib.pyplot as plt\n",
        "import seaborn as sns"
      ]
    },
    {
      "cell_type": "markdown",
      "source": [
        "2. Import the csv file 'Survey.csv' into df"
      ],
      "metadata": {
        "id": "P59SvCGs8_F2"
      }
    },
    {
      "cell_type": "code",
      "source": [
        "# Read the CSV file into a DataFrame\n",
        "df = pd.read_csv('Survey.csv')\n",
        "\n",
        "column_names = df.columns\n",
        "print(column_names)"
      ],
      "metadata": {
        "id": "vPF0n2THWd1q",
        "colab": {
          "base_uri": "https://localhost:8080/"
        },
        "outputId": "5b3fc141-ff17-43b6-f7b3-e906fee07c64"
      },
      "execution_count": null,
      "outputs": [
        {
          "output_type": "stream",
          "name": "stdout",
          "text": [
            "Index(['Timestamp', 'Name', 'Age', 'Sex', 'Cell', 'From Bulacan',\n",
            "       'Extended Family', 'Household Size', 'Students in Household',\n",
            "       'Bill Contributors', 'Monthly Household Salary',\n",
            "       'Other Financial Assistance', 'Monthly Electric Budget',\n",
            "       'Owned Appliances', 'Month A', 'Month B', 'Month C', 'Amount',\n",
            "       'Frequency', 'Number of Students in Household', 'Electronics Owned',\n",
            "       'Struggle Paying Electric Bill', 'Failure Paying Electric Bill'],\n",
            "      dtype='object')\n"
          ]
        }
      ]
    },
    {
      "cell_type": "markdown",
      "source": [
        "3. Connect to a database, name the database 'Survey_Database.db'"
      ],
      "metadata": {
        "id": "DSLGVHrZ_ywO"
      }
    },
    {
      "cell_type": "code",
      "source": [
        "import sqlite3\n",
        "\n",
        "# Connect to the SQLite database (creates a new one if it doesn't exist)\n",
        "conn = sqlite3.connect('Survey_Database.db')\n"
      ],
      "metadata": {
        "id": "tlqlkbd6_-yP"
      },
      "execution_count": null,
      "outputs": []
    },
    {
      "cell_type": "markdown",
      "source": [
        "4. Add your dataframe to the database. Name the table 'Initial_Table'"
      ],
      "metadata": {
        "id": "5XZvvCpQAGXb"
      }
    },
    {
      "cell_type": "code",
      "source": [
        "# Add DataFrame to the database as a new table named 'Initial_Table'\n",
        "df.to_sql('Initial_Table', conn, index=False)"
      ],
      "metadata": {
        "id": "nrraEgA2AMIw",
        "colab": {
          "base_uri": "https://localhost:8080/"
        },
        "outputId": "ac5c9f3b-4893-4928-e9cb-555f7300a6be"
      },
      "execution_count": null,
      "outputs": [
        {
          "output_type": "execute_result",
          "data": {
            "text/plain": [
              "116"
            ]
          },
          "metadata": {},
          "execution_count": 4
        }
      ]
    },
    {
      "cell_type": "markdown",
      "source": [
        "5. Check column names"
      ],
      "metadata": {
        "id": "XSzmWKcMAbd3"
      }
    },
    {
      "cell_type": "code",
      "source": [
        "column_names = df.columns\n",
        "print(column_names)"
      ],
      "metadata": {
        "id": "DeEnxJe2Ag1n",
        "colab": {
          "base_uri": "https://localhost:8080/"
        },
        "outputId": "dfa54056-eebb-4be7-ffc4-3f499435bd25"
      },
      "execution_count": null,
      "outputs": [
        {
          "output_type": "stream",
          "name": "stdout",
          "text": [
            "Index(['Timestamp', 'Name', 'Age', 'Sex', 'Cell', 'From Bulacan',\n",
            "       'Extended Family', 'Household Size', 'Students in Household',\n",
            "       'Bill Contributors', 'Monthly Household Salary',\n",
            "       'Other Financial Assistance', 'Monthly Electric Budget',\n",
            "       'Owned Appliances', 'Month A', 'Month B', 'Month C', 'Amount',\n",
            "       'Frequency', 'Number of Students in Household', 'Electronics Owned',\n",
            "       'Struggle Paying Electric Bill', 'Failure Paying Electric Bill'],\n",
            "      dtype='object')\n"
          ]
        }
      ]
    },
    {
      "cell_type": "markdown",
      "source": [
        "6. Query: Make a table 'Initial_Table2' without the columns, timestamp, name, mobile number."
      ],
      "metadata": {
        "id": "sVkqAxDnBGro"
      }
    },
    {
      "cell_type": "code",
      "source": [
        "# Exclude specific columns\n",
        "columns_to_exclude = ['Timestamp', 'Name', 'Cell']\n",
        "df_filtered = df.drop(columns=columns_to_exclude)\n",
        "\n",
        "# Connect to the SQLite database\n",
        "conn = sqlite3.connect('Survey_Database.db')\n",
        "\n",
        "# Add filtered DataFrame to the database as a new table named 'Initial_Table2'\n",
        "df_filtered.to_sql('Initial_Table2', conn, index=False)\n",
        "\n",
        "# Close the connection when done\n",
        "conn.close()"
      ],
      "metadata": {
        "id": "NeO8OC39Bf-M"
      },
      "execution_count": null,
      "outputs": []
    },
    {
      "cell_type": "markdown",
      "source": [
        "7. Query: Only retrieve data of respondents from Bulacan."
      ],
      "metadata": {
        "id": "XQ579DkWI-sn"
      }
    },
    {
      "cell_type": "code",
      "source": [
        "# Connect to the SQLite database\n",
        "conn = sqlite3.connect('Survey_Database.db')\n",
        "# Define the SQL query to retrieve data of respondents from Bulacan\n",
        "sql_query = '''\n",
        "SELECT * FROM Initial_Table2\n",
        "WHERE [From Bulacan] = 'Yes'\n",
        "'''\n",
        "# Execute the query and fetch the results into a DataFrame\n",
        "bulacan_respondents_df = pd.read_sql_query(sql_query, conn)\n",
        "\n",
        "# Close the connection when done\n",
        "conn.close()"
      ],
      "metadata": {
        "id": "PCbQKDBUJWVl"
      },
      "execution_count": null,
      "outputs": []
    },
    {
      "cell_type": "markdown",
      "source": [
        "8. Make a table from the query in item 7, call it 'Main_Table'"
      ],
      "metadata": {
        "id": "AMN81CjgJQY7"
      }
    },
    {
      "cell_type": "code",
      "source": [
        "# Create a new table 'Main_Table' from the query results\n",
        "conn = sqlite3.connect('Survey_Database.db')\n",
        "# Create a new table 'Main_Table' from the query results, replacing the existing table if it exists\n",
        "bulacan_respondents_df.to_sql('Main_Table', conn, index=False, if_exists='replace')"
      ],
      "metadata": {
        "id": "MzqBsqkOKtGt",
        "colab": {
          "base_uri": "https://localhost:8080/"
        },
        "outputId": "59a0b209-cf95-4ac5-8ea2-093344ad1e04"
      },
      "execution_count": null,
      "outputs": [
        {
          "output_type": "execute_result",
          "data": {
            "text/plain": [
              "112"
            ]
          },
          "metadata": {},
          "execution_count": 8
        }
      ]
    },
    {
      "cell_type": "code",
      "source": [
        "# Close the connection when done\n",
        "conn.close()"
      ],
      "metadata": {
        "id": "nPSN8HuWVfEE"
      },
      "execution_count": null,
      "outputs": []
    },
    {
      "cell_type": "markdown",
      "source": [
        "9. Query: Retrieve responses with students in household"
      ],
      "metadata": {
        "id": "K5evC8TqKp09"
      }
    },
    {
      "cell_type": "code",
      "source": [
        "# Connect to the SQLite database\n",
        "conn = sqlite3.connect('Survey_Database.db')\n",
        "\n",
        "# Define the SQL query to retrieve responses with students in the household\n",
        "sql_query = '''\n",
        "SELECT * FROM Initial_Table2\n",
        "WHERE [Students in Household] = 'Yes'\n",
        "'''\n",
        "\n",
        "# Execute the query and fetch the results into a DataFrame\n",
        "students_household_df = pd.read_sql_query(sql_query, conn)\n",
        "\n",
        "# Close the connection when done\n",
        "conn.close()"
      ],
      "metadata": {
        "id": "gKB4NeR4LU5s"
      },
      "execution_count": null,
      "outputs": []
    },
    {
      "cell_type": "markdown",
      "source": [
        "10. Make a table from the Query in item 9. Call it 'With_Students'\n"
      ],
      "metadata": {
        "id": "rnscB0raahsR"
      }
    },
    {
      "cell_type": "code",
      "source": [
        "# Connect to the SQLite database\n",
        "conn = sqlite3.connect('Survey_Database.db')\n",
        "\n",
        "# Define the SQL query to retrieve responses with students in the household\n",
        "sql_query = '''\n",
        "SELECT * FROM Initial_Table2\n",
        "WHERE [Students in Household] = 'Yes'\n",
        "'''\n",
        "\n",
        "# Execute the query and fetch the results into a DataFrame\n",
        "students_household_df = pd.read_sql_query(sql_query, conn)\n",
        "\n",
        "# Create a new table 'With_Students' from the query results\n",
        "students_household_df.to_sql('With_Students', conn, index=False)\n",
        "\n",
        "# Close the connection when done\n",
        "conn.close()"
      ],
      "metadata": {
        "id": "rm7-55FeNgTZ"
      },
      "execution_count": null,
      "outputs": []
    },
    {
      "cell_type": "markdown",
      "source": [
        "11. Query: Retrieve responses from table 'With_Students' where students have at least a Laptop or a Desktop COmputer"
      ],
      "metadata": {
        "id": "7VLDRNhTLVwK"
      }
    },
    {
      "cell_type": "code",
      "source": [
        "# Connect to the SQLite database\n",
        "conn = sqlite3.connect('Survey_Database.db')\n",
        "\n",
        "# Define the SQL query to retrieve responses with students in the household and at least a Laptop or Desktop Computer\n",
        "sql_query = '''\n",
        "SELECT * FROM With_Students\n",
        "WHERE [Owned Appliances] LIKE '%Laptop%'\n",
        "OR [Owned Appliances] LIKE '%Desktop Computer%'\n",
        "'''\n",
        "\n",
        "# Execute the query and fetch the results into a DataFrame\n",
        "students_with_computer_df = pd.read_sql_query(sql_query, conn)\n",
        "\n",
        "# Close the connection when done\n",
        "conn.close()"
      ],
      "metadata": {
        "id": "YFknhJQRNgpt"
      },
      "execution_count": null,
      "outputs": []
    },
    {
      "cell_type": "markdown",
      "source": [
        "12. Show the existing tables in the current database."
      ],
      "metadata": {
        "id": "lM6zWCJmL9L8"
      }
    },
    {
      "cell_type": "code",
      "source": [
        "# Connect to the SQLite database\n",
        "conn = sqlite3.connect('Survey_Database.db')\n",
        "\n",
        "# Define the SQL query to retrieve the names of existing tables\n",
        "sql_query = \"SELECT name FROM sqlite_master WHERE type='table'\"\n",
        "\n",
        "# Execute the query and fetch the results into a DataFrame\n",
        "tables_df = pd.read_sql_query(sql_query, conn)\n",
        "\n",
        "# Display the existing tables\n",
        "print(tables_df)\n"
      ],
      "metadata": {
        "id": "gaP1Aq6vNhaP",
        "colab": {
          "base_uri": "https://localhost:8080/"
        },
        "outputId": "6edce08d-ef5b-49c4-e0ed-4a912c8194c7"
      },
      "execution_count": null,
      "outputs": [
        {
          "output_type": "stream",
          "name": "stdout",
          "text": [
            "             name\n",
            "0   Initial_Table\n",
            "1  Initial_Table2\n",
            "2      Main_Table\n",
            "3   With_Students\n"
          ]
        }
      ]
    },
    {
      "cell_type": "markdown",
      "source": [
        "13. Close the connection"
      ],
      "metadata": {
        "id": "mbb61hvrMJ8y"
      }
    },
    {
      "cell_type": "code",
      "source": [
        "# Close the connection when done\n",
        "conn.close()\n"
      ],
      "metadata": {
        "id": "9pvdYmQZNiEr"
      },
      "execution_count": null,
      "outputs": []
    },
    {
      "cell_type": "markdown",
      "source": [
        "14. Call the database again, verify if we have the new tables."
      ],
      "metadata": {
        "id": "oVn84_c1MSi4"
      }
    },
    {
      "cell_type": "code",
      "source": [
        "# Connect to the SQLite database\n",
        "conn = sqlite3.connect('Survey_Database.db')\n",
        "\n",
        "# Define the SQL query to retrieve the names of existing tables\n",
        "sql_query = \"SELECT name FROM sqlite_master WHERE type='table'\"\n",
        "\n",
        "# Execute the query and fetch the results into a DataFrame\n",
        "tables_df = pd.read_sql_query(sql_query, conn)\n",
        "\n",
        "# Close the connection when done\n",
        "conn.close()\n",
        "\n",
        "# Display the existing tables\n",
        "print(tables_df)\n"
      ],
      "metadata": {
        "id": "yTnc3SQXNizK",
        "colab": {
          "base_uri": "https://localhost:8080/"
        },
        "outputId": "32bf67ab-6d6e-4e59-a679-74c6c8c8c382"
      },
      "execution_count": null,
      "outputs": [
        {
          "output_type": "stream",
          "name": "stdout",
          "text": [
            "             name\n",
            "0   Initial_Table\n",
            "1  Initial_Table2\n",
            "2      Main_Table\n",
            "3   With_Students\n"
          ]
        }
      ]
    },
    {
      "cell_type": "markdown",
      "source": [
        "15. Drop both of the Initial Tables"
      ],
      "metadata": {
        "id": "8PovUJ-_MZ40"
      }
    },
    {
      "cell_type": "code",
      "source": [
        "# Connect to the SQLite database\n",
        "conn = sqlite3.connect('Survey_Database.db')\n",
        "\n",
        "# Define the SQL query to drop the 'Initial_Table' table\n",
        "sql_query_drop_initial1 = \"DROP TABLE IF EXISTS Initial_Table\"\n",
        "\n",
        "# Define the SQL query to drop the 'Initial_Table2' table\n",
        "sql_query_drop_initial2 = \"DROP TABLE IF EXISTS Initial_Table2\"\n",
        "\n",
        "# Execute the queries to drop the tables\n",
        "conn.execute(sql_query_drop_initial1)\n",
        "conn.execute(sql_query_drop_initial2)\n",
        "\n",
        "# Commit the transaction\n",
        "conn.commit()\n",
        "\n",
        "# Close the connection when done\n",
        "conn.close()\n"
      ],
      "metadata": {
        "id": "G1ubDtC9Njeh"
      },
      "execution_count": null,
      "outputs": []
    },
    {
      "cell_type": "code",
      "source": [
        "\n",
        "# Connect to the SQLite database\n",
        "conn = sqlite3.connect('Survey_Database.db')\n",
        "\n",
        "# Define the SQL query to retrieve the names of existing tables\n",
        "sql_query = \"SELECT name FROM sqlite_master WHERE type='table'\"\n",
        "\n",
        "# Execute the query and fetch the results into a list of table names\n",
        "tables = conn.execute(sql_query).fetchall()\n",
        "\n",
        "# Print the list of table names\n",
        "print(\"Existing Tables:\")\n",
        "for table in tables:\n",
        "    print(table[0])\n",
        "\n",
        "# Close the connection when done\n",
        "conn.close()"
      ],
      "metadata": {
        "colab": {
          "base_uri": "https://localhost:8080/"
        },
        "id": "KHhJUH1BkFz1",
        "outputId": "c3867bd7-a1fd-4d0e-f395-e54dfe91aeb5"
      },
      "execution_count": null,
      "outputs": [
        {
          "output_type": "stream",
          "name": "stdout",
          "text": [
            "Existing Tables:\n",
            "Main_Table\n",
            "With_Students\n"
          ]
        }
      ]
    },
    {
      "cell_type": "markdown",
      "source": [
        "# TURNING IN\n",
        "\n",
        "Turn the following files in:\n",
        "1. your .csv file\n",
        "2. your .db file\n",
        "3. your colab notebook link (Make me a commenter)"
      ],
      "metadata": {
        "id": "5Wt7YBnFMgg8"
      }
    }
  ]
}