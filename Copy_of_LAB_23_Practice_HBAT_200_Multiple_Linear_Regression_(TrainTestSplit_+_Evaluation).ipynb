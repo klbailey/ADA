{
  "nbformat": 4,
  "nbformat_minor": 0,
  "metadata": {
    "colab": {
      "provenance": []
    },
    "kernelspec": {
      "name": "python3",
      "display_name": "Python 3"
    },
    "language_info": {
      "name": "python"
    }
  },
  "cells": [
    {
      "cell_type": "markdown",
      "source": [
        "Use HBAT 200 Data and practice performing multiple linear regression involving TrainTestSPlit and Model Evaluation.\n",
        "\n",
        "This of the whole process as puzzle pieces that you have to put together in their proper places."
      ],
      "metadata": {
        "id": "ymGqxGKqJ0Yi"
      }
    },
    {
      "cell_type": "markdown",
      "source": [
        "ID\n",
        "\n",
        "X1 - Customer Type\n",
        "\n",
        "X2 - Industry Type\n",
        "\n",
        "X3 - Firm Size\n",
        "\n",
        "X4 - Region\n",
        "\n",
        "X5 - Distribution System\n",
        "\n",
        "X6 - Product Quality\n",
        "\n",
        "X7 - E-Commerce\n",
        "\n",
        "X8 - Technical Support\n",
        "\n",
        "X9 - Complaint Resolution\n",
        "\n",
        "X10 - Advertising\n",
        "\n",
        "X11 - Product Line\n",
        "\n",
        "X12 - Salesforce Image\n",
        "\n",
        "\n",
        "X13 - Competitive Pricing\n",
        "X14 - Warranty & Claims\n",
        "\n",
        "X15 - New Products\n",
        "\n",
        "X16 - Order & Billing\n",
        "\n",
        "X17 - Price Flexibility\n",
        "\n",
        "X18 - Delivery Speed\n",
        "\n",
        "X19 - Satisfaction\n",
        "\n",
        "X20 - Likely to Recommend\n",
        "\n",
        "X21 - Likely to Purchase\n",
        "\n",
        "X22 - Purchase Level\n",
        "\n",
        "X23 - Consider Strategic Alliance"
      ],
      "metadata": {
        "id": "33ZIB1V_xXW1"
      }
    },
    {
      "cell_type": "markdown",
      "source": [
        "Independent Variable / Predictors are quantitative/continuous. The variable can take a on a range of values and it will have meaningful order (eg. age, income, time).\n",
        "\n",
        "Dependent Variable / Outcome Variables should be quantitative/continuous (eg. sales, height, test scores). Here possibly X19 - Satisfaction, X20 - Likely to Recommend,\n",
        "X21 - Likely to Purchase, X22 - Purchase Level."
      ],
      "metadata": {
        "id": "kQX0xX5by1pz"
      }
    },
    {
      "cell_type": "markdown",
      "source": [
        "**1. Linear Regression**"
      ],
      "metadata": {
        "id": "yJJ9VhCVv0JY"
      }
    },
    {
      "cell_type": "markdown",
      "source": [
        "Import libraries and read/display .csv"
      ],
      "metadata": {
        "id": "gKpqpwHFwNd5"
      }
    },
    {
      "cell_type": "code",
      "source": [
        "import pandas as pd\n",
        "import numpy as np\n",
        "\n",
        "# Create a DataFrame\n",
        "df = pd.read_csv('HBAT-200-Data.csv')\n",
        "\n",
        "# Display the first few rows of the dataset\n",
        "df.head()"
      ],
      "metadata": {
        "colab": {
          "base_uri": "https://localhost:8080/",
          "height": 235
        },
        "id": "GTrxek3awOQG",
        "outputId": "a7c69b31-6d51-4b83-d40d-1c2f9f56bd29"
      },
      "execution_count": null,
      "outputs": [
        {
          "output_type": "execute_result",
          "data": {
            "text/plain": [
              "   ID  X1  X2  X3  X4  X5   X6   X7   X8   X9  ...  X14  X15  X16  X17  X18  \\\n",
              "0   1   2   0   1   1   1  8.5  3.9  2.5  5.9  ...  4.7  4.3  5.0  5.1  3.7   \n",
              "1   2   3   1   0   0   0  8.2  2.7  5.1  7.2  ...  5.5  4.0  3.9  4.3  4.9   \n",
              "2   3   3   0   1   1   1  9.2  3.4  5.6  5.6  ...  6.2  4.6  5.4  4.0  4.5   \n",
              "3   4   1   1   1   1   0  6.4  3.3  7.0  3.7  ...  7.0  3.6  4.3  4.1  3.0   \n",
              "4   5   2   0   1   0   1  9.0  3.4  5.2  4.6  ...  6.1  4.5  4.5  3.5  3.5   \n",
              "\n",
              "   X19  X20  X21   X22  X23  \n",
              "0  8.2  8.0  8.4  65.1    1  \n",
              "1  5.7  6.5  7.5  67.1    0  \n",
              "2  8.9  8.4  9.0  72.1    1  \n",
              "3  4.8  6.0  7.2  40.1    0  \n",
              "4  7.1  6.6  9.0  57.1    0  \n",
              "\n",
              "[5 rows x 24 columns]"
            ],
            "text/html": [
              "\n",
              "  <div id=\"df-88e7ecc7-cdd4-4a46-8b3c-f03c08be4c9e\" class=\"colab-df-container\">\n",
              "    <div>\n",
              "<style scoped>\n",
              "    .dataframe tbody tr th:only-of-type {\n",
              "        vertical-align: middle;\n",
              "    }\n",
              "\n",
              "    .dataframe tbody tr th {\n",
              "        vertical-align: top;\n",
              "    }\n",
              "\n",
              "    .dataframe thead th {\n",
              "        text-align: right;\n",
              "    }\n",
              "</style>\n",
              "<table border=\"1\" class=\"dataframe\">\n",
              "  <thead>\n",
              "    <tr style=\"text-align: right;\">\n",
              "      <th></th>\n",
              "      <th>ID</th>\n",
              "      <th>X1</th>\n",
              "      <th>X2</th>\n",
              "      <th>X3</th>\n",
              "      <th>X4</th>\n",
              "      <th>X5</th>\n",
              "      <th>X6</th>\n",
              "      <th>X7</th>\n",
              "      <th>X8</th>\n",
              "      <th>X9</th>\n",
              "      <th>...</th>\n",
              "      <th>X14</th>\n",
              "      <th>X15</th>\n",
              "      <th>X16</th>\n",
              "      <th>X17</th>\n",
              "      <th>X18</th>\n",
              "      <th>X19</th>\n",
              "      <th>X20</th>\n",
              "      <th>X21</th>\n",
              "      <th>X22</th>\n",
              "      <th>X23</th>\n",
              "    </tr>\n",
              "  </thead>\n",
              "  <tbody>\n",
              "    <tr>\n",
              "      <th>0</th>\n",
              "      <td>1</td>\n",
              "      <td>2</td>\n",
              "      <td>0</td>\n",
              "      <td>1</td>\n",
              "      <td>1</td>\n",
              "      <td>1</td>\n",
              "      <td>8.5</td>\n",
              "      <td>3.9</td>\n",
              "      <td>2.5</td>\n",
              "      <td>5.9</td>\n",
              "      <td>...</td>\n",
              "      <td>4.7</td>\n",
              "      <td>4.3</td>\n",
              "      <td>5.0</td>\n",
              "      <td>5.1</td>\n",
              "      <td>3.7</td>\n",
              "      <td>8.2</td>\n",
              "      <td>8.0</td>\n",
              "      <td>8.4</td>\n",
              "      <td>65.1</td>\n",
              "      <td>1</td>\n",
              "    </tr>\n",
              "    <tr>\n",
              "      <th>1</th>\n",
              "      <td>2</td>\n",
              "      <td>3</td>\n",
              "      <td>1</td>\n",
              "      <td>0</td>\n",
              "      <td>0</td>\n",
              "      <td>0</td>\n",
              "      <td>8.2</td>\n",
              "      <td>2.7</td>\n",
              "      <td>5.1</td>\n",
              "      <td>7.2</td>\n",
              "      <td>...</td>\n",
              "      <td>5.5</td>\n",
              "      <td>4.0</td>\n",
              "      <td>3.9</td>\n",
              "      <td>4.3</td>\n",
              "      <td>4.9</td>\n",
              "      <td>5.7</td>\n",
              "      <td>6.5</td>\n",
              "      <td>7.5</td>\n",
              "      <td>67.1</td>\n",
              "      <td>0</td>\n",
              "    </tr>\n",
              "    <tr>\n",
              "      <th>2</th>\n",
              "      <td>3</td>\n",
              "      <td>3</td>\n",
              "      <td>0</td>\n",
              "      <td>1</td>\n",
              "      <td>1</td>\n",
              "      <td>1</td>\n",
              "      <td>9.2</td>\n",
              "      <td>3.4</td>\n",
              "      <td>5.6</td>\n",
              "      <td>5.6</td>\n",
              "      <td>...</td>\n",
              "      <td>6.2</td>\n",
              "      <td>4.6</td>\n",
              "      <td>5.4</td>\n",
              "      <td>4.0</td>\n",
              "      <td>4.5</td>\n",
              "      <td>8.9</td>\n",
              "      <td>8.4</td>\n",
              "      <td>9.0</td>\n",
              "      <td>72.1</td>\n",
              "      <td>1</td>\n",
              "    </tr>\n",
              "    <tr>\n",
              "      <th>3</th>\n",
              "      <td>4</td>\n",
              "      <td>1</td>\n",
              "      <td>1</td>\n",
              "      <td>1</td>\n",
              "      <td>1</td>\n",
              "      <td>0</td>\n",
              "      <td>6.4</td>\n",
              "      <td>3.3</td>\n",
              "      <td>7.0</td>\n",
              "      <td>3.7</td>\n",
              "      <td>...</td>\n",
              "      <td>7.0</td>\n",
              "      <td>3.6</td>\n",
              "      <td>4.3</td>\n",
              "      <td>4.1</td>\n",
              "      <td>3.0</td>\n",
              "      <td>4.8</td>\n",
              "      <td>6.0</td>\n",
              "      <td>7.2</td>\n",
              "      <td>40.1</td>\n",
              "      <td>0</td>\n",
              "    </tr>\n",
              "    <tr>\n",
              "      <th>4</th>\n",
              "      <td>5</td>\n",
              "      <td>2</td>\n",
              "      <td>0</td>\n",
              "      <td>1</td>\n",
              "      <td>0</td>\n",
              "      <td>1</td>\n",
              "      <td>9.0</td>\n",
              "      <td>3.4</td>\n",
              "      <td>5.2</td>\n",
              "      <td>4.6</td>\n",
              "      <td>...</td>\n",
              "      <td>6.1</td>\n",
              "      <td>4.5</td>\n",
              "      <td>4.5</td>\n",
              "      <td>3.5</td>\n",
              "      <td>3.5</td>\n",
              "      <td>7.1</td>\n",
              "      <td>6.6</td>\n",
              "      <td>9.0</td>\n",
              "      <td>57.1</td>\n",
              "      <td>0</td>\n",
              "    </tr>\n",
              "  </tbody>\n",
              "</table>\n",
              "<p>5 rows × 24 columns</p>\n",
              "</div>\n",
              "    <div class=\"colab-df-buttons\">\n",
              "\n",
              "  <div class=\"colab-df-container\">\n",
              "    <button class=\"colab-df-convert\" onclick=\"convertToInteractive('df-88e7ecc7-cdd4-4a46-8b3c-f03c08be4c9e')\"\n",
              "            title=\"Convert this dataframe to an interactive table.\"\n",
              "            style=\"display:none;\">\n",
              "\n",
              "  <svg xmlns=\"http://www.w3.org/2000/svg\" height=\"24px\" viewBox=\"0 -960 960 960\">\n",
              "    <path d=\"M120-120v-720h720v720H120Zm60-500h600v-160H180v160Zm220 220h160v-160H400v160Zm0 220h160v-160H400v160ZM180-400h160v-160H180v160Zm440 0h160v-160H620v160ZM180-180h160v-160H180v160Zm440 0h160v-160H620v160Z\"/>\n",
              "  </svg>\n",
              "    </button>\n",
              "\n",
              "  <style>\n",
              "    .colab-df-container {\n",
              "      display:flex;\n",
              "      gap: 12px;\n",
              "    }\n",
              "\n",
              "    .colab-df-convert {\n",
              "      background-color: #E8F0FE;\n",
              "      border: none;\n",
              "      border-radius: 50%;\n",
              "      cursor: pointer;\n",
              "      display: none;\n",
              "      fill: #1967D2;\n",
              "      height: 32px;\n",
              "      padding: 0 0 0 0;\n",
              "      width: 32px;\n",
              "    }\n",
              "\n",
              "    .colab-df-convert:hover {\n",
              "      background-color: #E2EBFA;\n",
              "      box-shadow: 0px 1px 2px rgba(60, 64, 67, 0.3), 0px 1px 3px 1px rgba(60, 64, 67, 0.15);\n",
              "      fill: #174EA6;\n",
              "    }\n",
              "\n",
              "    .colab-df-buttons div {\n",
              "      margin-bottom: 4px;\n",
              "    }\n",
              "\n",
              "    [theme=dark] .colab-df-convert {\n",
              "      background-color: #3B4455;\n",
              "      fill: #D2E3FC;\n",
              "    }\n",
              "\n",
              "    [theme=dark] .colab-df-convert:hover {\n",
              "      background-color: #434B5C;\n",
              "      box-shadow: 0px 1px 3px 1px rgba(0, 0, 0, 0.15);\n",
              "      filter: drop-shadow(0px 1px 2px rgba(0, 0, 0, 0.3));\n",
              "      fill: #FFFFFF;\n",
              "    }\n",
              "  </style>\n",
              "\n",
              "    <script>\n",
              "      const buttonEl =\n",
              "        document.querySelector('#df-88e7ecc7-cdd4-4a46-8b3c-f03c08be4c9e button.colab-df-convert');\n",
              "      buttonEl.style.display =\n",
              "        google.colab.kernel.accessAllowed ? 'block' : 'none';\n",
              "\n",
              "      async function convertToInteractive(key) {\n",
              "        const element = document.querySelector('#df-88e7ecc7-cdd4-4a46-8b3c-f03c08be4c9e');\n",
              "        const dataTable =\n",
              "          await google.colab.kernel.invokeFunction('convertToInteractive',\n",
              "                                                    [key], {});\n",
              "        if (!dataTable) return;\n",
              "\n",
              "        const docLinkHtml = 'Like what you see? Visit the ' +\n",
              "          '<a target=\"_blank\" href=https://colab.research.google.com/notebooks/data_table.ipynb>data table notebook</a>'\n",
              "          + ' to learn more about interactive tables.';\n",
              "        element.innerHTML = '';\n",
              "        dataTable['output_type'] = 'display_data';\n",
              "        await google.colab.output.renderOutput(dataTable, element);\n",
              "        const docLink = document.createElement('div');\n",
              "        docLink.innerHTML = docLinkHtml;\n",
              "        element.appendChild(docLink);\n",
              "      }\n",
              "    </script>\n",
              "  </div>\n",
              "\n",
              "\n",
              "<div id=\"df-a46abf93-6769-4ad3-a8a7-48c9f830a1de\">\n",
              "  <button class=\"colab-df-quickchart\" onclick=\"quickchart('df-a46abf93-6769-4ad3-a8a7-48c9f830a1de')\"\n",
              "            title=\"Suggest charts\"\n",
              "            style=\"display:none;\">\n",
              "\n",
              "<svg xmlns=\"http://www.w3.org/2000/svg\" height=\"24px\"viewBox=\"0 0 24 24\"\n",
              "     width=\"24px\">\n",
              "    <g>\n",
              "        <path d=\"M19 3H5c-1.1 0-2 .9-2 2v14c0 1.1.9 2 2 2h14c1.1 0 2-.9 2-2V5c0-1.1-.9-2-2-2zM9 17H7v-7h2v7zm4 0h-2V7h2v10zm4 0h-2v-4h2v4z\"/>\n",
              "    </g>\n",
              "</svg>\n",
              "  </button>\n",
              "\n",
              "<style>\n",
              "  .colab-df-quickchart {\n",
              "      --bg-color: #E8F0FE;\n",
              "      --fill-color: #1967D2;\n",
              "      --hover-bg-color: #E2EBFA;\n",
              "      --hover-fill-color: #174EA6;\n",
              "      --disabled-fill-color: #AAA;\n",
              "      --disabled-bg-color: #DDD;\n",
              "  }\n",
              "\n",
              "  [theme=dark] .colab-df-quickchart {\n",
              "      --bg-color: #3B4455;\n",
              "      --fill-color: #D2E3FC;\n",
              "      --hover-bg-color: #434B5C;\n",
              "      --hover-fill-color: #FFFFFF;\n",
              "      --disabled-bg-color: #3B4455;\n",
              "      --disabled-fill-color: #666;\n",
              "  }\n",
              "\n",
              "  .colab-df-quickchart {\n",
              "    background-color: var(--bg-color);\n",
              "    border: none;\n",
              "    border-radius: 50%;\n",
              "    cursor: pointer;\n",
              "    display: none;\n",
              "    fill: var(--fill-color);\n",
              "    height: 32px;\n",
              "    padding: 0;\n",
              "    width: 32px;\n",
              "  }\n",
              "\n",
              "  .colab-df-quickchart:hover {\n",
              "    background-color: var(--hover-bg-color);\n",
              "    box-shadow: 0 1px 2px rgba(60, 64, 67, 0.3), 0 1px 3px 1px rgba(60, 64, 67, 0.15);\n",
              "    fill: var(--button-hover-fill-color);\n",
              "  }\n",
              "\n",
              "  .colab-df-quickchart-complete:disabled,\n",
              "  .colab-df-quickchart-complete:disabled:hover {\n",
              "    background-color: var(--disabled-bg-color);\n",
              "    fill: var(--disabled-fill-color);\n",
              "    box-shadow: none;\n",
              "  }\n",
              "\n",
              "  .colab-df-spinner {\n",
              "    border: 2px solid var(--fill-color);\n",
              "    border-color: transparent;\n",
              "    border-bottom-color: var(--fill-color);\n",
              "    animation:\n",
              "      spin 1s steps(1) infinite;\n",
              "  }\n",
              "\n",
              "  @keyframes spin {\n",
              "    0% {\n",
              "      border-color: transparent;\n",
              "      border-bottom-color: var(--fill-color);\n",
              "      border-left-color: var(--fill-color);\n",
              "    }\n",
              "    20% {\n",
              "      border-color: transparent;\n",
              "      border-left-color: var(--fill-color);\n",
              "      border-top-color: var(--fill-color);\n",
              "    }\n",
              "    30% {\n",
              "      border-color: transparent;\n",
              "      border-left-color: var(--fill-color);\n",
              "      border-top-color: var(--fill-color);\n",
              "      border-right-color: var(--fill-color);\n",
              "    }\n",
              "    40% {\n",
              "      border-color: transparent;\n",
              "      border-right-color: var(--fill-color);\n",
              "      border-top-color: var(--fill-color);\n",
              "    }\n",
              "    60% {\n",
              "      border-color: transparent;\n",
              "      border-right-color: var(--fill-color);\n",
              "    }\n",
              "    80% {\n",
              "      border-color: transparent;\n",
              "      border-right-color: var(--fill-color);\n",
              "      border-bottom-color: var(--fill-color);\n",
              "    }\n",
              "    90% {\n",
              "      border-color: transparent;\n",
              "      border-bottom-color: var(--fill-color);\n",
              "    }\n",
              "  }\n",
              "</style>\n",
              "\n",
              "  <script>\n",
              "    async function quickchart(key) {\n",
              "      const quickchartButtonEl =\n",
              "        document.querySelector('#' + key + ' button');\n",
              "      quickchartButtonEl.disabled = true;  // To prevent multiple clicks.\n",
              "      quickchartButtonEl.classList.add('colab-df-spinner');\n",
              "      try {\n",
              "        const charts = await google.colab.kernel.invokeFunction(\n",
              "            'suggestCharts', [key], {});\n",
              "      } catch (error) {\n",
              "        console.error('Error during call to suggestCharts:', error);\n",
              "      }\n",
              "      quickchartButtonEl.classList.remove('colab-df-spinner');\n",
              "      quickchartButtonEl.classList.add('colab-df-quickchart-complete');\n",
              "    }\n",
              "    (() => {\n",
              "      let quickchartButtonEl =\n",
              "        document.querySelector('#df-a46abf93-6769-4ad3-a8a7-48c9f830a1de button');\n",
              "      quickchartButtonEl.style.display =\n",
              "        google.colab.kernel.accessAllowed ? 'block' : 'none';\n",
              "    })();\n",
              "  </script>\n",
              "</div>\n",
              "\n",
              "    </div>\n",
              "  </div>\n"
            ],
            "application/vnd.google.colaboratory.intrinsic+json": {
              "type": "dataframe",
              "variable_name": "df"
            }
          },
          "metadata": {},
          "execution_count": 1
        }
      ]
    },
    {
      "cell_type": "markdown",
      "source": [
        "Identify target"
      ],
      "metadata": {
        "id": "ySmroh62N7xh"
      }
    },
    {
      "cell_type": "code",
      "source": [
        "# Calculate correlations between all columns (this computes the Pearson correlation coefficients between all pairs of numeric columns in the DataFrame)\n",
        "correlations = df.corr()\n",
        "\n",
        "# Identify potential features based on correlation with other columns\n",
        "# Exclude highly correlated columns and non-numeric columns like 'ID'\n",
        "exclude_columns = ['ID']\n",
        "\n",
        "# Filter out non-numeric columns and excluded columns\n",
        "numeric_columns = df.select_dtypes(include=[np.number]).columns # selects only numeric columns\n",
        "filtered_features = [col for col in numeric_columns if col not in exclude_columns]\n",
        "\n",
        "# Determine the target variable\n",
        "# Find the column with the highest average correlation with other columns\n",
        "avg_correlations = correlations.abs().mean() # computes mean of absolute correlation values for each column\n",
        "target_variable = avg_correlations.idxmax() # identifies column w/highest average correlation (idxmax - index max)\n",
        "\n",
        "# Define the feature matrix X and target variable y\n",
        "X = df[filtered_features] # creates matrix x w/identified feature colulmns\n",
        "y = df[target_variable] # sets target y to identified target column\n",
        "\n",
        "# Display the identified features and target variable\n",
        "print(\"\\nIdentified Features:\")\n",
        "print(filtered_features)\n",
        "print(\"\\nTarget Variable:\")\n",
        "print(target_variable)\n"
      ],
      "metadata": {
        "colab": {
          "base_uri": "https://localhost:8080/"
        },
        "id": "T5qS0d82N99Y",
        "outputId": "1432f3b6-0a59-4175-da0f-c6dda4df1c4c"
      },
      "execution_count": null,
      "outputs": [
        {
          "output_type": "stream",
          "name": "stdout",
          "text": [
            "\n",
            "Identified Features:\n",
            "['X1', 'X2', 'X3', 'X4', 'X5', 'X6', 'X7', 'X8', 'X9', 'X10', 'X11', 'X12', 'X13', 'X14', 'X15', 'X16', 'X17', 'X18', 'X19', 'X20', 'X21', 'X22', 'X23']\n",
            "\n",
            "Target Variable:\n",
            "X19\n"
          ]
        }
      ]
    },
    {
      "cell_type": "markdown",
      "source": [
        "Target (y) is X19.\n",
        "\n",
        "What factors influence X19 Satisfaction?\n",
        "\n",
        "Possibly:<br>X6-Product Quality<br>\n",
        "X7-E-Commerce<br>\n",
        "X8-Technical Support<br>X9-Complaint Resolution<br>X10-Advertising<br>X11-Product Line<br>X12-Salesforce Image<br> X13-Competitive Pricing<br>X14-Warranty & Claims<br>X15-New Products<br>X16-Order & Billing<br>X17-Price Flexibility<br>X18-Delivery Speed\n",
        "\n",
        "##Initial Model:"
      ],
      "metadata": {
        "id": "pJAQsl6HO9Gu"
      }
    },
    {
      "cell_type": "code",
      "source": [
        "import statsmodels.api as sm\n",
        "\n",
        "# Prepare data for regression\n",
        "X = df[['X6', 'X7', 'X8', 'X9', 'X10', 'X11', 'X12', 'X13', 'X14', 'X15', 'X16', 'X17', 'X18']]  # IVs\n",
        "y = df['X19']  # DV\n",
        "\n",
        "#This time we investigate ratings starting from X6 to X18\n",
        "\n",
        "# Add a constant term for the intercept\n",
        "X = sm.add_constant(X)\n",
        "\n",
        "# Fit the regression model\n",
        "model = sm.OLS(y, X).fit()\n",
        "\n",
        "# Print model summary\n",
        "print(model.summary())"
      ],
      "metadata": {
        "colab": {
          "base_uri": "https://localhost:8080/"
        },
        "id": "2h6XLgD2yExX",
        "outputId": "7990658b-8772-42f8-8a7e-2bd183eca490"
      },
      "execution_count": null,
      "outputs": [
        {
          "output_type": "stream",
          "name": "stdout",
          "text": [
            "                            OLS Regression Results                            \n",
            "==============================================================================\n",
            "Dep. Variable:                    X19   R-squared:                       0.804\n",
            "Model:                            OLS   Adj. R-squared:                  0.790\n",
            "Method:                 Least Squares   F-statistic:                     58.76\n",
            "Date:                Thu, 04 Jul 2024   Prob (F-statistic):           1.20e-58\n",
            "Time:                        03:45:54   Log-Likelihood:                -163.44\n",
            "No. Observations:                 200   AIC:                             354.9\n",
            "Df Residuals:                     186   BIC:                             401.1\n",
            "Df Model:                          13                                         \n",
            "Covariance Type:            nonrobust                                         \n",
            "==============================================================================\n",
            "                 coef    std err          t      P>|t|      [0.025      0.975]\n",
            "------------------------------------------------------------------------------\n",
            "const         -2.2549      0.789     -2.859      0.005      -3.811      -0.699\n",
            "X6             0.4118      0.038     10.879      0.000       0.337       0.486\n",
            "X7            -0.2639      0.087     -3.044      0.003      -0.435      -0.093\n",
            "X8             0.0307      0.046      0.669      0.505      -0.060       0.121\n",
            "X9             0.0993      0.073      1.366      0.173      -0.044       0.243\n",
            "X10           -0.0339      0.047     -0.714      0.476      -0.127       0.060\n",
            "X11            0.3471      0.186      1.862      0.064      -0.021       0.715\n",
            "X12            0.6290      0.068      9.194      0.000       0.494       0.764\n",
            "X13           -0.0640      0.033     -1.965      0.051      -0.128       0.000\n",
            "X14            0.0023      0.089      0.026      0.979      -0.174       0.178\n",
            "X15            0.0334      0.028      1.185      0.237      -0.022       0.089\n",
            "X16            0.0303      0.073      0.413      0.680      -0.114       0.175\n",
            "X17            0.2625      0.193      1.358      0.176      -0.119       0.644\n",
            "X18            0.0084      0.375      0.022      0.982      -0.732       0.748\n",
            "==============================================================================\n",
            "Omnibus:                       14.294   Durbin-Watson:                   2.377\n",
            "Prob(Omnibus):                  0.001   Jarque-Bera (JB):               15.695\n",
            "Skew:                          -0.685   Prob(JB):                     0.000391\n",
            "Kurtosis:                       3.081   Cond. No.                         417.\n",
            "==============================================================================\n",
            "\n",
            "Notes:\n",
            "[1] Standard Errors assume that the covariance matrix of the errors is correctly specified.\n"
          ]
        }
      ]
    },
    {
      "cell_type": "markdown",
      "source": [
        "##Model Selection/Optimization through backward elimination"
      ],
      "metadata": {
        "id": "fs--OzNF3CrQ"
      }
    },
    {
      "cell_type": "code",
      "source": [
        "import pandas as pd\n",
        "from sklearn.feature_selection import SequentialFeatureSelector\n",
        "from sklearn.linear_model import LinearRegression\n",
        "\n",
        "# Create a linear regression model\n",
        "model = LinearRegression()\n",
        "\n",
        "# Create a SequentialFeatureSelector for backward elimination\n",
        "selector = SequentialFeatureSelector(model, direction='backward', n_features_to_select=None, scoring='neg_mean_squared_error')\n",
        "\n",
        "# Fit the selector on the entire dataset\n",
        "selector.fit(X, y)\n",
        "\n",
        "# Get the selected features\n",
        "selected_features = X.columns[selector.get_support()]\n",
        "\n",
        "# Print the selected features\n",
        "print(\"Selected Features:\", selected_features)\n",
        "\n",
        "# Fit the final model using the selected features\n",
        "final_model = LinearRegression().fit(X[selected_features], y)\n",
        "\n",
        "# Print the summary of the final model\n",
        "print(\"Final Model Summary:\")\n",
        "print(\"R-squared:\", final_model.score(X[selected_features], y))"
      ],
      "metadata": {
        "colab": {
          "base_uri": "https://localhost:8080/"
        },
        "id": "MQyxSB9gYsJ3",
        "outputId": "0baf68e0-f6bc-4f93-bd49-e9358093ae76"
      },
      "execution_count": null,
      "outputs": [
        {
          "output_type": "stream",
          "name": "stderr",
          "text": [
            "/usr/local/lib/python3.10/dist-packages/sklearn/feature_selection/_sequential.py:211: FutureWarning: Leaving `n_features_to_select` to None is deprecated in 1.0 and will become 'auto' in 1.3. To keep the same behaviour as with None (i.e. select half of the features) and avoid this warning, you should manually set `n_features_to_select='auto'` and set tol=None when creating an instance.\n",
            "  warnings.warn(\n"
          ]
        },
        {
          "output_type": "stream",
          "name": "stdout",
          "text": [
            "Selected Features: Index(['X6', 'X7', 'X9', 'X11', 'X12', 'X13', 'X17'], dtype='object')\n",
            "Final Model Summary:\n",
            "R-squared: 0.8002523036662732\n"
          ]
        }
      ]
    },
    {
      "cell_type": "markdown",
      "source": [
        "##Model with Selected Features\n",
        "\n",
        "['X6', 'X7', 'X9', 'X11', 'X12', 'X13', 'X17']"
      ],
      "metadata": {
        "id": "HJMu0wuy3XJi"
      }
    },
    {
      "cell_type": "code",
      "source": [
        "# Prepare data for regression\n",
        "X = df[['X6', 'X7', 'X9', 'X11', 'X12', 'X13', 'X17']]  # IVs\n",
        "y = df['X19']  # DV\n",
        "\n",
        "# Add a constant term for the intercept\n",
        "X = sm.add_constant(X)\n",
        "\n",
        "# Fit the regression model\n",
        "model = sm.OLS(y, X).fit()\n",
        "\n",
        "# Print model summary\n",
        "print(model.summary())"
      ],
      "metadata": {
        "colab": {
          "base_uri": "https://localhost:8080/"
        },
        "id": "ujiN1rDB3f6O",
        "outputId": "a7dda61f-16d8-406d-bc80-72f31fff9ea9"
      },
      "execution_count": null,
      "outputs": [
        {
          "output_type": "stream",
          "name": "stdout",
          "text": [
            "                            OLS Regression Results                            \n",
            "==============================================================================\n",
            "Dep. Variable:                    X19   R-squared:                       0.800\n",
            "Model:                            OLS   Adj. R-squared:                  0.793\n",
            "Method:                 Least Squares   F-statistic:                     109.9\n",
            "Date:                Thu, 04 Jul 2024   Prob (F-statistic):           1.15e-63\n",
            "Time:                        03:51:06   Log-Likelihood:                -165.42\n",
            "No. Observations:                 200   AIC:                             346.8\n",
            "Df Residuals:                     192   BIC:                             373.2\n",
            "Df Model:                           7                                         \n",
            "Covariance Type:            nonrobust                                         \n",
            "==============================================================================\n",
            "                 coef    std err          t      P>|t|      [0.025      0.975]\n",
            "------------------------------------------------------------------------------\n",
            "const         -2.0262      0.512     -3.954      0.000      -3.037      -1.016\n",
            "X6             0.4192      0.037     11.329      0.000       0.346       0.492\n",
            "X7            -0.2804      0.086     -3.277      0.001      -0.449      -0.112\n",
            "X9             0.1112      0.067      1.654      0.100      -0.021       0.244\n",
            "X11            0.3604      0.062      5.801      0.000       0.238       0.483\n",
            "X12            0.6235      0.060     10.475      0.000       0.506       0.741\n",
            "X13           -0.0688      0.032     -2.153      0.033      -0.132      -0.006\n",
            "X17            0.2778      0.064      4.357      0.000       0.152       0.404\n",
            "==============================================================================\n",
            "Omnibus:                       15.332   Durbin-Watson:                   2.391\n",
            "Prob(Omnibus):                  0.000   Jarque-Bera (JB):               16.976\n",
            "Skew:                          -0.711   Prob(JB):                     0.000206\n",
            "Kurtosis:                       3.120   Cond. No.                         199.\n",
            "==============================================================================\n",
            "\n",
            "Notes:\n",
            "[1] Standard Errors assume that the covariance matrix of the errors is correctly specified.\n"
          ]
        }
      ]
    },
    {
      "cell_type": "markdown",
      "source": [
        "X9 - Complaint Resolution has P>|t| of 0.100 which is relatively high (> alpha of 0.5) thus we do not consider it statistically significant (not enough evidence to reject null hypothesis). Thus we will remove it.\n",
        "\n",
        "##Revised Model\n",
        "\n",
        "['X6', 'X7', 'X11', 'X12', 'X13', 'X17']"
      ],
      "metadata": {
        "id": "_bkl0MME3vxs"
      }
    },
    {
      "cell_type": "code",
      "source": [
        "# Prepare data for regression\n",
        "X = df[['X6', 'X7', 'X11', 'X12', 'X13', 'X17']]  # IVs\n",
        "y = df['X19']  # DV\n",
        "\n",
        "# Add a constant term for the intercept\n",
        "X = sm.add_constant(X)\n",
        "\n",
        "# Fit the regression model\n",
        "model = sm.OLS(y, X).fit()\n",
        "\n",
        "# Print model summary\n",
        "print(model.summary())"
      ],
      "metadata": {
        "colab": {
          "base_uri": "https://localhost:8080/"
        },
        "id": "Q32VyAiF43m9",
        "outputId": "819cdc0b-7f81-416f-f233-232076e0e8ee"
      },
      "execution_count": null,
      "outputs": [
        {
          "output_type": "stream",
          "name": "stdout",
          "text": [
            "                            OLS Regression Results                            \n",
            "==============================================================================\n",
            "Dep. Variable:                    X19   R-squared:                       0.797\n",
            "Model:                            OLS   Adj. R-squared:                  0.791\n",
            "Method:                 Least Squares   F-statistic:                     126.6\n",
            "Date:                Thu, 04 Jul 2024   Prob (F-statistic):           3.77e-64\n",
            "Time:                        03:57:04   Log-Likelihood:                -166.84\n",
            "No. Observations:                 200   AIC:                             347.7\n",
            "Df Residuals:                     193   BIC:                             370.8\n",
            "Df Model:                           6                                         \n",
            "Covariance Type:            nonrobust                                         \n",
            "==============================================================================\n",
            "                 coef    std err          t      P>|t|      [0.025      0.975]\n",
            "------------------------------------------------------------------------------\n",
            "const         -2.2767      0.492     -4.630      0.000      -3.247      -1.307\n",
            "X6             0.4221      0.037     11.366      0.000       0.349       0.495\n",
            "X7            -0.2900      0.086     -3.381      0.001      -0.459      -0.121\n",
            "X11            0.4412      0.038     11.466      0.000       0.365       0.517\n",
            "X12            0.6322      0.060     10.616      0.000       0.515       0.750\n",
            "X13           -0.0705      0.032     -2.197      0.029      -0.134      -0.007\n",
            "X17            0.3577      0.042      8.550      0.000       0.275       0.440\n",
            "==============================================================================\n",
            "Omnibus:                       13.488   Durbin-Watson:                   2.357\n",
            "Prob(Omnibus):                  0.001   Jarque-Bera (JB):               14.728\n",
            "Skew:                          -0.664   Prob(JB):                     0.000634\n",
            "Kurtosis:                       3.046   Cond. No.                         178.\n",
            "==============================================================================\n",
            "\n",
            "Notes:\n",
            "[1] Standard Errors assume that the covariance matrix of the errors is correctly specified.\n"
          ]
        }
      ]
    },
    {
      "cell_type": "code",
      "source": [
        "from sklearn.model_selection import train_test_split\n",
        "from sklearn.linear_model import LinearRegression\n",
        "from sklearn.feature_selection import SelectKBest, f_regression\n",
        "from sklearn.metrics import mean_absolute_error, mean_absolute_percentage_error\n",
        "\n",
        "# Split the data into training and testing sets\n",
        "X_train, X_test, y_train, y_test = train_test_split(X, y, test_size=0.4, random_state=23)"
      ],
      "metadata": {
        "id": "cDEC-tXNxYAQ"
      },
      "execution_count": null,
      "outputs": []
    },
    {
      "cell_type": "markdown",
      "source": [
        "Train model"
      ],
      "metadata": {
        "id": "MeQvu7gBxhXi"
      }
    },
    {
      "cell_type": "code",
      "source": [
        "# Train a linear regression model using the selected features\n",
        "model = LinearRegression()\n",
        "model.fit(X_train, y_train)"
      ],
      "metadata": {
        "colab": {
          "base_uri": "https://localhost:8080/",
          "height": 74
        },
        "id": "JoQQaexhx1uO",
        "outputId": "a66b603a-3432-4311-dc8c-75ca1b6b4f8a"
      },
      "execution_count": null,
      "outputs": [
        {
          "output_type": "execute_result",
          "data": {
            "text/plain": [
              "LinearRegression()"
            ],
            "text/html": [
              "<style>#sk-container-id-1 {color: black;background-color: white;}#sk-container-id-1 pre{padding: 0;}#sk-container-id-1 div.sk-toggleable {background-color: white;}#sk-container-id-1 label.sk-toggleable__label {cursor: pointer;display: block;width: 100%;margin-bottom: 0;padding: 0.3em;box-sizing: border-box;text-align: center;}#sk-container-id-1 label.sk-toggleable__label-arrow:before {content: \"▸\";float: left;margin-right: 0.25em;color: #696969;}#sk-container-id-1 label.sk-toggleable__label-arrow:hover:before {color: black;}#sk-container-id-1 div.sk-estimator:hover label.sk-toggleable__label-arrow:before {color: black;}#sk-container-id-1 div.sk-toggleable__content {max-height: 0;max-width: 0;overflow: hidden;text-align: left;background-color: #f0f8ff;}#sk-container-id-1 div.sk-toggleable__content pre {margin: 0.2em;color: black;border-radius: 0.25em;background-color: #f0f8ff;}#sk-container-id-1 input.sk-toggleable__control:checked~div.sk-toggleable__content {max-height: 200px;max-width: 100%;overflow: auto;}#sk-container-id-1 input.sk-toggleable__control:checked~label.sk-toggleable__label-arrow:before {content: \"▾\";}#sk-container-id-1 div.sk-estimator input.sk-toggleable__control:checked~label.sk-toggleable__label {background-color: #d4ebff;}#sk-container-id-1 div.sk-label input.sk-toggleable__control:checked~label.sk-toggleable__label {background-color: #d4ebff;}#sk-container-id-1 input.sk-hidden--visually {border: 0;clip: rect(1px 1px 1px 1px);clip: rect(1px, 1px, 1px, 1px);height: 1px;margin: -1px;overflow: hidden;padding: 0;position: absolute;width: 1px;}#sk-container-id-1 div.sk-estimator {font-family: monospace;background-color: #f0f8ff;border: 1px dotted black;border-radius: 0.25em;box-sizing: border-box;margin-bottom: 0.5em;}#sk-container-id-1 div.sk-estimator:hover {background-color: #d4ebff;}#sk-container-id-1 div.sk-parallel-item::after {content: \"\";width: 100%;border-bottom: 1px solid gray;flex-grow: 1;}#sk-container-id-1 div.sk-label:hover label.sk-toggleable__label {background-color: #d4ebff;}#sk-container-id-1 div.sk-serial::before {content: \"\";position: absolute;border-left: 1px solid gray;box-sizing: border-box;top: 0;bottom: 0;left: 50%;z-index: 0;}#sk-container-id-1 div.sk-serial {display: flex;flex-direction: column;align-items: center;background-color: white;padding-right: 0.2em;padding-left: 0.2em;position: relative;}#sk-container-id-1 div.sk-item {position: relative;z-index: 1;}#sk-container-id-1 div.sk-parallel {display: flex;align-items: stretch;justify-content: center;background-color: white;position: relative;}#sk-container-id-1 div.sk-item::before, #sk-container-id-1 div.sk-parallel-item::before {content: \"\";position: absolute;border-left: 1px solid gray;box-sizing: border-box;top: 0;bottom: 0;left: 50%;z-index: -1;}#sk-container-id-1 div.sk-parallel-item {display: flex;flex-direction: column;z-index: 1;position: relative;background-color: white;}#sk-container-id-1 div.sk-parallel-item:first-child::after {align-self: flex-end;width: 50%;}#sk-container-id-1 div.sk-parallel-item:last-child::after {align-self: flex-start;width: 50%;}#sk-container-id-1 div.sk-parallel-item:only-child::after {width: 0;}#sk-container-id-1 div.sk-dashed-wrapped {border: 1px dashed gray;margin: 0 0.4em 0.5em 0.4em;box-sizing: border-box;padding-bottom: 0.4em;background-color: white;}#sk-container-id-1 div.sk-label label {font-family: monospace;font-weight: bold;display: inline-block;line-height: 1.2em;}#sk-container-id-1 div.sk-label-container {text-align: center;}#sk-container-id-1 div.sk-container {/* jupyter's `normalize.less` sets `[hidden] { display: none; }` but bootstrap.min.css set `[hidden] { display: none !important; }` so we also need the `!important` here to be able to override the default hidden behavior on the sphinx rendered scikit-learn.org. See: https://github.com/scikit-learn/scikit-learn/issues/21755 */display: inline-block !important;position: relative;}#sk-container-id-1 div.sk-text-repr-fallback {display: none;}</style><div id=\"sk-container-id-1\" class=\"sk-top-container\"><div class=\"sk-text-repr-fallback\"><pre>LinearRegression()</pre><b>In a Jupyter environment, please rerun this cell to show the HTML representation or trust the notebook. <br />On GitHub, the HTML representation is unable to render, please try loading this page with nbviewer.org.</b></div><div class=\"sk-container\" hidden><div class=\"sk-item\"><div class=\"sk-estimator sk-toggleable\"><input class=\"sk-toggleable__control sk-hidden--visually\" id=\"sk-estimator-id-1\" type=\"checkbox\" checked><label for=\"sk-estimator-id-1\" class=\"sk-toggleable__label sk-toggleable__label-arrow\">LinearRegression</label><div class=\"sk-toggleable__content\"><pre>LinearRegression()</pre></div></div></div></div></div>"
            ]
          },
          "metadata": {},
          "execution_count": 9
        }
      ]
    },
    {
      "cell_type": "markdown",
      "source": [
        "Predict (from X_train)"
      ],
      "metadata": {
        "id": "5UsxEJsnx4-l"
      }
    },
    {
      "cell_type": "code",
      "source": [
        "# Make predictions on the test set\n",
        "y_pred = model.predict(X_test)\n",
        "\n",
        "y_pred"
      ],
      "metadata": {
        "colab": {
          "base_uri": "https://localhost:8080/"
        },
        "id": "qE1e9ETTx8j1",
        "outputId": "5bcf9cb1-aad6-4a17-d61b-edcb3bd5b524"
      },
      "execution_count": null,
      "outputs": [
        {
          "output_type": "execute_result",
          "data": {
            "text/plain": [
              "array([7.22462434, 6.05456123, 6.93957304, 7.55637317, 7.4317935 ,\n",
              "       5.7810438 , 5.51310701, 8.78573448, 8.27579141, 6.19213152,\n",
              "       7.30895445, 7.85526387, 7.05792771, 7.20981249, 6.73263444,\n",
              "       8.45297258, 6.28078209, 6.07816216, 7.67968752, 6.66331803,\n",
              "       9.03859826, 8.27832891, 7.31705423, 6.61481766, 4.65092495,\n",
              "       8.15559854, 7.05792771, 6.19213152, 6.89392877, 6.0925689 ,\n",
              "       6.68088585, 6.66331803, 4.86248985, 7.68707311, 7.12134792,\n",
              "       7.59292165, 6.93957304, 6.81110549, 5.00220856, 6.96464527,\n",
              "       7.37683068, 7.20981249, 9.03859826, 6.68088585, 9.66773874,\n",
              "       6.30457523, 7.08717024, 6.27301925, 6.90796374, 8.47549205,\n",
              "       7.62171111, 7.62171111, 5.337814  , 6.81130864, 9.03859826,\n",
              "       7.08843437, 7.52882842, 4.70083506, 6.27199311, 7.5292261 ,\n",
              "       4.85601874, 5.18424709, 7.13682886, 6.59102452, 7.74546772,\n",
              "       7.06308495, 6.0501209 , 6.61481766, 6.81130864, 7.12134792,\n",
              "       7.70388928, 7.59292165, 5.13121311, 6.05456123, 6.90796374,\n",
              "       6.81110549, 4.70083506, 8.38132804, 7.23840217, 4.84125622])"
            ]
          },
          "metadata": {},
          "execution_count": 10
        }
      ]
    },
    {
      "cell_type": "markdown",
      "source": [
        "Check r-squared on the train set"
      ],
      "metadata": {
        "id": "RNgH3txYyMn8"
      }
    },
    {
      "cell_type": "code",
      "source": [
        "from sklearn.metrics import r2_score\n",
        "r2_test = r2_score(y_test, y_pred)\n",
        "print(f\"R-squared Score on Test Set: {r2_test}\")\n",
        "\n",
        "y_train_pred = model.predict(X_train)\n",
        "r2_train = r2_score(y_train, y_train_pred)\n",
        "print(f\"R-squared Score on Training Set: {r2_train}\")"
      ],
      "metadata": {
        "colab": {
          "base_uri": "https://localhost:8080/"
        },
        "id": "ZZK8l4DzyPsM",
        "outputId": "0f546443-15bf-404b-cb1d-ab0990b0177b"
      },
      "execution_count": null,
      "outputs": [
        {
          "output_type": "stream",
          "name": "stdout",
          "text": [
            "R-squared Score on Test Set: 0.6803164326110448\n",
            "R-squared Score on Training Set: 0.8491576196868241\n"
          ]
        }
      ]
    },
    {
      "cell_type": "markdown",
      "source": [
        "R-squared Score on Training Set (0.849) ~ 84.9% of variance in target X19 can be explained by the independent variables/features in the model.\n",
        "\n",
        "R-squared Score on Test Set (0.680) ~ 68% of variance in the target variable and should provide reasonably good fit to test data."
      ],
      "metadata": {
        "id": "klXDT4Yq5GpX"
      }
    },
    {
      "cell_type": "markdown",
      "source": [
        "Testing"
      ],
      "metadata": {
        "id": "BKl9EXnx4bzW"
      }
    },
    {
      "cell_type": "code",
      "source": [
        "y_pred = model.predict(X_test)\n",
        "y_pred"
      ],
      "metadata": {
        "colab": {
          "base_uri": "https://localhost:8080/"
        },
        "id": "GysI2CSo4dqE",
        "outputId": "bef3ff09-029b-4d92-fff1-bb0bd0b76f36"
      },
      "execution_count": null,
      "outputs": [
        {
          "output_type": "execute_result",
          "data": {
            "text/plain": [
              "array([7.22462434, 6.05456123, 6.93957304, 7.55637317, 7.4317935 ,\n",
              "       5.7810438 , 5.51310701, 8.78573448, 8.27579141, 6.19213152,\n",
              "       7.30895445, 7.85526387, 7.05792771, 7.20981249, 6.73263444,\n",
              "       8.45297258, 6.28078209, 6.07816216, 7.67968752, 6.66331803,\n",
              "       9.03859826, 8.27832891, 7.31705423, 6.61481766, 4.65092495,\n",
              "       8.15559854, 7.05792771, 6.19213152, 6.89392877, 6.0925689 ,\n",
              "       6.68088585, 6.66331803, 4.86248985, 7.68707311, 7.12134792,\n",
              "       7.59292165, 6.93957304, 6.81110549, 5.00220856, 6.96464527,\n",
              "       7.37683068, 7.20981249, 9.03859826, 6.68088585, 9.66773874,\n",
              "       6.30457523, 7.08717024, 6.27301925, 6.90796374, 8.47549205,\n",
              "       7.62171111, 7.62171111, 5.337814  , 6.81130864, 9.03859826,\n",
              "       7.08843437, 7.52882842, 4.70083506, 6.27199311, 7.5292261 ,\n",
              "       4.85601874, 5.18424709, 7.13682886, 6.59102452, 7.74546772,\n",
              "       7.06308495, 6.0501209 , 6.61481766, 6.81130864, 7.12134792,\n",
              "       7.70388928, 7.59292165, 5.13121311, 6.05456123, 6.90796374,\n",
              "       6.81110549, 4.70083506, 8.38132804, 7.23840217, 4.84125622])"
            ]
          },
          "metadata": {},
          "execution_count": 12
        }
      ]
    },
    {
      "cell_type": "markdown",
      "source": [
        "Evaluate performance using MAPE, MAE, MSE, RMSE"
      ],
      "metadata": {
        "id": "SLhQdSCn2uK1"
      }
    },
    {
      "cell_type": "code",
      "source": [
        "from sklearn.metrics import mean_absolute_error, mean_absolute_percentage_error, mean_squared_error\n",
        "\n",
        "# MAPE\n",
        "mape = (mean_absolute_percentage_error(y_test, y_pred) * 100)\n",
        "print(\"MAPE:\", mape)\n",
        "\n",
        "#MAE\n",
        "mae = mean_absolute_error(y_test, y_pred)\n",
        "print(\"MAE:\", mae)\n",
        "\n",
        "#MSE (Mean Squared Error)\n",
        "mse = mean_squared_error(y_test, y_pred)\n",
        "print(\"MSE:\", mse)\n",
        "\n",
        "#RMSE (Root Mean squared error)\n",
        "rmse = np.sqrt(mse)\n",
        "print(\"RMSE:\", rmse)"
      ],
      "metadata": {
        "colab": {
          "base_uri": "https://localhost:8080/"
        },
        "id": "4g9QwIvV2vgL",
        "outputId": "dde1bd9a-8c73-4398-c2e0-67b4353841dd"
      },
      "execution_count": null,
      "outputs": [
        {
          "output_type": "stream",
          "name": "stdout",
          "text": [
            "MAPE: 7.4288266575026505\n",
            "MAE: 0.48619155696432614\n",
            "MSE: 0.407708437669504\n",
            "RMSE: 0.6385205068511927\n"
          ]
        }
      ]
    },
    {
      "cell_type": "markdown",
      "source": [
        "MAPE of 7.42% indicates on average the absolute percentage difference between predicted and actual values is 7.42%.\n",
        "\n",
        "MAE of .486 indicates on average the model predictions are off by about 0.486 units from the actual values.\n",
        "\n",
        "MSE of .4077 represents average squared deviation of predictions from actual values.\n",
        "\n",
        "RMSE of .63 indicates std of the residuals (prediction errors)."
      ],
      "metadata": {
        "id": "urjNT2JC203q"
      }
    },
    {
      "cell_type": "markdown",
      "source": [
        "**2. Using Selected feature names from f_regression and SelectKBest**"
      ],
      "metadata": {
        "id": "oc07em2hvSNg"
      }
    },
    {
      "cell_type": "markdown",
      "source": [
        "Import libraries and read/display .csv"
      ],
      "metadata": {
        "id": "XrtoEENbPJDk"
      }
    },
    {
      "cell_type": "code",
      "source": [
        "import pandas as pd\n",
        "import numpy as np\n",
        "\n",
        "# Create a DataFrame\n",
        "df = pd.read_csv('HBAT-200-Data.csv')\n",
        "\n",
        "# Display the first few rows of the dataset\n",
        "df.head()"
      ],
      "metadata": {
        "colab": {
          "base_uri": "https://localhost:8080/",
          "height": 235
        },
        "id": "GeqsR4P-O_fF",
        "outputId": "953d271b-2fea-4a4c-f987-7f27dcccbe48"
      },
      "execution_count": null,
      "outputs": [
        {
          "output_type": "execute_result",
          "data": {
            "text/plain": [
              "   ID  X1  X2  X3  X4  X5   X6   X7   X8   X9  ...  X14  X15  X16  X17  X18  \\\n",
              "0   1   2   0   1   1   1  8.5  3.9  2.5  5.9  ...  4.7  4.3  5.0  5.1  3.7   \n",
              "1   2   3   1   0   0   0  8.2  2.7  5.1  7.2  ...  5.5  4.0  3.9  4.3  4.9   \n",
              "2   3   3   0   1   1   1  9.2  3.4  5.6  5.6  ...  6.2  4.6  5.4  4.0  4.5   \n",
              "3   4   1   1   1   1   0  6.4  3.3  7.0  3.7  ...  7.0  3.6  4.3  4.1  3.0   \n",
              "4   5   2   0   1   0   1  9.0  3.4  5.2  4.6  ...  6.1  4.5  4.5  3.5  3.5   \n",
              "\n",
              "   X19  X20  X21   X22  X23  \n",
              "0  8.2  8.0  8.4  65.1    1  \n",
              "1  5.7  6.5  7.5  67.1    0  \n",
              "2  8.9  8.4  9.0  72.1    1  \n",
              "3  4.8  6.0  7.2  40.1    0  \n",
              "4  7.1  6.6  9.0  57.1    0  \n",
              "\n",
              "[5 rows x 24 columns]"
            ],
            "text/html": [
              "\n",
              "  <div id=\"df-d833830d-d737-406e-aeb7-70a7ed3ece7a\" class=\"colab-df-container\">\n",
              "    <div>\n",
              "<style scoped>\n",
              "    .dataframe tbody tr th:only-of-type {\n",
              "        vertical-align: middle;\n",
              "    }\n",
              "\n",
              "    .dataframe tbody tr th {\n",
              "        vertical-align: top;\n",
              "    }\n",
              "\n",
              "    .dataframe thead th {\n",
              "        text-align: right;\n",
              "    }\n",
              "</style>\n",
              "<table border=\"1\" class=\"dataframe\">\n",
              "  <thead>\n",
              "    <tr style=\"text-align: right;\">\n",
              "      <th></th>\n",
              "      <th>ID</th>\n",
              "      <th>X1</th>\n",
              "      <th>X2</th>\n",
              "      <th>X3</th>\n",
              "      <th>X4</th>\n",
              "      <th>X5</th>\n",
              "      <th>X6</th>\n",
              "      <th>X7</th>\n",
              "      <th>X8</th>\n",
              "      <th>X9</th>\n",
              "      <th>...</th>\n",
              "      <th>X14</th>\n",
              "      <th>X15</th>\n",
              "      <th>X16</th>\n",
              "      <th>X17</th>\n",
              "      <th>X18</th>\n",
              "      <th>X19</th>\n",
              "      <th>X20</th>\n",
              "      <th>X21</th>\n",
              "      <th>X22</th>\n",
              "      <th>X23</th>\n",
              "    </tr>\n",
              "  </thead>\n",
              "  <tbody>\n",
              "    <tr>\n",
              "      <th>0</th>\n",
              "      <td>1</td>\n",
              "      <td>2</td>\n",
              "      <td>0</td>\n",
              "      <td>1</td>\n",
              "      <td>1</td>\n",
              "      <td>1</td>\n",
              "      <td>8.5</td>\n",
              "      <td>3.9</td>\n",
              "      <td>2.5</td>\n",
              "      <td>5.9</td>\n",
              "      <td>...</td>\n",
              "      <td>4.7</td>\n",
              "      <td>4.3</td>\n",
              "      <td>5.0</td>\n",
              "      <td>5.1</td>\n",
              "      <td>3.7</td>\n",
              "      <td>8.2</td>\n",
              "      <td>8.0</td>\n",
              "      <td>8.4</td>\n",
              "      <td>65.1</td>\n",
              "      <td>1</td>\n",
              "    </tr>\n",
              "    <tr>\n",
              "      <th>1</th>\n",
              "      <td>2</td>\n",
              "      <td>3</td>\n",
              "      <td>1</td>\n",
              "      <td>0</td>\n",
              "      <td>0</td>\n",
              "      <td>0</td>\n",
              "      <td>8.2</td>\n",
              "      <td>2.7</td>\n",
              "      <td>5.1</td>\n",
              "      <td>7.2</td>\n",
              "      <td>...</td>\n",
              "      <td>5.5</td>\n",
              "      <td>4.0</td>\n",
              "      <td>3.9</td>\n",
              "      <td>4.3</td>\n",
              "      <td>4.9</td>\n",
              "      <td>5.7</td>\n",
              "      <td>6.5</td>\n",
              "      <td>7.5</td>\n",
              "      <td>67.1</td>\n",
              "      <td>0</td>\n",
              "    </tr>\n",
              "    <tr>\n",
              "      <th>2</th>\n",
              "      <td>3</td>\n",
              "      <td>3</td>\n",
              "      <td>0</td>\n",
              "      <td>1</td>\n",
              "      <td>1</td>\n",
              "      <td>1</td>\n",
              "      <td>9.2</td>\n",
              "      <td>3.4</td>\n",
              "      <td>5.6</td>\n",
              "      <td>5.6</td>\n",
              "      <td>...</td>\n",
              "      <td>6.2</td>\n",
              "      <td>4.6</td>\n",
              "      <td>5.4</td>\n",
              "      <td>4.0</td>\n",
              "      <td>4.5</td>\n",
              "      <td>8.9</td>\n",
              "      <td>8.4</td>\n",
              "      <td>9.0</td>\n",
              "      <td>72.1</td>\n",
              "      <td>1</td>\n",
              "    </tr>\n",
              "    <tr>\n",
              "      <th>3</th>\n",
              "      <td>4</td>\n",
              "      <td>1</td>\n",
              "      <td>1</td>\n",
              "      <td>1</td>\n",
              "      <td>1</td>\n",
              "      <td>0</td>\n",
              "      <td>6.4</td>\n",
              "      <td>3.3</td>\n",
              "      <td>7.0</td>\n",
              "      <td>3.7</td>\n",
              "      <td>...</td>\n",
              "      <td>7.0</td>\n",
              "      <td>3.6</td>\n",
              "      <td>4.3</td>\n",
              "      <td>4.1</td>\n",
              "      <td>3.0</td>\n",
              "      <td>4.8</td>\n",
              "      <td>6.0</td>\n",
              "      <td>7.2</td>\n",
              "      <td>40.1</td>\n",
              "      <td>0</td>\n",
              "    </tr>\n",
              "    <tr>\n",
              "      <th>4</th>\n",
              "      <td>5</td>\n",
              "      <td>2</td>\n",
              "      <td>0</td>\n",
              "      <td>1</td>\n",
              "      <td>0</td>\n",
              "      <td>1</td>\n",
              "      <td>9.0</td>\n",
              "      <td>3.4</td>\n",
              "      <td>5.2</td>\n",
              "      <td>4.6</td>\n",
              "      <td>...</td>\n",
              "      <td>6.1</td>\n",
              "      <td>4.5</td>\n",
              "      <td>4.5</td>\n",
              "      <td>3.5</td>\n",
              "      <td>3.5</td>\n",
              "      <td>7.1</td>\n",
              "      <td>6.6</td>\n",
              "      <td>9.0</td>\n",
              "      <td>57.1</td>\n",
              "      <td>0</td>\n",
              "    </tr>\n",
              "  </tbody>\n",
              "</table>\n",
              "<p>5 rows × 24 columns</p>\n",
              "</div>\n",
              "    <div class=\"colab-df-buttons\">\n",
              "\n",
              "  <div class=\"colab-df-container\">\n",
              "    <button class=\"colab-df-convert\" onclick=\"convertToInteractive('df-d833830d-d737-406e-aeb7-70a7ed3ece7a')\"\n",
              "            title=\"Convert this dataframe to an interactive table.\"\n",
              "            style=\"display:none;\">\n",
              "\n",
              "  <svg xmlns=\"http://www.w3.org/2000/svg\" height=\"24px\" viewBox=\"0 -960 960 960\">\n",
              "    <path d=\"M120-120v-720h720v720H120Zm60-500h600v-160H180v160Zm220 220h160v-160H400v160Zm0 220h160v-160H400v160ZM180-400h160v-160H180v160Zm440 0h160v-160H620v160ZM180-180h160v-160H180v160Zm440 0h160v-160H620v160Z\"/>\n",
              "  </svg>\n",
              "    </button>\n",
              "\n",
              "  <style>\n",
              "    .colab-df-container {\n",
              "      display:flex;\n",
              "      gap: 12px;\n",
              "    }\n",
              "\n",
              "    .colab-df-convert {\n",
              "      background-color: #E8F0FE;\n",
              "      border: none;\n",
              "      border-radius: 50%;\n",
              "      cursor: pointer;\n",
              "      display: none;\n",
              "      fill: #1967D2;\n",
              "      height: 32px;\n",
              "      padding: 0 0 0 0;\n",
              "      width: 32px;\n",
              "    }\n",
              "\n",
              "    .colab-df-convert:hover {\n",
              "      background-color: #E2EBFA;\n",
              "      box-shadow: 0px 1px 2px rgba(60, 64, 67, 0.3), 0px 1px 3px 1px rgba(60, 64, 67, 0.15);\n",
              "      fill: #174EA6;\n",
              "    }\n",
              "\n",
              "    .colab-df-buttons div {\n",
              "      margin-bottom: 4px;\n",
              "    }\n",
              "\n",
              "    [theme=dark] .colab-df-convert {\n",
              "      background-color: #3B4455;\n",
              "      fill: #D2E3FC;\n",
              "    }\n",
              "\n",
              "    [theme=dark] .colab-df-convert:hover {\n",
              "      background-color: #434B5C;\n",
              "      box-shadow: 0px 1px 3px 1px rgba(0, 0, 0, 0.15);\n",
              "      filter: drop-shadow(0px 1px 2px rgba(0, 0, 0, 0.3));\n",
              "      fill: #FFFFFF;\n",
              "    }\n",
              "  </style>\n",
              "\n",
              "    <script>\n",
              "      const buttonEl =\n",
              "        document.querySelector('#df-d833830d-d737-406e-aeb7-70a7ed3ece7a button.colab-df-convert');\n",
              "      buttonEl.style.display =\n",
              "        google.colab.kernel.accessAllowed ? 'block' : 'none';\n",
              "\n",
              "      async function convertToInteractive(key) {\n",
              "        const element = document.querySelector('#df-d833830d-d737-406e-aeb7-70a7ed3ece7a');\n",
              "        const dataTable =\n",
              "          await google.colab.kernel.invokeFunction('convertToInteractive',\n",
              "                                                    [key], {});\n",
              "        if (!dataTable) return;\n",
              "\n",
              "        const docLinkHtml = 'Like what you see? Visit the ' +\n",
              "          '<a target=\"_blank\" href=https://colab.research.google.com/notebooks/data_table.ipynb>data table notebook</a>'\n",
              "          + ' to learn more about interactive tables.';\n",
              "        element.innerHTML = '';\n",
              "        dataTable['output_type'] = 'display_data';\n",
              "        await google.colab.output.renderOutput(dataTable, element);\n",
              "        const docLink = document.createElement('div');\n",
              "        docLink.innerHTML = docLinkHtml;\n",
              "        element.appendChild(docLink);\n",
              "      }\n",
              "    </script>\n",
              "  </div>\n",
              "\n",
              "\n",
              "<div id=\"df-15c9fe1e-aa3f-4394-93db-04ba07999a73\">\n",
              "  <button class=\"colab-df-quickchart\" onclick=\"quickchart('df-15c9fe1e-aa3f-4394-93db-04ba07999a73')\"\n",
              "            title=\"Suggest charts\"\n",
              "            style=\"display:none;\">\n",
              "\n",
              "<svg xmlns=\"http://www.w3.org/2000/svg\" height=\"24px\"viewBox=\"0 0 24 24\"\n",
              "     width=\"24px\">\n",
              "    <g>\n",
              "        <path d=\"M19 3H5c-1.1 0-2 .9-2 2v14c0 1.1.9 2 2 2h14c1.1 0 2-.9 2-2V5c0-1.1-.9-2-2-2zM9 17H7v-7h2v7zm4 0h-2V7h2v10zm4 0h-2v-4h2v4z\"/>\n",
              "    </g>\n",
              "</svg>\n",
              "  </button>\n",
              "\n",
              "<style>\n",
              "  .colab-df-quickchart {\n",
              "      --bg-color: #E8F0FE;\n",
              "      --fill-color: #1967D2;\n",
              "      --hover-bg-color: #E2EBFA;\n",
              "      --hover-fill-color: #174EA6;\n",
              "      --disabled-fill-color: #AAA;\n",
              "      --disabled-bg-color: #DDD;\n",
              "  }\n",
              "\n",
              "  [theme=dark] .colab-df-quickchart {\n",
              "      --bg-color: #3B4455;\n",
              "      --fill-color: #D2E3FC;\n",
              "      --hover-bg-color: #434B5C;\n",
              "      --hover-fill-color: #FFFFFF;\n",
              "      --disabled-bg-color: #3B4455;\n",
              "      --disabled-fill-color: #666;\n",
              "  }\n",
              "\n",
              "  .colab-df-quickchart {\n",
              "    background-color: var(--bg-color);\n",
              "    border: none;\n",
              "    border-radius: 50%;\n",
              "    cursor: pointer;\n",
              "    display: none;\n",
              "    fill: var(--fill-color);\n",
              "    height: 32px;\n",
              "    padding: 0;\n",
              "    width: 32px;\n",
              "  }\n",
              "\n",
              "  .colab-df-quickchart:hover {\n",
              "    background-color: var(--hover-bg-color);\n",
              "    box-shadow: 0 1px 2px rgba(60, 64, 67, 0.3), 0 1px 3px 1px rgba(60, 64, 67, 0.15);\n",
              "    fill: var(--button-hover-fill-color);\n",
              "  }\n",
              "\n",
              "  .colab-df-quickchart-complete:disabled,\n",
              "  .colab-df-quickchart-complete:disabled:hover {\n",
              "    background-color: var(--disabled-bg-color);\n",
              "    fill: var(--disabled-fill-color);\n",
              "    box-shadow: none;\n",
              "  }\n",
              "\n",
              "  .colab-df-spinner {\n",
              "    border: 2px solid var(--fill-color);\n",
              "    border-color: transparent;\n",
              "    border-bottom-color: var(--fill-color);\n",
              "    animation:\n",
              "      spin 1s steps(1) infinite;\n",
              "  }\n",
              "\n",
              "  @keyframes spin {\n",
              "    0% {\n",
              "      border-color: transparent;\n",
              "      border-bottom-color: var(--fill-color);\n",
              "      border-left-color: var(--fill-color);\n",
              "    }\n",
              "    20% {\n",
              "      border-color: transparent;\n",
              "      border-left-color: var(--fill-color);\n",
              "      border-top-color: var(--fill-color);\n",
              "    }\n",
              "    30% {\n",
              "      border-color: transparent;\n",
              "      border-left-color: var(--fill-color);\n",
              "      border-top-color: var(--fill-color);\n",
              "      border-right-color: var(--fill-color);\n",
              "    }\n",
              "    40% {\n",
              "      border-color: transparent;\n",
              "      border-right-color: var(--fill-color);\n",
              "      border-top-color: var(--fill-color);\n",
              "    }\n",
              "    60% {\n",
              "      border-color: transparent;\n",
              "      border-right-color: var(--fill-color);\n",
              "    }\n",
              "    80% {\n",
              "      border-color: transparent;\n",
              "      border-right-color: var(--fill-color);\n",
              "      border-bottom-color: var(--fill-color);\n",
              "    }\n",
              "    90% {\n",
              "      border-color: transparent;\n",
              "      border-bottom-color: var(--fill-color);\n",
              "    }\n",
              "  }\n",
              "</style>\n",
              "\n",
              "  <script>\n",
              "    async function quickchart(key) {\n",
              "      const quickchartButtonEl =\n",
              "        document.querySelector('#' + key + ' button');\n",
              "      quickchartButtonEl.disabled = true;  // To prevent multiple clicks.\n",
              "      quickchartButtonEl.classList.add('colab-df-spinner');\n",
              "      try {\n",
              "        const charts = await google.colab.kernel.invokeFunction(\n",
              "            'suggestCharts', [key], {});\n",
              "      } catch (error) {\n",
              "        console.error('Error during call to suggestCharts:', error);\n",
              "      }\n",
              "      quickchartButtonEl.classList.remove('colab-df-spinner');\n",
              "      quickchartButtonEl.classList.add('colab-df-quickchart-complete');\n",
              "    }\n",
              "    (() => {\n",
              "      let quickchartButtonEl =\n",
              "        document.querySelector('#df-15c9fe1e-aa3f-4394-93db-04ba07999a73 button');\n",
              "      quickchartButtonEl.style.display =\n",
              "        google.colab.kernel.accessAllowed ? 'block' : 'none';\n",
              "    })();\n",
              "  </script>\n",
              "</div>\n",
              "\n",
              "    </div>\n",
              "  </div>\n"
            ],
            "application/vnd.google.colaboratory.intrinsic+json": {
              "type": "dataframe",
              "variable_name": "df"
            }
          },
          "metadata": {},
          "execution_count": 1
        }
      ]
    },
    {
      "cell_type": "markdown",
      "source": [
        "Find the target (y)"
      ],
      "metadata": {
        "id": "sB3Wq3osXQ7z"
      }
    },
    {
      "cell_type": "code",
      "source": [
        "# Calculate correlations between all columns\n",
        "correlations = df.corr()\n",
        "\n",
        "# Identify potential features based on correlation with other columns\n",
        "# Exclude highly correlated columns and non-numeric columns like 'ID'\n",
        "exclude_columns = ['ID']\n",
        "\n",
        "# Filter out non-numeric columns and excluded columns\n",
        "numeric_columns = df.select_dtypes(include=[np.number]).columns\n",
        "filtered_features = [col for col in numeric_columns if col not in exclude_columns]\n",
        "\n",
        "# Determine the target variable\n",
        "# Find the column with the highest average correlation with other columns\n",
        "avg_correlations = correlations.abs().mean()\n",
        "target_variable = avg_correlations.idxmax()\n",
        "\n",
        "# Define the feature matrix X and target variable y\n",
        "X = df[filtered_features]\n",
        "y = df[target_variable]\n",
        "\n",
        "# Display the identified features and target variable\n",
        "print(\"\\nIdentified Features:\")\n",
        "print(filtered_features)\n",
        "print(\"\\nTarget Variable:\")\n",
        "print(target_variable)"
      ],
      "metadata": {
        "colab": {
          "base_uri": "https://localhost:8080/"
        },
        "id": "ib_jcCC5moVw",
        "outputId": "aa325a6c-8f5f-4e08-bb36-2b906e354077"
      },
      "execution_count": null,
      "outputs": [
        {
          "output_type": "stream",
          "name": "stdout",
          "text": [
            "\n",
            "Identified Features:\n",
            "['X1', 'X2', 'X3', 'X4', 'X5', 'X6', 'X7', 'X8', 'X9', 'X10', 'X11', 'X12', 'X13', 'X14', 'X15', 'X16', 'X17', 'X18', 'X19', 'X20', 'X21', 'X22', 'X23']\n",
            "\n",
            "Target Variable:\n",
            "X19\n"
          ]
        }
      ]
    },
    {
      "cell_type": "markdown",
      "source": [
        "Target (y) is X19.\n",
        "\n",
        "What factors influence X19 Satisfaction?\n",
        "\n",
        "Possibly:<br>\n",
        "X6-Product Quality<br>\n",
        "X7-E-Commerce<br>\n",
        "X8-Technical Support<br>\n",
        "X9-Complaint Resolution<br>\n",
        "X10-Advertising<br>\n",
        "X11-Product Line<br>\n",
        "X12-Salesforce Image<br>\n",
        "X13-Competitive Pricing<br>\n",
        "X14-Warranty & Claims<br>\n",
        "X15-New Products<br>\n",
        "X16-Order & Billing<br>\n",
        "X17-Price Flexibility<br>\n",
        "X18-Delivery Speed<br>"
      ],
      "metadata": {
        "id": "LmkEax9b8gFK"
      }
    },
    {
      "cell_type": "markdown",
      "source": [
        "Print variance"
      ],
      "metadata": {
        "id": "h1d4pISUuWUM"
      }
    },
    {
      "cell_type": "code",
      "source": [
        "columns_of_interest = ['X6', 'X7', 'X8', 'X9', 'X10', 'X11', 'X12', 'X13', 'X14', 'X15', 'X16', 'X17', 'X18']\n",
        "\n",
        "# Calculate variance for each feature in columns_of_interest\n",
        "variances = df[columns_of_interest].var()\n",
        "\n",
        "# Print the variances\n",
        "print(\"Variance for each feature:\")\n",
        "print(variances)\n"
      ],
      "metadata": {
        "colab": {
          "base_uri": "https://localhost:8080/"
        },
        "id": "Mj-5rwMCUIYP",
        "outputId": "aa62876d-2a17-4903-db0b-9ce84ff3a631"
      },
      "execution_count": null,
      "outputs": [
        {
          "output_type": "stream",
          "name": "stdout",
          "text": [
            "Variance for each feature:\n",
            "X6     1.912728\n",
            "X7     0.591231\n",
            "X8     2.739649\n",
            "X9     1.464014\n",
            "X10    1.315746\n",
            "X11    1.735553\n",
            "X12    1.273664\n",
            "X13    2.500361\n",
            "X14    0.766229\n",
            "X15    2.238030\n",
            "X16    0.831594\n",
            "X17    1.422416\n",
            "X18    0.561552\n",
            "dtype: float64\n"
          ]
        }
      ]
    },
    {
      "cell_type": "markdown",
      "source": [
        "Correlation"
      ],
      "metadata": {
        "id": "qgRnaeUiqUV9"
      }
    },
    {
      "cell_type": "code",
      "source": [
        "# Include 'X19' in columns of interest\n",
        "columns_of_interest_with_target = columns_of_interest + ['X19']\n",
        "\n",
        "# Select the columns of interest from your DataFrame\n",
        "selected_df = df[columns_of_interest_with_target]\n",
        "\n",
        "# Calculate the correlation matrix\n",
        "correlation_matrix = selected_df.corr()\n",
        "\n",
        "# Print the correlation of all features with the target 'X19'\n",
        "target_correlation = correlation_matrix['X19'].sort_values(ascending=False)\n",
        "print(\"Correlation of all features with 'X19':\")\n",
        "print(target_correlation)"
      ],
      "metadata": {
        "colab": {
          "base_uri": "https://localhost:8080/"
        },
        "id": "h5P3t3j_egaV",
        "outputId": "956a2f3b-159b-4dd2-a5fc-8b66a430e5ef"
      },
      "execution_count": null,
      "outputs": [
        {
          "output_type": "stream",
          "name": "stdout",
          "text": [
            "Correlation of all features with 'X19':\n",
            "X19    1.000000\n",
            "X11    0.646337\n",
            "X18    0.630172\n",
            "X9     0.597566\n",
            "X16    0.540485\n",
            "X6     0.521052\n",
            "X12    0.477870\n",
            "X10    0.353541\n",
            "X7     0.341551\n",
            "X14    0.269225\n",
            "X8     0.202572\n",
            "X15    0.191509\n",
            "X17    0.031824\n",
            "X13   -0.282063\n",
            "Name: X19, dtype: float64\n"
          ]
        }
      ]
    },
    {
      "cell_type": "markdown",
      "source": [
        "Split the data into training and testing sets."
      ],
      "metadata": {
        "id": "rslbxcWBDlKJ"
      }
    },
    {
      "cell_type": "code",
      "source": [
        "from sklearn.model_selection import train_test_split\n",
        "from sklearn.linear_model import LinearRegression\n",
        "from sklearn.feature_selection import SelectKBest, f_regression\n",
        "from sklearn.metrics import mean_absolute_error, mean_absolute_percentage_error\n",
        "\n",
        "# Prepare X and y\n",
        "X = df[columns_of_interest].values  # Use columns_of_interest excluding 'X19'\n",
        "y = df['X19'].values\n",
        "\n",
        "# Split the data into training and testing sets\n",
        "X_train, X_test, y_train, y_test = train_test_split(X, y, test_size=0.4, random_state=42)\n"
      ],
      "metadata": {
        "id": "IzN8s7DrdZad"
      },
      "execution_count": null,
      "outputs": []
    },
    {
      "cell_type": "markdown",
      "source": [
        "Apply SelectKBest and train"
      ],
      "metadata": {
        "id": "9-M7bh3zdqsQ"
      }
    },
    {
      "cell_type": "code",
      "source": [
        "# Apply SelectKBest with f_regression to select the best features from the training set\n",
        "selector = SelectKBest(score_func=f_regression, k=6)  # Use 'all' or adjust 'k' to select the number of features you want\n",
        "X_train_selected = selector.fit_transform(X_train, y_train)\n",
        "X_test_selected = selector.transform(X_test)\n",
        "\n",
        "# Fit a linear regression model\n",
        "model = LinearRegression()\n",
        "model.fit(X_train_selected, y_train)\n",
        "\n",
        "# Predict on the test set\n",
        "y_pred = model.predict(X_test_selected)\n",
        "\n",
        "y_pred"
      ],
      "metadata": {
        "colab": {
          "base_uri": "https://localhost:8080/"
        },
        "id": "UeCvCEPpdoes",
        "outputId": "b720c60a-b682-4464-a10e-2c92038642b9"
      },
      "execution_count": null,
      "outputs": [
        {
          "output_type": "execute_result",
          "data": {
            "text/plain": [
              "array([7.48297214, 7.35178717, 5.907771  , 5.99450322, 9.55167345,\n",
              "       7.70710647, 6.27750051, 5.94418187, 6.44102601, 6.87746328,\n",
              "       6.41221126, 9.61302734, 6.86264871, 8.80126721, 5.22658004,\n",
              "       8.61172066, 8.89538854, 5.33272278, 6.06412925, 5.93020758,\n",
              "       5.38373432, 6.33227339, 7.40342011, 8.8026677 , 7.25461625,\n",
              "       7.33242228, 6.97357549, 5.97311826, 7.09529418, 4.31216174,\n",
              "       6.9121608 , 6.61808029, 7.63498913, 7.6454034 , 8.51372391,\n",
              "       7.36652124, 7.9715162 , 7.90017251, 6.93469105, 6.65948491,\n",
              "       6.08571769, 8.7002772 , 7.46211354, 6.17316582, 5.05068917,\n",
              "       7.09266119, 6.17144883, 8.87357929, 7.52595526, 4.66436143,\n",
              "       7.31609935, 7.36438516, 5.07906672, 7.76239852, 6.40692395,\n",
              "       8.69952648, 6.58363265, 7.86844519, 8.80497012, 6.37482701,\n",
              "       6.87002449, 5.29045301, 5.7779413 , 9.00566323, 5.40421894,\n",
              "       5.69660294, 8.65968031, 7.57575869, 7.28131643, 4.59430862,\n",
              "       7.07776356, 6.42068687, 7.16427012, 7.75085689, 6.79375344,\n",
              "       8.46481311, 7.08743342, 6.67534857, 6.18739316, 7.39185038])"
            ]
          },
          "metadata": {},
          "execution_count": 6
        }
      ]
    },
    {
      "cell_type": "markdown",
      "source": [
        "Evaluate Model Performance - Mape/Mae/Mse/Rmse"
      ],
      "metadata": {
        "id": "ZKIMHVt1n9e1"
      }
    },
    {
      "cell_type": "code",
      "source": [
        "from sklearn.metrics import mean_absolute_error, mean_absolute_percentage_error, mean_squared_error\n",
        "\n",
        "# MAPE\n",
        "mape = (mean_absolute_percentage_error(y_test, y_pred) * 100)\n",
        "print(\"MAPE:\", mape)\n",
        "\n",
        "#MAE\n",
        "mae = mean_absolute_error(y_test, y_pred)\n",
        "\n",
        "print(\"MAE:\", mae)\n",
        "\n",
        "#MSE (Mean Squared Error)\n",
        "mse = mean_squared_error(y_test, y_pred)\n",
        "print(\"MSE:\", mse)\n",
        "\n",
        "\n",
        "#RMSE (Root Mean squared error)\n",
        "rmse = np.sqrt(mse)\n",
        "print(\"RMSE:\", rmse)"
      ],
      "metadata": {
        "colab": {
          "base_uri": "https://localhost:8080/"
        },
        "id": "HZJFsPjun_ao",
        "outputId": "29835b87-0f7b-4bac-92d0-81ffe77387cb"
      },
      "execution_count": null,
      "outputs": [
        {
          "output_type": "stream",
          "name": "stdout",
          "text": [
            "MAPE: 7.674749464438069\n",
            "MAE: 0.49093719059028273\n",
            "MSE: 0.41062306505979607\n",
            "RMSE: 0.6407987711128947\n"
          ]
        }
      ]
    },
    {
      "cell_type": "markdown",
      "source": [
        "MAPE of 7.67 indicates on average the absolute percentage difference between predicted and actual values is 7.67%.\n",
        "\n",
        "MAE of .491 indicates on average the model predictions are off by about 0.491 units from the actual values.\n",
        "\n",
        "MSE of .411 represents average squared deviation of predictions from actual values.\n",
        "\n",
        "RMSE of .640 indicates std of the residuals (prediction errors)."
      ],
      "metadata": {
        "id": "FrRaDj7utX9Q"
      }
    },
    {
      "cell_type": "markdown",
      "source": [
        "View selected features"
      ],
      "metadata": {
        "id": "YMGPWY_pd5ro"
      }
    },
    {
      "cell_type": "code",
      "source": [
        "# Get the indices of the selected features\n",
        "selected_feature_indices = selector.get_support(indices=True)\n",
        "\n",
        "# Get names of selected features from columns_of_interest\n",
        "selected_feature_names = [columns_of_interest[i] for i in selected_feature_indices]\n",
        "\n",
        "# Print selected feature names\n",
        "print(\"Selected feature names:\")\n",
        "print(selected_feature_names)"
      ],
      "metadata": {
        "colab": {
          "base_uri": "https://localhost:8080/"
        },
        "id": "WY3MUQNWI7lJ",
        "outputId": "0becd616-1a93-4578-f63b-05c7d145e173"
      },
      "execution_count": null,
      "outputs": [
        {
          "output_type": "stream",
          "name": "stdout",
          "text": [
            "Selected feature names:\n",
            "['X6', 'X9', 'X11', 'X12', 'X16', 'X18']\n"
          ]
        }
      ]
    },
    {
      "cell_type": "markdown",
      "source": [
        "**Observation**:\n",
        "\n",
        "Between the two sets, based on metrics, the first set of features ['X6', 'X7', 'X11', 'X12', 'X13', 'X17'] may perform better in terms of predictive accuracy compared to the second attempt. The first set has lower MAPE, MAE, MSE, RMSE."
      ],
      "metadata": {
        "id": "KMj_QX7vw9ZQ"
      }
    }
  ]
}