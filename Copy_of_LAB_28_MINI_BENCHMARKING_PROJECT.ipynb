{
  "nbformat": 4,
  "nbformat_minor": 0,
  "metadata": {
    "colab": {
      "provenance": []
    },
    "kernelspec": {
      "name": "python3",
      "display_name": "Python 3"
    },
    "language_info": {
      "name": "python"
    }
  },
  "cells": [
    {
      "cell_type": "markdown",
      "source": [
        "1. Dataset\n",
        "\n",
        "* Use LAB 27 dataset, specifically the \"Heart.csv\" file.\n",
        "\n",
        "2. Splitting the Data:\n",
        "\n",
        "Experiment with two different data splits:\n",
        "* 80-20 split\n",
        "* 70-30 split\n",
        "\n",
        "3. Naive Bayes and Logistic Regression:\n",
        "\n",
        "* Perform **Gaussian Naive Bayes** on the dataset for both the 80-20 and 70-30 splits.\n",
        "* Perform **Logistic Regression** on the dataset for both the 80-20 and 70-30 splits.\n",
        "\n",
        "4. Benchmarking:\n",
        "\n",
        "Compare and benchmark the performance of the two classification models (Logistic Regression and Gaussian Naive Bayes).\n",
        "\n",
        "5. Fill in this sheet.\n",
        "\n",
        "[BENCHMARKING LOGISTIC REGRESSION AND GAUSSIAN NAIVE BAYES MODELS FOR HEART DISEASE PREDICTION](https://docs.google.com/spreadsheets/d/1lLt7kKFi2D5NkxO-eiq2bvkV7607CIOlJWN_7GGSywo/edit#gid=2017879404)\n",
        "\n",
        "6. Decision Making:\n",
        "Based on the performance metrics obtained from benchmarking the two classification models (Logistic Regression and Gaussian Naive Bayes) with both 80-20 and 70-30 splits, determine which model and data split combination seems to be the most effective for the given dataset."
      ],
      "metadata": {
        "id": "OitP9J3WiCBu"
      }
    },
    {
      "cell_type": "markdown",
      "source": [
        "###1. Dataset"
      ],
      "metadata": {
        "id": "a4CZEMODdpLT"
      }
    },
    {
      "cell_type": "markdown",
      "source": [
        "Upload data saved from Lab 27 processed_heart.csv"
      ],
      "metadata": {
        "id": "AaICDTMJQdm9"
      }
    },
    {
      "cell_type": "code",
      "source": [
        "import pandas as pd\n",
        "import numpy as np\n",
        "import pandas as pd\n",
        "from sklearn.model_selection import train_test_split\n",
        "from sklearn.pipeline import Pipeline\n",
        "from sklearn.impute import SimpleImputer\n",
        "from sklearn.compose import ColumnTransformer\n",
        "from sklearn.preprocessing import StandardScaler, OneHotEncoder\n",
        "from sklearn.linear_model import LogisticRegression\n",
        "from sklearn.metrics import accuracy_score, classification_report\n",
        "\n",
        "# Create a DataFrame\n",
        "df = pd.read_csv('processed_heart.csv')"
      ],
      "metadata": {
        "id": "fCGdf43hLCA-"
      },
      "execution_count": null,
      "outputs": []
    },
    {
      "cell_type": "code",
      "source": [
        "df"
      ],
      "metadata": {
        "colab": {
          "base_uri": "https://localhost:8080/",
          "height": 423
        },
        "id": "0u1q18l_OQCV",
        "outputId": "7a72657e-b084-4d81-b212-18619f22bf1f"
      },
      "execution_count": null,
      "outputs": [
        {
          "output_type": "execute_result",
          "data": {
            "text/plain": [
              "     Unnamed: 0  Age  Sex  ChestPain  RestBP  Chol  Fbs  RestECG  MaxHR  \\\n",
              "0             1   63    1          1     145   233    1        2    150   \n",
              "1             2   67    1          2     160   286    0        2    108   \n",
              "2             3   67    1          2     120   229    0        2    129   \n",
              "3             4   37    1          3     130   250    0        0    187   \n",
              "4             5   41    0          4     130   204    0        2    172   \n",
              "..          ...  ...  ...        ...     ...   ...  ...      ...    ...   \n",
              "298         299   45    1          1     110   264    0        0    132   \n",
              "299         300   68    1          2     144   193    1        0    141   \n",
              "300         301   57    1          2     130   131    0        0    115   \n",
              "301         302   57    0          4     130   236    0        2    174   \n",
              "302         303   38    1          3     138   175    0        0    173   \n",
              "\n",
              "     ExAng  Oldpeak  Slope   Ca  Thal  AHD  \n",
              "0        0      2.3      3  0.0     2    0  \n",
              "1        1      1.5      2  3.0     1    1  \n",
              "2        1      2.6      2  2.0     3    1  \n",
              "3        0      3.5      3  0.0     1    0  \n",
              "4        0      1.4      1  0.0     1    0  \n",
              "..     ...      ...    ...  ...   ...  ...  \n",
              "298      0      1.2      2  0.0     3    1  \n",
              "299      0      3.4      2  2.0     3    1  \n",
              "300      1      1.2      2  1.0     3    1  \n",
              "301      0      0.0      2  1.0     1    1  \n",
              "302      0      0.0      1  0.0     1    0  \n",
              "\n",
              "[303 rows x 15 columns]"
            ],
            "text/html": [
              "\n",
              "  <div id=\"df-70e46f65-9fcf-4511-9074-a0f3fa4d45c8\" class=\"colab-df-container\">\n",
              "    <div>\n",
              "<style scoped>\n",
              "    .dataframe tbody tr th:only-of-type {\n",
              "        vertical-align: middle;\n",
              "    }\n",
              "\n",
              "    .dataframe tbody tr th {\n",
              "        vertical-align: top;\n",
              "    }\n",
              "\n",
              "    .dataframe thead th {\n",
              "        text-align: right;\n",
              "    }\n",
              "</style>\n",
              "<table border=\"1\" class=\"dataframe\">\n",
              "  <thead>\n",
              "    <tr style=\"text-align: right;\">\n",
              "      <th></th>\n",
              "      <th>Unnamed: 0</th>\n",
              "      <th>Age</th>\n",
              "      <th>Sex</th>\n",
              "      <th>ChestPain</th>\n",
              "      <th>RestBP</th>\n",
              "      <th>Chol</th>\n",
              "      <th>Fbs</th>\n",
              "      <th>RestECG</th>\n",
              "      <th>MaxHR</th>\n",
              "      <th>ExAng</th>\n",
              "      <th>Oldpeak</th>\n",
              "      <th>Slope</th>\n",
              "      <th>Ca</th>\n",
              "      <th>Thal</th>\n",
              "      <th>AHD</th>\n",
              "    </tr>\n",
              "  </thead>\n",
              "  <tbody>\n",
              "    <tr>\n",
              "      <th>0</th>\n",
              "      <td>1</td>\n",
              "      <td>63</td>\n",
              "      <td>1</td>\n",
              "      <td>1</td>\n",
              "      <td>145</td>\n",
              "      <td>233</td>\n",
              "      <td>1</td>\n",
              "      <td>2</td>\n",
              "      <td>150</td>\n",
              "      <td>0</td>\n",
              "      <td>2.3</td>\n",
              "      <td>3</td>\n",
              "      <td>0.0</td>\n",
              "      <td>2</td>\n",
              "      <td>0</td>\n",
              "    </tr>\n",
              "    <tr>\n",
              "      <th>1</th>\n",
              "      <td>2</td>\n",
              "      <td>67</td>\n",
              "      <td>1</td>\n",
              "      <td>2</td>\n",
              "      <td>160</td>\n",
              "      <td>286</td>\n",
              "      <td>0</td>\n",
              "      <td>2</td>\n",
              "      <td>108</td>\n",
              "      <td>1</td>\n",
              "      <td>1.5</td>\n",
              "      <td>2</td>\n",
              "      <td>3.0</td>\n",
              "      <td>1</td>\n",
              "      <td>1</td>\n",
              "    </tr>\n",
              "    <tr>\n",
              "      <th>2</th>\n",
              "      <td>3</td>\n",
              "      <td>67</td>\n",
              "      <td>1</td>\n",
              "      <td>2</td>\n",
              "      <td>120</td>\n",
              "      <td>229</td>\n",
              "      <td>0</td>\n",
              "      <td>2</td>\n",
              "      <td>129</td>\n",
              "      <td>1</td>\n",
              "      <td>2.6</td>\n",
              "      <td>2</td>\n",
              "      <td>2.0</td>\n",
              "      <td>3</td>\n",
              "      <td>1</td>\n",
              "    </tr>\n",
              "    <tr>\n",
              "      <th>3</th>\n",
              "      <td>4</td>\n",
              "      <td>37</td>\n",
              "      <td>1</td>\n",
              "      <td>3</td>\n",
              "      <td>130</td>\n",
              "      <td>250</td>\n",
              "      <td>0</td>\n",
              "      <td>0</td>\n",
              "      <td>187</td>\n",
              "      <td>0</td>\n",
              "      <td>3.5</td>\n",
              "      <td>3</td>\n",
              "      <td>0.0</td>\n",
              "      <td>1</td>\n",
              "      <td>0</td>\n",
              "    </tr>\n",
              "    <tr>\n",
              "      <th>4</th>\n",
              "      <td>5</td>\n",
              "      <td>41</td>\n",
              "      <td>0</td>\n",
              "      <td>4</td>\n",
              "      <td>130</td>\n",
              "      <td>204</td>\n",
              "      <td>0</td>\n",
              "      <td>2</td>\n",
              "      <td>172</td>\n",
              "      <td>0</td>\n",
              "      <td>1.4</td>\n",
              "      <td>1</td>\n",
              "      <td>0.0</td>\n",
              "      <td>1</td>\n",
              "      <td>0</td>\n",
              "    </tr>\n",
              "    <tr>\n",
              "      <th>...</th>\n",
              "      <td>...</td>\n",
              "      <td>...</td>\n",
              "      <td>...</td>\n",
              "      <td>...</td>\n",
              "      <td>...</td>\n",
              "      <td>...</td>\n",
              "      <td>...</td>\n",
              "      <td>...</td>\n",
              "      <td>...</td>\n",
              "      <td>...</td>\n",
              "      <td>...</td>\n",
              "      <td>...</td>\n",
              "      <td>...</td>\n",
              "      <td>...</td>\n",
              "      <td>...</td>\n",
              "    </tr>\n",
              "    <tr>\n",
              "      <th>298</th>\n",
              "      <td>299</td>\n",
              "      <td>45</td>\n",
              "      <td>1</td>\n",
              "      <td>1</td>\n",
              "      <td>110</td>\n",
              "      <td>264</td>\n",
              "      <td>0</td>\n",
              "      <td>0</td>\n",
              "      <td>132</td>\n",
              "      <td>0</td>\n",
              "      <td>1.2</td>\n",
              "      <td>2</td>\n",
              "      <td>0.0</td>\n",
              "      <td>3</td>\n",
              "      <td>1</td>\n",
              "    </tr>\n",
              "    <tr>\n",
              "      <th>299</th>\n",
              "      <td>300</td>\n",
              "      <td>68</td>\n",
              "      <td>1</td>\n",
              "      <td>2</td>\n",
              "      <td>144</td>\n",
              "      <td>193</td>\n",
              "      <td>1</td>\n",
              "      <td>0</td>\n",
              "      <td>141</td>\n",
              "      <td>0</td>\n",
              "      <td>3.4</td>\n",
              "      <td>2</td>\n",
              "      <td>2.0</td>\n",
              "      <td>3</td>\n",
              "      <td>1</td>\n",
              "    </tr>\n",
              "    <tr>\n",
              "      <th>300</th>\n",
              "      <td>301</td>\n",
              "      <td>57</td>\n",
              "      <td>1</td>\n",
              "      <td>2</td>\n",
              "      <td>130</td>\n",
              "      <td>131</td>\n",
              "      <td>0</td>\n",
              "      <td>0</td>\n",
              "      <td>115</td>\n",
              "      <td>1</td>\n",
              "      <td>1.2</td>\n",
              "      <td>2</td>\n",
              "      <td>1.0</td>\n",
              "      <td>3</td>\n",
              "      <td>1</td>\n",
              "    </tr>\n",
              "    <tr>\n",
              "      <th>301</th>\n",
              "      <td>302</td>\n",
              "      <td>57</td>\n",
              "      <td>0</td>\n",
              "      <td>4</td>\n",
              "      <td>130</td>\n",
              "      <td>236</td>\n",
              "      <td>0</td>\n",
              "      <td>2</td>\n",
              "      <td>174</td>\n",
              "      <td>0</td>\n",
              "      <td>0.0</td>\n",
              "      <td>2</td>\n",
              "      <td>1.0</td>\n",
              "      <td>1</td>\n",
              "      <td>1</td>\n",
              "    </tr>\n",
              "    <tr>\n",
              "      <th>302</th>\n",
              "      <td>303</td>\n",
              "      <td>38</td>\n",
              "      <td>1</td>\n",
              "      <td>3</td>\n",
              "      <td>138</td>\n",
              "      <td>175</td>\n",
              "      <td>0</td>\n",
              "      <td>0</td>\n",
              "      <td>173</td>\n",
              "      <td>0</td>\n",
              "      <td>0.0</td>\n",
              "      <td>1</td>\n",
              "      <td>0.0</td>\n",
              "      <td>1</td>\n",
              "      <td>0</td>\n",
              "    </tr>\n",
              "  </tbody>\n",
              "</table>\n",
              "<p>303 rows × 15 columns</p>\n",
              "</div>\n",
              "    <div class=\"colab-df-buttons\">\n",
              "\n",
              "  <div class=\"colab-df-container\">\n",
              "    <button class=\"colab-df-convert\" onclick=\"convertToInteractive('df-70e46f65-9fcf-4511-9074-a0f3fa4d45c8')\"\n",
              "            title=\"Convert this dataframe to an interactive table.\"\n",
              "            style=\"display:none;\">\n",
              "\n",
              "  <svg xmlns=\"http://www.w3.org/2000/svg\" height=\"24px\" viewBox=\"0 -960 960 960\">\n",
              "    <path d=\"M120-120v-720h720v720H120Zm60-500h600v-160H180v160Zm220 220h160v-160H400v160Zm0 220h160v-160H400v160ZM180-400h160v-160H180v160Zm440 0h160v-160H620v160ZM180-180h160v-160H180v160Zm440 0h160v-160H620v160Z\"/>\n",
              "  </svg>\n",
              "    </button>\n",
              "\n",
              "  <style>\n",
              "    .colab-df-container {\n",
              "      display:flex;\n",
              "      gap: 12px;\n",
              "    }\n",
              "\n",
              "    .colab-df-convert {\n",
              "      background-color: #E8F0FE;\n",
              "      border: none;\n",
              "      border-radius: 50%;\n",
              "      cursor: pointer;\n",
              "      display: none;\n",
              "      fill: #1967D2;\n",
              "      height: 32px;\n",
              "      padding: 0 0 0 0;\n",
              "      width: 32px;\n",
              "    }\n",
              "\n",
              "    .colab-df-convert:hover {\n",
              "      background-color: #E2EBFA;\n",
              "      box-shadow: 0px 1px 2px rgba(60, 64, 67, 0.3), 0px 1px 3px 1px rgba(60, 64, 67, 0.15);\n",
              "      fill: #174EA6;\n",
              "    }\n",
              "\n",
              "    .colab-df-buttons div {\n",
              "      margin-bottom: 4px;\n",
              "    }\n",
              "\n",
              "    [theme=dark] .colab-df-convert {\n",
              "      background-color: #3B4455;\n",
              "      fill: #D2E3FC;\n",
              "    }\n",
              "\n",
              "    [theme=dark] .colab-df-convert:hover {\n",
              "      background-color: #434B5C;\n",
              "      box-shadow: 0px 1px 3px 1px rgba(0, 0, 0, 0.15);\n",
              "      filter: drop-shadow(0px 1px 2px rgba(0, 0, 0, 0.3));\n",
              "      fill: #FFFFFF;\n",
              "    }\n",
              "  </style>\n",
              "\n",
              "    <script>\n",
              "      const buttonEl =\n",
              "        document.querySelector('#df-70e46f65-9fcf-4511-9074-a0f3fa4d45c8 button.colab-df-convert');\n",
              "      buttonEl.style.display =\n",
              "        google.colab.kernel.accessAllowed ? 'block' : 'none';\n",
              "\n",
              "      async function convertToInteractive(key) {\n",
              "        const element = document.querySelector('#df-70e46f65-9fcf-4511-9074-a0f3fa4d45c8');\n",
              "        const dataTable =\n",
              "          await google.colab.kernel.invokeFunction('convertToInteractive',\n",
              "                                                    [key], {});\n",
              "        if (!dataTable) return;\n",
              "\n",
              "        const docLinkHtml = 'Like what you see? Visit the ' +\n",
              "          '<a target=\"_blank\" href=https://colab.research.google.com/notebooks/data_table.ipynb>data table notebook</a>'\n",
              "          + ' to learn more about interactive tables.';\n",
              "        element.innerHTML = '';\n",
              "        dataTable['output_type'] = 'display_data';\n",
              "        await google.colab.output.renderOutput(dataTable, element);\n",
              "        const docLink = document.createElement('div');\n",
              "        docLink.innerHTML = docLinkHtml;\n",
              "        element.appendChild(docLink);\n",
              "      }\n",
              "    </script>\n",
              "  </div>\n",
              "\n",
              "\n",
              "<div id=\"df-4be6a98a-9d59-4af0-b2a1-c76192250f37\">\n",
              "  <button class=\"colab-df-quickchart\" onclick=\"quickchart('df-4be6a98a-9d59-4af0-b2a1-c76192250f37')\"\n",
              "            title=\"Suggest charts\"\n",
              "            style=\"display:none;\">\n",
              "\n",
              "<svg xmlns=\"http://www.w3.org/2000/svg\" height=\"24px\"viewBox=\"0 0 24 24\"\n",
              "     width=\"24px\">\n",
              "    <g>\n",
              "        <path d=\"M19 3H5c-1.1 0-2 .9-2 2v14c0 1.1.9 2 2 2h14c1.1 0 2-.9 2-2V5c0-1.1-.9-2-2-2zM9 17H7v-7h2v7zm4 0h-2V7h2v10zm4 0h-2v-4h2v4z\"/>\n",
              "    </g>\n",
              "</svg>\n",
              "  </button>\n",
              "\n",
              "<style>\n",
              "  .colab-df-quickchart {\n",
              "      --bg-color: #E8F0FE;\n",
              "      --fill-color: #1967D2;\n",
              "      --hover-bg-color: #E2EBFA;\n",
              "      --hover-fill-color: #174EA6;\n",
              "      --disabled-fill-color: #AAA;\n",
              "      --disabled-bg-color: #DDD;\n",
              "  }\n",
              "\n",
              "  [theme=dark] .colab-df-quickchart {\n",
              "      --bg-color: #3B4455;\n",
              "      --fill-color: #D2E3FC;\n",
              "      --hover-bg-color: #434B5C;\n",
              "      --hover-fill-color: #FFFFFF;\n",
              "      --disabled-bg-color: #3B4455;\n",
              "      --disabled-fill-color: #666;\n",
              "  }\n",
              "\n",
              "  .colab-df-quickchart {\n",
              "    background-color: var(--bg-color);\n",
              "    border: none;\n",
              "    border-radius: 50%;\n",
              "    cursor: pointer;\n",
              "    display: none;\n",
              "    fill: var(--fill-color);\n",
              "    height: 32px;\n",
              "    padding: 0;\n",
              "    width: 32px;\n",
              "  }\n",
              "\n",
              "  .colab-df-quickchart:hover {\n",
              "    background-color: var(--hover-bg-color);\n",
              "    box-shadow: 0 1px 2px rgba(60, 64, 67, 0.3), 0 1px 3px 1px rgba(60, 64, 67, 0.15);\n",
              "    fill: var(--button-hover-fill-color);\n",
              "  }\n",
              "\n",
              "  .colab-df-quickchart-complete:disabled,\n",
              "  .colab-df-quickchart-complete:disabled:hover {\n",
              "    background-color: var(--disabled-bg-color);\n",
              "    fill: var(--disabled-fill-color);\n",
              "    box-shadow: none;\n",
              "  }\n",
              "\n",
              "  .colab-df-spinner {\n",
              "    border: 2px solid var(--fill-color);\n",
              "    border-color: transparent;\n",
              "    border-bottom-color: var(--fill-color);\n",
              "    animation:\n",
              "      spin 1s steps(1) infinite;\n",
              "  }\n",
              "\n",
              "  @keyframes spin {\n",
              "    0% {\n",
              "      border-color: transparent;\n",
              "      border-bottom-color: var(--fill-color);\n",
              "      border-left-color: var(--fill-color);\n",
              "    }\n",
              "    20% {\n",
              "      border-color: transparent;\n",
              "      border-left-color: var(--fill-color);\n",
              "      border-top-color: var(--fill-color);\n",
              "    }\n",
              "    30% {\n",
              "      border-color: transparent;\n",
              "      border-left-color: var(--fill-color);\n",
              "      border-top-color: var(--fill-color);\n",
              "      border-right-color: var(--fill-color);\n",
              "    }\n",
              "    40% {\n",
              "      border-color: transparent;\n",
              "      border-right-color: var(--fill-color);\n",
              "      border-top-color: var(--fill-color);\n",
              "    }\n",
              "    60% {\n",
              "      border-color: transparent;\n",
              "      border-right-color: var(--fill-color);\n",
              "    }\n",
              "    80% {\n",
              "      border-color: transparent;\n",
              "      border-right-color: var(--fill-color);\n",
              "      border-bottom-color: var(--fill-color);\n",
              "    }\n",
              "    90% {\n",
              "      border-color: transparent;\n",
              "      border-bottom-color: var(--fill-color);\n",
              "    }\n",
              "  }\n",
              "</style>\n",
              "\n",
              "  <script>\n",
              "    async function quickchart(key) {\n",
              "      const quickchartButtonEl =\n",
              "        document.querySelector('#' + key + ' button');\n",
              "      quickchartButtonEl.disabled = true;  // To prevent multiple clicks.\n",
              "      quickchartButtonEl.classList.add('colab-df-spinner');\n",
              "      try {\n",
              "        const charts = await google.colab.kernel.invokeFunction(\n",
              "            'suggestCharts', [key], {});\n",
              "      } catch (error) {\n",
              "        console.error('Error during call to suggestCharts:', error);\n",
              "      }\n",
              "      quickchartButtonEl.classList.remove('colab-df-spinner');\n",
              "      quickchartButtonEl.classList.add('colab-df-quickchart-complete');\n",
              "    }\n",
              "    (() => {\n",
              "      let quickchartButtonEl =\n",
              "        document.querySelector('#df-4be6a98a-9d59-4af0-b2a1-c76192250f37 button');\n",
              "      quickchartButtonEl.style.display =\n",
              "        google.colab.kernel.accessAllowed ? 'block' : 'none';\n",
              "    })();\n",
              "  </script>\n",
              "</div>\n",
              "\n",
              "  <div id=\"id_cff3b0a2-0657-4654-907c-6e5bf296e967\">\n",
              "    <style>\n",
              "      .colab-df-generate {\n",
              "        background-color: #E8F0FE;\n",
              "        border: none;\n",
              "        border-radius: 50%;\n",
              "        cursor: pointer;\n",
              "        display: none;\n",
              "        fill: #1967D2;\n",
              "        height: 32px;\n",
              "        padding: 0 0 0 0;\n",
              "        width: 32px;\n",
              "      }\n",
              "\n",
              "      .colab-df-generate:hover {\n",
              "        background-color: #E2EBFA;\n",
              "        box-shadow: 0px 1px 2px rgba(60, 64, 67, 0.3), 0px 1px 3px 1px rgba(60, 64, 67, 0.15);\n",
              "        fill: #174EA6;\n",
              "      }\n",
              "\n",
              "      [theme=dark] .colab-df-generate {\n",
              "        background-color: #3B4455;\n",
              "        fill: #D2E3FC;\n",
              "      }\n",
              "\n",
              "      [theme=dark] .colab-df-generate:hover {\n",
              "        background-color: #434B5C;\n",
              "        box-shadow: 0px 1px 3px 1px rgba(0, 0, 0, 0.15);\n",
              "        filter: drop-shadow(0px 1px 2px rgba(0, 0, 0, 0.3));\n",
              "        fill: #FFFFFF;\n",
              "      }\n",
              "    </style>\n",
              "    <button class=\"colab-df-generate\" onclick=\"generateWithVariable('df')\"\n",
              "            title=\"Generate code using this dataframe.\"\n",
              "            style=\"display:none;\">\n",
              "\n",
              "  <svg xmlns=\"http://www.w3.org/2000/svg\" height=\"24px\"viewBox=\"0 0 24 24\"\n",
              "       width=\"24px\">\n",
              "    <path d=\"M7,19H8.4L18.45,9,17,7.55,7,17.6ZM5,21V16.75L18.45,3.32a2,2,0,0,1,2.83,0l1.4,1.43a1.91,1.91,0,0,1,.58,1.4,1.91,1.91,0,0,1-.58,1.4L9.25,21ZM18.45,9,17,7.55Zm-12,3A5.31,5.31,0,0,0,4.9,8.1,5.31,5.31,0,0,0,1,6.5,5.31,5.31,0,0,0,4.9,4.9,5.31,5.31,0,0,0,6.5,1,5.31,5.31,0,0,0,8.1,4.9,5.31,5.31,0,0,0,12,6.5,5.46,5.46,0,0,0,6.5,12Z\"/>\n",
              "  </svg>\n",
              "    </button>\n",
              "    <script>\n",
              "      (() => {\n",
              "      const buttonEl =\n",
              "        document.querySelector('#id_cff3b0a2-0657-4654-907c-6e5bf296e967 button.colab-df-generate');\n",
              "      buttonEl.style.display =\n",
              "        google.colab.kernel.accessAllowed ? 'block' : 'none';\n",
              "\n",
              "      buttonEl.onclick = () => {\n",
              "        google.colab.notebook.generateWithVariable('df');\n",
              "      }\n",
              "      })();\n",
              "    </script>\n",
              "  </div>\n",
              "\n",
              "    </div>\n",
              "  </div>\n"
            ],
            "application/vnd.google.colaboratory.intrinsic+json": {
              "type": "dataframe",
              "variable_name": "df",
              "summary": "{\n  \"name\": \"df\",\n  \"rows\": 303,\n  \"fields\": [\n    {\n      \"column\": \"Unnamed: 0\",\n      \"properties\": {\n        \"dtype\": \"number\",\n        \"std\": 87,\n        \"min\": 1,\n        \"max\": 303,\n        \"num_unique_values\": 303,\n        \"samples\": [\n          180,\n          229,\n          112\n        ],\n        \"semantic_type\": \"\",\n        \"description\": \"\"\n      }\n    },\n    {\n      \"column\": \"Age\",\n      \"properties\": {\n        \"dtype\": \"number\",\n        \"std\": 9,\n        \"min\": 29,\n        \"max\": 77,\n        \"num_unique_values\": 41,\n        \"samples\": [\n          61,\n          64,\n          44\n        ],\n        \"semantic_type\": \"\",\n        \"description\": \"\"\n      }\n    },\n    {\n      \"column\": \"Sex\",\n      \"properties\": {\n        \"dtype\": \"number\",\n        \"std\": 0,\n        \"min\": 0,\n        \"max\": 1,\n        \"num_unique_values\": 2,\n        \"samples\": [\n          0,\n          1\n        ],\n        \"semantic_type\": \"\",\n        \"description\": \"\"\n      }\n    },\n    {\n      \"column\": \"ChestPain\",\n      \"properties\": {\n        \"dtype\": \"number\",\n        \"std\": 0,\n        \"min\": 1,\n        \"max\": 4,\n        \"num_unique_values\": 4,\n        \"samples\": [\n          2,\n          4\n        ],\n        \"semantic_type\": \"\",\n        \"description\": \"\"\n      }\n    },\n    {\n      \"column\": \"RestBP\",\n      \"properties\": {\n        \"dtype\": \"number\",\n        \"std\": 17,\n        \"min\": 94,\n        \"max\": 200,\n        \"num_unique_values\": 50,\n        \"samples\": [\n          124,\n          192\n        ],\n        \"semantic_type\": \"\",\n        \"description\": \"\"\n      }\n    },\n    {\n      \"column\": \"Chol\",\n      \"properties\": {\n        \"dtype\": \"number\",\n        \"std\": 51,\n        \"min\": 126,\n        \"max\": 564,\n        \"num_unique_values\": 152,\n        \"samples\": [\n          321,\n          187\n        ],\n        \"semantic_type\": \"\",\n        \"description\": \"\"\n      }\n    },\n    {\n      \"column\": \"Fbs\",\n      \"properties\": {\n        \"dtype\": \"number\",\n        \"std\": 0,\n        \"min\": 0,\n        \"max\": 1,\n        \"num_unique_values\": 2,\n        \"samples\": [\n          0,\n          1\n        ],\n        \"semantic_type\": \"\",\n        \"description\": \"\"\n      }\n    },\n    {\n      \"column\": \"RestECG\",\n      \"properties\": {\n        \"dtype\": \"number\",\n        \"std\": 0,\n        \"min\": 0,\n        \"max\": 2,\n        \"num_unique_values\": 3,\n        \"samples\": [\n          2,\n          0\n        ],\n        \"semantic_type\": \"\",\n        \"description\": \"\"\n      }\n    },\n    {\n      \"column\": \"MaxHR\",\n      \"properties\": {\n        \"dtype\": \"number\",\n        \"std\": 22,\n        \"min\": 71,\n        \"max\": 202,\n        \"num_unique_values\": 91,\n        \"samples\": [\n          170,\n          114\n        ],\n        \"semantic_type\": \"\",\n        \"description\": \"\"\n      }\n    },\n    {\n      \"column\": \"ExAng\",\n      \"properties\": {\n        \"dtype\": \"number\",\n        \"std\": 0,\n        \"min\": 0,\n        \"max\": 1,\n        \"num_unique_values\": 2,\n        \"samples\": [\n          1,\n          0\n        ],\n        \"semantic_type\": \"\",\n        \"description\": \"\"\n      }\n    },\n    {\n      \"column\": \"Oldpeak\",\n      \"properties\": {\n        \"dtype\": \"number\",\n        \"std\": 1.1610750220686348,\n        \"min\": 0.0,\n        \"max\": 6.2,\n        \"num_unique_values\": 40,\n        \"samples\": [\n          2.4,\n          0.2\n        ],\n        \"semantic_type\": \"\",\n        \"description\": \"\"\n      }\n    },\n    {\n      \"column\": \"Slope\",\n      \"properties\": {\n        \"dtype\": \"number\",\n        \"std\": 0,\n        \"min\": 1,\n        \"max\": 3,\n        \"num_unique_values\": 3,\n        \"samples\": [\n          3,\n          2\n        ],\n        \"semantic_type\": \"\",\n        \"description\": \"\"\n      }\n    },\n    {\n      \"column\": \"Ca\",\n      \"properties\": {\n        \"dtype\": \"number\",\n        \"std\": 0.934375462234502,\n        \"min\": 0.0,\n        \"max\": 3.0,\n        \"num_unique_values\": 4,\n        \"samples\": [\n          3.0,\n          1.0\n        ],\n        \"semantic_type\": \"\",\n        \"description\": \"\"\n      }\n    },\n    {\n      \"column\": \"Thal\",\n      \"properties\": {\n        \"dtype\": \"number\",\n        \"std\": 0,\n        \"min\": 1,\n        \"max\": 3,\n        \"num_unique_values\": 3,\n        \"samples\": [\n          2,\n          1\n        ],\n        \"semantic_type\": \"\",\n        \"description\": \"\"\n      }\n    },\n    {\n      \"column\": \"AHD\",\n      \"properties\": {\n        \"dtype\": \"number\",\n        \"std\": 0,\n        \"min\": 0,\n        \"max\": 1,\n        \"num_unique_values\": 2,\n        \"samples\": [\n          1,\n          0\n        ],\n        \"semantic_type\": \"\",\n        \"description\": \"\"\n      }\n    }\n  ]\n}"
            }
          },
          "metadata": {},
          "execution_count": 29
        }
      ]
    },
    {
      "cell_type": "markdown",
      "source": [
        "###2. Splitting the Data:"
      ],
      "metadata": {
        "id": "kSM2BgBodxMY"
      }
    },
    {
      "cell_type": "markdown",
      "source": [
        "Features and Target from Lab 27 and Experiment with two different data splits:\n",
        "\n",
        "80/20 split\n",
        "\n",
        "70/30 split"
      ],
      "metadata": {
        "id": "SNTBmBAmK3ZE"
      }
    },
    {
      "cell_type": "code",
      "source": [
        "X = df.drop(columns=['Unnamed: 0', 'AHD'])\n",
        "y = df['AHD']"
      ],
      "metadata": {
        "id": "337Dt9CEOvwt"
      },
      "execution_count": null,
      "outputs": []
    },
    {
      "cell_type": "code",
      "source": [
        "def split_data(X, y, test_size):\n",
        "    # Perform train-test split\n",
        "    X_train, X_test, y_train, y_test = train_test_split(\n",
        "        X, y, test_size=test_size, random_state=42)\n",
        "\n",
        "    return X_train, X_test, y_train, y_test\n",
        "\n",
        "# Example usage:\n",
        "# Perform 80/20 split\n",
        "X_train_80, X_test_80, y_train_80, y_test_80 = split_data(X, y, 0.2)\n",
        "\n",
        "# Perform 70/30 split\n",
        "X_train_70, X_test_70, y_train_70, y_test_70 = split_data(X, y, 0.3)\n",
        "\n",
        "print('80/20 split train shape:', X_train_80.shape)\n",
        "print('70/30 split train shape:', X_train_70.shape)\n"
      ],
      "metadata": {
        "colab": {
          "base_uri": "https://localhost:8080/"
        },
        "id": "3vucov6FLZoe",
        "outputId": "b34198a6-64e7-400a-e80b-411385126388"
      },
      "execution_count": null,
      "outputs": [
        {
          "output_type": "stream",
          "name": "stdout",
          "text": [
            "80/20 split train shape: (242, 13)\n",
            "70/30 split train shape: (212, 13)\n"
          ]
        }
      ]
    },
    {
      "cell_type": "markdown",
      "source": [
        "Feature Scaling"
      ],
      "metadata": {
        "id": "2QDiE-U5KHMC"
      }
    },
    {
      "cell_type": "code",
      "source": [
        "def split_and_scale_data(X, y, test_size):\n",
        "    # Perform train-test split\n",
        "    X_train, X_test, y_train, y_test = train_test_split(\n",
        "        X, y, test_size=test_size, random_state=42)\n",
        "\n",
        "    # Initialize the scaler\n",
        "    scaler = StandardScaler()\n",
        "\n",
        "    # Fit on training data and transform\n",
        "    X_train_scaled = scaler.fit_transform(X_train)\n",
        "\n",
        "    # Transform testing data\n",
        "    X_test_scaled = scaler.transform(X_test)\n",
        "\n",
        "    return X_train_scaled, X_test_scaled, y_train, y_test\n",
        "\n",
        "# Perform 80/20 split and scale\n",
        "X_train_80_scaled, X_test_80_scaled, y_train_80, y_test_80 = split_and_scale_data(X, y, 0.2)\n",
        "\n",
        "# Perform 70/30 split and scale\n",
        "X_train_70_scaled, X_test_70_scaled, y_train_70, y_test_70 = split_and_scale_data(X, y, 0.3)\n",
        "\n",
        "print('80/20 split train shape:', X_train_80_scaled.shape)\n",
        "print('80/20 train scaled:', X_train_80_scaled)\n",
        "\n",
        "print('70/30 split train shape:', X_train_70_scaled.shape)\n",
        "print('70/30 train scaled:', X_train_70_scaled)\n"
      ],
      "metadata": {
        "colab": {
          "base_uri": "https://localhost:8080/"
        },
        "id": "y0KmLcpkNwm7",
        "outputId": "fb7090e1-69c6-422e-a6f1-a982932a09eb"
      },
      "execution_count": null,
      "outputs": [
        {
          "output_type": "stream",
          "name": "stdout",
          "text": [
            "80/20 split train shape: (242, 13)\n",
            "80/20 train scaled: [[-2.83850353  0.72250438  1.65027399 ... -0.96343165 -0.71586852\n",
            "  -0.84923193]\n",
            " [ 0.24135234  0.72250438  0.51571062 ... -0.96343165  0.40181007\n",
            "   1.25860528]\n",
            " [ 1.56129057  0.72250438 -1.75341612 ...  0.65566876  0.40181007\n",
            "  -0.84923193]\n",
            " ...\n",
            " [ 0.46134205  0.72250438 -0.61885275 ... -0.96343165  0.40181007\n",
            "   1.25860528]\n",
            " [ 0.68133175  0.72250438 -0.61885275 ... -0.96343165  0.40181007\n",
            "   1.25860528]\n",
            " [ 0.24135234 -1.38407465 -0.61885275 ... -0.96343165  0.40181007\n",
            "  -0.84923193]]\n",
            "70/30 split train shape: (212, 13)\n",
            "70/30 train scaled: [[ 1.12414392  0.71713717 -1.74896356 ...  0.64109419  0.39712818\n",
            "  -0.84963241]\n",
            " [ 0.79633304  0.71713717 -0.60103701 ...  0.64109419  1.50490678\n",
            "   1.25705848]\n",
            " [ 0.24998157  0.71713717  0.54688954 ... -0.95787015 -0.71065043\n",
            "  -0.84963241]\n",
            " ...\n",
            " [ 0.46852216  0.71713717 -0.60103701 ... -0.95787015  0.39712818\n",
            "   1.25705848]\n",
            " [ 0.68706275  0.71713717 -0.60103701 ... -0.95787015  0.39712818\n",
            "   1.25705848]\n",
            " [ 0.24998157 -1.39443338 -0.60103701 ... -0.95787015  0.39712818\n",
            "  -0.84963241]]\n"
          ]
        }
      ]
    },
    {
      "cell_type": "markdown",
      "source": [
        "##**3a. Perform Logistic Regression on the dataset for both the 80/20 and 70/30 splits.**\n",
        "\n",
        "Training\n",
        "\n",
        "For 80/20 split"
      ],
      "metadata": {
        "id": "UZ5FL9OYU4p7"
      }
    },
    {
      "cell_type": "code",
      "source": [
        "# Fit the model on the scaled training data (80/20 split)\n",
        "model = LogisticRegression()\n",
        "model.fit(X_train_80_scaled, y_train_80)\n"
      ],
      "metadata": {
        "colab": {
          "base_uri": "https://localhost:8080/",
          "height": 74
        },
        "id": "O3ZIaOj_VULO",
        "outputId": "cf4fe7dc-0aa4-4c3a-99b8-37acc8036286"
      },
      "execution_count": null,
      "outputs": [
        {
          "output_type": "execute_result",
          "data": {
            "text/plain": [
              "LogisticRegression()"
            ],
            "text/html": [
              "<style>#sk-container-id-1 {color: black;background-color: white;}#sk-container-id-1 pre{padding: 0;}#sk-container-id-1 div.sk-toggleable {background-color: white;}#sk-container-id-1 label.sk-toggleable__label {cursor: pointer;display: block;width: 100%;margin-bottom: 0;padding: 0.3em;box-sizing: border-box;text-align: center;}#sk-container-id-1 label.sk-toggleable__label-arrow:before {content: \"▸\";float: left;margin-right: 0.25em;color: #696969;}#sk-container-id-1 label.sk-toggleable__label-arrow:hover:before {color: black;}#sk-container-id-1 div.sk-estimator:hover label.sk-toggleable__label-arrow:before {color: black;}#sk-container-id-1 div.sk-toggleable__content {max-height: 0;max-width: 0;overflow: hidden;text-align: left;background-color: #f0f8ff;}#sk-container-id-1 div.sk-toggleable__content pre {margin: 0.2em;color: black;border-radius: 0.25em;background-color: #f0f8ff;}#sk-container-id-1 input.sk-toggleable__control:checked~div.sk-toggleable__content {max-height: 200px;max-width: 100%;overflow: auto;}#sk-container-id-1 input.sk-toggleable__control:checked~label.sk-toggleable__label-arrow:before {content: \"▾\";}#sk-container-id-1 div.sk-estimator input.sk-toggleable__control:checked~label.sk-toggleable__label {background-color: #d4ebff;}#sk-container-id-1 div.sk-label input.sk-toggleable__control:checked~label.sk-toggleable__label {background-color: #d4ebff;}#sk-container-id-1 input.sk-hidden--visually {border: 0;clip: rect(1px 1px 1px 1px);clip: rect(1px, 1px, 1px, 1px);height: 1px;margin: -1px;overflow: hidden;padding: 0;position: absolute;width: 1px;}#sk-container-id-1 div.sk-estimator {font-family: monospace;background-color: #f0f8ff;border: 1px dotted black;border-radius: 0.25em;box-sizing: border-box;margin-bottom: 0.5em;}#sk-container-id-1 div.sk-estimator:hover {background-color: #d4ebff;}#sk-container-id-1 div.sk-parallel-item::after {content: \"\";width: 100%;border-bottom: 1px solid gray;flex-grow: 1;}#sk-container-id-1 div.sk-label:hover label.sk-toggleable__label {background-color: #d4ebff;}#sk-container-id-1 div.sk-serial::before {content: \"\";position: absolute;border-left: 1px solid gray;box-sizing: border-box;top: 0;bottom: 0;left: 50%;z-index: 0;}#sk-container-id-1 div.sk-serial {display: flex;flex-direction: column;align-items: center;background-color: white;padding-right: 0.2em;padding-left: 0.2em;position: relative;}#sk-container-id-1 div.sk-item {position: relative;z-index: 1;}#sk-container-id-1 div.sk-parallel {display: flex;align-items: stretch;justify-content: center;background-color: white;position: relative;}#sk-container-id-1 div.sk-item::before, #sk-container-id-1 div.sk-parallel-item::before {content: \"\";position: absolute;border-left: 1px solid gray;box-sizing: border-box;top: 0;bottom: 0;left: 50%;z-index: -1;}#sk-container-id-1 div.sk-parallel-item {display: flex;flex-direction: column;z-index: 1;position: relative;background-color: white;}#sk-container-id-1 div.sk-parallel-item:first-child::after {align-self: flex-end;width: 50%;}#sk-container-id-1 div.sk-parallel-item:last-child::after {align-self: flex-start;width: 50%;}#sk-container-id-1 div.sk-parallel-item:only-child::after {width: 0;}#sk-container-id-1 div.sk-dashed-wrapped {border: 1px dashed gray;margin: 0 0.4em 0.5em 0.4em;box-sizing: border-box;padding-bottom: 0.4em;background-color: white;}#sk-container-id-1 div.sk-label label {font-family: monospace;font-weight: bold;display: inline-block;line-height: 1.2em;}#sk-container-id-1 div.sk-label-container {text-align: center;}#sk-container-id-1 div.sk-container {/* jupyter's `normalize.less` sets `[hidden] { display: none; }` but bootstrap.min.css set `[hidden] { display: none !important; }` so we also need the `!important` here to be able to override the default hidden behavior on the sphinx rendered scikit-learn.org. See: https://github.com/scikit-learn/scikit-learn/issues/21755 */display: inline-block !important;position: relative;}#sk-container-id-1 div.sk-text-repr-fallback {display: none;}</style><div id=\"sk-container-id-1\" class=\"sk-top-container\"><div class=\"sk-text-repr-fallback\"><pre>LogisticRegression()</pre><b>In a Jupyter environment, please rerun this cell to show the HTML representation or trust the notebook. <br />On GitHub, the HTML representation is unable to render, please try loading this page with nbviewer.org.</b></div><div class=\"sk-container\" hidden><div class=\"sk-item\"><div class=\"sk-estimator sk-toggleable\"><input class=\"sk-toggleable__control sk-hidden--visually\" id=\"sk-estimator-id-1\" type=\"checkbox\" checked><label for=\"sk-estimator-id-1\" class=\"sk-toggleable__label sk-toggleable__label-arrow\">LogisticRegression</label><div class=\"sk-toggleable__content\"><pre>LogisticRegression()</pre></div></div></div></div></div>"
            ]
          },
          "metadata": {},
          "execution_count": 33
        }
      ]
    },
    {
      "cell_type": "code",
      "source": [
        "# Predictions for training set (80/20 split)\n",
        "y_pred_train_80 = model.predict(X_train_80_scaled)\n",
        "y_pred_train_80"
      ],
      "metadata": {
        "colab": {
          "base_uri": "https://localhost:8080/"
        },
        "id": "zdeyQr9bXZ4c",
        "outputId": "ed018bf6-e863-41cd-cb38-44bedc9b56be"
      },
      "execution_count": null,
      "outputs": [
        {
          "output_type": "execute_result",
          "data": {
            "text/plain": [
              "array([0, 0, 0, 0, 1, 1, 0, 1, 1, 0, 0, 0, 1, 0, 1, 0, 1, 0, 1, 0, 0, 0,\n",
              "       0, 1, 0, 1, 0, 1, 1, 1, 0, 1, 0, 0, 0, 1, 1, 1, 1, 1, 0, 1, 0, 0,\n",
              "       0, 1, 0, 1, 0, 1, 0, 0, 0, 0, 1, 1, 0, 0, 0, 0, 1, 0, 1, 0, 1, 1,\n",
              "       0, 1, 0, 0, 1, 0, 0, 0, 0, 0, 0, 1, 1, 0, 0, 1, 1, 0, 0, 1, 1, 0,\n",
              "       0, 1, 0, 1, 1, 1, 1, 1, 0, 0, 0, 0, 1, 0, 0, 1, 1, 1, 0, 0, 0, 1,\n",
              "       1, 0, 0, 1, 1, 0, 0, 0, 0, 1, 0, 1, 1, 0, 0, 0, 1, 0, 0, 0, 1, 0,\n",
              "       1, 0, 0, 1, 0, 1, 0, 1, 0, 0, 0, 1, 0, 0, 0, 0, 0, 0, 0, 1, 1, 0,\n",
              "       0, 1, 1, 0, 1, 1, 0, 0, 1, 1, 1, 0, 0, 1, 1, 0, 1, 0, 1, 0, 0, 0,\n",
              "       0, 0, 0, 0, 1, 0, 0, 0, 1, 0, 1, 0, 0, 0, 0, 0, 0, 0, 0, 0, 1, 0,\n",
              "       0, 1, 0, 1, 0, 1, 0, 0, 0, 0, 1, 0, 1, 1, 1, 0, 1, 1, 0, 1, 0, 1,\n",
              "       0, 1, 1, 0, 0, 0, 1, 0, 0, 0, 0, 0, 0, 0, 1, 0, 0, 1, 1, 1, 1, 0])"
            ]
          },
          "metadata": {},
          "execution_count": 34
        }
      ]
    },
    {
      "cell_type": "markdown",
      "source": [
        "For 70/30 split"
      ],
      "metadata": {
        "id": "z8NqhJ1RVVzo"
      }
    },
    {
      "cell_type": "code",
      "source": [
        "# Fit the model on the scaled training data (70/30 split)\n",
        "model.fit(X_train_70_scaled, y_train_70)\n"
      ],
      "metadata": {
        "colab": {
          "base_uri": "https://localhost:8080/",
          "height": 74
        },
        "id": "hdrOAes_VXMH",
        "outputId": "1bf039d1-8914-4970-f741-8c66372a53a4"
      },
      "execution_count": null,
      "outputs": [
        {
          "output_type": "execute_result",
          "data": {
            "text/plain": [
              "LogisticRegression()"
            ],
            "text/html": [
              "<style>#sk-container-id-2 {color: black;background-color: white;}#sk-container-id-2 pre{padding: 0;}#sk-container-id-2 div.sk-toggleable {background-color: white;}#sk-container-id-2 label.sk-toggleable__label {cursor: pointer;display: block;width: 100%;margin-bottom: 0;padding: 0.3em;box-sizing: border-box;text-align: center;}#sk-container-id-2 label.sk-toggleable__label-arrow:before {content: \"▸\";float: left;margin-right: 0.25em;color: #696969;}#sk-container-id-2 label.sk-toggleable__label-arrow:hover:before {color: black;}#sk-container-id-2 div.sk-estimator:hover label.sk-toggleable__label-arrow:before {color: black;}#sk-container-id-2 div.sk-toggleable__content {max-height: 0;max-width: 0;overflow: hidden;text-align: left;background-color: #f0f8ff;}#sk-container-id-2 div.sk-toggleable__content pre {margin: 0.2em;color: black;border-radius: 0.25em;background-color: #f0f8ff;}#sk-container-id-2 input.sk-toggleable__control:checked~div.sk-toggleable__content {max-height: 200px;max-width: 100%;overflow: auto;}#sk-container-id-2 input.sk-toggleable__control:checked~label.sk-toggleable__label-arrow:before {content: \"▾\";}#sk-container-id-2 div.sk-estimator input.sk-toggleable__control:checked~label.sk-toggleable__label {background-color: #d4ebff;}#sk-container-id-2 div.sk-label input.sk-toggleable__control:checked~label.sk-toggleable__label {background-color: #d4ebff;}#sk-container-id-2 input.sk-hidden--visually {border: 0;clip: rect(1px 1px 1px 1px);clip: rect(1px, 1px, 1px, 1px);height: 1px;margin: -1px;overflow: hidden;padding: 0;position: absolute;width: 1px;}#sk-container-id-2 div.sk-estimator {font-family: monospace;background-color: #f0f8ff;border: 1px dotted black;border-radius: 0.25em;box-sizing: border-box;margin-bottom: 0.5em;}#sk-container-id-2 div.sk-estimator:hover {background-color: #d4ebff;}#sk-container-id-2 div.sk-parallel-item::after {content: \"\";width: 100%;border-bottom: 1px solid gray;flex-grow: 1;}#sk-container-id-2 div.sk-label:hover label.sk-toggleable__label {background-color: #d4ebff;}#sk-container-id-2 div.sk-serial::before {content: \"\";position: absolute;border-left: 1px solid gray;box-sizing: border-box;top: 0;bottom: 0;left: 50%;z-index: 0;}#sk-container-id-2 div.sk-serial {display: flex;flex-direction: column;align-items: center;background-color: white;padding-right: 0.2em;padding-left: 0.2em;position: relative;}#sk-container-id-2 div.sk-item {position: relative;z-index: 1;}#sk-container-id-2 div.sk-parallel {display: flex;align-items: stretch;justify-content: center;background-color: white;position: relative;}#sk-container-id-2 div.sk-item::before, #sk-container-id-2 div.sk-parallel-item::before {content: \"\";position: absolute;border-left: 1px solid gray;box-sizing: border-box;top: 0;bottom: 0;left: 50%;z-index: -1;}#sk-container-id-2 div.sk-parallel-item {display: flex;flex-direction: column;z-index: 1;position: relative;background-color: white;}#sk-container-id-2 div.sk-parallel-item:first-child::after {align-self: flex-end;width: 50%;}#sk-container-id-2 div.sk-parallel-item:last-child::after {align-self: flex-start;width: 50%;}#sk-container-id-2 div.sk-parallel-item:only-child::after {width: 0;}#sk-container-id-2 div.sk-dashed-wrapped {border: 1px dashed gray;margin: 0 0.4em 0.5em 0.4em;box-sizing: border-box;padding-bottom: 0.4em;background-color: white;}#sk-container-id-2 div.sk-label label {font-family: monospace;font-weight: bold;display: inline-block;line-height: 1.2em;}#sk-container-id-2 div.sk-label-container {text-align: center;}#sk-container-id-2 div.sk-container {/* jupyter's `normalize.less` sets `[hidden] { display: none; }` but bootstrap.min.css set `[hidden] { display: none !important; }` so we also need the `!important` here to be able to override the default hidden behavior on the sphinx rendered scikit-learn.org. See: https://github.com/scikit-learn/scikit-learn/issues/21755 */display: inline-block !important;position: relative;}#sk-container-id-2 div.sk-text-repr-fallback {display: none;}</style><div id=\"sk-container-id-2\" class=\"sk-top-container\"><div class=\"sk-text-repr-fallback\"><pre>LogisticRegression()</pre><b>In a Jupyter environment, please rerun this cell to show the HTML representation or trust the notebook. <br />On GitHub, the HTML representation is unable to render, please try loading this page with nbviewer.org.</b></div><div class=\"sk-container\" hidden><div class=\"sk-item\"><div class=\"sk-estimator sk-toggleable\"><input class=\"sk-toggleable__control sk-hidden--visually\" id=\"sk-estimator-id-2\" type=\"checkbox\" checked><label for=\"sk-estimator-id-2\" class=\"sk-toggleable__label sk-toggleable__label-arrow\">LogisticRegression</label><div class=\"sk-toggleable__content\"><pre>LogisticRegression()</pre></div></div></div></div></div>"
            ]
          },
          "metadata": {},
          "execution_count": 35
        }
      ]
    },
    {
      "cell_type": "code",
      "source": [
        "y_pred_train_70 = model.predict(X_train_70_scaled)\n",
        "y_pred_train_70"
      ],
      "metadata": {
        "colab": {
          "base_uri": "https://localhost:8080/"
        },
        "id": "lUMkttSUWKpq",
        "outputId": "18d1c2f8-9f73-46c4-fd57-0fc53e97af16"
      },
      "execution_count": null,
      "outputs": [
        {
          "output_type": "execute_result",
          "data": {
            "text/plain": [
              "array([1, 1, 0, 0, 0, 1, 1, 1, 1, 1, 0, 1, 0, 0, 0, 1, 0, 1, 0, 1, 0, 0,\n",
              "       0, 0, 1, 1, 0, 0, 0, 0, 1, 0, 1, 0, 1, 1, 0, 1, 0, 0, 1, 0, 0, 0,\n",
              "       0, 0, 0, 1, 1, 0, 0, 1, 1, 0, 0, 1, 1, 0, 0, 1, 0, 1, 1, 1, 1, 1,\n",
              "       0, 0, 0, 0, 1, 0, 0, 1, 1, 1, 0, 0, 0, 1, 1, 0, 0, 1, 1, 0, 1, 0,\n",
              "       0, 1, 0, 1, 1, 0, 0, 0, 1, 0, 0, 0, 1, 0, 1, 0, 0, 1, 0, 1, 0, 1,\n",
              "       0, 0, 0, 1, 0, 0, 0, 0, 0, 0, 0, 1, 1, 0, 0, 1, 1, 0, 1, 1, 0, 0,\n",
              "       1, 1, 1, 0, 0, 1, 1, 0, 1, 0, 1, 0, 1, 1, 0, 0, 0, 0, 1, 0, 0, 0,\n",
              "       1, 0, 1, 0, 0, 0, 0, 0, 0, 0, 0, 0, 1, 0, 0, 1, 0, 1, 0, 1, 0, 0,\n",
              "       0, 0, 1, 0, 0, 1, 1, 0, 1, 1, 0, 1, 0, 1, 0, 1, 1, 0, 0, 0, 1, 0,\n",
              "       0, 0, 0, 0, 0, 0, 1, 0, 0, 1, 1, 1, 1, 0])"
            ]
          },
          "metadata": {},
          "execution_count": 36
        }
      ]
    },
    {
      "cell_type": "markdown",
      "source": [
        "Testing our trained model to new and unseen data."
      ],
      "metadata": {
        "id": "Rf_J6pkxX4x_"
      }
    },
    {
      "cell_type": "markdown",
      "source": [
        "For 80/20"
      ],
      "metadata": {
        "id": "8zMfGUFvYPah"
      }
    },
    {
      "cell_type": "code",
      "source": [
        "y_pred_test_80 = model.predict(X_test_80_scaled)\n",
        "y_pred_test_80"
      ],
      "metadata": {
        "colab": {
          "base_uri": "https://localhost:8080/"
        },
        "id": "M3ruVXFlYGBb",
        "outputId": "48d8b621-c62d-433c-ae10-545836e43022"
      },
      "execution_count": null,
      "outputs": [
        {
          "output_type": "execute_result",
          "data": {
            "text/plain": [
              "array([1, 1, 1, 1, 1, 1, 1, 1, 0, 0, 0, 0, 1, 1, 1, 0, 0, 1, 1, 0, 1, 0,\n",
              "       1, 0, 1, 0, 0, 1, 1, 0, 0, 1, 0, 0, 0, 1, 1, 0, 1, 0, 1, 0, 1, 0,\n",
              "       0, 1, 0, 0, 1, 1, 0, 0, 0, 0, 1, 0, 0, 1, 1, 1, 0])"
            ]
          },
          "metadata": {},
          "execution_count": 37
        }
      ]
    },
    {
      "cell_type": "markdown",
      "source": [
        "For 70/30"
      ],
      "metadata": {
        "id": "UgLBna_iYTe0"
      }
    },
    {
      "cell_type": "code",
      "source": [
        "y_pred_test_70 = model.predict(X_test_70_scaled)\n",
        "y_pred_test_70"
      ],
      "metadata": {
        "colab": {
          "base_uri": "https://localhost:8080/"
        },
        "id": "-MRA9aZWYVY7",
        "outputId": "3f33c4f1-0a55-466d-c7f0-cebd0ffe9dd3"
      },
      "execution_count": null,
      "outputs": [
        {
          "output_type": "execute_result",
          "data": {
            "text/plain": [
              "array([1, 1, 1, 1, 1, 1, 1, 1, 0, 0, 0, 0, 1, 1, 1, 0, 0, 1, 1, 0, 1, 0,\n",
              "       1, 0, 1, 0, 0, 1, 1, 0, 0, 1, 0, 0, 0, 1, 1, 0, 1, 0, 1, 0, 1, 0,\n",
              "       0, 1, 0, 0, 1, 1, 0, 0, 0, 0, 1, 0, 0, 1, 1, 1, 0, 0, 0, 1, 0, 1,\n",
              "       1, 0, 1, 1, 1, 0, 0, 1, 0, 1, 0, 1, 0, 1, 1, 0, 0, 0, 1, 0, 1, 0,\n",
              "       1, 1, 1])"
            ]
          },
          "metadata": {},
          "execution_count": 38
        }
      ]
    },
    {
      "cell_type": "markdown",
      "source": [
        "Model Evaluation"
      ],
      "metadata": {
        "id": "sE-F-wf_Yf3b"
      }
    },
    {
      "cell_type": "markdown",
      "source": [
        "Training evaluation:"
      ],
      "metadata": {
        "id": "0-0I8PZhUBcD"
      }
    },
    {
      "cell_type": "code",
      "source": [
        "from sklearn.metrics import accuracy_score, precision_score, recall_score, f1_score, confusion_matrix, classification_report\n",
        "\n",
        "# Evaluate model performance on training data (80/20 split)\n",
        "accuracy_train_80 = accuracy_score(y_train_80, y_pred_train_80)\n",
        "precision_train_80 = precision_score(y_train_80, y_pred_train_80)\n",
        "recall_train_80 = recall_score(y_train_80, y_pred_train_80)\n",
        "f1_train_80 = f1_score(y_train_80, y_pred_train_80)\n",
        "cm_train_80 = confusion_matrix(y_train_80, y_pred_train_80)\n",
        "report_train_80 = classification_report(y_train_80, y_pred_train_80)\n",
        "\n",
        "# Print evaluation metrics for training data (80/20 split)\n",
        "print(\"Evaluation metrics for training data (80-20 split):\")\n",
        "print(f\"Accuracy: {accuracy_train_80:.4f}\")\n",
        "print(f\"Precision: {precision_train_80:.4f}\")\n",
        "print(f\"Recall: {recall_train_80:.4f}\")\n",
        "print(f\"F1-score: {f1_train_80:.4f}\")\n",
        "print(\"Confusion Matrix:\")\n",
        "print(cm_train_80)\n",
        "print(\"Classification Report:\")\n",
        "print(report_train_80)\n",
        "# Training predictions for 70/30 split\n",
        "y_pred_train_70 = model.predict(X_train_70_scaled)\n",
        "\n",
        "# Evaluate model performance on training data (70/30 split)\n",
        "accuracy_train_70 = accuracy_score(y_train_70, y_pred_train_70)\n",
        "precision_train_70 = precision_score(y_train_70, y_pred_train_70)\n",
        "recall_train_70 = recall_score(y_train_70, y_pred_train_70)\n",
        "f1_train_70 = f1_score(y_train_70, y_pred_train_70)\n",
        "cm_train_70 = confusion_matrix(y_train_70, y_pred_train_70)\n",
        "report_train_70 = classification_report(y_train_70, y_pred_train_70)\n",
        "\n",
        "# Print evaluation metrics for training data (70/30 split)\n",
        "print(\"\\nEvaluation metrics for training data (70-30 split):\")\n",
        "print(f\"Accuracy: {accuracy_train_70:.4f}\")\n",
        "print(f\"Precision: {precision_train_70:.4f}\")\n",
        "print(f\"Recall: {recall_train_70:.4f}\")\n",
        "print(f\"F1-score: {f1_train_70:.4f}\")\n",
        "print(\"Confusion Matrix:\")\n",
        "print(cm_train_70)\n",
        "print(\"Classification Report:\")\n",
        "print(report_train_70)"
      ],
      "metadata": {
        "colab": {
          "base_uri": "https://localhost:8080/"
        },
        "id": "7bL8M2UNSRKc",
        "outputId": "21d33d96-91e9-4a42-bcd2-5b9e35e4cf78"
      },
      "execution_count": null,
      "outputs": [
        {
          "output_type": "stream",
          "name": "stdout",
          "text": [
            "Evaluation metrics for training data (80-20 split):\n",
            "Accuracy: 0.8512\n",
            "Precision: 0.8660\n",
            "Recall: 0.7850\n",
            "F1-score: 0.8235\n",
            "Confusion Matrix:\n",
            "[[122  13]\n",
            " [ 23  84]]\n",
            "Classification Report:\n",
            "              precision    recall  f1-score   support\n",
            "\n",
            "           0       0.84      0.90      0.87       135\n",
            "           1       0.87      0.79      0.82       107\n",
            "\n",
            "    accuracy                           0.85       242\n",
            "   macro avg       0.85      0.84      0.85       242\n",
            "weighted avg       0.85      0.85      0.85       242\n",
            "\n",
            "\n",
            "Evaluation metrics for training data (70-30 split):\n",
            "Accuracy: 0.8538\n",
            "Precision: 0.8736\n",
            "Recall: 0.7917\n",
            "F1-score: 0.8306\n",
            "Confusion Matrix:\n",
            "[[105  11]\n",
            " [ 20  76]]\n",
            "Classification Report:\n",
            "              precision    recall  f1-score   support\n",
            "\n",
            "           0       0.84      0.91      0.87       116\n",
            "           1       0.87      0.79      0.83        96\n",
            "\n",
            "    accuracy                           0.85       212\n",
            "   macro avg       0.86      0.85      0.85       212\n",
            "weighted avg       0.86      0.85      0.85       212\n",
            "\n"
          ]
        }
      ]
    },
    {
      "cell_type": "markdown",
      "source": [
        "**Training Data 80/20 split:**\n",
        "\n",
        "Accuracy: 0.8512<br>\n",
        "Precision: 0.8660<br>\n",
        "Recall: 0.7850<br>\n",
        "F1-score: 0.8235<br>\n",
        "Confusion Matrix: [[122, 13], [23, 84]]\n",
        "\n",
        "**Training Data 70/30 split:**\n",
        "\n",
        "Accuracy: 0.8538<br>\n",
        "Precision: 0.8736<br>\n",
        "Recall: 0.7917<br>\n",
        "F1-score: 0.8306<br>\n",
        "Confusion Matrix: [[105, 11], [20, 76]]"
      ],
      "metadata": {
        "id": "XEAopwW0Svr1"
      }
    },
    {
      "cell_type": "markdown",
      "source": [
        "Test evaluation"
      ],
      "metadata": {
        "id": "lrLZLTz0UHU9"
      }
    },
    {
      "cell_type": "code",
      "source": [
        "# Evaluate model performance on 80/20 split\n",
        "accuracy_80 = accuracy_score(y_test_80, y_pred_test_80)\n",
        "precision_80 = precision_score(y_test_80, y_pred_test_80)\n",
        "recall_80 = recall_score(y_test_80, y_pred_test_80)\n",
        "f1_80 = f1_score(y_test_80, y_pred_test_80)\n",
        "cm_80 = confusion_matrix(y_test_80, y_pred_test_80)\n",
        "report_80 = classification_report(y_test_80, y_pred_test_80)\n",
        "\n",
        "# Print evaluation metrics for 80/20 split\n",
        "print(\"Evaluation metrics for 80-20 split:\")\n",
        "print(f\"Accuracy: {accuracy_80:.4f}\")\n",
        "print(f\"Precision: {precision_80:.4f}\")\n",
        "print(f\"Recall: {recall_80:.4f}\")\n",
        "print(f\"F1-score: {f1_80:.4f}\")\n",
        "print(\"Confusion Matrix:\")\n",
        "print(cm_80)\n",
        "print(\"Classification Report:\")\n",
        "print(report_80)\n",
        "\n",
        "# Evaluate model performance on 70/30 split\n",
        "accuracy_70 = accuracy_score(y_test_70, y_pred_test_70)\n",
        "precision_70 = precision_score(y_test_70, y_pred_test_70)\n",
        "recall_70 = recall_score(y_test_70, y_pred_test_70)\n",
        "f1_70 = f1_score(y_test_70, y_pred_test_70)\n",
        "cm_70 = confusion_matrix(y_test_70, y_pred_test_70)\n",
        "report_70 = classification_report(y_test_70, y_pred_test_70)\n",
        "\n",
        "# Print evaluation metrics for 70/30 split\n",
        "print(\"\\nEvaluation metrics for 70-30 split:\")\n",
        "print(f\"Accuracy: {accuracy_70:.4f}\")\n",
        "print(f\"Precision: {precision_70:.4f}\")\n",
        "print(f\"Recall: {recall_70:.4f}\")\n",
        "print(f\"F1-score: {f1_70:.4f}\")\n",
        "print()\n",
        "print(\"Confusion Matrix:\")\n",
        "print(cm_70)\n",
        "print()\n",
        "print(\"Classification Report:\")\n",
        "print(report_70)\n"
      ],
      "metadata": {
        "colab": {
          "base_uri": "https://localhost:8080/"
        },
        "id": "B_ucxOxTYsys",
        "outputId": "f318d40e-cca4-4965-a2f3-7604ac8b5598"
      },
      "execution_count": null,
      "outputs": [
        {
          "output_type": "stream",
          "name": "stdout",
          "text": [
            "Evaluation metrics for 80-20 split:\n",
            "Accuracy: 0.8852\n",
            "Precision: 0.9032\n",
            "Recall: 0.8750\n",
            "F1-score: 0.8889\n",
            "Confusion Matrix:\n",
            "[[26  3]\n",
            " [ 4 28]]\n",
            "Classification Report:\n",
            "              precision    recall  f1-score   support\n",
            "\n",
            "           0       0.87      0.90      0.88        29\n",
            "           1       0.90      0.88      0.89        32\n",
            "\n",
            "    accuracy                           0.89        61\n",
            "   macro avg       0.88      0.89      0.89        61\n",
            "weighted avg       0.89      0.89      0.89        61\n",
            "\n",
            "\n",
            "Evaluation metrics for 70-30 split:\n",
            "Accuracy: 0.8242\n",
            "Precision: 0.7872\n",
            "Recall: 0.8605\n",
            "F1-score: 0.8222\n",
            "\n",
            "Confusion Matrix:\n",
            "[[38 10]\n",
            " [ 6 37]]\n",
            "\n",
            "Classification Report:\n",
            "              precision    recall  f1-score   support\n",
            "\n",
            "           0       0.86      0.79      0.83        48\n",
            "           1       0.79      0.86      0.82        43\n",
            "\n",
            "    accuracy                           0.82        91\n",
            "   macro avg       0.83      0.83      0.82        91\n",
            "weighted avg       0.83      0.82      0.82        91\n",
            "\n"
          ]
        }
      ]
    },
    {
      "cell_type": "markdown",
      "source": [
        "**Summary of 80/20 split:**\n",
        "\n",
        "Accuracy: 88.52% The proportion of correctly predicted outcomes (true positives and true negatives).\n",
        "\n",
        "Precision: 90.32% The proportion of true positive predictions (patients with heart disease) out of all the positive predictions made. It is correct 90.32% of the time.\n",
        "\n",
        "Recall: 87.50% The proportion of true positive predictions out of all actual positive instances. The model correctly identifies 87.50% of all actual heart disease cases.\n",
        "\n",
        "F-1 score: 88.89% harmonic mean of precision and recall.\n",
        "\n",
        "It shows better generalization. The performance on the test set is close to or even slightly better than the training set, suggesting the model is not overfitting and generalizes well to unseen data.\n",
        "\n",
        "**Summary of 70/30 split:**\n",
        "\n",
        "Accuracy: 82.42% The proportion of correctly predicted outcomes (true positives and true negatives).\n",
        "\n",
        "Precision: 78.72% The proportion of true positive predictions (patients with heart disease) out of all the positive predictions made. It is correct 78.72% of the time.\n",
        "\n",
        "Recall: 86.05% The proportion of true positive predictions out of all actual positive instances. The model correctly identifies 86.05% of all actual heart disease cases.\n",
        "\n",
        "F-1 score: 82.22% harmonic mean of precision and recall.\n",
        "\n",
        "The 80/20 split overall shows higher accuracy and precision compared to the 70/30 split. It indicates the model performs slightly better with more data for training at 80% and less for testing at 20%.\n",
        "\n",
        "The 70/30 split performs reasonably well. It suggests the model is robust across different data splits.\n",
        "\n",
        "The higher performance metrics on the training set compared to the test set suggest that the model might be slightly overfitting. This means the model captures noise in the training data, which doesn't generalize well to the test data.\n"
      ],
      "metadata": {
        "id": "4cG2-HISY_R8"
      }
    },
    {
      "cell_type": "markdown",
      "source": [
        "Visualize Confusion Matrix"
      ],
      "metadata": {
        "id": "913r_PKia6AA"
      }
    },
    {
      "cell_type": "code",
      "source": [
        "# Confusion matrix for 80/20 split\n",
        "cm_80 = confusion_matrix(y_test_80, y_pred_test_80)\n",
        "\n",
        "# Confusion matrix for 70/30 split\n",
        "cm_70 = confusion_matrix(y_test_70, y_pred_test_70)\n"
      ],
      "metadata": {
        "id": "fUUkhdnna_nU"
      },
      "execution_count": null,
      "outputs": []
    },
    {
      "cell_type": "code",
      "source": [
        "import matplotlib.pyplot as plt\n",
        "import seaborn as sns\n",
        "from sklearn.metrics import confusion_matrix\n",
        "\n",
        "\n",
        "# Plot confusion matrices side by side\n",
        "fig, axes = plt.subplots(1, 2, figsize=(15, 6))\n",
        "\n",
        "# Plot for 80/20 split\n",
        "sns.heatmap(cm_80, annot=True, fmt='d', cmap='Blues', cbar=False, ax=axes[0])\n",
        "axes[0].set_title('Confusion Matrix for 80-20 Split')\n",
        "axes[0].set_xlabel('Predicted')\n",
        "axes[0].set_ylabel('Actual')\n",
        "axes[0].xaxis.set_ticklabels(['No Heart Disease', 'Heart Disease'])\n",
        "axes[0].yaxis.set_ticklabels(['No Heart Disease', 'Heart Disease'])\n",
        "\n",
        "# Plot for 70/30 split\n",
        "sns.heatmap(cm_70, annot=True, fmt='d', cmap='Blues', cbar=False, ax=axes[1])\n",
        "axes[1].set_title('Confusion Matrix for 70-30 Split')\n",
        "axes[1].set_xlabel('Predicted')\n",
        "axes[1].set_ylabel('Actual')\n",
        "axes[1].xaxis.set_ticklabels(['No Heart Disease', 'Heart Disease'])\n",
        "axes[1].yaxis.set_ticklabels(['No Heart Disease', 'Heart Disease'])\n",
        "\n",
        "plt.tight_layout()\n",
        "plt.show()"
      ],
      "metadata": {
        "colab": {
          "base_uri": "https://localhost:8080/",
          "height": 562
        },
        "id": "9QmK9bfBbMy2",
        "outputId": "9785440b-d3e1-45ee-f289-d22500b265da"
      },
      "execution_count": null,
      "outputs": [
        {
          "output_type": "display_data",
          "data": {
            "text/plain": [
              "<Figure size 1500x600 with 2 Axes>"
            ],
            "image/png": "[encoded data removed]"
          },
          "metadata": {}
        }
      ]
    },
    {
      "cell_type": "markdown",
      "source": [
        "**Matrix for 80/20 Split:**\n",
        "\n",
        "True Positives (TP): 28 Bottom Right correctly predicted as heart disease.\n",
        "\n",
        "True Negatives (TN): 26 Top Left correctly predicted as no heart disease.\n",
        "\n",
        "False Positives (FP): 3 incorrectly predicted as heart disease.\n",
        "\n",
        "False Negatives (FN): 4 incorrectly predicted as no heart disease.\n",
        "\n",
        "**Matrix for 70/30 Split:**\n",
        "\n",
        "True Positives (TP): 37 Bottom Right correctly predicted as heart disease.\n",
        "\n",
        "True Negatives (TN): 38 Top Left correctly predicted as no heart disease.\n",
        "\n",
        "False Positives (FP): 10 incorrectly predicted as heart disease.\n",
        "\n",
        "False Negatives (FN): 6 incorrectly predicted as no heart disease.\n"
      ],
      "metadata": {
        "id": "By0N_6IAbgaT"
      }
    },
    {
      "cell_type": "markdown",
      "source": [
        "Conclusion on the 80/20 versus 70/30:\n",
        "\n",
        "The model trained and tested on the 80/20 split performs better overall. It has higher accuracy, precision, and F1-score, which suggests that it is more reliable in predicting heart disease in this dataset. The recall is slightly higher in the 70/30 split, but not enough to outweigh the advantages seen in other metrics for the 80/20 split.\n"
      ],
      "metadata": {
        "id": "3SyvPeBvcNWD"
      }
    },
    {
      "cell_type": "markdown",
      "source": [
        "##**3b. Perform Gaussian Naive Bayes on the dataset for both the 80/20 and 70/30 splits.**\n",
        "\n",
        "Training\n",
        "\n",
        "For 80/20 split."
      ],
      "metadata": {
        "id": "LEW8yjhWeDFM"
      }
    },
    {
      "cell_type": "code",
      "source": [
        "from sklearn.naive_bayes import GaussianNB\n",
        "model = GaussianNB()\n",
        "\n",
        "# Fit the model on the scaled training data (80/20 split)\n",
        "model.fit(X_train_80_scaled, y_train_80)\n"
      ],
      "metadata": {
        "colab": {
          "base_uri": "https://localhost:8080/",
          "height": 74
        },
        "id": "CuExON3lFIXI",
        "outputId": "fc152d45-9bed-4140-a715-574837ed4cc9"
      },
      "execution_count": null,
      "outputs": [
        {
          "output_type": "execute_result",
          "data": {
            "text/plain": [
              "GaussianNB()"
            ],
            "text/html": [
              "<style>#sk-container-id-7 {color: black;background-color: white;}#sk-container-id-7 pre{padding: 0;}#sk-container-id-7 div.sk-toggleable {background-color: white;}#sk-container-id-7 label.sk-toggleable__label {cursor: pointer;display: block;width: 100%;margin-bottom: 0;padding: 0.3em;box-sizing: border-box;text-align: center;}#sk-container-id-7 label.sk-toggleable__label-arrow:before {content: \"▸\";float: left;margin-right: 0.25em;color: #696969;}#sk-container-id-7 label.sk-toggleable__label-arrow:hover:before {color: black;}#sk-container-id-7 div.sk-estimator:hover label.sk-toggleable__label-arrow:before {color: black;}#sk-container-id-7 div.sk-toggleable__content {max-height: 0;max-width: 0;overflow: hidden;text-align: left;background-color: #f0f8ff;}#sk-container-id-7 div.sk-toggleable__content pre {margin: 0.2em;color: black;border-radius: 0.25em;background-color: #f0f8ff;}#sk-container-id-7 input.sk-toggleable__control:checked~div.sk-toggleable__content {max-height: 200px;max-width: 100%;overflow: auto;}#sk-container-id-7 input.sk-toggleable__control:checked~label.sk-toggleable__label-arrow:before {content: \"▾\";}#sk-container-id-7 div.sk-estimator input.sk-toggleable__control:checked~label.sk-toggleable__label {background-color: #d4ebff;}#sk-container-id-7 div.sk-label input.sk-toggleable__control:checked~label.sk-toggleable__label {background-color: #d4ebff;}#sk-container-id-7 input.sk-hidden--visually {border: 0;clip: rect(1px 1px 1px 1px);clip: rect(1px, 1px, 1px, 1px);height: 1px;margin: -1px;overflow: hidden;padding: 0;position: absolute;width: 1px;}#sk-container-id-7 div.sk-estimator {font-family: monospace;background-color: #f0f8ff;border: 1px dotted black;border-radius: 0.25em;box-sizing: border-box;margin-bottom: 0.5em;}#sk-container-id-7 div.sk-estimator:hover {background-color: #d4ebff;}#sk-container-id-7 div.sk-parallel-item::after {content: \"\";width: 100%;border-bottom: 1px solid gray;flex-grow: 1;}#sk-container-id-7 div.sk-label:hover label.sk-toggleable__label {background-color: #d4ebff;}#sk-container-id-7 div.sk-serial::before {content: \"\";position: absolute;border-left: 1px solid gray;box-sizing: border-box;top: 0;bottom: 0;left: 50%;z-index: 0;}#sk-container-id-7 div.sk-serial {display: flex;flex-direction: column;align-items: center;background-color: white;padding-right: 0.2em;padding-left: 0.2em;position: relative;}#sk-container-id-7 div.sk-item {position: relative;z-index: 1;}#sk-container-id-7 div.sk-parallel {display: flex;align-items: stretch;justify-content: center;background-color: white;position: relative;}#sk-container-id-7 div.sk-item::before, #sk-container-id-7 div.sk-parallel-item::before {content: \"\";position: absolute;border-left: 1px solid gray;box-sizing: border-box;top: 0;bottom: 0;left: 50%;z-index: -1;}#sk-container-id-7 div.sk-parallel-item {display: flex;flex-direction: column;z-index: 1;position: relative;background-color: white;}#sk-container-id-7 div.sk-parallel-item:first-child::after {align-self: flex-end;width: 50%;}#sk-container-id-7 div.sk-parallel-item:last-child::after {align-self: flex-start;width: 50%;}#sk-container-id-7 div.sk-parallel-item:only-child::after {width: 0;}#sk-container-id-7 div.sk-dashed-wrapped {border: 1px dashed gray;margin: 0 0.4em 0.5em 0.4em;box-sizing: border-box;padding-bottom: 0.4em;background-color: white;}#sk-container-id-7 div.sk-label label {font-family: monospace;font-weight: bold;display: inline-block;line-height: 1.2em;}#sk-container-id-7 div.sk-label-container {text-align: center;}#sk-container-id-7 div.sk-container {/* jupyter's `normalize.less` sets `[hidden] { display: none; }` but bootstrap.min.css set `[hidden] { display: none !important; }` so we also need the `!important` here to be able to override the default hidden behavior on the sphinx rendered scikit-learn.org. See: https://github.com/scikit-learn/scikit-learn/issues/21755 */display: inline-block !important;position: relative;}#sk-container-id-7 div.sk-text-repr-fallback {display: none;}</style><div id=\"sk-container-id-7\" class=\"sk-top-container\"><div class=\"sk-text-repr-fallback\"><pre>GaussianNB()</pre><b>In a Jupyter environment, please rerun this cell to show the HTML representation or trust the notebook. <br />On GitHub, the HTML representation is unable to render, please try loading this page with nbviewer.org.</b></div><div class=\"sk-container\" hidden><div class=\"sk-item\"><div class=\"sk-estimator sk-toggleable\"><input class=\"sk-toggleable__control sk-hidden--visually\" id=\"sk-estimator-id-7\" type=\"checkbox\" checked><label for=\"sk-estimator-id-7\" class=\"sk-toggleable__label sk-toggleable__label-arrow\">GaussianNB</label><div class=\"sk-toggleable__content\"><pre>GaussianNB()</pre></div></div></div></div></div>"
            ]
          },
          "metadata": {},
          "execution_count": 69
        }
      ]
    },
    {
      "cell_type": "code",
      "source": [
        "# Predictions for training set (80/20 split)\n",
        "y_pred_train_80 = model.predict(X_train_80_scaled)\n",
        "\n",
        "y_pred_train_80"
      ],
      "metadata": {
        "colab": {
          "base_uri": "https://localhost:8080/"
        },
        "id": "N7y5StELHttC",
        "outputId": "862f5f8f-c1cb-4ce0-ff3a-eb11d336167f"
      },
      "execution_count": null,
      "outputs": [
        {
          "output_type": "execute_result",
          "data": {
            "text/plain": [
              "array([0, 0, 1, 0, 1, 1, 0, 1, 1, 1, 0, 0, 0, 0, 1, 0, 1, 0, 1, 0, 0, 0,\n",
              "       1, 1, 0, 1, 0, 1, 1, 1, 1, 1, 0, 0, 0, 1, 1, 1, 1, 1, 0, 1, 0, 0,\n",
              "       0, 1, 1, 1, 0, 1, 0, 0, 0, 0, 1, 1, 0, 0, 0, 0, 1, 0, 1, 0, 1, 1,\n",
              "       0, 1, 0, 0, 1, 0, 0, 0, 0, 0, 0, 1, 1, 1, 0, 0, 1, 0, 0, 1, 1, 1,\n",
              "       0, 1, 0, 1, 1, 1, 1, 1, 0, 0, 0, 0, 1, 0, 0, 1, 0, 1, 0, 0, 0, 1,\n",
              "       1, 0, 0, 1, 1, 0, 0, 0, 0, 1, 0, 1, 1, 0, 1, 1, 1, 0, 0, 0, 1, 0,\n",
              "       1, 0, 1, 1, 0, 1, 0, 1, 0, 0, 1, 1, 0, 0, 0, 0, 0, 0, 0, 1, 1, 0,\n",
              "       0, 1, 1, 0, 1, 1, 0, 0, 1, 1, 1, 0, 0, 1, 1, 0, 1, 0, 1, 0, 1, 1,\n",
              "       0, 0, 0, 0, 1, 0, 0, 0, 1, 0, 1, 0, 0, 0, 0, 0, 0, 0, 0, 0, 1, 0,\n",
              "       1, 1, 0, 1, 0, 1, 0, 0, 0, 0, 1, 0, 1, 1, 1, 0, 1, 1, 0, 1, 0, 0,\n",
              "       0, 1, 1, 0, 0, 0, 1, 0, 0, 0, 0, 0, 0, 0, 1, 0, 1, 0, 1, 1, 1, 0])"
            ]
          },
          "metadata": {},
          "execution_count": 70
        }
      ]
    },
    {
      "cell_type": "markdown",
      "source": [
        "For 70/30 split."
      ],
      "metadata": {
        "id": "gVyFqxaaHvp5"
      }
    },
    {
      "cell_type": "code",
      "source": [
        "# Fit the model on the scaled training data (70/30 split)\n",
        "model.fit(X_train_70_scaled, y_train_70)\n"
      ],
      "metadata": {
        "colab": {
          "base_uri": "https://localhost:8080/",
          "height": 74
        },
        "id": "nbQoxcR8Hx4e",
        "outputId": "7833029e-9d38-4ce6-9be1-855964574983"
      },
      "execution_count": null,
      "outputs": [
        {
          "output_type": "execute_result",
          "data": {
            "text/plain": [
              "GaussianNB()"
            ],
            "text/html": [
              "<style>#sk-container-id-8 {color: black;background-color: white;}#sk-container-id-8 pre{padding: 0;}#sk-container-id-8 div.sk-toggleable {background-color: white;}#sk-container-id-8 label.sk-toggleable__label {cursor: pointer;display: block;width: 100%;margin-bottom: 0;padding: 0.3em;box-sizing: border-box;text-align: center;}#sk-container-id-8 label.sk-toggleable__label-arrow:before {content: \"▸\";float: left;margin-right: 0.25em;color: #696969;}#sk-container-id-8 label.sk-toggleable__label-arrow:hover:before {color: black;}#sk-container-id-8 div.sk-estimator:hover label.sk-toggleable__label-arrow:before {color: black;}#sk-container-id-8 div.sk-toggleable__content {max-height: 0;max-width: 0;overflow: hidden;text-align: left;background-color: #f0f8ff;}#sk-container-id-8 div.sk-toggleable__content pre {margin: 0.2em;color: black;border-radius: 0.25em;background-color: #f0f8ff;}#sk-container-id-8 input.sk-toggleable__control:checked~div.sk-toggleable__content {max-height: 200px;max-width: 100%;overflow: auto;}#sk-container-id-8 input.sk-toggleable__control:checked~label.sk-toggleable__label-arrow:before {content: \"▾\";}#sk-container-id-8 div.sk-estimator input.sk-toggleable__control:checked~label.sk-toggleable__label {background-color: #d4ebff;}#sk-container-id-8 div.sk-label input.sk-toggleable__control:checked~label.sk-toggleable__label {background-color: #d4ebff;}#sk-container-id-8 input.sk-hidden--visually {border: 0;clip: rect(1px 1px 1px 1px);clip: rect(1px, 1px, 1px, 1px);height: 1px;margin: -1px;overflow: hidden;padding: 0;position: absolute;width: 1px;}#sk-container-id-8 div.sk-estimator {font-family: monospace;background-color: #f0f8ff;border: 1px dotted black;border-radius: 0.25em;box-sizing: border-box;margin-bottom: 0.5em;}#sk-container-id-8 div.sk-estimator:hover {background-color: #d4ebff;}#sk-container-id-8 div.sk-parallel-item::after {content: \"\";width: 100%;border-bottom: 1px solid gray;flex-grow: 1;}#sk-container-id-8 div.sk-label:hover label.sk-toggleable__label {background-color: #d4ebff;}#sk-container-id-8 div.sk-serial::before {content: \"\";position: absolute;border-left: 1px solid gray;box-sizing: border-box;top: 0;bottom: 0;left: 50%;z-index: 0;}#sk-container-id-8 div.sk-serial {display: flex;flex-direction: column;align-items: center;background-color: white;padding-right: 0.2em;padding-left: 0.2em;position: relative;}#sk-container-id-8 div.sk-item {position: relative;z-index: 1;}#sk-container-id-8 div.sk-parallel {display: flex;align-items: stretch;justify-content: center;background-color: white;position: relative;}#sk-container-id-8 div.sk-item::before, #sk-container-id-8 div.sk-parallel-item::before {content: \"\";position: absolute;border-left: 1px solid gray;box-sizing: border-box;top: 0;bottom: 0;left: 50%;z-index: -1;}#sk-container-id-8 div.sk-parallel-item {display: flex;flex-direction: column;z-index: 1;position: relative;background-color: white;}#sk-container-id-8 div.sk-parallel-item:first-child::after {align-self: flex-end;width: 50%;}#sk-container-id-8 div.sk-parallel-item:last-child::after {align-self: flex-start;width: 50%;}#sk-container-id-8 div.sk-parallel-item:only-child::after {width: 0;}#sk-container-id-8 div.sk-dashed-wrapped {border: 1px dashed gray;margin: 0 0.4em 0.5em 0.4em;box-sizing: border-box;padding-bottom: 0.4em;background-color: white;}#sk-container-id-8 div.sk-label label {font-family: monospace;font-weight: bold;display: inline-block;line-height: 1.2em;}#sk-container-id-8 div.sk-label-container {text-align: center;}#sk-container-id-8 div.sk-container {/* jupyter's `normalize.less` sets `[hidden] { display: none; }` but bootstrap.min.css set `[hidden] { display: none !important; }` so we also need the `!important` here to be able to override the default hidden behavior on the sphinx rendered scikit-learn.org. See: https://github.com/scikit-learn/scikit-learn/issues/21755 */display: inline-block !important;position: relative;}#sk-container-id-8 div.sk-text-repr-fallback {display: none;}</style><div id=\"sk-container-id-8\" class=\"sk-top-container\"><div class=\"sk-text-repr-fallback\"><pre>GaussianNB()</pre><b>In a Jupyter environment, please rerun this cell to show the HTML representation or trust the notebook. <br />On GitHub, the HTML representation is unable to render, please try loading this page with nbviewer.org.</b></div><div class=\"sk-container\" hidden><div class=\"sk-item\"><div class=\"sk-estimator sk-toggleable\"><input class=\"sk-toggleable__control sk-hidden--visually\" id=\"sk-estimator-id-8\" type=\"checkbox\" checked><label for=\"sk-estimator-id-8\" class=\"sk-toggleable__label sk-toggleable__label-arrow\">GaussianNB</label><div class=\"sk-toggleable__content\"><pre>GaussianNB()</pre></div></div></div></div></div>"
            ]
          },
          "metadata": {},
          "execution_count": 71
        }
      ]
    },
    {
      "cell_type": "code",
      "source": [
        "y_pred_train_70 = model.predict(X_train_70_scaled)\n",
        "y_pred_train_70"
      ],
      "metadata": {
        "colab": {
          "base_uri": "https://localhost:8080/"
        },
        "id": "2Xbs26oaH9iB",
        "outputId": "a660e093-0d60-4863-c5f6-143ee699f77a"
      },
      "execution_count": null,
      "outputs": [
        {
          "output_type": "execute_result",
          "data": {
            "text/plain": [
              "array([1, 1, 0, 0, 0, 1, 1, 1, 1, 1, 0, 1, 0, 0, 0, 1, 1, 1, 0, 1, 0, 0,\n",
              "       0, 0, 1, 1, 0, 0, 0, 0, 1, 0, 1, 0, 1, 1, 0, 0, 0, 0, 1, 0, 0, 0,\n",
              "       0, 0, 0, 1, 1, 1, 0, 1, 1, 0, 0, 1, 1, 1, 0, 1, 0, 1, 1, 1, 1, 1,\n",
              "       0, 0, 0, 0, 1, 0, 0, 1, 1, 1, 0, 0, 0, 1, 1, 0, 0, 1, 1, 0, 0, 0,\n",
              "       0, 1, 0, 1, 1, 0, 1, 1, 1, 0, 1, 0, 1, 0, 1, 0, 1, 1, 0, 1, 0, 1,\n",
              "       0, 0, 1, 1, 0, 0, 0, 0, 0, 0, 0, 1, 1, 0, 0, 1, 1, 0, 1, 1, 0, 0,\n",
              "       1, 1, 1, 0, 0, 1, 1, 0, 1, 0, 1, 0, 1, 1, 0, 0, 0, 0, 1, 0, 1, 0,\n",
              "       1, 0, 1, 0, 0, 0, 0, 0, 1, 0, 0, 0, 1, 0, 1, 1, 0, 1, 0, 1, 0, 0,\n",
              "       0, 0, 1, 0, 1, 1, 1, 0, 1, 1, 0, 1, 0, 0, 0, 1, 1, 0, 0, 0, 1, 0,\n",
              "       0, 0, 0, 0, 0, 0, 1, 0, 1, 0, 1, 1, 1, 0])"
            ]
          },
          "metadata": {},
          "execution_count": 72
        }
      ]
    },
    {
      "cell_type": "markdown",
      "source": [
        "Testing our trained model to new and unseen data."
      ],
      "metadata": {
        "id": "utX-5_15ICy9"
      }
    },
    {
      "cell_type": "markdown",
      "source": [
        "For 80/20 split."
      ],
      "metadata": {
        "id": "6cJr-sLgIDnx"
      }
    },
    {
      "cell_type": "code",
      "source": [
        "y_pred_test_80 = model.predict(X_test_80_scaled)\n",
        "y_pred_test_80"
      ],
      "metadata": {
        "colab": {
          "base_uri": "https://localhost:8080/"
        },
        "id": "LpZEK-BNIJMS",
        "outputId": "5ddb9c83-ad7f-4c97-f765-58f939842eae"
      },
      "execution_count": null,
      "outputs": [
        {
          "output_type": "execute_result",
          "data": {
            "text/plain": [
              "array([1, 1, 1, 1, 1, 1, 1, 1, 0, 0, 0, 0, 1, 1, 1, 0, 0, 1, 1, 0, 1, 0,\n",
              "       1, 0, 1, 0, 0, 1, 1, 0, 0, 1, 0, 0, 0, 0, 1, 0, 1, 0, 1, 0, 1, 0,\n",
              "       0, 1, 0, 0, 1, 1, 0, 0, 0, 0, 1, 0, 0, 1, 1, 1, 0])"
            ]
          },
          "metadata": {},
          "execution_count": 73
        }
      ]
    },
    {
      "cell_type": "markdown",
      "source": [
        "For 70/30 split."
      ],
      "metadata": {
        "id": "WurBYcmVIKEx"
      }
    },
    {
      "cell_type": "code",
      "source": [
        "y_pred_test_70 = model.predict(X_test_70_scaled)\n",
        "y_pred_test_70"
      ],
      "metadata": {
        "colab": {
          "base_uri": "https://localhost:8080/"
        },
        "id": "u0cClu88ILd4",
        "outputId": "9e738bde-dbd9-4e2f-cee0-aa86fd5cc803"
      },
      "execution_count": null,
      "outputs": [
        {
          "output_type": "execute_result",
          "data": {
            "text/plain": [
              "array([1, 1, 1, 1, 1, 1, 1, 1, 0, 0, 0, 0, 1, 1, 1, 0, 0, 1, 1, 0, 1, 0,\n",
              "       1, 0, 1, 0, 0, 1, 1, 0, 0, 1, 0, 0, 0, 0, 1, 0, 1, 0, 1, 0, 1, 0,\n",
              "       0, 1, 0, 0, 1, 1, 0, 0, 0, 0, 1, 0, 0, 1, 1, 1, 0, 0, 1, 1, 0, 1,\n",
              "       1, 0, 1, 1, 1, 0, 0, 0, 0, 1, 0, 1, 0, 1, 1, 0, 0, 1, 1, 0, 1, 0,\n",
              "       1, 1, 1])"
            ]
          },
          "metadata": {},
          "execution_count": 74
        }
      ]
    },
    {
      "cell_type": "markdown",
      "source": [
        "Model Evaluation."
      ],
      "metadata": {
        "id": "UNIpz1PZIQ2x"
      }
    },
    {
      "cell_type": "markdown",
      "source": [
        "Training set."
      ],
      "metadata": {
        "id": "iCwyQYpoWKub"
      }
    },
    {
      "cell_type": "code",
      "source": [
        "# Evaluate model performance on training data (80/20 split)\n",
        "accuracy_train_80 = accuracy_score(y_train_80, y_pred_train_80)\n",
        "precision_train_80 = precision_score(y_train_80, y_pred_train_80)\n",
        "recall_train_80 = recall_score(y_train_80, y_pred_train_80)\n",
        "f1_train_80 = f1_score(y_train_80, y_pred_train_80)\n",
        "cm_train_80 = confusion_matrix(y_train_80, y_pred_train_80)\n",
        "report_train_80 = classification_report(y_train_80, y_pred_train_80)\n",
        "\n",
        "# Print evaluation metrics for training data (80/20 split)\n",
        "print(\"Evaluation metrics for training data (80-20 split):\")\n",
        "print(f\"Accuracy: {accuracy_train_80:.4f}\")\n",
        "print(f\"Precision: {precision_train_80:.4f}\")\n",
        "print(f\"Recall: {recall_train_80:.4f}\")\n",
        "print(f\"F1-score: {f1_train_80:.4f}\")\n",
        "print(\"Confusion Matrix:\")\n",
        "print(cm_train_80)\n",
        "print(\"Classification Report:\")\n",
        "print(report_train_80)\n",
        "# Training predictions for 70/30 split\n",
        "y_pred_train_70 = model.predict(X_train_70_scaled)\n",
        "\n",
        "# Evaluate model performance on training data (70/30 split)\n",
        "accuracy_train_70 = accuracy_score(y_train_70, y_pred_train_70)\n",
        "precision_train_70 = precision_score(y_train_70, y_pred_train_70)\n",
        "recall_train_70 = recall_score(y_train_70, y_pred_train_70)\n",
        "f1_train_70 = f1_score(y_train_70, y_pred_train_70)\n",
        "cm_train_70 = confusion_matrix(y_train_70, y_pred_train_70)\n",
        "report_train_70 = classification_report(y_train_70, y_pred_train_70)\n",
        "\n",
        "# Print evaluation metrics for training data (70/30 split)\n",
        "print(\"\\nEvaluation metrics for training data (70-30 split):\")\n",
        "print(f\"Accuracy: {accuracy_train_70:.4f}\")\n",
        "print(f\"Precision: {precision_train_70:.4f}\")\n",
        "print(f\"Recall: {recall_train_70:.4f}\")\n",
        "print(f\"F1-score: {f1_train_70:.4f}\")\n",
        "print(\"Confusion Matrix:\")\n",
        "print(cm_train_70)\n",
        "print(\"Classification Report:\")\n",
        "print(report_train_70)\n"
      ],
      "metadata": {
        "colab": {
          "base_uri": "https://localhost:8080/"
        },
        "id": "wK5O1ZueWMRA",
        "outputId": "78ea0708-2258-44a1-cbe8-5e60e8b2714a"
      },
      "execution_count": null,
      "outputs": [
        {
          "output_type": "stream",
          "name": "stdout",
          "text": [
            "Evaluation metrics for training data (80-20 split):\n",
            "Accuracy: 0.8264\n",
            "Precision: 0.8037\n",
            "Recall: 0.8037\n",
            "F1-score: 0.8037\n",
            "Confusion Matrix:\n",
            "[[114  21]\n",
            " [ 21  86]]\n",
            "Classification Report:\n",
            "              precision    recall  f1-score   support\n",
            "\n",
            "           0       0.84      0.84      0.84       135\n",
            "           1       0.80      0.80      0.80       107\n",
            "\n",
            "    accuracy                           0.83       242\n",
            "   macro avg       0.82      0.82      0.82       242\n",
            "weighted avg       0.83      0.83      0.83       242\n",
            "\n",
            "\n",
            "Evaluation metrics for training data (70-30 split):\n",
            "Accuracy: 0.8302\n",
            "Precision: 0.8125\n",
            "Recall: 0.8125\n",
            "F1-score: 0.8125\n",
            "Confusion Matrix:\n",
            "[[98 18]\n",
            " [18 78]]\n",
            "Classification Report:\n",
            "              precision    recall  f1-score   support\n",
            "\n",
            "           0       0.84      0.84      0.84       116\n",
            "           1       0.81      0.81      0.81        96\n",
            "\n",
            "    accuracy                           0.83       212\n",
            "   macro avg       0.83      0.83      0.83       212\n",
            "weighted avg       0.83      0.83      0.83       212\n",
            "\n"
          ]
        }
      ]
    },
    {
      "cell_type": "markdown",
      "source": [
        "**Training Data 80/20 split:**\n",
        "\n",
        "Accuracy: 0.9274<br>\n",
        "Precision: 0.8037<br>\n",
        "Recall: 0.8037<br>\n",
        "F1-score: 0.8037<br>\n",
        "Confusion Matrix:[[114, 21], [21, 86]]<br>\n",
        "\n",
        "**Training Data 70/30 split:**\n",
        "\n",
        "Accuracy: 0.8302<br>\n",
        "Precision: 0.8125<br>\n",
        "Recall: 0.8125<br>\n",
        "F1-score: 0.8125<br>\n",
        "Confusion Matrix:[[98, 18], [18, 78]]"
      ],
      "metadata": {
        "id": "C7oUIFsMXTV1"
      }
    },
    {
      "cell_type": "code",
      "source": [
        "from sklearn.metrics import accuracy_score, precision_score, recall_score, f1_score, confusion_matrix, classification_report\n",
        "\n",
        "# Evaluate model performance on 80/20 split\n",
        "accuracy_80 = accuracy_score(y_test_80, y_pred_test_80)\n",
        "precision_80 = precision_score(y_test_80, y_pred_test_80)\n",
        "recall_80 = recall_score(y_test_80, y_pred_test_80)\n",
        "f1_80 = f1_score(y_test_80, y_pred_test_80)\n",
        "cm_80 = confusion_matrix(y_test_80, y_pred_test_80)\n",
        "report_80 = classification_report(y_test_80, y_pred_test_80)\n",
        "\n",
        "# Print evaluation metrics for 80/20 split\n",
        "print(\"Evaluation metrics for 80-20 split:\")\n",
        "print(f\"Accuracy: {accuracy_80:.4f}\")\n",
        "print(f\"Precision: {precision_80:.4f}\")\n",
        "print(f\"Recall: {recall_80:.4f}\")\n",
        "print(f\"F1-score: {f1_80:.4f}\")\n",
        "print(\"Confusion Matrix:\")\n",
        "print(cm_80)\n",
        "print(\"Classification Report:\")\n",
        "print(report_80)\n",
        "\n",
        "# Evaluate model performance on 70/30 split\n",
        "accuracy_70 = accuracy_score(y_test_70, y_pred_test_70)\n",
        "precision_70 = precision_score(y_test_70, y_pred_test_70)\n",
        "recall_70 = recall_score(y_test_70, y_pred_test_70)\n",
        "f1_70 = f1_score(y_test_70, y_pred_test_70)\n",
        "cm_70 = confusion_matrix(y_test_70, y_pred_test_70)\n",
        "report_70 = classification_report(y_test_70, y_pred_test_70)\n",
        "\n",
        "# Print evaluation metrics for 70/30 split\n",
        "print(\"\\nEvaluation metrics for 70-30 split:\")\n",
        "print(f\"Accuracy: {accuracy_70:.4f}\")\n",
        "print(f\"Precision: {precision_70:.4f}\")\n",
        "print(f\"Recall: {recall_70:.4f}\")\n",
        "print(f\"F1-score: {f1_70:.4f}\")\n",
        "print()\n",
        "print(\"Confusion Matrix:\")\n",
        "print(cm_70)\n",
        "print()\n",
        "print(\"Classification Report:\")\n",
        "print(report_70)\n"
      ],
      "metadata": {
        "colab": {
          "base_uri": "https://localhost:8080/"
        },
        "id": "WO9gMX7AISMK",
        "outputId": "e7865599-6b10-4571-fa59-7c8fcea53ed1"
      },
      "execution_count": null,
      "outputs": [
        {
          "output_type": "stream",
          "name": "stdout",
          "text": [
            "Evaluation metrics for 80-20 split:\n",
            "Accuracy: 0.8689\n",
            "Precision: 0.9000\n",
            "Recall: 0.8438\n",
            "F1-score: 0.8710\n",
            "Confusion Matrix:\n",
            "[[26  3]\n",
            " [ 5 27]]\n",
            "Classification Report:\n",
            "              precision    recall  f1-score   support\n",
            "\n",
            "           0       0.84      0.90      0.87        29\n",
            "           1       0.90      0.84      0.87        32\n",
            "\n",
            "    accuracy                           0.87        61\n",
            "   macro avg       0.87      0.87      0.87        61\n",
            "weighted avg       0.87      0.87      0.87        61\n",
            "\n",
            "\n",
            "Evaluation metrics for 70-30 split:\n",
            "Accuracy: 0.8022\n",
            "Precision: 0.7660\n",
            "Recall: 0.8372\n",
            "F1-score: 0.8000\n",
            "\n",
            "Confusion Matrix:\n",
            "[[37 11]\n",
            " [ 7 36]]\n",
            "\n",
            "Classification Report:\n",
            "              precision    recall  f1-score   support\n",
            "\n",
            "           0       0.84      0.77      0.80        48\n",
            "           1       0.77      0.84      0.80        43\n",
            "\n",
            "    accuracy                           0.80        91\n",
            "   macro avg       0.80      0.80      0.80        91\n",
            "weighted avg       0.81      0.80      0.80        91\n",
            "\n"
          ]
        }
      ]
    },
    {
      "cell_type": "markdown",
      "source": [
        "**Summary of 80/20 split:**\n",
        "\n",
        "Accuracy: 86.89% The proportion of correctly predicted outcomes (true positives and true negatives).\n",
        "\n",
        "Precision: 90.00% The proportion of true positive predictions (patients with heart disease) out of all the positive predictions made. It is correct 90% of the time.\n",
        "\n",
        "Recall: 84.38% The proportion of true positive predictions out of all actual positive instances. The model correctly identifies 84.38% of all actual heart disease cases.\n",
        "\n",
        "F-1 score: 87.10% harmonic mean of precision and recall.\n",
        "\n",
        "The model shows consistent performance between training and test sets, indicating good generalization without signs of overfitting.\n",
        "\n",
        "**Summary of 70/30 split**:\n",
        "\n",
        "Accuracy: 80.22% The proportion of corretly predicted outcomes (true positives and true negatives).\n",
        "\n",
        "Precision: 76.6% The proportion of true positive predictions (patients with heart disease) out of all the positive predictions made. It is correct 76.6% of the time.\n",
        "\n",
        "Recall: 83.72% The proportion of true positive predictions out of all actual positive instances. The model correctly identifies 83.72% of all actual heart disease cases.\n",
        "\n",
        "F-1 score: 80% harmonic mean of precision and recall.\n",
        "\n",
        "The 80/20 split overall shows higher accuracy and precision compared to the 70/30 split. It indicates the model performs slightly better with more data for training at 80% and less for testing at 20%.\n",
        "\n",
        "The 70/30 split performs reasonably well. It suggests the model is robust across different data splits.\n",
        "\n",
        "Similar performance metrics on both training and test sets suggest that the model generalizes well, with minimal signs of overfitting."
      ],
      "metadata": {
        "id": "SBP1ue4iIz8W"
      }
    },
    {
      "cell_type": "markdown",
      "source": [
        "Visualize Confusion Matrix"
      ],
      "metadata": {
        "id": "Pd1GlC9GJhT-"
      }
    },
    {
      "cell_type": "code",
      "source": [
        "# Confusion matrix for 80/20 split\n",
        "cm_80 = confusion_matrix(y_test_80, y_pred_test_80)\n",
        "\n",
        "# Confusion matrix for 70/30 split\n",
        "cm_70 = confusion_matrix(y_test_70, y_pred_test_70)"
      ],
      "metadata": {
        "id": "b12k3ztlJi2j"
      },
      "execution_count": null,
      "outputs": []
    },
    {
      "cell_type": "code",
      "source": [
        "import matplotlib.pyplot as plt\n",
        "import seaborn as sns\n",
        "from sklearn.metrics import confusion_matrix\n",
        "\n",
        "\n",
        "# Plot confusion matrices side by side\n",
        "fig, axes = plt.subplots(1, 2, figsize=(15, 6))\n",
        "\n",
        "# Plot for 80/20 split\n",
        "sns.heatmap(cm_80, annot=True, fmt='d', cmap='Blues', cbar=False, ax=axes[0])\n",
        "axes[0].set_title('Confusion Matrix for 80-20 Split')\n",
        "axes[0].set_xlabel('Predicted')\n",
        "axes[0].set_ylabel('Actual')\n",
        "axes[0].xaxis.set_ticklabels(['No Heart Disease', 'Heart Disease'])\n",
        "axes[0].yaxis.set_ticklabels(['No Heart Disease', 'Heart Disease'])\n",
        "\n",
        "# Plot for 70/30 split\n",
        "sns.heatmap(cm_70, annot=True, fmt='d', cmap='Blues', cbar=False, ax=axes[1])\n",
        "axes[1].set_title('Confusion Matrix for 70-30 Split')\n",
        "axes[1].set_xlabel('Predicted')\n",
        "axes[1].set_ylabel('Actual')\n",
        "axes[1].xaxis.set_ticklabels(['No Heart Disease', 'Heart Disease'])\n",
        "axes[1].yaxis.set_ticklabels(['No Heart Disease', 'Heart Disease'])\n",
        "\n",
        "plt.tight_layout()\n",
        "plt.show()"
      ],
      "metadata": {
        "colab": {
          "base_uri": "https://localhost:8080/",
          "height": 570
        },
        "id": "aUjCyr5RJqkF",
        "outputId": "8d0da6de-97dc-4be6-fa38-ee88a4400ba4"
      },
      "execution_count": null,
      "outputs": [
        {
          "output_type": "display_data",
          "data": {
            "text/plain": [
              "<Figure size 1500x600 with 2 Axes>"
            ],
            "image/png": "[encoded data removed]"
          },
          "metadata": {}
        }
      ]
    },
    {
      "cell_type": "markdown",
      "source": [
        "**Matrix for 80/20 Split:**\n",
        "\n",
        "True Positives (TP): 27 Bottom Right correctly predicted as heart disease.\n",
        "\n",
        "True Negatives (TN): 26 Top Left correctly predicted as no heart disease.\n",
        "\n",
        "False Positives (FP): 3 incorrectly predicted as heart disease.\n",
        "\n",
        "False Negatives (FN): 5 incorrectly predicted as no heart disease.\n",
        "\n",
        "**Matrix for 70/30 Split**:\n",
        "\n",
        "True Positives (TP): 36 Bottom Right correctly predicted as heart disease.\n",
        "\n",
        "True Negatives (TN): 37 Top Left correctly predicted as no heart disease.\n",
        "\n",
        "False Positives (FP): 11 incorrectly predicted as heart disease.\n",
        "\n",
        "False Negatives (FN): 7 incorrectly predicted as no heart disease."
      ],
      "metadata": {
        "id": "Kf8qinbqJwcG"
      }
    },
    {
      "cell_type": "markdown",
      "source": [
        "Conclusion on the 80/20 versus 70/30:\n",
        "\n",
        "The model trained and tested on the 80/20 split performs better overall. It has higher accuracy, precision, recall and F1-score, which suggests that it is more reliable in predicting heart disease in this dataset."
      ],
      "metadata": {
        "id": "CKMQUNL9KNNO"
      }
    },
    {
      "cell_type": "markdown",
      "source": [
        "##4. Benchmarking:\n",
        "\n",
        "Compare and benchmark the performance of the two classification models (Logistic Regression and Gaussian Naive Bayes).\n",
        "\n",
        "80/20 Split:\n",
        "\n",
        "- Logistic Regression: Higher in all metrics, notably higher accuracy (0.8852) and F1-score (0.8889) compared to Gaussian Naive Bayes.\n",
        "- Gaussian Naive Bayes: Slightly lower accuracy (0.8689) and F1-score (0.8710).\n",
        "\n",
        "70/30 Split:\n",
        "\n",
        "- Logistic Regression: Higher in all metrics, notably higher accuracy (0.8242) and F1-score (0.8222) compared to Gaussian Naive Bayes.\n",
        "- Gaussian Naive Bayes: Lower accuracy (0.8022) and F1-score (0.8000).\n",
        "\n",
        "Conclusion\n",
        "\n",
        "Logistic Regression consistently outperforms Gaussian Naive Bayes in both the 80/20 and 70/30 splits, with higher accuracy and F1-scores.\n",
        "    \n",
        "Confusion Matrices and Classification Reports indicate better performance metrics for Logistic Regression.\n",
        "\n",
        "Therefore, Logistic Regression appears to be the more effective model for predicting heart disease in this dataset based on the given metrics."
      ],
      "metadata": {
        "id": "MrCxf9VLK3ai"
      }
    },
    {
      "cell_type": "markdown",
      "source": [
        "##5. Sheet filled out\n",
        "\n",
        "for benchmarking Logistic Regression and Gaussian Naive Bayes Models for heart disease prediction."
      ],
      "metadata": {
        "id": "vhZP2KL_NUrC"
      }
    },
    {
      "cell_type": "markdown",
      "source": [
        "<table border=\"1\" cellpadding=\"5\">\n",
        "  <tr>\n",
        "    <th rowspan=\"2\"></th>\n",
        "    <th colspan=\"4\">80/20 Split</th>\n",
        "    <th colspan=\"4\">70/30 Split</th>\n",
        "  </tr>\n",
        "  <tr>\n",
        "    <th colspan=\"2\">Logistic Regression</th>\n",
        "    <th colspan=\"2\">Gaussian Naive Bayes</th>\n",
        "    <th colspan=\"2\">Logistic Regression</th>\n",
        "    <th colspan=\"2\">Gaussian Naive Bayes</th>\n",
        "  </tr>\n",
        "  <tr>\n",
        "    <td>Metric</td>\n",
        "    <td>Test</td>\n",
        "    <td>Train</td>\n",
        "    <td>Test</td>\n",
        "    <td>Train</td>\n",
        "    <td>Test</td>\n",
        "    <td>Train</td>\n",
        "    <td>Test</td>\n",
        "    <td>Train</td>\n",
        "  </tr>\n",
        "  <tr>\n",
        "    <td>Accuracy</td>\n",
        "    <td>0.8852</td>\n",
        "    <td>0.8512</td>\n",
        "    <td>0.8689</td>\n",
        "    <td>0.8264</td>\n",
        "    <td>0.8242</td>\n",
        "    <td>0.8538</td>\n",
        "    <td>0.8022</td>\n",
        "    <td>0.8302</td>\n",
        "  </tr>\n",
        "  <tr>\n",
        "    <td>Precision</td>\n",
        "    <td>0.9032</td>\n",
        "    <td>0.8660</td>\n",
        "    <td>0.9000</td>\n",
        "    <td>0.8037</td>\n",
        "    <td>0.7872</td>\n",
        "    <td>0.8736</td>\n",
        "    <td>0.7660</td>\n",
        "    <td>0.8125</td>\n",
        "  </tr>\n",
        "  <tr>\n",
        "    <td>Recall</td>\n",
        "    <td>0.8750</td>\n",
        "    <td>0.7850</td>\n",
        "    <td>0.8438</td>\n",
        "    <td>0.8037</td>\n",
        "    <td>0.8605</td>\n",
        "    <td>0.7917</td>\n",
        "    <td>0.8372</td>\n",
        "    <td>0.8125</td>\n",
        "  </tr>\n",
        "  <tr>\n",
        "    <td>F1-score</td>\n",
        "    <td>0.8889</td>\n",
        "    <td>0.8235</td>\n",
        "    <td>0.8710</td>\n",
        "    <td>0.8037</td>\n",
        "    <td>0.8222</td>\n",
        "    <td>0.8306</td>\n",
        "    <td>0.8000</td>\n",
        "    <td>0.8125</td>\n",
        "  </tr>\n",
        "</table>\n"
      ],
      "metadata": {
        "id": "Rg_BubfdmCn8"
      }
    },
    {
      "cell_type": "markdown",
      "source": [
        "##6. Decision Making:\n",
        "\n",
        "Based on the performance metrics obtained from benchmarking the two classification models (Logistic Regression and Gaussian Naive Bayes) with both 80/20 and 70/30 splits, determine which model and data split combination seems to be the most effective for the given dataset."
      ],
      "metadata": {
        "id": "JW7uHSVFm1cc"
      }
    },
    {
      "cell_type": "markdown",
      "source": [
        "Based on the performance metrics obtained:\n",
        "\n",
        "Logistic Regression generally performs better across both 80/20 and 70/30 splits compared to Gaussian Naive Bayes in terms of accuracy, precision, recall, and F1-score.\n",
        "\n",
        "Specifically, the 80/20 split for Logistic Regression shows higher accuracy, precision, recall, and F1-score compared to both the 70/30 split of Logistic Regression and both splits of Gaussian Naive Bayes.\n",
        "\n",
        "Therefore, the Logistic Regression model with the 80/20 split appears to be the most effective for the given dataset based on the benchmarked performance metrics."
      ],
      "metadata": {
        "id": "IsRBOEqCnC--"
      }
    }
  ]
}