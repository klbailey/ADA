{
  "nbformat": 4,
  "nbformat_minor": 0,
  "metadata": {
    "colab": {
      "provenance": []
    },
    "kernelspec": {
      "name": "python3",
      "display_name": "Python 3"
    },
    "language_info": {
      "name": "python"
    }
  },
  "cells": [
    {
      "cell_type": "markdown",
      "source": [
        "For your lab, you are tasked to grab a 2 csv files (with normal distribution) from the valid sources in the internet, perform a complete and detailed hypothesis test, determine what test to be used for each of your dataset. We will continue and present it in the next\n",
        "\n",
        "*Note: Don't be discouraged if it gets hard to find a normally distributed data, it shows you that in the real world, data is not always perfect.*"
      ],
      "metadata": {
        "id": "VXMN6i9eXLDN"
      }
    },
    {
      "cell_type": "markdown",
      "source": [
        "1. Normality tests\n",
        "2. Hypothesis testing"
      ],
      "metadata": {
        "id": "74sVwDWBptKV"
      }
    },
    {
      "cell_type": "markdown",
      "source": [
        "**First csv file with normal distribution**\n",
        "\n",
        " https://www.kaggle.com/datasets/thedevastator/unlocking-achievement-understanding-california-s\n",
        "\n",
        " The California Department of Education (CDE) present the 2015-2016 SAT Test Results."
      ],
      "metadata": {
        "id": "xvF-OzATsWRM"
      }
    },
    {
      "cell_type": "markdown",
      "source": [
        "Does the average SAT score in Reading differ significantly among the different school districts?\n",
        "\n",
        "Null Hypothesis (H0): There is no significant difference in the average SAT scores (Reading) among the different school districts.\n",
        "\n",
        "Alternative Hypothesis (H1): There is a significant difference in the average SAT scores (Reading) among the different school districts."
      ],
      "metadata": {
        "id": "7ysv-SYFmAK-"
      }
    },
    {
      "cell_type": "markdown",
      "source": [
        "**1. Visual Inspection:**"
      ],
      "metadata": {
        "id": "s62t1SsQiEJE"
      }
    },
    {
      "cell_type": "code",
      "source": [
        "import pandas as pd\n",
        "\n",
        "# Load the CSV file into a DataFrame\n",
        "df = pd.read_csv(\"SAT.csv\")\n",
        "\n",
        "# Print the index of the DataFrame\n",
        "print(df.index)\n",
        "\n",
        "print(df.columns)"
      ],
      "metadata": {
        "colab": {
          "base_uri": "https://localhost:8080/"
        },
        "id": "24tdwyJuhGzF",
        "outputId": "5c99b155-4fd3-48d3-f8f2-e06ddc1e28c8"
      },
      "execution_count": 1,
      "outputs": [
        {
          "output_type": "stream",
          "name": "stdout",
          "text": [
            "RangeIndex(start=0, stop=2334, step=1)\n",
            "Index(['index', 'cds', 'rtype', 'sname', 'dname', 'cname', 'enroll12',\n",
            "       'NumTstTakr', 'AvgScrRead', 'AvgScrMath', 'AvgScrWrit', 'NumGE1500',\n",
            "       'PctGE1500', 'year'],\n",
            "      dtype='object')\n"
          ]
        }
      ]
    },
    {
      "cell_type": "code",
      "source": [
        "import matplotlib.pyplot as plt\n",
        "\n",
        "# Plot histogram for Reading only\n",
        "plt.figure(figsize=(8, 6))\n",
        "\n",
        "# Histogram for Reading\n",
        "plt.hist(district_mean_scores['AvgScrRead'], bins=20, color='skyblue', edgecolor='black')\n",
        "plt.title('Distribution of Average SAT Reading Scores by School District')\n",
        "plt.xlabel('Average SAT Reading Score')\n",
        "plt.ylabel('Number of Districts')\n",
        "\n",
        "# Show plot\n",
        "plt.show()\n",
        "\n"
      ],
      "metadata": {
        "colab": {
          "base_uri": "https://localhost:8080/",
          "height": 564
        },
        "id": "V29qOXcTw-32",
        "outputId": "abef950f-aee3-4a95-819b-a9442c812c36"
      },
      "execution_count": null,
      "outputs": [
        {
          "output_type": "display_data",
          "data": {
            "text/plain": [
              "<Figure size 800x600 with 1 Axes>"
            ],
            "image/png": "[encoded data removed]"
          },
          "metadata": {}
        }
      ]
    },
    {
      "cell_type": "markdown",
      "source": [
        "**2. Statistical Tests:** Shapiro-Wilk Test"
      ],
      "metadata": {
        "id": "axB8mB2WzW9L"
      }
    },
    {
      "cell_type": "code",
      "source": [
        "from scipy.stats import shapiro\n",
        "\n",
        "# Perform Shapiro-Wilk test for each subject\n",
        "for subject in ['AvgScrRead']:\n",
        "    # Perform Shapiro-Wilk test\n",
        "    stat, p = shapiro(district_mean_scores[subject])\n",
        "\n",
        "    # Print the result\n",
        "    print(f\"Shapiro-Wilk test for {subject}:\")\n",
        "    print(f\"Statistic: {stat}, p-value: {p}\")\n",
        "\n",
        "    # Determine the interpretation\n",
        "    alpha = 0.05\n",
        "    if p > alpha:\n",
        "        print(\"Sample looks Gaussian (fail to reject H0)\")\n",
        "    else:\n",
        "        print(\"Sample does not look Gaussian (reject H0)\")\n",
        "    print()\n",
        "\n"
      ],
      "metadata": {
        "colab": {
          "base_uri": "https://localhost:8080/"
        },
        "id": "iQz5b3AhpTj_",
        "outputId": "5d8c2b35-a0ca-449e-c73c-9b464fdffe86"
      },
      "execution_count": null,
      "outputs": [
        {
          "output_type": "stream",
          "name": "stdout",
          "text": [
            "Shapiro-Wilk test for AvgScrRead:\n",
            "Statistic: 0.9958621859550476, p-value: 0.3372238278388977\n",
            "Sample looks Gaussian (fail to reject H0)\n",
            "\n"
          ]
        }
      ]
    },
    {
      "cell_type": "markdown",
      "source": [
        "Shapiro-Wilk test for AvgScrRead:\n",
        "Statistic: 0.9958621859550476, p-value: 0.3372238278388977.\n",
        "Sample looks Gaussian (fail to reject H0).\n",
        "\n",
        "p-value > 0.05 (significance level) we fail to reject H0.\n",
        "\n",
        "Sample looks Gaussian and appears that SAT scores for Reading approximately follow a normal distribution."
      ],
      "metadata": {
        "id": "1GtmxznF0UIR"
      }
    },
    {
      "cell_type": "markdown",
      "source": [
        "**3. Quantifying Skewness and Kurtosis:**"
      ],
      "metadata": {
        "id": "YdiT_4Zjimcj"
      }
    },
    {
      "cell_type": "code",
      "source": [
        "from scipy.stats import skew\n",
        "from scipy.stats import kurtosis\n",
        "\n",
        "from scipy.stats import skew, kurtosis\n",
        "\n",
        "# Calculate skewness and kurtosis for the average SAT scores of Reading\n",
        "skewness_reading = skew(district_mean_scores['AvgScrRead'])\n",
        "kurtosis_reading = kurtosis(district_mean_scores['AvgScrRead'])\n",
        "\n",
        "print(\"Skewness of AvgScrRead:\", skewness_reading)\n",
        "print(\"Kurtosis of AvgScrRead:\", kurtosis_reading)\n"
      ],
      "metadata": {
        "colab": {
          "base_uri": "https://localhost:8080/"
        },
        "id": "j4D894mTioAb",
        "outputId": "5055bcd1-3c77-4188-b7a7-61e9e2e6310d"
      },
      "execution_count": null,
      "outputs": [
        {
          "output_type": "stream",
          "name": "stdout",
          "text": [
            "Skewness of AvgScrRead: 0.15560924797927672\n",
            "Kurtosis of AvgScrRead: 0.04471557040351248\n"
          ]
        }
      ]
    },
    {
      "cell_type": "markdown",
      "source": [
        "Skewness and kurtosis give insight to shape of distribution for Reading.\n",
        "\n",
        "Skewness: 0.1556 is close to zero indicating the distribution is approximately symmetric. And the fact it is a positive value, it suggests a slight right skew or slightly longer tail on the right side. Overall, the distribution is close to being symmetrically distributed around the mean.\n",
        "\n",
        "Kurtosis: 0.0447 is close to zero indicating the distribution has low kurtosis (distribution is close to a normal distribution) with a relatively flat peak and lighter tails (fewer very high/very low values) compared to a normal distribution and does not have significant outliers or extremes in the dataset.\n",
        "\n"
      ],
      "metadata": {
        "id": "O2soFAS_1lwZ"
      }
    },
    {
      "cell_type": "markdown",
      "source": [
        "**4. Anova**"
      ],
      "metadata": {
        "id": "mgk3ryMqKnma"
      }
    },
    {
      "cell_type": "code",
      "source": [
        "from scipy.stats import f_oneway\n",
        "\n",
        "# Load the CSV file into a DataFrame\n",
        "df = pd.read_csv(\"SAT.csv\")\n",
        "\n",
        "# Convert 'AvgScrRead' to numeric, coercing errors to NaN\n",
        "df['AvgScrRead'] = pd.to_numeric(df['AvgScrRead'], errors='coerce')\n",
        "\n",
        "# Drop rows with NaN values in 'AvgScrRead'\n",
        "df = df.dropna(subset=['AvgScrRead'])\n",
        "\n",
        "# Prepare data for ANOVA\n",
        "groups = [group['AvgScrRead'].values for name, group in df.groupby('dname')]\n",
        "\n",
        "# Perform ANOVA\n",
        "f_stat, p_value = f_oneway(*groups)\n",
        "print(f\"ANOVA result: F-statistic = {f_stat}, p-value = {p_value}\")\n",
        "if p_value > 0.05:\n",
        "    print(\"Fail to reject H0: No significant difference in average SAT Reading scores among school districts.\")\n",
        "else:\n",
        "    print(\"Reject H0: Significant difference in average SAT Reading scores among school districts.\")\n"
      ],
      "metadata": {
        "colab": {
          "base_uri": "https://localhost:8080/"
        },
        "id": "UG58fL2gKsWv",
        "outputId": "74c5f97a-05cd-458c-c05e-a5ae3ebc7cd7"
      },
      "execution_count": 4,
      "outputs": [
        {
          "output_type": "stream",
          "name": "stdout",
          "text": [
            "ANOVA result: F-statistic = 8.322859123741512, p-value = 2.26338616761697e-188\n",
            "Reject H0: Significant difference in average SAT Reading scores among school districts.\n"
          ]
        }
      ]
    },
    {
      "cell_type": "markdown",
      "source": [
        "ANOVA result:\n",
        "\n",
        "F-statistic = 8.322859123741512 A higher number generally suggests that the between group variance is > within group variance.\n",
        "\n",
        "p-value = 2.26338616761697e-188 < 0.05 (apha) and is near 0 suggesting we reject H0.\n",
        "\n",
        "Reject H0: Significant difference in average SAT Reading scores among school districts."
      ],
      "metadata": {
        "id": "Qw1395J1LclV"
      }
    },
    {
      "cell_type": "markdown",
      "source": [
        "**Conclusion:**\n",
        "\n",
        "The average SAT Reading scores across school districts follow a normal distribution, indicated by Shaprio-Wilk testing, skewness, and kurtosis values.\n",
        "\n",
        "The ANOVA results reveal that the average SAT Reading scores are not the same across all school districts. There's statistically significant differences in the average scores among the districts.\n",
        "\n",
        "This leads us to reject H0 (Null Hypothesis (H0): There is no significant difference in the average SAT scores (Reading) among the different school districts).\n",
        "\n",
        "\n"
      ],
      "metadata": {
        "id": "-eNtIpbT4VL4"
      }
    },
    {
      "cell_type": "markdown",
      "source": [
        "**Second csv file with normal distribution**\n",
        "\n",
        "https://www.kaggle.com/datasets/uciml/iris\n",
        "\n",
        "Is there a significant difference in the sepal widths between different species of iris flowers?\n",
        "\n",
        "Null(H0): There is no significant difference in the sepal widths between different species of iris flowers.\n",
        "\n",
        "Alternative(H1): There is a significant difference in the sepal widths between different species of iris flowers."
      ],
      "metadata": {
        "id": "4047bsCg53co"
      }
    },
    {
      "cell_type": "markdown",
      "source": [
        "**1. Visual Inspection:**"
      ],
      "metadata": {
        "id": "W9QmlaAmWAQa"
      }
    },
    {
      "cell_type": "code",
      "source": [
        "import pandas as pd\n",
        "\n",
        "# Load the dataset\n",
        "df = pd.read_csv(\"Iris.csv\")\n",
        "\n",
        "# Display the column names\n",
        "print(df.columns)\n",
        "\n",
        "\n",
        "\n"
      ],
      "metadata": {
        "colab": {
          "base_uri": "https://localhost:8080/"
        },
        "id": "Mh-GVFkRRNKN",
        "outputId": "c951aab4-299c-4354-9acb-211e635baeb6"
      },
      "execution_count": 5,
      "outputs": [
        {
          "output_type": "stream",
          "name": "stdout",
          "text": [
            "Index(['Id', 'SepalLengthCm', 'SepalWidthCm', 'PetalLengthCm', 'PetalWidthCm',\n",
            "       'Species'],\n",
            "      dtype='object')\n"
          ]
        }
      ]
    },
    {
      "cell_type": "code",
      "source": [
        "import matplotlib.pyplot as plt\n",
        "\n",
        "# Selecting the 'SepalWidthCm' column\n",
        "sepal_width = df['SepalWidthCm']\n",
        "\n",
        "# Plotting the histogram\n",
        "plt.figure(figsize=(8, 6))\n",
        "plt.hist(sepal_width, bins=20, color='skyblue', edgecolor='black')\n",
        "plt.title('Histogram of Sepal Width (cm)')\n",
        "plt.xlabel('Sepal Width (cm)')\n",
        "plt.ylabel('Frequency')\n",
        "plt.grid(True)\n",
        "plt.show()\n"
      ],
      "metadata": {
        "colab": {
          "base_uri": "https://localhost:8080/",
          "height": 564
        },
        "id": "c3Dlzf8YmDVU",
        "outputId": "47d5ea96-de36-4e43-e9d0-203f98e8bc21"
      },
      "execution_count": 6,
      "outputs": [
        {
          "output_type": "display_data",
          "data": {
            "text/plain": [
              "<Figure size 800x600 with 1 Axes>"
            ],
            "image/png": "[encoded data removed]"
          },
          "metadata": {}
        }
      ]
    },
    {
      "cell_type": "markdown",
      "source": [
        "**2. Statistical Tests:** Shapiro-Wilk Test"
      ],
      "metadata": {
        "id": "M1gNyvgymqJL"
      }
    },
    {
      "cell_type": "code",
      "source": [
        "import pandas as pd\n",
        "from scipy.stats import shapiro\n",
        "\n",
        "# List to store columns that are normally distributed\n",
        "normally_distributed_columns = []\n",
        "\n",
        "# Iterate over each column in the DataFrame\n",
        "for column in df.columns:\n",
        "    # Check if the column is numeric\n",
        "    if pd.api.types.is_numeric_dtype(df[column]):\n",
        "        # Perform Shapiro-Wilk test\n",
        "        stat, p = shapiro(df[column])\n",
        "        # Check if p-value is greater than alpha (0.05) to determine normality\n",
        "        if p > 0.05:\n",
        "            normally_distributed_columns.append(column)\n",
        "\n",
        "# Print columns that are normally distributed\n",
        "print(\"Columns with normally distributed data:\", normally_distributed_columns)"
      ],
      "metadata": {
        "colab": {
          "base_uri": "https://localhost:8080/"
        },
        "id": "YeHSkK_QU-Sl",
        "outputId": "0d1e6ec8-1144-4e3c-c1d7-fc93d318363e"
      },
      "execution_count": 7,
      "outputs": [
        {
          "output_type": "stream",
          "name": "stdout",
          "text": [
            "Columns with normally distributed data: ['SepalWidthCm']\n"
          ]
        }
      ]
    },
    {
      "cell_type": "code",
      "source": [
        "# Perform Shapiro-Wilk test for 'SepalWidthCm'\n",
        "stat, p = shapiro(df['SepalWidthCm'])\n",
        "\n",
        "# Print the p-value\n",
        "print(\"The p-value of the Shapiro-Wilk test for 'SepalWidthCm' is:\", p)\n"
      ],
      "metadata": {
        "colab": {
          "base_uri": "https://localhost:8080/"
        },
        "id": "FpGvBiH2np1L",
        "outputId": "1e154667-e2e2-4ac0-eee1-dbfa415ef9ad"
      },
      "execution_count": 8,
      "outputs": [
        {
          "output_type": "stream",
          "name": "stdout",
          "text": [
            "The p-value of the Shapiro-Wilk test for 'SepalWidthCm' is: 0.07518772780895233\n"
          ]
        }
      ]
    },
    {
      "cell_type": "markdown",
      "source": [
        "The p-value of the Shapiro-Wilk test for 'SepalWidthCm' is: 0.07518772780895233. This is > 0.05 (significance level) we fail to reject the null hypothesis. It appears to follow normal distribution."
      ],
      "metadata": {
        "id": "I_laPsmbmzvi"
      }
    },
    {
      "cell_type": "markdown",
      "source": [
        "**3. Quantifying Skewness and Kurtosis:**"
      ],
      "metadata": {
        "id": "1-d0OQRQoGmy"
      }
    },
    {
      "cell_type": "code",
      "source": [
        "from scipy.stats import skew, kurtosis\n",
        "\n",
        "# Compute skewness and kurtosis for 'SepalWidthCm'\n",
        "sepal_width_skewness = skew(df['SepalWidthCm'])\n",
        "sepal_width_kurtosis = kurtosis(df['SepalWidthCm'])\n",
        "\n",
        "print(\"Skewness of 'SepalWidthCm':\", sepal_width_skewness)\n",
        "print(\"Kurtosis of 'SepalWidthCm':\", sepal_width_kurtosis)\n"
      ],
      "metadata": {
        "colab": {
          "base_uri": "https://localhost:8080/"
        },
        "id": "USO-l3M4oIc3",
        "outputId": "fdaa7da2-9dc4-418f-e1c5-16694a95b02a"
      },
      "execution_count": 9,
      "outputs": [
        {
          "output_type": "stream",
          "name": "stdout",
          "text": [
            "Skewness of 'SepalWidthCm': 0.330702812773315\n",
            "Kurtosis of 'SepalWidthCm': 0.24144329938318343\n"
          ]
        }
      ]
    },
    {
      "cell_type": "markdown",
      "source": [
        "Skewness of 'SepalWidthCm': 0.330702812773315. As it is positive, it indicates a slight right skewness, indicating the distribution has a longer tail on the right side.\n",
        "\n",
        "Kurtosis of 'SepalWidthCm': 0.24144329938318343. As the value is less than 3 it suggests the distribution is flatter than a normal distribution; meaning it has fewer extreme values.\n",
        "\n",
        "It is close to symmetric with a slight right skewness and slightly flatter."
      ],
      "metadata": {
        "id": "XBzeSa8goLnC"
      }
    },
    {
      "cell_type": "markdown",
      "source": [
        "**4. Anova**"
      ],
      "metadata": {
        "id": "--5QbE44PEvT"
      }
    },
    {
      "cell_type": "code",
      "source": [
        "from scipy.stats import f_oneway\n",
        "\n",
        "# Prepare data for ANOVA\n",
        "groups = [group['SepalWidthCm'].values for name, group in df.groupby('Species')]\n",
        "\n",
        "# Perform ANOVA\n",
        "f_stat, p_value = f_oneway(*groups)\n",
        "print(f\"ANOVA result: F-statistic = {f_stat}, p-value = {p_value}\")\n",
        "\n",
        "# Conclusion based on p-value\n",
        "if p_value > 0.05:\n",
        "    print(\"Fail to reject H0: No significant difference in sepal widths between species.\")\n",
        "else:\n",
        "    print(\"Reject H0: Significant difference in sepal widths between species.\")\n"
      ],
      "metadata": {
        "colab": {
          "base_uri": "https://localhost:8080/"
        },
        "id": "p_8RlC2uPHNa",
        "outputId": "094223c6-642c-437f-c1bb-7b21ec8e8056"
      },
      "execution_count": 10,
      "outputs": [
        {
          "output_type": "stream",
          "name": "stdout",
          "text": [
            "ANOVA result: F-statistic = 47.36446140299382, p-value = 1.3279165184572242e-16\n",
            "Reject H0: Significant difference in sepal widths between species.\n"
          ]
        }
      ]
    },
    {
      "cell_type": "markdown",
      "source": [
        "ANOVA result:\n",
        "\n",
        "F-statistic = 47.36446140299382, is quite large, indicating there is substantial variation in sepal widths within each species.\n",
        "\n",
        "p-value = 1.3279165184572242e-16 < 0.05 (alpha) thus we reject the null hypotheses.\n",
        "\n",
        "Reject H0: Significant difference in sepal widths between species."
      ],
      "metadata": {
        "id": "kr-60aquPMuw"
      }
    },
    {
      "cell_type": "markdown",
      "source": [
        "**Conclusion:**\n",
        "\n",
        "Since p-value from the Shapiro-Wilk test for is 0.075 and it is > significance level 0.05, we fail to reject the null hypothesis. There is insufficient evidence to conclude that there is a difference in the sepal widths between different species of iris flowers. We fail to reject the null hypothesis.\n",
        "\n",
        "The Anova test has a p-value < 0.05, thus we reject the H0 that there is no significant difference in sepal widths between different species.\n",
        "\n",
        "The sepal widths within each species of the iris are reasonably approimated by a normal distribution. There is statistically significant difference between the different species as indicated by Anova.\n"
      ],
      "metadata": {
        "id": "I6VK8iBGoqVQ"
      }
    },
    {
      "cell_type": "markdown",
      "source": [
        "It is very difficult to find normal distribution in real data."
      ],
      "metadata": {
        "id": "6uwkU_Zeqj_S"
      }
    }
  ]
}