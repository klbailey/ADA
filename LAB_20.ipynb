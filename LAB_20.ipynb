{
  "nbformat": 4,
  "nbformat_minor": 0,
  "metadata": {
    "colab": {
      "provenance": [],
      "include_colab_link": true
    },
    "kernelspec": {
      "name": "python3",
      "display_name": "Python 3"
    },
    "language_info": {
      "name": "python"
    }
  },
  "cells": [
    {
      "cell_type": "markdown",
      "metadata": {
        "id": "view-in-github",
        "colab_type": "text"
      },
      "source": [
        "<a href=\"https://colab.research.google.com/github/klbailey/ADA/blob/main/LAB_20.ipynb\" target=\"_parent\"><img src=\"https://colab.research.google.com/assets/colab-badge.svg\" alt=\"Open In Colab\"/></a>"
      ]
    },
    {
      "cell_type": "markdown",
      "source": [
        "**Situation:** You were given HBAT 200 data to examine what predicts satisfaction using linear regression (means categorical variables/binary variables should be excluded). Perform the steps you think should be done. Interpret well. Make sure that your model is significant and the interpretability is good. Provide recommendations."
      ],
      "metadata": {
        "id": "Ekft1_-yMCWB"
      }
    },
    {
      "cell_type": "markdown",
      "source": [
        "1. Model Summary\n",
        "2. Assumptions\n",
        "3. Interpretation\n",
        "4. Recommendation"
      ],
      "metadata": {
        "id": "YltisFna0Q0y"
      }
    },
    {
      "cell_type": "markdown",
      "source": [
        "Suggested steps:\n",
        "\n",
        "1. Initial Model Summary (Run regression to just have a view of everything)\n",
        "2. Model Selection (Select your relevant predictors)\n",
        "3. Model Summary with your selected features/predictors.\n",
        "4. Verify Assumptions.\n",
        "5. Correlations\n",
        "6. Interpretations\n",
        "7. Recommendations\n",
        "\n"
      ],
      "metadata": {
        "id": "uK50gDx2CYHR"
      }
    },
    {
      "cell_type": "markdown",
      "source": [
        "1. Initial Model Summary\n",
        "\n",
        "Load the data\n",
        "\n"
      ],
      "metadata": {
        "id": "_5x4VBjPsHfX"
      }
    },
    {
      "cell_type": "code",
      "execution_count": null,
      "metadata": {
        "id": "miXh38aaLt21",
        "colab": {
          "base_uri": "https://localhost:8080/",
          "height": 235
        },
        "outputId": "4650a94a-a961-4a1a-b483-a9bc3bf7142c"
      },
      "outputs": [
        {
          "output_type": "execute_result",
          "data": {
            "text/plain": [
              "   ID  X1  X2  X3  X4  X5   X6   X7   X8   X9  ...  X14  X15  X16  X17  X18  \\\n",
              "0   1   2   0   1   1   1  8.5  3.9  2.5  5.9  ...  4.7  4.3  5.0  5.1  3.7   \n",
              "1   2   3   1   0   0   0  8.2  2.7  5.1  7.2  ...  5.5  4.0  3.9  4.3  4.9   \n",
              "2   3   3   0   1   1   1  9.2  3.4  5.6  5.6  ...  6.2  4.6  5.4  4.0  4.5   \n",
              "3   4   1   1   1   1   0  6.4  3.3  7.0  3.7  ...  7.0  3.6  4.3  4.1  3.0   \n",
              "4   5   2   0   1   0   1  9.0  3.4  5.2  4.6  ...  6.1  4.5  4.5  3.5  3.5   \n",
              "\n",
              "   X19  X20  X21   X22  X23  \n",
              "0  8.2  8.0  8.4  65.1    1  \n",
              "1  5.7  6.5  7.5  67.1    0  \n",
              "2  8.9  8.4  9.0  72.1    1  \n",
              "3  4.8  6.0  7.2  40.1    0  \n",
              "4  7.1  6.6  9.0  57.1    0  \n",
              "\n",
              "[5 rows x 24 columns]"
            ],
            "text/html": [
              "\n",
              "  <div id=\"df-21392358-962a-4d8f-9f01-7419ea54b302\" class=\"colab-df-container\">\n",
              "    <div>\n",
              "<style scoped>\n",
              "    .dataframe tbody tr th:only-of-type {\n",
              "        vertical-align: middle;\n",
              "    }\n",
              "\n",
              "    .dataframe tbody tr th {\n",
              "        vertical-align: top;\n",
              "    }\n",
              "\n",
              "    .dataframe thead th {\n",
              "        text-align: right;\n",
              "    }\n",
              "</style>\n",
              "<table border=\"1\" class=\"dataframe\">\n",
              "  <thead>\n",
              "    <tr style=\"text-align: right;\">\n",
              "      <th></th>\n",
              "      <th>ID</th>\n",
              "      <th>X1</th>\n",
              "      <th>X2</th>\n",
              "      <th>X3</th>\n",
              "      <th>X4</th>\n",
              "      <th>X5</th>\n",
              "      <th>X6</th>\n",
              "      <th>X7</th>\n",
              "      <th>X8</th>\n",
              "      <th>X9</th>\n",
              "      <th>...</th>\n",
              "      <th>X14</th>\n",
              "      <th>X15</th>\n",
              "      <th>X16</th>\n",
              "      <th>X17</th>\n",
              "      <th>X18</th>\n",
              "      <th>X19</th>\n",
              "      <th>X20</th>\n",
              "      <th>X21</th>\n",
              "      <th>X22</th>\n",
              "      <th>X23</th>\n",
              "    </tr>\n",
              "  </thead>\n",
              "  <tbody>\n",
              "    <tr>\n",
              "      <th>0</th>\n",
              "      <td>1</td>\n",
              "      <td>2</td>\n",
              "      <td>0</td>\n",
              "      <td>1</td>\n",
              "      <td>1</td>\n",
              "      <td>1</td>\n",
              "      <td>8.5</td>\n",
              "      <td>3.9</td>\n",
              "      <td>2.5</td>\n",
              "      <td>5.9</td>\n",
              "      <td>...</td>\n",
              "      <td>4.7</td>\n",
              "      <td>4.3</td>\n",
              "      <td>5.0</td>\n",
              "      <td>5.1</td>\n",
              "      <td>3.7</td>\n",
              "      <td>8.2</td>\n",
              "      <td>8.0</td>\n",
              "      <td>8.4</td>\n",
              "      <td>65.1</td>\n",
              "      <td>1</td>\n",
              "    </tr>\n",
              "    <tr>\n",
              "      <th>1</th>\n",
              "      <td>2</td>\n",
              "      <td>3</td>\n",
              "      <td>1</td>\n",
              "      <td>0</td>\n",
              "      <td>0</td>\n",
              "      <td>0</td>\n",
              "      <td>8.2</td>\n",
              "      <td>2.7</td>\n",
              "      <td>5.1</td>\n",
              "      <td>7.2</td>\n",
              "      <td>...</td>\n",
              "      <td>5.5</td>\n",
              "      <td>4.0</td>\n",
              "      <td>3.9</td>\n",
              "      <td>4.3</td>\n",
              "      <td>4.9</td>\n",
              "      <td>5.7</td>\n",
              "      <td>6.5</td>\n",
              "      <td>7.5</td>\n",
              "      <td>67.1</td>\n",
              "      <td>0</td>\n",
              "    </tr>\n",
              "    <tr>\n",
              "      <th>2</th>\n",
              "      <td>3</td>\n",
              "      <td>3</td>\n",
              "      <td>0</td>\n",
              "      <td>1</td>\n",
              "      <td>1</td>\n",
              "      <td>1</td>\n",
              "      <td>9.2</td>\n",
              "      <td>3.4</td>\n",
              "      <td>5.6</td>\n",
              "      <td>5.6</td>\n",
              "      <td>...</td>\n",
              "      <td>6.2</td>\n",
              "      <td>4.6</td>\n",
              "      <td>5.4</td>\n",
              "      <td>4.0</td>\n",
              "      <td>4.5</td>\n",
              "      <td>8.9</td>\n",
              "      <td>8.4</td>\n",
              "      <td>9.0</td>\n",
              "      <td>72.1</td>\n",
              "      <td>1</td>\n",
              "    </tr>\n",
              "    <tr>\n",
              "      <th>3</th>\n",
              "      <td>4</td>\n",
              "      <td>1</td>\n",
              "      <td>1</td>\n",
              "      <td>1</td>\n",
              "      <td>1</td>\n",
              "      <td>0</td>\n",
              "      <td>6.4</td>\n",
              "      <td>3.3</td>\n",
              "      <td>7.0</td>\n",
              "      <td>3.7</td>\n",
              "      <td>...</td>\n",
              "      <td>7.0</td>\n",
              "      <td>3.6</td>\n",
              "      <td>4.3</td>\n",
              "      <td>4.1</td>\n",
              "      <td>3.0</td>\n",
              "      <td>4.8</td>\n",
              "      <td>6.0</td>\n",
              "      <td>7.2</td>\n",
              "      <td>40.1</td>\n",
              "      <td>0</td>\n",
              "    </tr>\n",
              "    <tr>\n",
              "      <th>4</th>\n",
              "      <td>5</td>\n",
              "      <td>2</td>\n",
              "      <td>0</td>\n",
              "      <td>1</td>\n",
              "      <td>0</td>\n",
              "      <td>1</td>\n",
              "      <td>9.0</td>\n",
              "      <td>3.4</td>\n",
              "      <td>5.2</td>\n",
              "      <td>4.6</td>\n",
              "      <td>...</td>\n",
              "      <td>6.1</td>\n",
              "      <td>4.5</td>\n",
              "      <td>4.5</td>\n",
              "      <td>3.5</td>\n",
              "      <td>3.5</td>\n",
              "      <td>7.1</td>\n",
              "      <td>6.6</td>\n",
              "      <td>9.0</td>\n",
              "      <td>57.1</td>\n",
              "      <td>0</td>\n",
              "    </tr>\n",
              "  </tbody>\n",
              "</table>\n",
              "<p>5 rows × 24 columns</p>\n",
              "</div>\n",
              "    <div class=\"colab-df-buttons\">\n",
              "\n",
              "  <div class=\"colab-df-container\">\n",
              "    <button class=\"colab-df-convert\" onclick=\"convertToInteractive('df-21392358-962a-4d8f-9f01-7419ea54b302')\"\n",
              "            title=\"Convert this dataframe to an interactive table.\"\n",
              "            style=\"display:none;\">\n",
              "\n",
              "  <svg xmlns=\"http://www.w3.org/2000/svg\" height=\"24px\" viewBox=\"0 -960 960 960\">\n",
              "    <path d=\"M120-120v-720h720v720H120Zm60-500h600v-160H180v160Zm220 220h160v-160H400v160Zm0 220h160v-160H400v160ZM180-400h160v-160H180v160Zm440 0h160v-160H620v160ZM180-180h160v-160H180v160Zm440 0h160v-160H620v160Z\"/>\n",
              "  </svg>\n",
              "    </button>\n",
              "\n",
              "  <style>\n",
              "    .colab-df-container {\n",
              "      display:flex;\n",
              "      gap: 12px;\n",
              "    }\n",
              "\n",
              "    .colab-df-convert {\n",
              "      background-color: #E8F0FE;\n",
              "      border: none;\n",
              "      border-radius: 50%;\n",
              "      cursor: pointer;\n",
              "      display: none;\n",
              "      fill: #1967D2;\n",
              "      height: 32px;\n",
              "      padding: 0 0 0 0;\n",
              "      width: 32px;\n",
              "    }\n",
              "\n",
              "    .colab-df-convert:hover {\n",
              "      background-color: #E2EBFA;\n",
              "      box-shadow: 0px 1px 2px rgba(60, 64, 67, 0.3), 0px 1px 3px 1px rgba(60, 64, 67, 0.15);\n",
              "      fill: #174EA6;\n",
              "    }\n",
              "\n",
              "    .colab-df-buttons div {\n",
              "      margin-bottom: 4px;\n",
              "    }\n",
              "\n",
              "    [theme=dark] .colab-df-convert {\n",
              "      background-color: #3B4455;\n",
              "      fill: #D2E3FC;\n",
              "    }\n",
              "\n",
              "    [theme=dark] .colab-df-convert:hover {\n",
              "      background-color: #434B5C;\n",
              "      box-shadow: 0px 1px 3px 1px rgba(0, 0, 0, 0.15);\n",
              "      filter: drop-shadow(0px 1px 2px rgba(0, 0, 0, 0.3));\n",
              "      fill: #FFFFFF;\n",
              "    }\n",
              "  </style>\n",
              "\n",
              "    <script>\n",
              "      const buttonEl =\n",
              "        document.querySelector('#df-21392358-962a-4d8f-9f01-7419ea54b302 button.colab-df-convert');\n",
              "      buttonEl.style.display =\n",
              "        google.colab.kernel.accessAllowed ? 'block' : 'none';\n",
              "\n",
              "      async function convertToInteractive(key) {\n",
              "        const element = document.querySelector('#df-21392358-962a-4d8f-9f01-7419ea54b302');\n",
              "        const dataTable =\n",
              "          await google.colab.kernel.invokeFunction('convertToInteractive',\n",
              "                                                    [key], {});\n",
              "        if (!dataTable) return;\n",
              "\n",
              "        const docLinkHtml = 'Like what you see? Visit the ' +\n",
              "          '<a target=\"_blank\" href=https://colab.research.google.com/notebooks/data_table.ipynb>data table notebook</a>'\n",
              "          + ' to learn more about interactive tables.';\n",
              "        element.innerHTML = '';\n",
              "        dataTable['output_type'] = 'display_data';\n",
              "        await google.colab.output.renderOutput(dataTable, element);\n",
              "        const docLink = document.createElement('div');\n",
              "        docLink.innerHTML = docLinkHtml;\n",
              "        element.appendChild(docLink);\n",
              "      }\n",
              "    </script>\n",
              "  </div>\n",
              "\n",
              "\n",
              "<div id=\"df-625caa3d-b954-403e-8f7f-b62d43ace144\">\n",
              "  <button class=\"colab-df-quickchart\" onclick=\"quickchart('df-625caa3d-b954-403e-8f7f-b62d43ace144')\"\n",
              "            title=\"Suggest charts\"\n",
              "            style=\"display:none;\">\n",
              "\n",
              "<svg xmlns=\"http://www.w3.org/2000/svg\" height=\"24px\"viewBox=\"0 0 24 24\"\n",
              "     width=\"24px\">\n",
              "    <g>\n",
              "        <path d=\"M19 3H5c-1.1 0-2 .9-2 2v14c0 1.1.9 2 2 2h14c1.1 0 2-.9 2-2V5c0-1.1-.9-2-2-2zM9 17H7v-7h2v7zm4 0h-2V7h2v10zm4 0h-2v-4h2v4z\"/>\n",
              "    </g>\n",
              "</svg>\n",
              "  </button>\n",
              "\n",
              "<style>\n",
              "  .colab-df-quickchart {\n",
              "      --bg-color: #E8F0FE;\n",
              "      --fill-color: #1967D2;\n",
              "      --hover-bg-color: #E2EBFA;\n",
              "      --hover-fill-color: #174EA6;\n",
              "      --disabled-fill-color: #AAA;\n",
              "      --disabled-bg-color: #DDD;\n",
              "  }\n",
              "\n",
              "  [theme=dark] .colab-df-quickchart {\n",
              "      --bg-color: #3B4455;\n",
              "      --fill-color: #D2E3FC;\n",
              "      --hover-bg-color: #434B5C;\n",
              "      --hover-fill-color: #FFFFFF;\n",
              "      --disabled-bg-color: #3B4455;\n",
              "      --disabled-fill-color: #666;\n",
              "  }\n",
              "\n",
              "  .colab-df-quickchart {\n",
              "    background-color: var(--bg-color);\n",
              "    border: none;\n",
              "    border-radius: 50%;\n",
              "    cursor: pointer;\n",
              "    display: none;\n",
              "    fill: var(--fill-color);\n",
              "    height: 32px;\n",
              "    padding: 0;\n",
              "    width: 32px;\n",
              "  }\n",
              "\n",
              "  .colab-df-quickchart:hover {\n",
              "    background-color: var(--hover-bg-color);\n",
              "    box-shadow: 0 1px 2px rgba(60, 64, 67, 0.3), 0 1px 3px 1px rgba(60, 64, 67, 0.15);\n",
              "    fill: var(--button-hover-fill-color);\n",
              "  }\n",
              "\n",
              "  .colab-df-quickchart-complete:disabled,\n",
              "  .colab-df-quickchart-complete:disabled:hover {\n",
              "    background-color: var(--disabled-bg-color);\n",
              "    fill: var(--disabled-fill-color);\n",
              "    box-shadow: none;\n",
              "  }\n",
              "\n",
              "  .colab-df-spinner {\n",
              "    border: 2px solid var(--fill-color);\n",
              "    border-color: transparent;\n",
              "    border-bottom-color: var(--fill-color);\n",
              "    animation:\n",
              "      spin 1s steps(1) infinite;\n",
              "  }\n",
              "\n",
              "  @keyframes spin {\n",
              "    0% {\n",
              "      border-color: transparent;\n",
              "      border-bottom-color: var(--fill-color);\n",
              "      border-left-color: var(--fill-color);\n",
              "    }\n",
              "    20% {\n",
              "      border-color: transparent;\n",
              "      border-left-color: var(--fill-color);\n",
              "      border-top-color: var(--fill-color);\n",
              "    }\n",
              "    30% {\n",
              "      border-color: transparent;\n",
              "      border-left-color: var(--fill-color);\n",
              "      border-top-color: var(--fill-color);\n",
              "      border-right-color: var(--fill-color);\n",
              "    }\n",
              "    40% {\n",
              "      border-color: transparent;\n",
              "      border-right-color: var(--fill-color);\n",
              "      border-top-color: var(--fill-color);\n",
              "    }\n",
              "    60% {\n",
              "      border-color: transparent;\n",
              "      border-right-color: var(--fill-color);\n",
              "    }\n",
              "    80% {\n",
              "      border-color: transparent;\n",
              "      border-right-color: var(--fill-color);\n",
              "      border-bottom-color: var(--fill-color);\n",
              "    }\n",
              "    90% {\n",
              "      border-color: transparent;\n",
              "      border-bottom-color: var(--fill-color);\n",
              "    }\n",
              "  }\n",
              "</style>\n",
              "\n",
              "  <script>\n",
              "    async function quickchart(key) {\n",
              "      const quickchartButtonEl =\n",
              "        document.querySelector('#' + key + ' button');\n",
              "      quickchartButtonEl.disabled = true;  // To prevent multiple clicks.\n",
              "      quickchartButtonEl.classList.add('colab-df-spinner');\n",
              "      try {\n",
              "        const charts = await google.colab.kernel.invokeFunction(\n",
              "            'suggestCharts', [key], {});\n",
              "      } catch (error) {\n",
              "        console.error('Error during call to suggestCharts:', error);\n",
              "      }\n",
              "      quickchartButtonEl.classList.remove('colab-df-spinner');\n",
              "      quickchartButtonEl.classList.add('colab-df-quickchart-complete');\n",
              "    }\n",
              "    (() => {\n",
              "      let quickchartButtonEl =\n",
              "        document.querySelector('#df-625caa3d-b954-403e-8f7f-b62d43ace144 button');\n",
              "      quickchartButtonEl.style.display =\n",
              "        google.colab.kernel.accessAllowed ? 'block' : 'none';\n",
              "    })();\n",
              "  </script>\n",
              "</div>\n",
              "\n",
              "    </div>\n",
              "  </div>\n"
            ],
            "application/vnd.google.colaboratory.intrinsic+json": {
              "type": "dataframe",
              "variable_name": "df"
            }
          },
          "metadata": {},
          "execution_count": 16
        }
      ],
      "source": [
        "import pandas as pd\n",
        "import numpy as np\n",
        "import statsmodels.api as sm\n",
        "from statsmodels.stats.outliers_influence import variance_inflation_factor\n",
        "import matplotlib.pyplot as plt\n",
        "\n",
        "# Load data\n",
        "df = pd.read_csv('HBAT-200-Data.csv')\n",
        "\n",
        "# Display first few rows of dataset\n",
        "df.head()\n"
      ]
    },
    {
      "cell_type": "markdown",
      "source": [
        "Prepare data for regression."
      ],
      "metadata": {
        "id": "GGKFI-YfISlx"
      }
    },
    {
      "cell_type": "code",
      "source": [
        "# Print columns as a list - IV's\n",
        "columns_list = df.columns.tolist()\n",
        "print(columns_list)"
      ],
      "metadata": {
        "colab": {
          "base_uri": "https://localhost:8080/"
        },
        "id": "lYSqVvM6GfAL",
        "outputId": "9483961f-e42c-4ea0-afc4-e6d558c0beb4"
      },
      "execution_count": null,
      "outputs": [
        {
          "output_type": "stream",
          "name": "stdout",
          "text": [
            "['ID', 'X1', 'X2', 'X3', 'X4', 'X5', 'X6', 'X7', 'X8', 'X9', 'X10', 'X11', 'X12', 'X13', 'X14', 'X15', 'X16', 'X17', 'X18', 'X19', 'X20', 'X21', 'X22', 'X23']\n"
          ]
        }
      ]
    },
    {
      "cell_type": "code",
      "source": [
        "# Prepare data for regression\n",
        "X = df[['X1', 'X2', 'X3', 'X4', 'X5', 'X6', 'X7', 'X8', 'X9', 'X10', 'X11', 'X12', 'X13', 'X14', 'X15', 'X16', 'X17', 'X18', 'X20', 'X21', 'X22', 'X23']]  # IVs\n",
        "y = df['X19']  # DV\n",
        "\n",
        "# Add a constant term for the intercept\n",
        "X = sm.add_constant(X)"
      ],
      "metadata": {
        "id": "VntMXLodImMt"
      },
      "execution_count": null,
      "outputs": []
    },
    {
      "cell_type": "code",
      "source": [
        "# Print the independent variables DataFrame (X)\n",
        "print(\"Independent variables (X):\")\n",
        "print(X.head())\n",
        "# Print the dependent variable (y)\n",
        "print(\"Dependent variable (y):\")\n",
        "print(y.head())\n",
        "# Add a constant term for the intercept\n",
        "X = sm.add_constant(X)"
      ],
      "metadata": {
        "colab": {
          "base_uri": "https://localhost:8080/"
        },
        "id": "pKc5WydTJfYx",
        "outputId": "cd4677b6-a7f0-42ef-85e9-cb2fbfb7958d"
      },
      "execution_count": null,
      "outputs": [
        {
          "output_type": "stream",
          "name": "stdout",
          "text": [
            "Independent variables (X):\n",
            "   const  X1  X2  X3  X4  X5   X6   X7   X8   X9  ...  X13  X14  X15  X16  \\\n",
            "0    1.0   2   0   1   1   1  8.5  3.9  2.5  5.9  ...  6.8  4.7  4.3  5.0   \n",
            "1    1.0   3   1   0   0   0  8.2  2.7  5.1  7.2  ...  5.3  5.5  4.0  3.9   \n",
            "2    1.0   3   0   1   1   1  9.2  3.4  5.6  5.6  ...  4.5  6.2  4.6  5.4   \n",
            "3    1.0   1   1   1   1   0  6.4  3.3  7.0  3.7  ...  8.8  7.0  3.6  4.3   \n",
            "4    1.0   2   0   1   0   1  9.0  3.4  5.2  4.6  ...  6.8  6.1  4.5  4.5   \n",
            "\n",
            "   X17  X18  X20  X21   X22  X23  \n",
            "0  5.1  3.7  8.0  8.4  65.1    1  \n",
            "1  4.3  4.9  6.5  7.5  67.1    0  \n",
            "2  4.0  4.5  8.4  9.0  72.1    1  \n",
            "3  4.1  3.0  6.0  7.2  40.1    0  \n",
            "4  3.5  3.5  6.6  9.0  57.1    0  \n",
            "\n",
            "[5 rows x 23 columns]\n",
            "Dependent variable (y):\n",
            "0    8.2\n",
            "1    5.7\n",
            "2    8.9\n",
            "3    4.8\n",
            "4    7.1\n",
            "Name: X19, dtype: float64\n"
          ]
        }
      ]
    },
    {
      "cell_type": "markdown",
      "source": [
        "Try regression first."
      ],
      "metadata": {
        "id": "NoxztREIId-2"
      }
    },
    {
      "cell_type": "code",
      "source": [
        "# Fit the regression model\n",
        "model = sm.OLS(y, X).fit()\n",
        "\n",
        "# Print model summary\n",
        "print(model.summary())"
      ],
      "metadata": {
        "colab": {
          "base_uri": "https://localhost:8080/"
        },
        "id": "6fNjl_ltIges",
        "outputId": "71ca726c-0dfd-4751-c252-a15963516187"
      },
      "execution_count": null,
      "outputs": [
        {
          "output_type": "stream",
          "name": "stdout",
          "text": [
            "                            OLS Regression Results                            \n",
            "==============================================================================\n",
            "Dep. Variable:                    X19   R-squared:                       0.881\n",
            "Model:                            OLS   Adj. R-squared:                  0.866\n",
            "Method:                 Least Squares   F-statistic:                     59.44\n",
            "Date:                Fri, 31 May 2024   Prob (F-statistic):           7.64e-70\n",
            "Time:                        17:39:38   Log-Likelihood:                -113.82\n",
            "No. Observations:                 200   AIC:                             273.6\n",
            "Df Residuals:                     177   BIC:                             349.5\n",
            "Df Model:                          22                                         \n",
            "Covariance Type:            nonrobust                                         \n",
            "==============================================================================\n",
            "                 coef    std err          t      P>|t|      [0.025      0.975]\n",
            "------------------------------------------------------------------------------\n",
            "const         -0.8076      0.787     -1.026      0.306      -2.361       0.746\n",
            "X1             0.2746      0.106      2.596      0.010       0.066       0.483\n",
            "X2            -0.0965      0.079     -1.216      0.225      -0.253       0.060\n",
            "X3             0.3368      0.093      3.607      0.000       0.153       0.521\n",
            "X4            -0.1943      0.115     -1.684      0.094      -0.422       0.033\n",
            "X5             0.3588      0.094      3.814      0.000       0.173       0.544\n",
            "X6             0.1903      0.048      3.954      0.000       0.095       0.285\n",
            "X7            -0.1430      0.087     -1.643      0.102      -0.315       0.029\n",
            "X8            -0.0372      0.039     -0.959      0.339      -0.114       0.039\n",
            "X9             0.1205      0.059      2.038      0.043       0.004       0.237\n",
            "X10            0.0164      0.039      0.425      0.671      -0.060       0.092\n",
            "X11            0.1917      0.152      1.261      0.209      -0.108       0.492\n",
            "X12            0.3506      0.067      5.261      0.000       0.219       0.482\n",
            "X13           -0.0016      0.030     -0.053      0.958      -0.062       0.058\n",
            "X14            0.0924      0.075      1.229      0.221      -0.056       0.241\n",
            "X15            0.0384      0.023      1.655      0.100      -0.007       0.084\n",
            "X16            0.0437      0.060      0.725      0.469      -0.075       0.163\n",
            "X17            0.1323      0.160      0.826      0.410      -0.184       0.448\n",
            "X18           -0.0905      0.316     -0.286      0.775      -0.715       0.534\n",
            "X20            0.1123      0.054      2.077      0.039       0.006       0.219\n",
            "X21            0.1379      0.057      2.423      0.016       0.026       0.250\n",
            "X22           -0.0095      0.011     -0.840      0.402      -0.032       0.013\n",
            "X23            0.3175      0.099      3.204      0.002       0.122       0.513\n",
            "==============================================================================\n",
            "Omnibus:                        7.469   Durbin-Watson:                   2.043\n",
            "Prob(Omnibus):                  0.024   Jarque-Bera (JB):                7.210\n",
            "Skew:                          -0.428   Prob(JB):                       0.0272\n",
            "Kurtosis:                       3.362   Cond. No.                     1.61e+03\n",
            "==============================================================================\n",
            "\n",
            "Notes:\n",
            "[1] Standard Errors assume that the covariance matrix of the errors is correctly specified.\n",
            "[2] The condition number is large, 1.61e+03. This might indicate that there are\n",
            "strong multicollinearity or other numerical problems.\n"
          ]
        }
      ]
    },
    {
      "cell_type": "markdown",
      "source": [
        "Review of initial regression model:\n",
        "\n",
        "Dependent Variable X19 is being predicted.<br>\n",
        "R-squared 0.881 indicates around 88.1% of the variance can be explained by the independent variables in the model. This is a high R-squared value, suggesting a good fit.<br>\n",
        "Adj. R-squared: .0866 is slightly lower than the R-squared, indicating the model is strong but slightly less strong when considering the number of predictors.<br> F-statistic: p-value of 7.64e-70 < 0.05 indicates model overall is statistically significant and the independent variables collectively have a significant effect on the dependent variable.<br>\n",
        "Log-Likelihood: -113.82 is a measure of model fit where higher values indicate a better fit.<br>\n",
        "AIC and BIC: AIC 273.6 and BIC 3495 Lower values overall idicate a better model.<br>\n",
        "Coefficients: const -0.8076 is intercept when all predictors are 0, the expected value of X19 is -0.8076.<br>\n",
        "X2,X4, X7, X8, X10, X11, X13, X14, X15, X16, X17, X18, X22: these variables are not statistically significant (p > 0.05). This suggests they do not have a significant impact on X19.  p-value (P>|t|)<br>\n",
        "Standard Error: Lower values hint at more precise estimates.<br>\n",
        "Omnibus: 7.469 with p-value of 0.024 < 0.05 suggests it is not normally distributed.<br>\n",
        "Durbin-Watson: 2.043 (close to 2) indicates no significant autocorrelation in the residuals.<br>\n",
        "Jarque-Bera: 7.210 with p-value of 0.0272 < 0.05 indicates the residuals may not be normally distributed. (residuals are: Residual = Observed Value - Predicted Value).<br>\n",
        "Condition Number: 1.61e+03, relatively high(very high > 1000; high > 30), indicates potential multicollinearity issues among the independent variables."
      ],
      "metadata": {
        "id": "_rLBTM-dLMws"
      }
    },
    {
      "cell_type": "code",
      "source": [
        "X.shape"
      ],
      "metadata": {
        "colab": {
          "base_uri": "https://localhost:8080/"
        },
        "id": "6ErNykfwQtBR",
        "outputId": "fb64f07b-d9cc-4add-b6f2-7e636f4ff4ec"
      },
      "execution_count": null,
      "outputs": [
        {
          "output_type": "execute_result",
          "data": {
            "text/plain": [
              "(200, 23)"
            ]
          },
          "metadata": {},
          "execution_count": 21
        }
      ]
    },
    {
      "cell_type": "markdown",
      "source": [
        "200 Rows, 23 predictors(columns)."
      ],
      "metadata": {
        "id": "0iLklzgARCJp"
      }
    },
    {
      "cell_type": "markdown",
      "source": [
        "2. Model Selection\n",
        "\n",
        "Select relevant predictors based on statistical significance and domain knowledge.\n",
        "\n"
      ],
      "metadata": {
        "id": "TQyRNEypRtZ9"
      }
    },
    {
      "cell_type": "markdown",
      "source": [
        "The initial regression model included 22 predictors, but after model selection, only X1, X3, X5, X6, X9, X12, X20, X21, and X23 were deemed relevant due to their statistical significance (P < 0.05), practical relevance, and strong model fit (R2=0.881R2=0.881). And X19 is the DV."
      ],
      "metadata": {
        "id": "2tWLBN7YSw_K"
      }
    },
    {
      "cell_type": "markdown",
      "source": [
        "Validate with Stepwise regression"
      ],
      "metadata": {
        "id": "-P7MLFuFbMbM"
      }
    },
    {
      "cell_type": "code",
      "source": [
        "\n",
        "# Define your predictors and target variable\n",
        "X = df[['X1', 'X2', 'X3', 'X4', 'X5', 'X6', 'X7', 'X8', 'X9', 'X10', 'X11', 'X12', 'X13', 'X14', 'X15', 'X16', 'X17', 'X18', 'X20', 'X21', 'X22', 'X23']]  # Include all predictors\n",
        "y = df['X19']  # Target variable\n",
        "\n",
        "# Stepwise regression function with comments for first iteration of X1\n",
        "def stepwise_selection(X, y,\n",
        "                       initial_list=[],\n",
        "                       threshold_in=0.01, #inclusion(pval)\n",
        "                       threshold_out = 0.05, #exclusion(pval)\n",
        "                       verbose=True):\n",
        "    included = list(initial_list) #empty at first then if meets threshold between 0.01 and 0.05 it is added to list\n",
        "    while True: #starts infinite loop\n",
        "        changed=False #new variable set to False at the beginning of the loop\n",
        "        # FORWARD step\n",
        "        excluded = list(set(X.columns)-set(included))  #X1 goes in here for further evaluation\n",
        "        new_pval = pd.Series(index=excluded) # new panda series includes X1\n",
        "        for new_column in excluded: #new_column iterates through each predictor in excluded list so for X1 new_column will represent X1 during loop\n",
        "            model = sm.OLS(y, sm.add_constant(pd.DataFrame(X[included+[new_column]]))).fit() #takes in X1 (new_column) and makes a linear regression model\n",
        "            new_pval[new_column] = model.pvalues[new_column] #predicts new p-value\n",
        "        best_pval = new_pval.min() #If X2 is passing then it takes X1 and X2 and finds the minimum\n",
        "        if best_pval < threshold_in: #if that best_pval < 0.01\n",
        "            best_feature = new_pval.idxmin() #identifies the feature(predictor) associated w/the minimum pvalue\n",
        "            included.append(best_feature) #puts into included list\n",
        "            changed=True #A change has occurred during current iteration of while loop\n",
        "            if verbose: #conditional check to see if we should provide addition info or updates during execution it defaults to true\n",
        "                print('Add  {:30} with p-value {:.6}'.format(best_feature, best_pval)) #print\n",
        "\n",
        "        # BACKWARD step You wil see print statement to drop did not occur meaning none met the condition to be dropped\n",
        "        model = sm.OLS(y, sm.add_constant(pd.DataFrame(X[included]))).fit() # Do model of included X1-X23 excluding intercept\n",
        "        pvalues = model.pvalues.iloc[1:]  # Exclude intercept includes X1-23\n",
        "        worst_pval = pvalues.max() # Gets highest p-value\n",
        "        if worst_pval > threshold_out: # if highest p-value is > 0.05\n",
        "            changed=True #set to True\n",
        "            worst_feature = pvalues.argmax() # Finds index of predictor(feature) with highest p-value in model\n",
        "            included.remove(worst_feature) # Removes the predictor(feature) as having the highest p-value from the included list\n",
        "            if verbose: #conditional check to see if we should provide addition info or updates during execution it defaults to true\n",
        "                print('Drop {:30} with p-value {:.6}'.format(worst_feature, worst_pval)) # Print name of X with worse feature and it's p-val\n",
        "        if not changed: # changed = False to stop while loop iteration\n",
        "            break #break loop\n",
        "    return included\n",
        "\n",
        "# Perform stepwise regression\n",
        "selected_features = stepwise_selection(X, y)\n",
        "\n",
        "# Print the resulting selected features\n",
        "print('Selected Features:')\n",
        "print(selected_features)"
      ],
      "metadata": {
        "colab": {
          "base_uri": "https://localhost:8080/"
        },
        "id": "Slf1g03ScKpe",
        "outputId": "36164999-a197-4373-c925-c932da3c20f0"
      },
      "execution_count": null,
      "outputs": [
        {
          "output_type": "stream",
          "name": "stdout",
          "text": [
            "Add  X20                            with p-value 3.70634e-39\n",
            "Add  X1                             with p-value 1.72276e-17\n",
            "Add  X12                            with p-value 1.05661e-11\n",
            "Add  X5                             with p-value 3.57422e-08\n",
            "Add  X9                             with p-value 2.82365e-05\n",
            "Add  X6                             with p-value 3.00685e-05\n",
            "Add  X21                            with p-value 0.000112604\n",
            "Add  X23                            with p-value 0.00510836\n",
            "Add  X3                             with p-value 0.00509115\n",
            "Add  X11                            with p-value 0.00871654\n",
            "Add  X7                             with p-value 0.00903896\n",
            "Selected Features:\n",
            "['X20', 'X1', 'X12', 'X5', 'X9', 'X6', 'X21', 'X23', 'X3', 'X11', 'X7']\n"
          ]
        }
      ]
    },
    {
      "cell_type": "markdown",
      "source": [
        "During the initial regression analysis, X7 and X11 were not included. They became significant in the stepwise regression process, which systematically adds or removes predictors based on their significance. When considering all predictors together and adjusting for the presence of other variables, X7 and X11 are included."
      ],
      "metadata": {
        "id": "Np_0PMq2etg2"
      }
    },
    {
      "cell_type": "markdown",
      "source": [
        "Validate the Stepwise with Cross-Validation"
      ],
      "metadata": {
        "id": "VB8eEVBFCEtS"
      }
    },
    {
      "cell_type": "code",
      "source": [
        "from sklearn.base import BaseEstimator, RegressorMixin\n",
        "\n",
        "class StatsModelsOLS(BaseEstimator, RegressorMixin):\n",
        "    def __init__(self): # Initialize the class instance\n",
        "        self.model = None # Placeholder for the regression model\n",
        "\n",
        "    def fit(self, X, y): # Define method to train model on the input data X and target y\n",
        "        X_const = sm.add_constant(X) # Add a constant (intercept) to the input data 'X'\n",
        "        self.model = sm.OLS(y, X_const).fit() # Fits OLS regression model using X-const and y then stores in self.model\n",
        "        return self # Return instance of the class to allow method chaining\n",
        "\n",
        "    def predict(self, X): # Define method to make predictions on new input data X\n",
        "        X_const = sm.add_constant(X) # Adds constant (intercept) to the input data X\n",
        "        return self.model.predict(X_const) # Uses fitted model to make predictions and returns the predicted values\n",
        "\n",
        "    def score(self, X, y): # Defines method to evaluate model's performance\n",
        "        y_pred = self.predict(X) # Makes predictions for X\n",
        "        return np.corrcoef(y, y_pred)[0, 1] ** 2  # R^2 score is calculated and reteurned(square of correlation coefficient btxn actual y and predicted y)\n",
        "\n",
        "# Evaluate the model with selected features\n",
        "model = StatsModelsOLS() # Creates instance of class\n",
        "# Uses scikit-learn's cross_val_score function to pefrom 5 fold cross validation\n",
        "# Evaluates the model using selected eatires in X[selected_features] and target y\n",
        "# Scoring metric used is R squared (scoring = 'r2')\n",
        "# Returns an array of Rsquared scores for each fold\n",
        "cross_val_scores = cross_val_score(model, X[selected_features], y, cv=5, scoring='r2')\n",
        "print(\"Cross-validation R^2 scores:\", cross_val_scores)\n",
        "print(\"Mean R^2 score:\", np.mean(cross_val_scores))\n"
      ],
      "metadata": {
        "colab": {
          "base_uri": "https://localhost:8080/"
        },
        "id": "XEGOR1MGCHfc",
        "outputId": "aec2aae1-588b-4af8-d7be-d6f8ad60f7e1"
      },
      "execution_count": null,
      "outputs": [
        {
          "output_type": "stream",
          "name": "stdout",
          "text": [
            "Cross-validation R^2 scores: [0.86612143 0.77728236 0.76847605 0.86156777 0.90346011]\n",
            "Mean R^2 score: 0.8353815445473955\n"
          ]
        }
      ]
    },
    {
      "cell_type": "markdown",
      "source": [
        "Cross-validation R^2 scores: [0.86612143 0.77728236 0.76847605 0.86156777 0.90346011]<br>\n",
        "Mean R^2 score: 0.8353815445473955<br>\n",
        "\n",
        "The Cross-validation R^2 scores range from 0.77 to 0.90 with a mean of 0.835. This demonstrates that the stepwise regression model reliably explains a significant portion of the variance in the DV X19 across different subsets of the data. This confirms the robustness of the model and validates the suitability of using the stepwise regression approach."
      ],
      "metadata": {
        "id": "zGhIDuzQDK7d"
      }
    },
    {
      "cell_type": "markdown",
      "source": [
        "Create a subset from Stepwise regression"
      ],
      "metadata": {
        "id": "eQyyM2G1D58b"
      }
    },
    {
      "cell_type": "code",
      "source": [
        "# Subset of the data with selected predictors & dependent variable including X7 and X11\n",
        "selected_predictors = ['X1', 'X3', 'X5', 'X6', 'X7', 'X9', 'X11', 'X12', 'X20', 'X21', 'X23']\n",
        "\n",
        "X_selected = df[selected_predictors]\n",
        "# Dependent variable\n",
        "y_selected = df['X19']\n",
        "\n",
        "# Add constant for the intercept\n",
        "X_selected = sm.add_constant(X_selected)\n",
        "\n",
        "# Fit the regression model\n",
        "model_selected = sm.OLS(y_selected, X_selected).fit()\n",
        "\n",
        "# Print model summary\n",
        "print(model_selected.summary())"
      ],
      "metadata": {
        "colab": {
          "base_uri": "https://localhost:8080/"
        },
        "id": "sMrGtVUCgBOF",
        "outputId": "2aa14623-2ddd-4466-874c-ec9c8aa3a77e"
      },
      "execution_count": null,
      "outputs": [
        {
          "output_type": "stream",
          "name": "stdout",
          "text": [
            "                            OLS Regression Results                            \n",
            "==============================================================================\n",
            "Dep. Variable:                    X19   R-squared:                       0.870\n",
            "Model:                            OLS   Adj. R-squared:                  0.863\n",
            "Method:                 Least Squares   F-statistic:                     114.8\n",
            "Date:                Fri, 31 May 2024   Prob (F-statistic):           3.49e-77\n",
            "Time:                        17:39:55   Log-Likelihood:                -122.18\n",
            "No. Observations:                 200   AIC:                             268.4\n",
            "Df Residuals:                     188   BIC:                             307.9\n",
            "Df Model:                          11                                         \n",
            "Covariance Type:            nonrobust                                         \n",
            "==============================================================================\n",
            "                 coef    std err          t      P>|t|      [0.025      0.975]\n",
            "------------------------------------------------------------------------------\n",
            "const         -0.0026      0.493     -0.005      0.996      -0.976       0.971\n",
            "X1             0.2570      0.074      3.495      0.001       0.112       0.402\n",
            "X3             0.2413      0.084      2.885      0.004       0.076       0.406\n",
            "X5             0.4017      0.090      4.476      0.000       0.225       0.579\n",
            "X6             0.1664      0.038      4.327      0.000       0.091       0.242\n",
            "X7            -0.1922      0.073     -2.638      0.009      -0.336      -0.048\n",
            "X9             0.1670      0.040      4.154      0.000       0.088       0.246\n",
            "X11            0.1173      0.041      2.866      0.005       0.037       0.198\n",
            "X12            0.3641      0.055      6.647      0.000       0.256       0.472\n",
            "X20            0.1184      0.052      2.263      0.025       0.015       0.222\n",
            "X21            0.1407      0.056      2.530      0.012       0.031       0.250\n",
            "X23            0.3521      0.097      3.648      0.000       0.162       0.542\n",
            "==============================================================================\n",
            "Omnibus:                       10.319   Durbin-Watson:                   2.120\n",
            "Prob(Omnibus):                  0.006   Jarque-Bera (JB):               11.166\n",
            "Skew:                          -0.451   Prob(JB):                      0.00376\n",
            "Kurtosis:                       3.726   Cond. No.                         259.\n",
            "==============================================================================\n",
            "\n",
            "Notes:\n",
            "[1] Standard Errors assume that the covariance matrix of the errors is correctly specified.\n"
          ]
        }
      ]
    },
    {
      "cell_type": "markdown",
      "source": [
        "3. Model Summary with Selected Predictors"
      ],
      "metadata": {
        "id": "HzmvZazTl3an"
      }
    },
    {
      "cell_type": "markdown",
      "source": [
        "Dependent Variable: X19.\n",
        "\n",
        "Model Fit:\n",
        "\n",
        "*   R-squared is 0.870 indicating ~ 87% of the variance in X19 is explained by the independent variables.\n",
        "*   Adjusted R-squared is 0.863 adjusted for the number of this model's predictors.\n",
        "\n",
        "Overall Significance:\n",
        "\n",
        "*   F-statistic: Prob F-statistic is very low 3.49e-77, indicating the model is statistically significant.\n",
        "\n",
        "Coefficients:\n",
        "\n",
        "*   When all predictors are 0 the DV is near zero at -0.0026.\n",
        "*   Range is .1 to .4, suggesting each predictor has a moderate to strong effect on the DV.\n",
        "*   Standard Error (std err) range from ~ .04 to .09 (low numbers suggest more precise estimates.\n",
        "*   P>|5t| p-values associated with the t-values range from less than 0.01 to 0.025, indicating the coefficients are significant as they are below alpha of 0.05.\n",
        "*   Confidence intervalls overall range from ~ .1 to .4 showing consistency.\n",
        "\n",
        "Durbin-Watson:\n",
        "\n",
        "Tests if there is any pattern left in the residuals. A value around 2 is good. Ours is 2.120 very close.\n",
        "\n",
        "Omnibus and Jarque-Bera:\n",
        "\n",
        "Testing for normality. Here it's high (not close to 0) indicating it does not adhere to the assumptions of normality.\n",
        "\n",
        "Overall:\n",
        "\n",
        "The model suggests that the selected predictors collectively have a meaningful impact on the dependent variable with each predictor making a contribution.\n",
        "\n",
        "\n",
        "\n",
        "\n",
        "\n",
        "\n",
        "\n",
        "\n",
        "\n"
      ],
      "metadata": {
        "id": "yjHINutImWr_"
      }
    },
    {
      "cell_type": "markdown",
      "source": [
        "4. Verify Assumptions\n",
        "\n",
        "General assumptions for linear regression models:\n",
        "*   The relationship between predictors and the DV X19 is assumed to be linear.\n",
        "*   Observations are assumed to be independent of each other.\n",
        "*   Error terms have constant variance across all levels of predictors.\n",
        "*   Residuals are assumed to be normally distributed.\n",
        "*   Predictors are assumed to be uncorrelated with each other.\n",
        "\n",
        "Model fit and overall significance:\n",
        "*   The high R-squared 0.870 suggests ~ 87% of the variance in X19 is explained by the independent variables.\n",
        "*   Low p-values associated with the t-values indicate the coefficients are significant predictors of X19.\n",
        "*   The Durbin-Watson statistic tests for autocorrelation in residuals with a value around 2 considered acceptable. 2.120 is this model which is close.\n",
        "*   Tests for normality (Omnibus and Jarque-Bera) suggest a potential violation of normality assumptions.\n",
        "\n",
        "\n",
        "\n",
        "\n",
        "\n"
      ],
      "metadata": {
        "id": "MYA9gtaptZnx"
      }
    },
    {
      "cell_type": "markdown",
      "source": [
        "Scatter Plot"
      ],
      "metadata": {
        "id": "JMklsx30csTW"
      }
    },
    {
      "cell_type": "code",
      "source": [
        "# Obtain residuals and fitted values for the selected model\n",
        "# Residuals=The difference between the actual number and the number predicted by the model (rows)\n",
        "# Fitted Values=Model's predictions based on our predictors.\n",
        "residuals_selected = model_selected.resid\n",
        "fitted_values_selected = model_selected.fittedvalues\n",
        "\n",
        "# Plot residuals vs. fitted values for the selected model\n",
        "plt.scatter(fitted_values_selected, residuals_selected)\n",
        "plt.xlabel('Fitted Values')\n",
        "plt.ylabel('Residuals')\n",
        "plt.title('Residuals (Actual Number - Number Predicted) vs. Fitted Values (Selected Predictors Predictions)')\n",
        "plt.axhline(y=0, color='r', linestyle='-')  # Add a horizontal line at y=0\n",
        "\n",
        "plt.show()"
      ],
      "metadata": {
        "colab": {
          "base_uri": "https://localhost:8080/",
          "height": 472
        },
        "id": "uil8pJZ1u1Mo",
        "outputId": "9306e488-9c01-4d4c-a858-aac479ec61b5"
      },
      "execution_count": null,
      "outputs": [
        {
          "output_type": "display_data",
          "data": {
            "text/plain": [
              "<Figure size 640x480 with 1 Axes>"
            ],
            "image/png": "[encoded data removed]"
          },
          "metadata": {}
        }
      ]
    },
    {
      "cell_type": "markdown",
      "source": [
        "Observation of random patterns, constant variance, no trends, no outliers, which suggests the assumptions of linear regression are being met."
      ],
      "metadata": {
        "id": "nwcru8DrcOqA"
      }
    },
    {
      "cell_type": "markdown",
      "source": [
        "Shapiro-Wilk Test for normal distribution."
      ],
      "metadata": {
        "id": "1an-79QmdPan"
      }
    },
    {
      "cell_type": "code",
      "source": [
        "from scipy.stats import shapiro\n",
        "\n",
        "# Obtain residuals and fitted values for the selected model\n",
        "residuals_selected = model_selected.resid\n",
        "\n",
        "# Assume 'residuals' contains the residuals of the regression model\n",
        "stat, p = shapiro(residuals_selected)\n",
        "print('Shapiro-Wilk Test Statistic:', stat)\n",
        "print('p-value:', p)\n",
        "if p > 0.05:\n",
        "    print('Residuals are normally distributed (fail to reject H0)')\n",
        "else:\n",
        "    print('Residuals are not normally distributed (reject H0)')\n"
      ],
      "metadata": {
        "colab": {
          "base_uri": "https://localhost:8080/"
        },
        "id": "9ZGz-kKgdT7A",
        "outputId": "41b1adbf-2e30-4d64-9d7a-a516b9018ff3"
      },
      "execution_count": null,
      "outputs": [
        {
          "output_type": "stream",
          "name": "stdout",
          "text": [
            "Shapiro-Wilk Test Statistic: 0.9828342199325562\n",
            "p-value: 0.015246872790157795\n",
            "Residuals are not normally distributed (reject H0)\n"
          ]
        }
      ]
    },
    {
      "cell_type": "markdown",
      "source": [
        "Shapiro-Wilk Test Statistic: 0.9828342199325562<br>\n",
        "p-value: 0.015246872790157795<br>\n",
        "With the p-value of 0.015 < 0.05 we reject the null(H0) and accept that the data is normally distributed."
      ],
      "metadata": {
        "id": "NKsHuljhd09E"
      }
    },
    {
      "cell_type": "markdown",
      "source": [
        "Breusch-Pagan Test to detect heteroscedasticity."
      ],
      "metadata": {
        "id": "UWnOMjNLgP0X"
      }
    },
    {
      "cell_type": "code",
      "source": [
        "from statsmodels.stats.api import het_breuschpagan\n",
        "# Subset of the data with selected predictors & dependent variable\n",
        "selected_predictors = ['X1', 'X3', 'X5', 'X6', 'X7', 'X9', 'X11', 'X12', 'X20', 'X21', 'X23']\n",
        "X_selected = df[selected_predictors]\n",
        "y_selected = df['X19']\n",
        "\n",
        "# Fit the regression model\n",
        "model_selected = sm.OLS(y_selected, sm.add_constant(X_selected)).fit()\n",
        "\n",
        "# Obtain residuals and fitted values for the selected model\n",
        "residuals_selected = model_selected.resid\n",
        "\n",
        "# Perform the Breusch-Pagan test\n",
        "bp_test = het_breuschpagan(residuals_selected, X_selected_with_const)\n",
        "\n",
        "# Extract the test statistic and p-value\n",
        "bp_test_statistic = bp_test[0]\n",
        "bp_p_value = bp_test[1]\n",
        "\n",
        "# Print the results\n",
        "print(\"Breusch-Pagan Test:\")\n",
        "print(f\"Test Statistic: {bp_test_statistic}\")\n",
        "print(f\"P-value: {bp_p_value}\")"
      ],
      "metadata": {
        "colab": {
          "base_uri": "https://localhost:8080/"
        },
        "id": "zlfmcPGage9Z",
        "outputId": "26d2ebdd-eb37-4911-dde5-a7a2a2734808"
      },
      "execution_count": null,
      "outputs": [
        {
          "output_type": "stream",
          "name": "stdout",
          "text": [
            "Breusch-Pagan Test:\n",
            "Test Statistic: 13.430581680667864\n",
            "P-value: 0.3385359255209562\n"
          ]
        }
      ]
    },
    {
      "cell_type": "markdown",
      "source": [
        "Breusch-Pagan Test:<br>\n",
        "Test Statistic: 13.430581680667864<br>\n",
        "P-value: 0.2661163218119772<br>\n",
        "With a p-value of 0.339, we fail to reject the null(H0). This suggests that there is no evidence of heteroscedasticity in the model residuals, which supports the assumption of constant variance."
      ],
      "metadata": {
        "id": "3Oz-zk4vgjkW"
      }
    },
    {
      "cell_type": "markdown",
      "source": [
        "Calculate variance inflation factors(VIF) to assess multicollinearity."
      ],
      "metadata": {
        "id": "zoQcW4pBg675"
      }
    },
    {
      "cell_type": "code",
      "source": [
        "from statsmodels.stats.outliers_influence import variance_inflation_factor\n",
        "\n",
        "# Calculate VIF for each predictor variable in the selected subset\n",
        "def calculate_vif(X):\n",
        "    vif_data = pd.DataFrame()\n",
        "    vif_data[\"Variable\"] = X.columns\n",
        "    vif_data[\"VIF\"] = [variance_inflation_factor(X.values, i) for i in range(X.shape[1])]\n",
        "    return vif_data\n",
        "\n",
        "# Add constant for the intercept\n",
        "X_selected_vif = sm.add_constant(X_selected)\n",
        "\n",
        "# Calculate VIF for the selected subset\n",
        "vif_selected = calculate_vif(X_selected_vif)\n",
        "print(vif_selected)"
      ],
      "metadata": {
        "colab": {
          "base_uri": "https://localhost:8080/"
        },
        "id": "nvHwcDK_hD14",
        "outputId": "6d6f548a-88b7-4bfd-8922-a6d4541056fb"
      },
      "execution_count": null,
      "outputs": [
        {
          "output_type": "stream",
          "name": "stdout",
          "text": [
            "   Variable         VIF\n",
            "0     const  230.297690\n",
            "1        X1    3.480212\n",
            "2        X3    1.653158\n",
            "3        X5    1.893317\n",
            "4        X6    2.664281\n",
            "5        X7    2.954017\n",
            "6        X9    2.228513\n",
            "7       X11    2.737805\n",
            "8       X12    3.597894\n",
            "9       X20    3.025182\n",
            "10      X21    2.322224\n",
            "11      X23    2.160294\n"
          ]
        }
      ]
    },
    {
      "cell_type": "markdown",
      "source": [
        "The VIF for the constant term is very high at 230.297 which could indicate there is a strong multicollinearity among the predictors, including the constant.\n",
        "\n",
        "The predictor variabls, the VIF values range from ~1.65 to 3.60. In generan if it is < 10 it indicates that multicollinarity is not a significant concern. There is no strong evidence of multicollinearity among the selected predictor variables in the regression model."
      ],
      "metadata": {
        "id": "F3b6vl2hhaY1"
      }
    },
    {
      "cell_type": "markdown",
      "source": [
        "Assumption summary:\n",
        "\n",
        "The scatterplot shows no discernible patterns, meeting the linearity assumptions.\n",
        "\n",
        "The Shaprio-Wilk test indicates non-normality (p < 0.05), not normal distribution.\n",
        "\n",
        "The Breusch-Pagan test suggests no heteroscedasticity (p > 0.05).\n",
        "\n",
        "The VIF indicates potential multicollinearity with the constant but not among the predictors as their VIF < 10."
      ],
      "metadata": {
        "id": "_cUOX6lsiTPr"
      }
    },
    {
      "cell_type": "markdown",
      "source": [
        "5. Correlations"
      ],
      "metadata": {
        "id": "fGw3CiGWjBTZ"
      }
    },
    {
      "cell_type": "code",
      "source": [
        "# Subset of predictors\n",
        "selected_predictors = ['X1', 'X3', 'X5', 'X6', 'X7', 'X9', 'X11', 'X12', 'X20', 'X21', 'X23']\n",
        "\n",
        "# Add the dependent variable to the selected predictors\n",
        "selected_predictors.append('X19')\n",
        "\n",
        "# Subset the data with selected predictors\n",
        "X_selected = df[selected_predictors]\n",
        "\n",
        "# Compute the correlation matrix\n",
        "corr_matrix = X_selected.corr()\n",
        "\n",
        "# Set up the matplotlib figure\n",
        "plt.figure(figsize=(10, 8))\n",
        "\n",
        "# Draw the heatmap with the mask and correct aspect ratio\n",
        "sns.heatmap(corr_matrix, annot=True, cmap='coolwarm', fmt=\".2f\", linewidths=.5)\n",
        "plt.title('Correlation Matrix')\n",
        "plt.show()\n"
      ],
      "metadata": {
        "colab": {
          "base_uri": "https://localhost:8080/",
          "height": 699
        },
        "id": "3AEOjLuIjB1Z",
        "outputId": "8e2036f3-378e-4980-d1dd-dbcb9ccba1de"
      },
      "execution_count": null,
      "outputs": [
        {
          "output_type": "display_data",
          "data": {
            "text/plain": [
              "<Figure size 1000x800 with 2 Axes>"
            ],
            "image/png": "[encoded data removed]"
          },
          "metadata": {}
        }
      ]
    },
    {
      "cell_type": "markdown",
      "source": [
        "X19 has a strong positive correlation with X1 (0.71), X20 (0.76), X21 (0.73), and X23 (0.69). This suggests that as X1, X20, X21, and X23 increase, X19 tends to increase as well.\n",
        "\n",
        "X19 also has moderate positive correlations with X6 (0.52), X7 (0.34), X9 (0.60), X11 (0.65), and X12 (0.48). This indicates that as these variables increase, X19 tends to increase, but the relationships are not as strong as with X1, X20, X21, and X23.\n",
        "\n",
        "The correlation between X19 and X5 (0.55) is moderate as well, indicating a positive relationship, but not as strong as with X1, X20, X21, and X23."
      ],
      "metadata": {
        "id": "3WsMTlMspitx"
      }
    },
    {
      "cell_type": "markdown",
      "source": [
        "Pearson to assess correlation significance."
      ],
      "metadata": {
        "id": "mmP-2IFYqPxl"
      }
    },
    {
      "cell_type": "code",
      "source": [
        "# Subset of the data with selected predictors include X19\n",
        "selected_predictors = ['X1', 'X3', 'X5', 'X6', 'X7', 'X9', 'X11', 'X12', 'X20', 'X21', 'X23', 'X19']\n",
        "\n",
        "# Create a DataFrame with the selected predictors\n",
        "subset_df = df[selected_predictors]\n",
        "\n",
        "# Calculate Pearson correlation coefficients\n",
        "correlation_matrix = subset_df.corr(method='pearson')\n",
        "\n",
        "# Print the correlation matrix\n",
        "print(correlation_matrix)\n"
      ],
      "metadata": {
        "colab": {
          "base_uri": "https://localhost:8080/"
        },
        "id": "QYE10QAvqT06",
        "outputId": "134c6f27-8ccd-4704-e03a-24b73b67a2d0"
      },
      "execution_count": null,
      "outputs": [
        {
          "output_type": "stream",
          "name": "stdout",
          "text": [
            "           X1        X3        X5        X6        X7        X9       X11  \\\n",
            "X1   1.000000 -0.060646  0.255481  0.621480  0.030041  0.539053  0.675501   \n",
            "X3  -0.060646  1.000000 -0.158941 -0.187693  0.132623  0.153436 -0.150170   \n",
            "X5   0.255481 -0.158941  1.000000  0.382160  0.301099  0.198576  0.456678   \n",
            "X6   0.621480 -0.187693  0.382160  1.000000 -0.034316  0.089551  0.509295   \n",
            "X7   0.030041  0.132623  0.301099 -0.034316  1.000000  0.191758  0.077115   \n",
            "X9   0.539053  0.153436  0.198576  0.089551  0.191758  1.000000  0.568294   \n",
            "X11  0.675501 -0.150170  0.456678  0.509295  0.077115  0.568294  1.000000   \n",
            "X12  0.102336  0.300342  0.290375 -0.116104  0.788225  0.255656  0.050414   \n",
            "X20  0.527089  0.296722  0.465952  0.436035  0.304032  0.433153  0.462152   \n",
            "X21  0.555983  0.261220  0.399937  0.433372  0.235189  0.408799  0.462329   \n",
            "X23  0.514391  0.144249  0.353402  0.377140  0.306938  0.426719  0.411247   \n",
            "X19  0.707220  0.193864  0.548728  0.521052  0.341551  0.597566  0.646337   \n",
            "\n",
            "          X12       X20       X21       X23       X19  \n",
            "X1   0.102336  0.527089  0.555983  0.514391  0.707220  \n",
            "X3   0.300342  0.296722  0.261220  0.144249  0.193864  \n",
            "X5   0.290375  0.465952  0.399937  0.353402  0.548728  \n",
            "X6  -0.116104  0.436035  0.433372  0.377140  0.521052  \n",
            "X7   0.788225  0.304032  0.235189  0.306938  0.341551  \n",
            "X9   0.255656  0.433153  0.408799  0.426719  0.597566  \n",
            "X11  0.050414  0.462152  0.462329  0.411247  0.646337  \n",
            "X12  1.000000  0.387152  0.338005  0.328998  0.477870  \n",
            "X20  0.387152  1.000000  0.660860  0.681459  0.761593  \n",
            "X21  0.338005  0.660860  1.000000  0.586134  0.725764  \n",
            "X23  0.328998  0.681459  0.586134  1.000000  0.692821  \n",
            "X19  0.477870  0.761593  0.725764  0.692821  1.000000  \n"
          ]
        }
      ]
    },
    {
      "cell_type": "markdown",
      "source": [
        "Note:\n",
        "\n",
        "Values close to 1: strong positive linear relationship\n",
        "\n",
        "Values close to -1: strong negative linear relationship\n",
        "\n",
        "Values close to 0: no linear relationship\n",
        "\n",
        "Example:\n",
        "\n",
        "X19 and X1 correlation coefficient 0.71-strong positive linear relationship\n",
        "\n",
        "X19 and X3 correlation coefficient 0.19-weak positive linear relationship\n",
        "\n",
        "X19 and X12 correlation coefficient 0.48-moderate positive linear relationship.\n",
        "\n",
        "\n"
      ],
      "metadata": {
        "id": "kjGoBbu2qfwS"
      }
    },
    {
      "cell_type": "markdown",
      "source": [
        "\n",
        "Correlation Summary:\n",
        "\n",
        "X19 overall tends to have a moderate to strong positive correlation with most predictor variables, which suggest some degree of linear association between them.\n",
        "\n",
        "Particularly strong is the relationship between X19 and:\n",
        "\n",
        "X1  (0.71)<br>\n",
        "X11 (0.65)<br>\n",
        "X20 (0.76)<br>\n",
        "X21 (0.73)<br>\n",
        "X23 (0.69)<br>\n",
        "\n",
        "They may have more significant influence on X19 compared to the others.\n"
      ],
      "metadata": {
        "id": "7ycYLht5rS33"
      }
    },
    {
      "cell_type": "markdown",
      "source": [
        "\n",
        "6. Interpretations\n"
      ],
      "metadata": {
        "id": "OakeBDuCsrdC"
      }
    },
    {
      "cell_type": "markdown",
      "source": [
        "Coefficient Significance:\n",
        "\n",
        "Using the selected predictors, they indicate the strength and the direction of the relationship with the DV X19.\n",
        "\n",
        "Model Fit:\n",
        "\n",
        "The high R-squared value indicates ~ 87% of the variance in the DV X19 is explained by the independent variables included in the model, suggesting that collectively, they have a strong explanatory power (the ability of a hypothesis or theory to explain the subject matter effectively to which it pertains to) for the variation in the DV.\n",
        "\n",
        "Overall Significance of the Model:\n",
        "\n",
        "The low p-value associated with the F-statistic of 3.49e-77 suggests that overall, the model is significant and that the IVs, together, have a significant impact on the DV.\n",
        "\n",
        "Correlation:\n",
        "\n",
        "The matrix reveals the strength and direction of the relationships between the selected predictors and the DV; notably, X1, X9, X11, X20 and X21. This indicates moderate to strong positive correlations with X19.\n",
        "\n",
        "The steps undertaken provided a comprehensive examination of predictors for satisfaction using linear regression. The model showed strong explanatory power and identified key predictors, though it revealed a normality issue with residuals."
      ],
      "metadata": {
        "id": "3T-S1CsPsuPe"
      }
    },
    {
      "cell_type": "markdown",
      "source": [
        "\n",
        "7. Recommendations"
      ],
      "metadata": {
        "id": "k-1-o3nhF_9X"
      }
    },
    {
      "cell_type": "markdown",
      "source": [
        "Prioritize understanding and using predictors X1, X9, X11, X20, and X21 to maximize their impact on the DV.\n",
        "\n",
        "Delve into factors that drive the relationships beteween the predictors and X19 and how they influence X19.\n",
        "\n",
        "Translate the findings into action for decision-makig and planning strategically."
      ],
      "metadata": {
        "id": "GJfb51Pa8p-8"
      }
    }
  ]
}