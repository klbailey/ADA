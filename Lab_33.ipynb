{
  "nbformat": 4,
  "nbformat_minor": 0,
  "metadata": {
    "colab": {
      "provenance": [],
      "authorship_tag": "ABX9TyPRb3otGCDlFyo+AaPbAqY+"
    },
    "kernelspec": {
      "name": "python3",
      "display_name": "Python 3"
    },
    "language_info": {
      "name": "python"
    }
  },
  "cells": [
    {
      "cell_type": "markdown",
      "source": [
        "Lab 33\n",
        "\n",
        "*   Use our previous HBAT200 Dataset for practicing hyperparameter tuning.\n",
        "*   Observe properly.\n",
        "*   Have a documentation of your observations, make comparisons with the results we had from the same dataset before\n",
        "*   Benchmark Linear Regression and Random Forest Regression.\n",
        "*   Provide the following:\n",
        "  - Comparison between the two algorithms.<br>\n",
        "  - Answer and justify which model is better.\n",
        "\n",
        "Explanation of Columns:\n",
        "\n",
        "X1 - Customer Type\n",
        "\n",
        "X2 - Industry Type\n",
        "\n",
        "X3 - Firm Size\n",
        "\n",
        "X4 - Region\n",
        "\n",
        "X5 - Distribution System\n",
        "\n",
        "X6 - Product Quality\n",
        "\n",
        "X7 - E-Commerce\n",
        "\n",
        "X8 - Technical Support\n",
        "\n",
        "X9 - Complaint Resolution\n",
        "\n",
        "X10 - Advertising\n",
        "\n",
        "X11 - Product Line\n",
        "\n",
        "X12 - Salesforce Image\n",
        "\n",
        "X13 - Competitive Pricing X14 - Warranty & Claims\n",
        "\n",
        "X15 - New Products\n",
        "\n",
        "X16 - Order & Billing\n",
        "\n",
        "X17 - Price Flexibility\n",
        "\n",
        "X18 - Delivery Speed\n",
        "\n",
        "X19 - Satisfaction\n",
        "\n",
        "X20 - Likely to Recommend\n",
        "\n",
        "X21 - Likely to Purchase\n",
        "\n",
        "X22 - Purchase Level\n",
        "\n",
        "X23 - Consider Strategic Alliance\n",
        "\n"
      ],
      "metadata": {
        "id": "_B5hYL5u_uG_"
      }
    },
    {
      "cell_type": "markdown",
      "source": [
        "#No Hyperparameter Tuning"
      ],
      "metadata": {
        "id": "ZuonpmvkB6Vw"
      }
    },
    {
      "cell_type": "code",
      "source": [
        "import pandas as pd\n",
        "import numpy as np\n",
        "from sklearn.linear_model import LinearRegression\n",
        "from sklearn.ensemble import RandomForestRegressor\n",
        "from sklearn.metrics import accuracy_score, precision_score, recall_score, f1_score, mean_squared_error, mean_absolute_error, r2_score\n",
        "from sklearn.preprocessing import StandardScaler\n",
        "import numpy as np\n",
        "from sklearn.model_selection import train_test_split\n",
        "from sklearn.feature_selection import SelectKBest, f_regression\n",
        "from sklearn.metrics import mean_absolute_error, mean_absolute_percentage_error\n",
        "\n",
        "# Create a DataFrame\n",
        "df = pd.read_csv('HBAT-200-Data.csv')\n",
        "\n",
        "df"
      ],
      "metadata": {
        "colab": {
          "base_uri": "https://localhost:8080/",
          "height": 423
        },
        "id": "sF_vugpC_-oU",
        "outputId": "1cab3958-5886-4174-ea2a-3b688b4a9089"
      },
      "execution_count": null,
      "outputs": [
        {
          "output_type": "execute_result",
          "data": {
            "text/plain": [
              "      ID  X1  X2  X3  X4  X5   X6   X7   X8   X9  ...  X14  X15  X16  X17  \\\n",
              "0      1   2   0   1   1   1  8.5  3.9  2.5  5.9  ...  4.7  4.3  5.0  5.1   \n",
              "1      2   3   1   0   0   0  8.2  2.7  5.1  7.2  ...  5.5  4.0  3.9  4.3   \n",
              "2      3   3   0   1   1   1  9.2  3.4  5.6  5.6  ...  6.2  4.6  5.4  4.0   \n",
              "3      4   1   1   1   1   0  6.4  3.3  7.0  3.7  ...  7.0  3.6  4.3  4.1   \n",
              "4      5   2   0   1   0   1  9.0  3.4  5.2  4.6  ...  6.1  4.5  4.5  3.5   \n",
              "..   ...  ..  ..  ..  ..  ..  ...  ...  ...  ...  ...  ...  ...  ...  ...   \n",
              "195  196   3   1   1   0   0  7.6  3.6  2.1  5.2  ...  4.3  6.8  4.4  3.9   \n",
              "196  197   2   1   1   1   0  5.9  4.0  3.3  7.8  ...  5.2  6.6  6.0  7.5   \n",
              "197  198   3   1   1   1   1  9.7  5.0  7.9  6.3  ...  6.6  5.2  4.4  3.5   \n",
              "198  199   2   1   1   1   1  5.5  5.5  6.9  6.6  ...  7.0  5.3  5.9  6.7   \n",
              "199  200   3   1   0   1   1  9.7  5.0  5.6  5.9  ...  6.9  1.2  4.3  3.5   \n",
              "\n",
              "     X18  X19  X20  X21   X22  X23  \n",
              "0    3.7  8.2  8.0  8.4  65.1    1  \n",
              "1    4.9  5.7  6.5  7.5  67.1    0  \n",
              "2    4.5  8.9  8.4  9.0  72.1    1  \n",
              "3    3.0  4.8  6.0  7.2  40.1    0  \n",
              "4    3.5  7.1  6.6  9.0  57.1    0  \n",
              "..   ...  ...  ...  ...   ...  ...  \n",
              "195  4.0  8.2  6.9  8.4  58.1    1  \n",
              "196  5.4  7.9  7.8  8.6  62.1    1  \n",
              "197  4.2  8.6  8.8  7.9  66.1    1  \n",
              "198  4.9  8.2  7.1  7.6  59.1    1  \n",
              "199  4.2  8.6  8.1  8.5  66.1    1  \n",
              "\n",
              "[200 rows x 24 columns]"
            ],
            "text/html": [
              "\n",
              "  <div id=\"df-f134f0f6-d63f-4cff-a374-e06e069d9909\" class=\"colab-df-container\">\n",
              "    <div>\n",
              "<style scoped>\n",
              "    .dataframe tbody tr th:only-of-type {\n",
              "        vertical-align: middle;\n",
              "    }\n",
              "\n",
              "    .dataframe tbody tr th {\n",
              "        vertical-align: top;\n",
              "    }\n",
              "\n",
              "    .dataframe thead th {\n",
              "        text-align: right;\n",
              "    }\n",
              "</style>\n",
              "<table border=\"1\" class=\"dataframe\">\n",
              "  <thead>\n",
              "    <tr style=\"text-align: right;\">\n",
              "      <th></th>\n",
              "      <th>ID</th>\n",
              "      <th>X1</th>\n",
              "      <th>X2</th>\n",
              "      <th>X3</th>\n",
              "      <th>X4</th>\n",
              "      <th>X5</th>\n",
              "      <th>X6</th>\n",
              "      <th>X7</th>\n",
              "      <th>X8</th>\n",
              "      <th>X9</th>\n",
              "      <th>...</th>\n",
              "      <th>X14</th>\n",
              "      <th>X15</th>\n",
              "      <th>X16</th>\n",
              "      <th>X17</th>\n",
              "      <th>X18</th>\n",
              "      <th>X19</th>\n",
              "      <th>X20</th>\n",
              "      <th>X21</th>\n",
              "      <th>X22</th>\n",
              "      <th>X23</th>\n",
              "    </tr>\n",
              "  </thead>\n",
              "  <tbody>\n",
              "    <tr>\n",
              "      <th>0</th>\n",
              "      <td>1</td>\n",
              "      <td>2</td>\n",
              "      <td>0</td>\n",
              "      <td>1</td>\n",
              "      <td>1</td>\n",
              "      <td>1</td>\n",
              "      <td>8.5</td>\n",
              "      <td>3.9</td>\n",
              "      <td>2.5</td>\n",
              "      <td>5.9</td>\n",
              "      <td>...</td>\n",
              "      <td>4.7</td>\n",
              "      <td>4.3</td>\n",
              "      <td>5.0</td>\n",
              "      <td>5.1</td>\n",
              "      <td>3.7</td>\n",
              "      <td>8.2</td>\n",
              "      <td>8.0</td>\n",
              "      <td>8.4</td>\n",
              "      <td>65.1</td>\n",
              "      <td>1</td>\n",
              "    </tr>\n",
              "    <tr>\n",
              "      <th>1</th>\n",
              "      <td>2</td>\n",
              "      <td>3</td>\n",
              "      <td>1</td>\n",
              "      <td>0</td>\n",
              "      <td>0</td>\n",
              "      <td>0</td>\n",
              "      <td>8.2</td>\n",
              "      <td>2.7</td>\n",
              "      <td>5.1</td>\n",
              "      <td>7.2</td>\n",
              "      <td>...</td>\n",
              "      <td>5.5</td>\n",
              "      <td>4.0</td>\n",
              "      <td>3.9</td>\n",
              "      <td>4.3</td>\n",
              "      <td>4.9</td>\n",
              "      <td>5.7</td>\n",
              "      <td>6.5</td>\n",
              "      <td>7.5</td>\n",
              "      <td>67.1</td>\n",
              "      <td>0</td>\n",
              "    </tr>\n",
              "    <tr>\n",
              "      <th>2</th>\n",
              "      <td>3</td>\n",
              "      <td>3</td>\n",
              "      <td>0</td>\n",
              "      <td>1</td>\n",
              "      <td>1</td>\n",
              "      <td>1</td>\n",
              "      <td>9.2</td>\n",
              "      <td>3.4</td>\n",
              "      <td>5.6</td>\n",
              "      <td>5.6</td>\n",
              "      <td>...</td>\n",
              "      <td>6.2</td>\n",
              "      <td>4.6</td>\n",
              "      <td>5.4</td>\n",
              "      <td>4.0</td>\n",
              "      <td>4.5</td>\n",
              "      <td>8.9</td>\n",
              "      <td>8.4</td>\n",
              "      <td>9.0</td>\n",
              "      <td>72.1</td>\n",
              "      <td>1</td>\n",
              "    </tr>\n",
              "    <tr>\n",
              "      <th>3</th>\n",
              "      <td>4</td>\n",
              "      <td>1</td>\n",
              "      <td>1</td>\n",
              "      <td>1</td>\n",
              "      <td>1</td>\n",
              "      <td>0</td>\n",
              "      <td>6.4</td>\n",
              "      <td>3.3</td>\n",
              "      <td>7.0</td>\n",
              "      <td>3.7</td>\n",
              "      <td>...</td>\n",
              "      <td>7.0</td>\n",
              "      <td>3.6</td>\n",
              "      <td>4.3</td>\n",
              "      <td>4.1</td>\n",
              "      <td>3.0</td>\n",
              "      <td>4.8</td>\n",
              "      <td>6.0</td>\n",
              "      <td>7.2</td>\n",
              "      <td>40.1</td>\n",
              "      <td>0</td>\n",
              "    </tr>\n",
              "    <tr>\n",
              "      <th>4</th>\n",
              "      <td>5</td>\n",
              "      <td>2</td>\n",
              "      <td>0</td>\n",
              "      <td>1</td>\n",
              "      <td>0</td>\n",
              "      <td>1</td>\n",
              "      <td>9.0</td>\n",
              "      <td>3.4</td>\n",
              "      <td>5.2</td>\n",
              "      <td>4.6</td>\n",
              "      <td>...</td>\n",
              "      <td>6.1</td>\n",
              "      <td>4.5</td>\n",
              "      <td>4.5</td>\n",
              "      <td>3.5</td>\n",
              "      <td>3.5</td>\n",
              "      <td>7.1</td>\n",
              "      <td>6.6</td>\n",
              "      <td>9.0</td>\n",
              "      <td>57.1</td>\n",
              "      <td>0</td>\n",
              "    </tr>\n",
              "    <tr>\n",
              "      <th>...</th>\n",
              "      <td>...</td>\n",
              "      <td>...</td>\n",
              "      <td>...</td>\n",
              "      <td>...</td>\n",
              "      <td>...</td>\n",
              "      <td>...</td>\n",
              "      <td>...</td>\n",
              "      <td>...</td>\n",
              "      <td>...</td>\n",
              "      <td>...</td>\n",
              "      <td>...</td>\n",
              "      <td>...</td>\n",
              "      <td>...</td>\n",
              "      <td>...</td>\n",
              "      <td>...</td>\n",
              "      <td>...</td>\n",
              "      <td>...</td>\n",
              "      <td>...</td>\n",
              "      <td>...</td>\n",
              "      <td>...</td>\n",
              "      <td>...</td>\n",
              "    </tr>\n",
              "    <tr>\n",
              "      <th>195</th>\n",
              "      <td>196</td>\n",
              "      <td>3</td>\n",
              "      <td>1</td>\n",
              "      <td>1</td>\n",
              "      <td>0</td>\n",
              "      <td>0</td>\n",
              "      <td>7.6</td>\n",
              "      <td>3.6</td>\n",
              "      <td>2.1</td>\n",
              "      <td>5.2</td>\n",
              "      <td>...</td>\n",
              "      <td>4.3</td>\n",
              "      <td>6.8</td>\n",
              "      <td>4.4</td>\n",
              "      <td>3.9</td>\n",
              "      <td>4.0</td>\n",
              "      <td>8.2</td>\n",
              "      <td>6.9</td>\n",
              "      <td>8.4</td>\n",
              "      <td>58.1</td>\n",
              "      <td>1</td>\n",
              "    </tr>\n",
              "    <tr>\n",
              "      <th>196</th>\n",
              "      <td>197</td>\n",
              "      <td>2</td>\n",
              "      <td>1</td>\n",
              "      <td>1</td>\n",
              "      <td>1</td>\n",
              "      <td>0</td>\n",
              "      <td>5.9</td>\n",
              "      <td>4.0</td>\n",
              "      <td>3.3</td>\n",
              "      <td>7.8</td>\n",
              "      <td>...</td>\n",
              "      <td>5.2</td>\n",
              "      <td>6.6</td>\n",
              "      <td>6.0</td>\n",
              "      <td>7.5</td>\n",
              "      <td>5.4</td>\n",
              "      <td>7.9</td>\n",
              "      <td>7.8</td>\n",
              "      <td>8.6</td>\n",
              "      <td>62.1</td>\n",
              "      <td>1</td>\n",
              "    </tr>\n",
              "    <tr>\n",
              "      <th>197</th>\n",
              "      <td>198</td>\n",
              "      <td>3</td>\n",
              "      <td>1</td>\n",
              "      <td>1</td>\n",
              "      <td>1</td>\n",
              "      <td>1</td>\n",
              "      <td>9.7</td>\n",
              "      <td>5.0</td>\n",
              "      <td>7.9</td>\n",
              "      <td>6.3</td>\n",
              "      <td>...</td>\n",
              "      <td>6.6</td>\n",
              "      <td>5.2</td>\n",
              "      <td>4.4</td>\n",
              "      <td>3.5</td>\n",
              "      <td>4.2</td>\n",
              "      <td>8.6</td>\n",
              "      <td>8.8</td>\n",
              "      <td>7.9</td>\n",
              "      <td>66.1</td>\n",
              "      <td>1</td>\n",
              "    </tr>\n",
              "    <tr>\n",
              "      <th>198</th>\n",
              "      <td>199</td>\n",
              "      <td>2</td>\n",
              "      <td>1</td>\n",
              "      <td>1</td>\n",
              "      <td>1</td>\n",
              "      <td>1</td>\n",
              "      <td>5.5</td>\n",
              "      <td>5.5</td>\n",
              "      <td>6.9</td>\n",
              "      <td>6.6</td>\n",
              "      <td>...</td>\n",
              "      <td>7.0</td>\n",
              "      <td>5.3</td>\n",
              "      <td>5.9</td>\n",
              "      <td>6.7</td>\n",
              "      <td>4.9</td>\n",
              "      <td>8.2</td>\n",
              "      <td>7.1</td>\n",
              "      <td>7.6</td>\n",
              "      <td>59.1</td>\n",
              "      <td>1</td>\n",
              "    </tr>\n",
              "    <tr>\n",
              "      <th>199</th>\n",
              "      <td>200</td>\n",
              "      <td>3</td>\n",
              "      <td>1</td>\n",
              "      <td>0</td>\n",
              "      <td>1</td>\n",
              "      <td>1</td>\n",
              "      <td>9.7</td>\n",
              "      <td>5.0</td>\n",
              "      <td>5.6</td>\n",
              "      <td>5.9</td>\n",
              "      <td>...</td>\n",
              "      <td>6.9</td>\n",
              "      <td>1.2</td>\n",
              "      <td>4.3</td>\n",
              "      <td>3.5</td>\n",
              "      <td>4.2</td>\n",
              "      <td>8.6</td>\n",
              "      <td>8.1</td>\n",
              "      <td>8.5</td>\n",
              "      <td>66.1</td>\n",
              "      <td>1</td>\n",
              "    </tr>\n",
              "  </tbody>\n",
              "</table>\n",
              "<p>200 rows × 24 columns</p>\n",
              "</div>\n",
              "    <div class=\"colab-df-buttons\">\n",
              "\n",
              "  <div class=\"colab-df-container\">\n",
              "    <button class=\"colab-df-convert\" onclick=\"convertToInteractive('df-f134f0f6-d63f-4cff-a374-e06e069d9909')\"\n",
              "            title=\"Convert this dataframe to an interactive table.\"\n",
              "            style=\"display:none;\">\n",
              "\n",
              "  <svg xmlns=\"http://www.w3.org/2000/svg\" height=\"24px\" viewBox=\"0 -960 960 960\">\n",
              "    <path d=\"M120-120v-720h720v720H120Zm60-500h600v-160H180v160Zm220 220h160v-160H400v160Zm0 220h160v-160H400v160ZM180-400h160v-160H180v160Zm440 0h160v-160H620v160ZM180-180h160v-160H180v160Zm440 0h160v-160H620v160Z\"/>\n",
              "  </svg>\n",
              "    </button>\n",
              "\n",
              "  <style>\n",
              "    .colab-df-container {\n",
              "      display:flex;\n",
              "      gap: 12px;\n",
              "    }\n",
              "\n",
              "    .colab-df-convert {\n",
              "      background-color: #E8F0FE;\n",
              "      border: none;\n",
              "      border-radius: 50%;\n",
              "      cursor: pointer;\n",
              "      display: none;\n",
              "      fill: #1967D2;\n",
              "      height: 32px;\n",
              "      padding: 0 0 0 0;\n",
              "      width: 32px;\n",
              "    }\n",
              "\n",
              "    .colab-df-convert:hover {\n",
              "      background-color: #E2EBFA;\n",
              "      box-shadow: 0px 1px 2px rgba(60, 64, 67, 0.3), 0px 1px 3px 1px rgba(60, 64, 67, 0.15);\n",
              "      fill: #174EA6;\n",
              "    }\n",
              "\n",
              "    .colab-df-buttons div {\n",
              "      margin-bottom: 4px;\n",
              "    }\n",
              "\n",
              "    [theme=dark] .colab-df-convert {\n",
              "      background-color: #3B4455;\n",
              "      fill: #D2E3FC;\n",
              "    }\n",
              "\n",
              "    [theme=dark] .colab-df-convert:hover {\n",
              "      background-color: #434B5C;\n",
              "      box-shadow: 0px 1px 3px 1px rgba(0, 0, 0, 0.15);\n",
              "      filter: drop-shadow(0px 1px 2px rgba(0, 0, 0, 0.3));\n",
              "      fill: #FFFFFF;\n",
              "    }\n",
              "  </style>\n",
              "\n",
              "    <script>\n",
              "      const buttonEl =\n",
              "        document.querySelector('#df-f134f0f6-d63f-4cff-a374-e06e069d9909 button.colab-df-convert');\n",
              "      buttonEl.style.display =\n",
              "        google.colab.kernel.accessAllowed ? 'block' : 'none';\n",
              "\n",
              "      async function convertToInteractive(key) {\n",
              "        const element = document.querySelector('#df-f134f0f6-d63f-4cff-a374-e06e069d9909');\n",
              "        const dataTable =\n",
              "          await google.colab.kernel.invokeFunction('convertToInteractive',\n",
              "                                                    [key], {});\n",
              "        if (!dataTable) return;\n",
              "\n",
              "        const docLinkHtml = 'Like what you see? Visit the ' +\n",
              "          '<a target=\"_blank\" href=https://colab.research.google.com/notebooks/data_table.ipynb>data table notebook</a>'\n",
              "          + ' to learn more about interactive tables.';\n",
              "        element.innerHTML = '';\n",
              "        dataTable['output_type'] = 'display_data';\n",
              "        await google.colab.output.renderOutput(dataTable, element);\n",
              "        const docLink = document.createElement('div');\n",
              "        docLink.innerHTML = docLinkHtml;\n",
              "        element.appendChild(docLink);\n",
              "      }\n",
              "    </script>\n",
              "  </div>\n",
              "\n",
              "\n",
              "<div id=\"df-5645031c-119e-4a76-8f8a-3b5aebf7637e\">\n",
              "  <button class=\"colab-df-quickchart\" onclick=\"quickchart('df-5645031c-119e-4a76-8f8a-3b5aebf7637e')\"\n",
              "            title=\"Suggest charts\"\n",
              "            style=\"display:none;\">\n",
              "\n",
              "<svg xmlns=\"http://www.w3.org/2000/svg\" height=\"24px\"viewBox=\"0 0 24 24\"\n",
              "     width=\"24px\">\n",
              "    <g>\n",
              "        <path d=\"M19 3H5c-1.1 0-2 .9-2 2v14c0 1.1.9 2 2 2h14c1.1 0 2-.9 2-2V5c0-1.1-.9-2-2-2zM9 17H7v-7h2v7zm4 0h-2V7h2v10zm4 0h-2v-4h2v4z\"/>\n",
              "    </g>\n",
              "</svg>\n",
              "  </button>\n",
              "\n",
              "<style>\n",
              "  .colab-df-quickchart {\n",
              "      --bg-color: #E8F0FE;\n",
              "      --fill-color: #1967D2;\n",
              "      --hover-bg-color: #E2EBFA;\n",
              "      --hover-fill-color: #174EA6;\n",
              "      --disabled-fill-color: #AAA;\n",
              "      --disabled-bg-color: #DDD;\n",
              "  }\n",
              "\n",
              "  [theme=dark] .colab-df-quickchart {\n",
              "      --bg-color: #3B4455;\n",
              "      --fill-color: #D2E3FC;\n",
              "      --hover-bg-color: #434B5C;\n",
              "      --hover-fill-color: #FFFFFF;\n",
              "      --disabled-bg-color: #3B4455;\n",
              "      --disabled-fill-color: #666;\n",
              "  }\n",
              "\n",
              "  .colab-df-quickchart {\n",
              "    background-color: var(--bg-color);\n",
              "    border: none;\n",
              "    border-radius: 50%;\n",
              "    cursor: pointer;\n",
              "    display: none;\n",
              "    fill: var(--fill-color);\n",
              "    height: 32px;\n",
              "    padding: 0;\n",
              "    width: 32px;\n",
              "  }\n",
              "\n",
              "  .colab-df-quickchart:hover {\n",
              "    background-color: var(--hover-bg-color);\n",
              "    box-shadow: 0 1px 2px rgba(60, 64, 67, 0.3), 0 1px 3px 1px rgba(60, 64, 67, 0.15);\n",
              "    fill: var(--button-hover-fill-color);\n",
              "  }\n",
              "\n",
              "  .colab-df-quickchart-complete:disabled,\n",
              "  .colab-df-quickchart-complete:disabled:hover {\n",
              "    background-color: var(--disabled-bg-color);\n",
              "    fill: var(--disabled-fill-color);\n",
              "    box-shadow: none;\n",
              "  }\n",
              "\n",
              "  .colab-df-spinner {\n",
              "    border: 2px solid var(--fill-color);\n",
              "    border-color: transparent;\n",
              "    border-bottom-color: var(--fill-color);\n",
              "    animation:\n",
              "      spin 1s steps(1) infinite;\n",
              "  }\n",
              "\n",
              "  @keyframes spin {\n",
              "    0% {\n",
              "      border-color: transparent;\n",
              "      border-bottom-color: var(--fill-color);\n",
              "      border-left-color: var(--fill-color);\n",
              "    }\n",
              "    20% {\n",
              "      border-color: transparent;\n",
              "      border-left-color: var(--fill-color);\n",
              "      border-top-color: var(--fill-color);\n",
              "    }\n",
              "    30% {\n",
              "      border-color: transparent;\n",
              "      border-left-color: var(--fill-color);\n",
              "      border-top-color: var(--fill-color);\n",
              "      border-right-color: var(--fill-color);\n",
              "    }\n",
              "    40% {\n",
              "      border-color: transparent;\n",
              "      border-right-color: var(--fill-color);\n",
              "      border-top-color: var(--fill-color);\n",
              "    }\n",
              "    60% {\n",
              "      border-color: transparent;\n",
              "      border-right-color: var(--fill-color);\n",
              "    }\n",
              "    80% {\n",
              "      border-color: transparent;\n",
              "      border-right-color: var(--fill-color);\n",
              "      border-bottom-color: var(--fill-color);\n",
              "    }\n",
              "    90% {\n",
              "      border-color: transparent;\n",
              "      border-bottom-color: var(--fill-color);\n",
              "    }\n",
              "  }\n",
              "</style>\n",
              "\n",
              "  <script>\n",
              "    async function quickchart(key) {\n",
              "      const quickchartButtonEl =\n",
              "        document.querySelector('#' + key + ' button');\n",
              "      quickchartButtonEl.disabled = true;  // To prevent multiple clicks.\n",
              "      quickchartButtonEl.classList.add('colab-df-spinner');\n",
              "      try {\n",
              "        const charts = await google.colab.kernel.invokeFunction(\n",
              "            'suggestCharts', [key], {});\n",
              "      } catch (error) {\n",
              "        console.error('Error during call to suggestCharts:', error);\n",
              "      }\n",
              "      quickchartButtonEl.classList.remove('colab-df-spinner');\n",
              "      quickchartButtonEl.classList.add('colab-df-quickchart-complete');\n",
              "    }\n",
              "    (() => {\n",
              "      let quickchartButtonEl =\n",
              "        document.querySelector('#df-5645031c-119e-4a76-8f8a-3b5aebf7637e button');\n",
              "      quickchartButtonEl.style.display =\n",
              "        google.colab.kernel.accessAllowed ? 'block' : 'none';\n",
              "    })();\n",
              "  </script>\n",
              "</div>\n",
              "\n",
              "  <div id=\"id_878b1737-2fcd-4cce-af1c-8ca81a8cc3e9\">\n",
              "    <style>\n",
              "      .colab-df-generate {\n",
              "        background-color: #E8F0FE;\n",
              "        border: none;\n",
              "        border-radius: 50%;\n",
              "        cursor: pointer;\n",
              "        display: none;\n",
              "        fill: #1967D2;\n",
              "        height: 32px;\n",
              "        padding: 0 0 0 0;\n",
              "        width: 32px;\n",
              "      }\n",
              "\n",
              "      .colab-df-generate:hover {\n",
              "        background-color: #E2EBFA;\n",
              "        box-shadow: 0px 1px 2px rgba(60, 64, 67, 0.3), 0px 1px 3px 1px rgba(60, 64, 67, 0.15);\n",
              "        fill: #174EA6;\n",
              "      }\n",
              "\n",
              "      [theme=dark] .colab-df-generate {\n",
              "        background-color: #3B4455;\n",
              "        fill: #D2E3FC;\n",
              "      }\n",
              "\n",
              "      [theme=dark] .colab-df-generate:hover {\n",
              "        background-color: #434B5C;\n",
              "        box-shadow: 0px 1px 3px 1px rgba(0, 0, 0, 0.15);\n",
              "        filter: drop-shadow(0px 1px 2px rgba(0, 0, 0, 0.3));\n",
              "        fill: #FFFFFF;\n",
              "      }\n",
              "    </style>\n",
              "    <button class=\"colab-df-generate\" onclick=\"generateWithVariable('df')\"\n",
              "            title=\"Generate code using this dataframe.\"\n",
              "            style=\"display:none;\">\n",
              "\n",
              "  <svg xmlns=\"http://www.w3.org/2000/svg\" height=\"24px\"viewBox=\"0 0 24 24\"\n",
              "       width=\"24px\">\n",
              "    <path d=\"M7,19H8.4L18.45,9,17,7.55,7,17.6ZM5,21V16.75L18.45,3.32a2,2,0,0,1,2.83,0l1.4,1.43a1.91,1.91,0,0,1,.58,1.4,1.91,1.91,0,0,1-.58,1.4L9.25,21ZM18.45,9,17,7.55Zm-12,3A5.31,5.31,0,0,0,4.9,8.1,5.31,5.31,0,0,0,1,6.5,5.31,5.31,0,0,0,4.9,4.9,5.31,5.31,0,0,0,6.5,1,5.31,5.31,0,0,0,8.1,4.9,5.31,5.31,0,0,0,12,6.5,5.46,5.46,0,0,0,6.5,12Z\"/>\n",
              "  </svg>\n",
              "    </button>\n",
              "    <script>\n",
              "      (() => {\n",
              "      const buttonEl =\n",
              "        document.querySelector('#id_878b1737-2fcd-4cce-af1c-8ca81a8cc3e9 button.colab-df-generate');\n",
              "      buttonEl.style.display =\n",
              "        google.colab.kernel.accessAllowed ? 'block' : 'none';\n",
              "\n",
              "      buttonEl.onclick = () => {\n",
              "        google.colab.notebook.generateWithVariable('df');\n",
              "      }\n",
              "      })();\n",
              "    </script>\n",
              "  </div>\n",
              "\n",
              "    </div>\n",
              "  </div>\n"
            ],
            "application/vnd.google.colaboratory.intrinsic+json": {
              "type": "dataframe",
              "variable_name": "df"
            }
          },
          "metadata": {},
          "execution_count": 46
        }
      ]
    },
    {
      "cell_type": "markdown",
      "source": [
        "From Lab 23: Target(y) is X19, Selected Features(X) are: ['X6', 'X7', 'X9', 'X11', 'X12', 'X13', 'X17']"
      ],
      "metadata": {
        "id": "LROvqUGMDxVm"
      }
    },
    {
      "cell_type": "code",
      "source": [
        "X = df[['X6', 'X7', 'X9', 'X11', 'X12', 'X13', 'X17']]  # IVs\n",
        "y = df['X19']"
      ],
      "metadata": {
        "id": "kTUDRY2FEzGX"
      },
      "execution_count": null,
      "outputs": []
    },
    {
      "cell_type": "markdown",
      "source": [
        "Split into training and testing sets"
      ],
      "metadata": {
        "id": "nFRVDwpPFvFL"
      }
    },
    {
      "cell_type": "code",
      "source": [
        "# Split the data into training and testing sets\n",
        "X_train, X_test, y_train, y_test = train_test_split(X, y, test_size=0.4, random_state=23)"
      ],
      "metadata": {
        "id": "2tfZNXeoFtML"
      },
      "execution_count": null,
      "outputs": []
    },
    {
      "cell_type": "markdown",
      "source": [
        "Define and fit models, make predictions"
      ],
      "metadata": {
        "id": "i4W-4U47F7nK"
      }
    },
    {
      "cell_type": "code",
      "source": [
        "# Instantiate the regressors\n",
        "lin_reg = LinearRegression()\n",
        "rf_reg = RandomForestRegressor(random_state=0)\n",
        "\n",
        "# Scaling for LinearRegression\n",
        "scaler = StandardScaler()\n",
        "X_train_scaled = scaler.fit_transform(X_train)\n",
        "X_test_scaled = scaler.transform(X_test)\n",
        "\n",
        "# np.abs(y_true - y_pred) computes absolute error btwn ea true valua and it's predicted value\n",
        "# (y_true - y_pred) / y_true dividees absolute error by true value to get % error for each\n",
        "# np.mean(np.abs((y_true - y_pred) / y_true))--np.abs() is applied again to ensure percentage errors are positive and\n",
        "# np.mean() calculates the average of these absolute percentage errors and *100 reesults from fraction to %\n",
        "def mean_absolute_percentage_error(y_true, y_pred):\n",
        "    return np.mean(np.abs((y_true - y_pred) / y_true)) * 100\n",
        "\n",
        "def fit_and_predict(model, X_train, y_train, X_test):\n",
        "    model.fit(X_train, y_train)\n",
        "    y_train_pred = model.predict(X_train)\n",
        "    y_test_pred = model.predict(X_test)\n",
        "    return y_train_pred, y_test_pred\n",
        "\n",
        "# Fit and predict for both models\n",
        "lin_reg_train_pred, lin_reg_test_pred = fit_and_predict(lin_reg, X_train_scaled, y_train, X_test_scaled)\n",
        "rf_reg_train_pred, rf_reg_test_pred = fit_and_predict(rf_reg, X_train, y_train, X_test)\n",
        "\n",
        "\n",
        "# Predictions for LinearRegression\n",
        "print(\"LinearRegression - Training Predictions (First 10):\")\n",
        "print(lin_reg_train_pred[:10])  # Show the first 10 predictions\n",
        "\n",
        "print(\"\\nLinearRegression - Testing Predictions (First 10):\")\n",
        "print(lin_reg_test_pred[:10])\n",
        "\n",
        "# Print 10 predictions for RandomForestRegressor\n",
        "print(\"\\nRandomForestRegressor - Training Predictions (First 10):\")\n",
        "print(rf_reg_train_pred[:10])\n",
        "\n",
        "print(\"\\nRandomForestRegressor - Testing Predictions (First 10):\")\n",
        "print(rf_reg_test_pred[:10])\n"
      ],
      "metadata": {
        "colab": {
          "base_uri": "https://localhost:8080/"
        },
        "id": "dHNvMbNBUPic",
        "outputId": "14e961bd-01f0-4dd6-b08e-07203a459f59"
      },
      "execution_count": null,
      "outputs": [
        {
          "output_type": "stream",
          "name": "stdout",
          "text": [
            "LinearRegression - Training Predictions (First 10):\n",
            "[7.32344442 7.09912427 5.89493417 8.68193511 5.67609725 8.46442132\n",
            " 8.68327674 5.93866845 6.28976382 7.90781179]\n",
            "\n",
            "LinearRegression - Testing Predictions (First 10):\n",
            "[7.22972553 6.03412018 6.9364482  7.58144628 7.40903602 5.76354608\n",
            " 5.44662876 8.78758237 8.24189454 6.20348838]\n",
            "\n",
            "RandomForestRegressor - Training Predictions (First 10):\n",
            "[7.868 7.779 5.975 8.885 5.464 8.509 8.755 6.303 6.313 8.585]\n",
            "\n",
            "RandomForestRegressor - Testing Predictions (First 10):\n",
            "[7.425 6.562 7.301 8.135 8.218 6.227 5.546 7.519 7.824 6.361]\n"
          ]
        }
      ]
    },
    {
      "cell_type": "markdown",
      "source": [
        "Metrics/checking errors"
      ],
      "metadata": {
        "id": "mFs6VPw_U2SQ"
      }
    },
    {
      "cell_type": "code",
      "source": [
        "def calculate_metrics(y_true, y_pred):\n",
        "    metrics = {\n",
        "        'MSE': mean_squared_error(y_true, y_pred),\n",
        "        'RMSE': np.sqrt(mean_squared_error(y_true, y_pred)),\n",
        "        'MAE': mean_absolute_error(y_true, y_pred),\n",
        "        'MAPE': mean_absolute_percentage_error(y_true, y_pred),\n",
        "        'R²': r2_score(y_true, y_pred)\n",
        "    }\n",
        "    return metrics\n",
        "\n",
        "def print_results(model_name, train_metrics, test_metrics):\n",
        "    print(f\"{model_name} - Regression:\")\n",
        "    print(f\"Train - MSE: {train_metrics['MSE']:.4f}, RMSE: {train_metrics['RMSE']:.4f}, MAE: {train_metrics['MAE']:.4f}, MAPE: {train_metrics['MAPE']:.4f}%, R²: {train_metrics['R²']:.4f}\")\n",
        "    print(f\"Test  - MSE: {test_metrics['MSE']:.4f}, RMSE: {test_metrics['RMSE']:.4f}, MAE: {test_metrics['MAE']:.4f}, MAPE: {test_metrics['MAPE']:.4f}%, R²: {test_metrics['R²']:.4f}\")\n",
        "\n",
        "# Calculate metrics for Linear Regression\n",
        "lin_reg_train_metrics = calculate_metrics(y_train, lin_reg_train_pred)\n",
        "lin_reg_test_metrics = calculate_metrics(y_test, lin_reg_test_pred)\n",
        "\n",
        "# Calculate metrics for Random Forest\n",
        "rf_reg_train_metrics = calculate_metrics(y_train, rf_reg_train_pred)\n",
        "rf_reg_test_metrics = calculate_metrics(y_test, rf_reg_test_pred)\n",
        "\n",
        "# Print results\n",
        "print_results(\"LinearRegression\", lin_reg_train_metrics, lin_reg_test_metrics)\n",
        "print_results(\"RandomForestRegressor\", rf_reg_train_metrics, rf_reg_test_metrics)\n",
        "\n"
      ],
      "metadata": {
        "colab": {
          "base_uri": "https://localhost:8080/"
        },
        "id": "rY3NIUG6USpq",
        "outputId": "a9169aac-cc9b-4ec9-e167-254e161609c2"
      },
      "execution_count": null,
      "outputs": [
        {
          "output_type": "stream",
          "name": "stdout",
          "text": [
            "LinearRegression - Regression:\n",
            "Train - MSE: 0.2549, RMSE: 0.5048, MAE: 0.3815, MAPE: 5.7125%, R²: 0.8499\n",
            "Test  - MSE: 0.3980, RMSE: 0.6309, MAE: 0.4765, MAPE: 7.2917%, R²: 0.6879\n",
            "RandomForestRegressor - Regression:\n",
            "Train - MSE: 0.0260, RMSE: 0.1614, MAE: 0.1104, MAPE: 1.6886%, R²: 0.9847\n",
            "Test  - MSE: 0.1438, RMSE: 0.3792, MAE: 0.2729, MAPE: 4.1036%, R²: 0.8872\n"
          ]
        }
      ]
    },
    {
      "cell_type": "markdown",
      "source": [
        "Linear Regression:\n",
        "- Performs well on training data with low MSE/RMSE, indicating it fits the training data well. MAE and MAPE suggests average prediction error is moderate.\n",
        "- The testing data is slightly worse than the training data. The MSE, RMSE, MAE increased indicating it may not generalize as well to unseen data. The R^2 is lower, but okay, indicating the model explains less variance in the test data compared to the training data.\n",
        "\n",
        "RandomForestRegression:\n",
        "- Good performance on the training data. The R^2 is near 1.0 meaning it may explain almost all variance in the training data.\n",
        "- The testing data is strong, but not as good as on the training data.  It may have some overfitting due to the MSE, RMSE and MAE are higher than the training data.\n",
        "\n",
        "RandomForestRegressor may be the better performing model in terms of unseen data generalizing."
      ],
      "metadata": {
        "id": "8ymH6z8hLUTV"
      }
    },
    {
      "cell_type": "markdown",
      "source": [
        "#Hyperparameter Tuning"
      ],
      "metadata": {
        "id": "tizMTnKdZzUy"
      }
    },
    {
      "cell_type": "markdown",
      "source": [
        "##LinearRegression"
      ],
      "metadata": {
        "id": "06l4HB71erU2"
      }
    },
    {
      "cell_type": "markdown",
      "source": [
        "Check default parameters"
      ],
      "metadata": {
        "id": "5ecKPQZaf47m"
      }
    },
    {
      "cell_type": "code",
      "source": [
        "# Instantiate Linear Regression model\n",
        "lin_reg = LinearRegression()\n",
        "\n",
        "# Get default hyperparameters for Linear Regression\n",
        "default_params_lin_reg = lin_reg.get_params()\n",
        "print(\"Default parameters for Linear Regression:\", default_params_lin_reg)"
      ],
      "metadata": {
        "colab": {
          "base_uri": "https://localhost:8080/"
        },
        "id": "Ok7Z8pEJaFDl",
        "outputId": "9b212dd4-5e23-4e34-ec04-f749986e27a8"
      },
      "execution_count": null,
      "outputs": [
        {
          "output_type": "stream",
          "name": "stdout",
          "text": [
            "Default parameters for Linear Regression: {'copy_X': True, 'fit_intercept': True, 'n_jobs': None, 'positive': False}\n"
          ]
        }
      ]
    },
    {
      "cell_type": "markdown",
      "source": [
        "Best Hyperparameters"
      ],
      "metadata": {
        "id": "CxzvYWipf8Mi"
      }
    },
    {
      "cell_type": "code",
      "source": [
        "param_grid = {\n",
        "    'copy_X': [True, False],\n",
        "    'fit_intercept': [True, False],\n",
        "    'positive': [True, False],}\n",
        "\n",
        "from sklearn.model_selection import GridSearchCV\n",
        "\n",
        "# Create a GridSearchCV instance\n",
        "grid_search = GridSearchCV(lin_reg, param_grid, cv=5, scoring='neg_mean_squared_error')\n",
        "\n",
        "# Fit the model to perform the search (this will actually train the model)\n",
        "grid_search.fit(X_train, y_train)\n",
        "\n",
        "# Get the best hyperparameters from the search\n",
        "best_params = grid_search.best_params_\n",
        "\n",
        "# Print the best hyperparameters\n",
        "print(\"\\nBest Hyperparameters:\")\n",
        "for param, value in best_params.items():\n",
        "    print(f\"{param}: {value}\")"
      ],
      "metadata": {
        "colab": {
          "base_uri": "https://localhost:8080/"
        },
        "id": "StCHRb7igAxL",
        "outputId": "0079f609-cfd9-41d2-8d8b-bb1394988e14"
      },
      "execution_count": null,
      "outputs": [
        {
          "output_type": "stream",
          "name": "stdout",
          "text": [
            "\n",
            "Best Hyperparameters:\n",
            "copy_X: True\n",
            "fit_intercept: True\n",
            "positive: False\n"
          ]
        }
      ]
    },
    {
      "cell_type": "markdown",
      "source": [
        "Redefine the model with the best parameters, training, and predicting."
      ],
      "metadata": {
        "id": "ncmT2fglgTmp"
      }
    },
    {
      "cell_type": "code",
      "source": [
        "# Get the best model from the grid search\n",
        "best_model = grid_search.best_estimator_\n",
        "\n",
        "# Train the best model on the training data\n",
        "best_model.fit(X_train, y_train)\n",
        "\n",
        "y_pred_train = best_model.predict(X_train)\n",
        "\n",
        "# Now, you can use the trained model for predictions on new data (X_test)\n",
        "y_pred = best_model.predict(X_test)"
      ],
      "metadata": {
        "id": "lZboQHU9gfoR"
      },
      "execution_count": null,
      "outputs": []
    },
    {
      "cell_type": "code",
      "source": [
        "# Function to calculate and return metrics\n",
        "def calculate_metrics(y_true, y_pred):\n",
        "    metrics = {\n",
        "        'MSE': mean_squared_error(y_true, y_pred),\n",
        "        'RMSE': np.sqrt(mean_squared_error(y_true, y_pred)),\n",
        "        'MAE': mean_absolute_error(y_true, y_pred),\n",
        "        'MAPE': np.mean(np.abs((y_true - y_pred) / y_true)) * 100,\n",
        "        'R²': r2_score(y_true, y_pred)\n",
        "    }\n",
        "    return metrics\n",
        "\n",
        "# Get metrics for training data\n",
        "train_metrics = calculate_metrics(y_train, y_pred_train)\n",
        "\n",
        "# Get metrics for test data\n",
        "test_metrics = calculate_metrics(y_test, y_pred)\n",
        "\n",
        "# Print results in the desired format\n",
        "print(\"LinearRegression - Regression:\")\n",
        "print(f\"Train - MSE: {train_metrics['MSE']:.4f}, RMSE: {train_metrics['RMSE']:.4f}, MAE: {train_metrics['MAE']:.4f}, MAPE: {train_metrics['MAPE']:.4f}%, R²: {train_metrics['R²']:.4f}\")\n",
        "print(f\"Test  - MSE: {test_metrics['MSE']:.4f}, RMSE: {test_metrics['RMSE']:.4f}, MAE: {test_metrics['MAE']:.4f}, MAPE: {test_metrics['MAPE']:.4f}%, R²: {test_metrics['R²']:.4f}\")\n"
      ],
      "metadata": {
        "colab": {
          "base_uri": "https://localhost:8080/"
        },
        "id": "CMNEYvWtg1UK",
        "outputId": "36d8f21f-e586-44b7-8e30-1182ac57811c"
      },
      "execution_count": null,
      "outputs": [
        {
          "output_type": "stream",
          "name": "stdout",
          "text": [
            "LinearRegression - Regression:\n",
            "Train - MSE: 0.2549, RMSE: 0.5048, MAE: 0.3815, MAPE: 5.7125%, R²: 0.8499\n",
            "Test  - MSE: 0.3980, RMSE: 0.6309, MAE: 0.4765, MAPE: 7.2917%, R²: 0.6879\n"
          ]
        }
      ]
    },
    {
      "cell_type": "markdown",
      "source": [
        "The results are identical to non hyperparameter tuning. There was no change in model performance. Reason is because the parameters used are the same as the default which are already near optimal for this model. Any tweaking of parameters will not improve performance."
      ],
      "metadata": {
        "id": "L_GloMB4hbwW"
      }
    },
    {
      "cell_type": "markdown",
      "source": [
        "##RandomForestRegression"
      ],
      "metadata": {
        "id": "MsYRZMo-iD9M"
      }
    },
    {
      "cell_type": "markdown",
      "source": [
        "Check default parameters"
      ],
      "metadata": {
        "id": "gmum8TcuiJ13"
      }
    },
    {
      "cell_type": "code",
      "source": [
        "# Instantiate the RandomForestRegressor model # do not use all or computer will crash\n",
        "rf_reg = RandomForestRegressor(random_state=0)\n",
        "\n",
        "# Get the default hyperparameters\n",
        "default_params = rf_reg.get_params()\n",
        "print(\"Default Hyperparameters for RandomForestRegressor:\")\n",
        "default_params"
      ],
      "metadata": {
        "colab": {
          "base_uri": "https://localhost:8080/"
        },
        "id": "j05yzRKtiKKo",
        "outputId": "c767cd86-4512-43e7-d5cf-30dc1a6018ed"
      },
      "execution_count": null,
      "outputs": [
        {
          "output_type": "stream",
          "name": "stdout",
          "text": [
            "Default Hyperparameters for RandomForestRegressor:\n"
          ]
        },
        {
          "output_type": "execute_result",
          "data": {
            "text/plain": [
              "{'bootstrap': True,\n",
              " 'ccp_alpha': 0.0,\n",
              " 'criterion': 'squared_error',\n",
              " 'max_depth': None,\n",
              " 'max_features': 1.0,\n",
              " 'max_leaf_nodes': None,\n",
              " 'max_samples': None,\n",
              " 'min_impurity_decrease': 0.0,\n",
              " 'min_samples_leaf': 1,\n",
              " 'min_samples_split': 2,\n",
              " 'min_weight_fraction_leaf': 0.0,\n",
              " 'n_estimators': 100,\n",
              " 'n_jobs': None,\n",
              " 'oob_score': False,\n",
              " 'random_state': 0,\n",
              " 'verbose': 0,\n",
              " 'warm_start': False}"
            ]
          },
          "metadata": {},
          "execution_count": 55
        }
      ]
    },
    {
      "cell_type": "markdown",
      "source": [
        "Best Hyperparameters"
      ],
      "metadata": {
        "id": "ENY0EJYvo5A1"
      }
    },
    {
      "cell_type": "code",
      "source": [
        "param_grid = {\n",
        "    'n_estimators': [50, 100, 200],\n",
        "    'max_depth': [None, 10, 20],\n",
        "    'min_samples_split': [2, 5, 10]}\n",
        "\n",
        "from sklearn.model_selection import GridSearchCV\n",
        "\n",
        "# Create a GridSearchCV instance\n",
        "grid_search = GridSearchCV(model, param_grid, cv=5)\n",
        "\n",
        "# Fit the model to perform the search (this will actually train the model with cross-validation)\n",
        "grid_search.fit(X_train, y_train)\n",
        "\n",
        "# Get the best hyperparameters from the search\n",
        "best_params = grid_search.best_params_\n",
        "\n",
        "# Print the best hyperparameters\n",
        "print(\"\\nBest Hyperparameters:\")\n",
        "for param, value in best_params.items():\n",
        "    print(f\"{param}: {value}\")"
      ],
      "metadata": {
        "colab": {
          "base_uri": "https://localhost:8080/"
        },
        "id": "Y4vZ-uyLo5eg",
        "outputId": "80159268-6c92-444d-c5c5-040df8ed2e08"
      },
      "execution_count": null,
      "outputs": [
        {
          "output_type": "stream",
          "name": "stdout",
          "text": [
            "\n",
            "Best Hyperparameters:\n",
            "max_depth: 10\n",
            "min_samples_split: 2\n",
            "n_estimators: 100\n"
          ]
        }
      ]
    },
    {
      "cell_type": "markdown",
      "source": [
        "Redefine the model with the best parameters, training, and predicting."
      ],
      "metadata": {
        "id": "gaooVe4OpjjQ"
      }
    },
    {
      "cell_type": "code",
      "source": [
        "# Get the best model from the grid search\n",
        "best_model = grid_search.best_estimator_\n",
        "\n",
        "# Train the best model on the training data\n",
        "best_model.fit(X_train, y_train)\n",
        "\n",
        "y_pred_train = best_model.predict(X_train)\n",
        "\n",
        "# Now, you can use the trained model for predictions on new data (X_test)\n",
        "y_pred = best_model.predict(X_test)"
      ],
      "metadata": {
        "id": "4MEmem_JpnHd"
      },
      "execution_count": null,
      "outputs": []
    },
    {
      "cell_type": "code",
      "source": [
        "# Redefine with the best parameters\n",
        "best_rf_reg = RandomForestRegressor(\n",
        "    n_estimators=100,\n",
        "    max_depth=10,\n",
        "    min_samples_split=2,\n",
        "    random_state=0\n",
        ")\n",
        "\n",
        "# Train the model on the training data\n",
        "best_rf_reg.fit(X_train, y_train)\n",
        "\n",
        "# Make predictions on the training data\n",
        "y_pred_train = best_rf_reg.predict(X_train)\n",
        "\n",
        "# Make predictions on the testing data\n",
        "y_pred_test = best_rf_reg.predict(X_test)\n",
        "\n",
        "# Function to calculate and return metrics\n",
        "def calculate_metrics(y_true, y_pred):\n",
        "    metrics = {\n",
        "        'MSE': mean_squared_error(y_true, y_pred),\n",
        "        'RMSE': np.sqrt(mean_squared_error(y_true, y_pred)),\n",
        "        'MAE': mean_absolute_error(y_true, y_pred),\n",
        "        'MAPE': np.mean(np.abs((y_true - y_pred) / y_true)) * 100,\n",
        "        'R²': r2_score(y_true, y_pred)\n",
        "    }\n",
        "    return metrics\n",
        "\n",
        "# Get metrics for training data\n",
        "train_metrics = calculate_metrics(y_train, y_pred_train)\n",
        "\n",
        "# Get metrics for testing data\n",
        "test_metrics = calculate_metrics(y_test, y_pred_test)\n",
        "\n",
        "# Print results in the desired format\n",
        "print(\"RandomForestRegressor - Regression:\")\n",
        "print(f\"Train - MSE: {train_metrics['MSE']:.4f}, RMSE: {train_metrics['RMSE']:.4f}, MAE: {train_metrics['MAE']:.4f}, MAPE: {train_metrics['MAPE']:.4f}%, R²: {train_metrics['R²']:.4f}\")\n",
        "print(f\"Test  - MSE: {test_metrics['MSE']:.4f}, RMSE: {test_metrics['RMSE']:.4f}, MAE: {test_metrics['MAE']:.4f}, MAPE: {test_metrics['MAPE']:.4f}%, R²: {test_metrics['R²']:.4f}\")\n"
      ],
      "metadata": {
        "colab": {
          "base_uri": "https://localhost:8080/"
        },
        "id": "qlahVAgXqepH",
        "outputId": "1b589e8b-17fe-4d1e-d525-fe19211892ab"
      },
      "execution_count": null,
      "outputs": [
        {
          "output_type": "stream",
          "name": "stdout",
          "text": [
            "RandomForestRegressor - Regression:\n",
            "Train - MSE: 0.0261, RMSE: 0.1616, MAE: 0.1103, MAPE: 1.6881%, R²: 0.9846\n",
            "Test  - MSE: 0.1431, RMSE: 0.3783, MAE: 0.2718, MAPE: 4.0925%, R²: 0.8878\n"
          ]
        }
      ]
    },
    {
      "cell_type": "markdown",
      "source": [
        "The tuning has very small metric improvements on the training. The testing metrics show a slight improvement. The hyperparamter adjustments are not noteworthy."
      ],
      "metadata": {
        "id": "STpvmY_Jq2_9"
      }
    },
    {
      "cell_type": "markdown",
      "source": [
        "#Summary"
      ],
      "metadata": {
        "id": "cbRgZGzJsXDY"
      }
    },
    {
      "cell_type": "markdown",
      "source": [
        "# Regression Model Comparison\n",
        "\n",
        "| Metric | LinearRegression | | | | RandomForestRegressor | | | |\n",
        "|--------|------------------|------------------|------------------|------------------|------------------|------------------|------------------|------------------|\n",
        "|        | Without Tuning   |                  | With Tuning      |                  | Without Tuning   |                  | With Tuning      |                  |\n",
        "|        | Train            | Test             | Train            | Test             | Train            | Test             | Train            | Test             |\n",
        "| R^2    | 0.8499           | 0.6879           | 0.8499           | 0.6879           | 0.9847           | 0.8872           | 0.9846           | 0.8878           |\n",
        "| MAPE   | 5.7125%          | 7.2917%          | 5.7125%          | 7.2917%          | 1.6886%          | 4.1036%          | 1.6881%          | 4.0925%          |\n",
        "| MAE    | 0.3815           | 0.4765           | 0.3815           | 0.4765           | 0.1104           | 0.2729           | 0.1103           | 0.2718           |\n",
        "| RMSE   | 0.5048           | 0.6309           | 0.5048           | 0.6309           | 0.1614           | 0.3792           | 0.1616           | 0.3783           |\n",
        "| MSE    | 0.2549           | 0.3980           | 0.2549           | 0.3980           | 0.0260           | 0.1438           | 0.0261           | 0.1431           |\n",
        "\n",
        "<br>\n",
        "R^2 = accuracy<br>\n",
        "MAPE = error<br>"
      ],
      "metadata": {
        "id": "mJaQmcGeU_3F"
      }
    },
    {
      "cell_type": "markdown",
      "source": [
        "**Before/After tuning**\n",
        "\n",
        "- Before tuning\n",
        "  - Random Forest Regressor metrics illustrated a good fit, but not the best performance for testing set.\n",
        "  - Both may be overfitted (Train has higher R^2 than test, train has lower MAPE than test and confirmed by other metrics)\n",
        "\n",
        "- After tuning\n",
        "  - Random Forest Regressor showed slight improvements though not monumental.\n",
        "  - Linear Regression metrics remained identical, indicating the default model was already very well tuned.<br>\n",
        "\n",
        "**Benchmarking**\n",
        "- Linear Regression\n",
        "  - Simpler model\n",
        "  - Consistent metrics indicating stability with default parameters\n",
        "\n",
        "- Random Forest Regressor\n",
        "  - More complex model\n",
        "  - Slight improvements after tuning, showing tuning can have marginal gains\n",
        "<br>\n",
        "\n",
        "**Comparison**\n",
        "- Metrics\n",
        "  - Random Forest performs better in terms of R^2, MSE, RMSE. The slight improvement after tuning indicates the model benefits from tuning adjustments, although minor.\n",
        "- Complexity\n",
        "  - Random Forest is more complex with more parameters to tune and can fit more complex patterns in the data.\n",
        "  - Linear Regression is simpler and may not capture complex patterns.\n",
        "<br>\n",
        "\n",
        "**Which Model is better**\n",
        "\n",
        "- Here, Random Forest Regressor is better regarding the performance metrics (MSE, RMSE, R^2).\n",
        "- The slight improvement after tuning for Random Forest Regressor suggests the model benefits from hyperparameter adjustments, although slightly.\n",
        "\n"
      ],
      "metadata": {
        "id": "dppTLwXVsYVL"
      }
    }
  ]
}