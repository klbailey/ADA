{
  "nbformat": 4,
  "nbformat_minor": 0,
  "metadata": {
    "colab": {
      "provenance": []
    },
    "kernelspec": {
      "name": "python3",
      "display_name": "Python 3"
    },
    "language_info": {
      "name": "python"
    }
  },
  "cells": [
    {
      "cell_type": "markdown",
      "source": [
        "#Part 1: CONCEPTUAL QUESTIONS"
      ],
      "metadata": {
        "id": "aoVSAgLkv58Y"
      }
    },
    {
      "cell_type": "markdown",
      "source": [
        "1. What differs data science from data analytics?"
      ],
      "metadata": {
        "id": "jhCQAxoXwAKl"
      }
    },
    {
      "cell_type": "markdown",
      "source": [
        "Data science encompasses a broader scope, involving complex data processing, predictive modeling, and the creation of algorithms. Data analytics focuses on examining datasets to derive insights and support decision-making through analysis and visualization.\n",
        "\n",
        "Data science creates tools and methods; data analytics applies them to specific problems.\n"
      ],
      "metadata": {
        "id": "3Ix0ngBMA7U8"
      }
    },
    {
      "cell_type": "markdown",
      "source": [
        "2. Between mean and median, what do you think is more sensitive to outliers? Why?"
      ],
      "metadata": {
        "id": "mgSDNoktwJjt"
      }
    },
    {
      "cell_type": "markdown",
      "source": [
        "The mean is more sensitive to outliers than the median because it considers all values in the dataset, including extreme ones, which can skew the average significantly. The median represents the middle value and remains relatively unaffected by outliers."
      ],
      "metadata": {
        "id": "_SQHeNr0BMcH"
      }
    },
    {
      "cell_type": "markdown",
      "source": [
        "3. Is correlation also causation? Why or why not?"
      ],
      "metadata": {
        "id": "pK3s_nqawsqr"
      }
    },
    {
      "cell_type": "markdown",
      "source": [
        "No. Correlation indicates a relationship/association between two variables, meaning they tend to move together in some way, but it does not prove that one variable causes the other. There may be other underlying factors or variables influencing both correlated variables, or the observed correlation could be coincidental."
      ],
      "metadata": {
        "id": "lD1ThC5-BdOe"
      }
    },
    {
      "cell_type": "markdown",
      "source": [
        "#Part 2: Correlation Coefficients\n",
        "\n",
        "Interpret the following in terms of mean, std, and correlation coefficient:"
      ],
      "metadata": {
        "id": "jyE5HsPAwYDX"
      }
    },
    {
      "cell_type": "code",
      "source": [
        "import numpy as np\n",
        "\n",
        "# Manually create a dataset with 15 observations\n",
        "coffee_consumption = [2, 4, 1, 5, 3, 1, 3, 2, 4, 5, 1, 4, 3, 2, 5]\n",
        "productivity_scores = [60, 75, 50, 80, 70, 55, 65, 60, 72, 85, 48, 78, 68, 58, 90]\n",
        "\n",
        "# Calculate the mean and standard deviation for both arrays\n",
        "mean_coffee = np.mean(coffee_consumption)\n",
        "std_coffee = np.std(coffee_consumption)\n",
        "mean_productivity = np.mean(productivity_scores)\n",
        "std_productivity = np.std(productivity_scores)\n",
        "\n",
        "# Calculate the correlation coefficient between coffee consumption and productivity scores\n",
        "# 2 and 60, 4 and 75, 1 and 50...5 and 90 then calculates how closely paired values align on a linear scale\n",
        "# This coefficient is a single number that represents overall relationship between consumption and productivity scores in dataset\n",
        "correlation_coefficient = np.corrcoef(coffee_consumption, productivity_scores)[0, 1]\n",
        "\n",
        "(mean_coffee, std_coffee, mean_productivity, std_productivity, correlation_coefficient)\n",
        "\n",
        "# On average coffee consumption in dataset is 3 - individuals in dataset consume 3 units of coffee\n",
        "# std is 1.41 for coffee. It seems high compared to mean of 3 - variability to coffee consumption amongst individuals in dataset?\n",
        "# On average productivity (mean) of 67.6\n",
        "# std of productivity is 12; Most scores lie around 12 points above or below mean of 67.6; seems high\n",
        "# productivity ranges 48-90 w/15 in array (42 points) With std of 12 there's considerable variability"
      ],
      "metadata": {
        "id": "vC6TcoOziVXy",
        "colab": {
          "base_uri": "https://localhost:8080/"
        },
        "outputId": "a5c773f9-f32f-4ecb-b203-2578c692612c"
      },
      "execution_count": null,
      "outputs": [
        {
          "output_type": "execute_result",
          "data": {
            "text/plain": [
              "(3.0, 1.4142135623730951, 67.6, 12.147976511885973, 0.9740102362132356)"
            ]
          },
          "metadata": {},
          "execution_count": 5
        }
      ]
    },
    {
      "cell_type": "markdown",
      "source": [
        "[INTERPRETATION HERE]"
      ],
      "metadata": {
        "id": "oHLqsA8-iXPy"
      }
    },
    {
      "cell_type": "code",
      "source": [
        "import numpy as np\n",
        "\n",
        "# Manually create a dataset with 15 observations\n",
        "hours_of_tv = [2, 3, 2, 4, 5, 1, 3, 2, 4, 5, 1, 4, 3, 2, 5]\n",
        "grades = [78, 80, 75, 82, 85, 70, 79, 77, 81, 88, 69, 84, 79, 76, 87]\n",
        "\n",
        "# Calculate the mean and standard deviation for both arrays\n",
        "mean_hours_of_tv = np.mean(hours_of_tv)\n",
        "std_hours_of_tv = np.std(hours_of_tv)\n",
        "mean_grades = np.mean(grades)\n",
        "std_grades = np.std(grades)\n",
        "\n",
        "# Calculate the correlation coefficient between hours of tv and grades\n",
        "correlation_coefficient = np.corrcoef(hours_of_tv, grades)[0, 1]\n",
        "\n",
        "(mean_hours_of_tv, std_hours_of_tv, mean_grades, std_grades, correlation_coefficient)"
      ],
      "metadata": {
        "id": "rZ6S9Ggqkjcb",
        "colab": {
          "base_uri": "https://localhost:8080/"
        },
        "outputId": "959b9cda-1bd5-4966-be4f-29d3a74bf101"
      },
      "execution_count": null,
      "outputs": [
        {
          "output_type": "execute_result",
          "data": {
            "text/plain": [
              "(3.066666666666667,\n",
              " 1.339983416149452,\n",
              " 79.33333333333333,\n",
              " 5.3499740393970345,\n",
              " 0.9640438248749076)"
            ]
          },
          "metadata": {},
          "execution_count": 4
        }
      ]
    },
    {
      "cell_type": "markdown",
      "source": [
        "Average of 3.07 hours of TV watching with standard deviation of 1.34 hours.\n",
        "\n",
        "Average grade around 79.33 with standard deviation of 5.35.\n",
        "\n",
        "High correlation of 0.964 a strong positive linear relationship between hours of TV watched and grades achieved. Yay, increased hours of TV watched - increased grades. This is because 0.964 is close to 1."
      ],
      "metadata": {
        "id": "8QiJUGsiIjjF"
      }
    },
    {
      "cell_type": "markdown",
      "source": [
        "[INTERPRETATION HERE]"
      ],
      "metadata": {
        "id": "WYIPrQMXlgyx"
      }
    },
    {
      "cell_type": "code",
      "source": [
        "import numpy as np\n",
        "\n",
        "# Manually create a dataset with 15 observations\n",
        "x = [1, 2, 3, 4, 5, 6, 7, 8, 9, 10, 11, 12, 13, 14, 15]\n",
        "y = [2, 4, 6, 8, 45, 12, 14, 45, 18, 20, 22, 24, 46, 28, 45]\n",
        "\n",
        "# Calculate the mean and standard deviation for both arrays\n",
        "mean_x = np.mean(x)\n",
        "std_x = np.std(x)\n",
        "mean_y = np.mean(y)\n",
        "std_y = np.std(y)\n",
        "\n",
        "# Calculate the correlation coefficient between hours of tv and grades\n",
        "correlation_coefficient = np.corrcoef(x, y)[0, 1]\n",
        "\n",
        "(mean_x, std_x, mean_y, std_y, correlation_coefficient)"
      ],
      "metadata": {
        "id": "_pyABdo5lL5h",
        "colab": {
          "base_uri": "https://localhost:8080/"
        },
        "outputId": "94c0bd37-3c64-4c86-cf49-11d88acbdaa7"
      },
      "execution_count": null,
      "outputs": [
        {
          "output_type": "execute_result",
          "data": {
            "text/plain": [
              "(8.0, 4.320493798938574, 22.6, 15.400432894348565, 0.6612814826286639)"
            ]
          },
          "metadata": {},
          "execution_count": 6
        }
      ]
    },
    {
      "cell_type": "markdown",
      "source": [
        "x: 8 mean, 4.32 std; y: 22.6 mean, 15.4 std; corr coeff: 0.661\n",
        "\n",
        "Moderate positive linear relationship between x and y; as x increases, y tend to increase with some variability."
      ],
      "metadata": {
        "id": "1GH828N7LRko"
      }
    },
    {
      "cell_type": "markdown",
      "source": [
        "[INTERPRETATION HERE]"
      ],
      "metadata": {
        "id": "rYqHlyZnlhRQ"
      }
    },
    {
      "cell_type": "markdown",
      "source": [
        "#Part 3: Probability"
      ],
      "metadata": {
        "id": "iOOmhfxpisKM"
      }
    },
    {
      "cell_type": "markdown",
      "source": [
        "1. Find the probability of getting a numbered card when a card is drawn from the pack of 52 cards."
      ],
      "metadata": {
        "id": "xrrtopjPi1K8"
      }
    },
    {
      "cell_type": "markdown",
      "source": [
        "Probability of an event happening = Number of ways it can happen / Total number of outcomes\n",
        "\n",
        "OR\n",
        "\n",
        "Probability = Number of numbered cards / Total numbers of cards\n",
        "\n",
        "36/52 = .6923 = **69.23%**"
      ],
      "metadata": {
        "id": "skkRNokhMkrz"
      }
    },
    {
      "cell_type": "markdown",
      "source": [
        "2. You have a bag containing 8 red balls, 5 green balls, and 3 blue balls. If you randomly draw two balls without replacement, what is the probability that both balls are green?"
      ],
      "metadata": {
        "id": "x5bpWYELkXB6"
      }
    },
    {
      "cell_type": "markdown",
      "source": [
        "Total number of balls = 8 red + 5 green + 3 blue = 16;\n",
        "\n",
        "Probability of green ball on first draw is 5/16;\n",
        "\n",
        "Probability of green ball on 2nd draw provided green ball drawn on first draw is 4/15 (4 green left, 15 total left after first draw).\n",
        "\n",
        "Probability = 5/16 X 4/15 = 20/240 = 1/12 = .0833 = **8.33%**"
      ],
      "metadata": {
        "id": "lh5wfd9XNnfB"
      }
    },
    {
      "cell_type": "markdown",
      "source": [],
      "metadata": {
        "id": "L5UWX31iNd5F"
      }
    },
    {
      "cell_type": "markdown",
      "source": [
        "3. You roll a six-sided die. What is the probability of rolling an even number or a number greater than 4?"
      ],
      "metadata": {
        "id": "aagdYeb7mUi6"
      }
    },
    {
      "cell_type": "markdown",
      "source": [
        "6 sides (possible outcomes); 3 even numbers (2,4,6); 3 odd numbers (1,3,5); Numbers > 4 (5, 6). Don't count 6 twice (even and >4).\n",
        "\n",
        "Probability = Favorable outcomes / Total outcomes\n",
        "\n",
        "3 + 2 -1 / 6 (3 even numbers, 2 numbers > 4, -1 so we don't count 6 twice)\n",
        "4/6 = .6666 = **66.67%**"
      ],
      "metadata": {
        "id": "r-RU-QsQQviG"
      }
    }
  ]
}