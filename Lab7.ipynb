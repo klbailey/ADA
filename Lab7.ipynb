{
  "nbformat": 4,
  "nbformat_minor": 0,
  "metadata": {
    "colab": {
      "provenance": [],
      "authorship_tag": "ABX9TyOy46VCHfq7DUPgLTbZNbnA"
    },
    "kernelspec": {
      "name": "python3",
      "display_name": "Python 3"
    },
    "language_info": {
      "name": "python"
    }
  },
  "cells": [
    {
      "cell_type": "markdown",
      "source": [
        "1. You roll a fair six-sided die. What is the probability of rolling a 3 on the first roll and a 5 on the second roll? (Assume each roll is independent.)"
      ],
      "metadata": {
        "id": "LTRhNdn_PRvw"
      }
    },
    {
      "cell_type": "code",
      "execution_count": null,
      "metadata": {
        "colab": {
          "base_uri": "https://localhost:8080/"
        },
        "id": "glrsjXpMMTwb",
        "outputId": "c46b7cf6-c6ca-4bf7-bef7-0c3a4c6bf95c"
      },
      "outputs": [
        {
          "output_type": "stream",
          "name": "stdout",
          "text": [
            "The probability of rolling a 3 on the first roll and a 5 on the second roll is: 0.027777777777777776\n",
            "The probability as a fraction is: 1/36\n"
          ]
        }
      ],
      "source": [
        "import numpy as np\n",
        "\n",
        "#  P(X and Y) = P(X) * P(Y) = 1/6 X 1/6 = 1/36\n",
        "# Define the probability of rolling any specific number on a six-sided die\n",
        "P_X = 1 / 6  # Probability of rolling a 3 on the first roll\n",
        "P_Y = 1 / 6  # Probability of rolling a 5 on the second roll\n",
        "\n",
        "# Calculate the combined probability of both independent events happening\n",
        "P_X_and_Y = P_X * P_Y\n",
        "\n",
        "# Print the result in decimal form\n",
        "print(f\"The probability of rolling a 3 on the first roll and a 5 on the second roll is: {P_X_and_Y}\")\n",
        "\n",
        "# Print the result as a fraction\n",
        "from fractions import Fraction\n",
        "fractional_result = Fraction(1, 6) * Fraction(1, 6)\n",
        "print(f\"The probability as a fraction is: {fractional_result}\")\n"
      ]
    },
    {
      "cell_type": "markdown",
      "source": [
        "2. You have a bag with six marbles: three red marbles and three blue marbles. If you draw a marble, record its color, and then do not put it back into the bag before drawing another marble. What is the probability of the following?"
      ],
      "metadata": {
        "id": "KlEnEEf5PXNQ"
      }
    },
    {
      "cell_type": "markdown",
      "source": [
        "a. What is the probability of drawing a red marble on the first draw?"
      ],
      "metadata": {
        "id": "1o4G3QY5Ph16"
      }
    },
    {
      "cell_type": "markdown",
      "source": [
        "Mutually Exclusive\n",
        "\n",
        "P(A and B) = 0 and P(X or Y) = P(X) + P(Y)\n",
        "\n",
        "Total marbles: 6 (3 red, 3 blue)\n",
        "\n",
        "Event A: Draw a red marble on first draw\n",
        "\n",
        "Event B: Draw a blue marble on first draw\n",
        "\n",
        "**Probability of Event A: P(A) = # of red marbles / Total number of marbles = 3/6 = 1/2 or 0.5**\n",
        "\n",
        "P(A and B) = 0 probability of drawing red and blue marble on first draw is 0 (can only draw 1 at a time)\n",
        "\n",
        "P(X or Y) = P(X) + P(Y): P(Red or Blue on 1st draw) = P(Red) + P(Blue); P(Red) = 3/6 = 1/2; P(Blue) = 3/6 = 1/2;\n",
        "\n",
        "Only 2 possible outcomes for first draw: P(Red or Blue on first draw = 1/2 + 1/2 = 1)"
      ],
      "metadata": {
        "id": "a6UFvA0rSDnD"
      }
    },
    {
      "cell_type": "markdown",
      "source": [],
      "metadata": {
        "id": "HTYzBEm2aZig"
      }
    },
    {
      "cell_type": "markdown",
      "source": [
        "b. What is the probability of drawing a blue marble on the second draw after drawing a red marble on the first draw?"
      ],
      "metadata": {
        "id": "HkqF8_dFSocq"
      }
    },
    {
      "cell_type": "markdown",
      "source": [
        "Sequential and Conditional Probability: probabililty of second event depends on the outcome of the first event - DEPENDENT EVENTS\n",
        "\n",
        "P(X and Y) = P(X) * P(Y after X has occurred)\n",
        "\n",
        "P(X and Y) = 1/2 * 3/5 = **3/10**\n",
        "\n",
        "1/2 was provided in 2a; and 3/5 is due to: marbles(2 red, 3 blue); 3 blue / 5 left\n",
        "\n",
        "\n",
        "\n"
      ],
      "metadata": {
        "id": "AMBSIoroSs1T"
      }
    },
    {
      "cell_type": "markdown",
      "source": [
        "c. Calculate the probability of both events occurring (drawing a red marble on the first draw and a blue marble on the second draw)."
      ],
      "metadata": {
        "id": "ndiKwtI3XHjJ"
      }
    },
    {
      "cell_type": "markdown",
      "source": [
        "P(A and B)=P(A) × P(B∣A)\n",
        "\n",
        "Probability of Drawing Red on 1st draw as provided in 2a: 1/2.\n",
        "\n",
        "Probability of Drawing Blue on 2nd draw given red drawn first event as provided in 2b: 3/10.\n",
        "\n",
        "Join probability of both events (red on 1st and blue on 2nd draw):\n",
        "\n",
        "P(A and B) = 1/2 X 3/10 = **3/20**\n",
        "\n",
        "\n"
      ],
      "metadata": {
        "id": "oifb-ofOXPca"
      }
    },
    {
      "cell_type": "markdown",
      "source": [
        "3. You flip a fair coin. What is the probability of getting heads or tails?"
      ],
      "metadata": {
        "id": "19T0IOwDcdAw"
      }
    },
    {
      "cell_type": "markdown",
      "source": [
        "Outcome of getting heads and getting tails are mutually exclusive\n",
        "\n",
        "P(X or Y) = P(X) + P(Y) - P(X and Y)\n",
        "\n",
        "Event X: Get heads\n",
        "Event Y: Get tails\n",
        "\n",
        "P(heads or tails) = P(X) + P(Y) - P(X and Y) = 1/2 + 1/2 -0 = 1/2 + 1/2 = **1 or 100%** The -0 is the probability of both heads and tails on a single flip"
      ],
      "metadata": {
        "id": "V16WXBgLcniU"
      }
    },
    {
      "cell_type": "markdown",
      "source": [
        "4. In a deck of 52 cards, what is the probability of drawing either a spade or a face card (king, queen, or jack)?"
      ],
      "metadata": {
        "id": "JbqSurIFelni"
      }
    },
    {
      "cell_type": "markdown",
      "source": [
        "Deck of 52 cards\n",
        "\n",
        "Number of Face Cards: 12\n",
        "\n",
        "Number of spades: 13\n",
        "\n",
        "Number that are both spades and faces: 3\n",
        "\n",
        "Inclusion-Exclusion\n",
        "\n",
        "Number of spades + Number of faces - Number of cards that are both\n",
        "\n",
        "13 + 12 - 3 = 22\n",
        "\n",
        "P(spade or face) = number of spades or faces/total number of cards = 22/52 = **11/26**\n",
        "\n"
      ],
      "metadata": {
        "id": "QPYHBak3esZb"
      }
    }
  ]
}