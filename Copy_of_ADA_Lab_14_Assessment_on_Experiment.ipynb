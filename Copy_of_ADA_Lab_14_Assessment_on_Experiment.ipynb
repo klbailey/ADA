{
  "nbformat": 4,
  "nbformat_minor": 0,
  "metadata": {
    "colab": {
      "provenance": []
    },
    "kernelspec": {
      "name": "python3",
      "display_name": "Python 3"
    },
    "language_info": {
      "name": "python"
    }
  },
  "cells": [
    {
      "cell_type": "markdown",
      "source": [
        "##PART 1\n",
        "\n",
        "Here are eight challenge scenarios that you can consider, identify variables:"
      ],
      "metadata": {
        "id": "bjR1qZ2VwHc2"
      }
    },
    {
      "cell_type": "markdown",
      "source": [
        "1. Scenario: Students are investigating the impact of different study environments on memory retention."
      ],
      "metadata": {
        "id": "pE0ryH_RwMBv"
      }
    },
    {
      "cell_type": "markdown",
      "source": [
        "Independent Variable (variables you can change or manipulate to observe their effect on memory retention): The type of study environment (eg quiet room, noisy room); time of day studying takes place (morning/afternoon/evening); lighting conditions (bright/natural); study duration; study material (audio/video/text).\n",
        "\n",
        "Dependent Variable (variables measured to determine the effect of independent variables): Memory retention, how it is measured (quizzes, tests, number of items remembered, identifying previously studied material, long-term retention perhaps a test after a day, a week, etc., metrics of accuracy/speed/number of errors).\n",
        "\n",
        "Confounding Variable (unrelated variables that may affect the dependent variables/potentially distort the experiment result if not accounted for): Individual study habits, prior knowledge of students (these may influence memory retention independent of study environment).\n",
        "\n",
        "Controlled Variable (constant variables to ensure effect on the dependent variable is due to manipulation of the independent variable alone): study material, study duration, time of day, student demographics like age, gender, prior academic performance, to ensure differences in memory retention are due to the study environment rather than other factors."
      ],
      "metadata": {
        "id": "bFYf5NLwkL8W"
      }
    },
    {
      "cell_type": "markdown",
      "source": [
        "2. Scenario: Researchers are exploring the effects of a new educational app on learning outcomes in a diverse group of students."
      ],
      "metadata": {
        "id": "_2X8pOaOwOpD"
      }
    },
    {
      "cell_type": "markdown",
      "source": [
        "Independent Variable (variables you can change or manipulate to observe their effect): The frequency of app usage (daily/weekly), duration of session, type of content (interactive, quizzes).\n",
        "\n",
        "Dependent Variable (variables measured to determine the effect of independent variables): outcome of learning (test scores, grade improvement, long-term retention rate test after a delay, time spent on the app, completion of levels).\n",
        "\n",
        "Confounding Variable (unrelated variables that may affect the dependent variables/potentially distort the experiment result if not accounted for): prior knowledge, level of motivation, access to technology at home, support at home.\n",
        "\n",
        "Controlled Variable (constant variables to ensure effect on the dependent variable is due to manipulation of the independent variable alone): like curriculum, like study environment, equal tech access, consistent time of instruction, balance of demographics."
      ],
      "metadata": {
        "id": "80_PSo4Rzi-6"
      }
    },
    {
      "cell_type": "markdown",
      "source": [
        "3. Scenario: Investigating the influence of different smartphone notification settings on productivity.?"
      ],
      "metadata": {
        "id": "axb-mITcwVsP"
      }
    },
    {
      "cell_type": "markdown",
      "source": [
        "Independent Variable (variables you can change or manipulate to observe their effect): Sound versus silent mode, vibration or no vibration, type (email, apps), how many notifications received.\n",
        "\n",
        "Dependent Variable (variables measured to determine the effect of independent variables): Measure productivity: time to complete a task, quantity and quality and accuracy of tasks completed, distractions.\n",
        "\n",
        "Confounding Variable (unrelated variables that may affect the dependent variables/potentially distort the experiment result if not accounted for): Known productivity level prior to experiment, settings vary during time of day, familiarity of notifications, work environment, different levels of focus.\n",
        "\n",
        "Controlled Variable (constant variables to ensure effect on the dependent variable is due to manipulation of the independent variable alone): Same type of phone, other apps are consistent, a balanced demographic group."
      ],
      "metadata": {
        "id": "HAXqmqB08R8Z"
      }
    },
    {
      "cell_type": "markdown",
      "source": [
        "4. Scenario: Students are studying the impact of peer pressure on decision-making."
      ],
      "metadata": {
        "id": "B26x4sCOwX5E"
      }
    },
    {
      "cell_type": "markdown",
      "source": [
        "Independent Variable (variables you can change or manipulate to observe their effect): Absence vs presence of pressure, the level of pressure from low to medium to high, the type of pressure - positive or not.\n",
        "\n",
        "Dependent Variable (variables measured to determine the effect of independent variables): decision outcomes - the quality of decision making, willing to take risks, independent or pressure influenced decision.\n",
        "\n",
        "Confounding Variable (unrelated variables that may affect the dependent variables/potentially distort the experiment result if not accounted for): variation in student personality, past, environment, emotions.\n",
        "\n",
        "Controlled Variable (constant variables to ensure effect on the dependent variable is due to manipulation of the independent variable alone): Consistency in: peer groups, ease/difficulty of task, group demographics, environment."
      ],
      "metadata": {
        "id": "nUctIUbaAn8X"
      }
    },
    {
      "cell_type": "markdown",
      "source": [
        "5. Scenario: Researchers are using surveys to assess the relationship between sleep patterns and academic performance."
      ],
      "metadata": {
        "id": "itQTxZrYwZ0d"
      }
    },
    {
      "cell_type": "markdown",
      "source": [
        "Independent Variable (variables you can change or manipulate to observe their effect): Patterns: duration/number of hours slept per night, rate poor/good/great, time sleep starts and ends.\n",
        "\n",
        "Dependent Variable (variables measured to determine the effect of independent variables): academic performanc measures: scores, GPA, individual class grade(s), attendance.\n",
        "\n",
        "Confounding Variable (unrelated variables that may affect the dependent variables/potentially distort the experiment result if not accounted for): health, stress, study habits, motivation.\n",
        "\n",
        "Controlled Variable (constant variables to ensure effect on the dependent variable is due to manipulation of the independent variable alone): group demographics, environment, schedule, support."
      ],
      "metadata": {
        "id": "jJw2Jm9MEqtZ"
      }
    },
    {
      "cell_type": "markdown",
      "source": [
        "6. Scenario: Investigating the relationship between different exercise routines and physical fitness."
      ],
      "metadata": {
        "id": "73FBHVN0whCi"
      }
    },
    {
      "cell_type": "markdown",
      "source": [
        "Independent Variable (variables you can change or manipulate to observe their effect): routines: the type of exercies, is it low/medium/high intensity, duration, how many times a day/week.\n",
        "\n",
        "Dependent Variable (variables measured to determine the effect of independent variables): Fitness measures: cardio, strength, flexibility, health.\n",
        "\n",
        "Confounding Variable (unrelated variables that may affect the dependent variables/potentially distort the experiment result if not accounted for): nutrition habits, adherence to exercise routine, demographics (health/age/fitness level at beginning), motivation.\n",
        "\n",
        "Controlled Variable (constant variables to ensure effect on the dependent variable is due to manipulation of the independent variable alone): standard setting/equiment use, monitoring, time of day, consistent time period."
      ],
      "metadata": {
        "id": "y6QmU8qsGDJo"
      }
    },
    {
      "cell_type": "markdown",
      "source": [
        "7. Scenario: Researchers are examining the effects of a new teaching method on student performance, involving manipulation of teacher behavior."
      ],
      "metadata": {
        "id": "MZYC8UOswjP5"
      }
    },
    {
      "cell_type": "markdown",
      "source": [
        "Independent Variable (variables you can change or manipulate to observe their effect): Teaching method: conventional, new, teacher behavior.\n",
        "\n",
        "Dependent Variable (variables measured to determine the effect of independent variables): Student measures: scores, assignment completion, retention long term, satisfaction.\n",
        "\n",
        "Confounding Variable (unrelated variables that may affect the dependent variables/potentially distort the experiment result if not accounted for): teacher experience, curricullum, class environment, student motivation and demographics.\n",
        "\n",
        "Controlled Variable (constant variables to ensure effect on the dependent variable is due to manipulation of the independent variable alone): Teacher training, student support, consistency in class resources."
      ],
      "metadata": {
        "id": "kPbzyWN6HF_y"
      }
    },
    {
      "cell_type": "markdown",
      "source": [
        "8. Scenario: Students are exploring the impact of environmental factors on mood changes."
      ],
      "metadata": {
        "id": "tzNiAd90wn5C"
      }
    },
    {
      "cell_type": "markdown",
      "source": [
        "Independent Variable (variables you can change or manipulate to observe their effect): environment: lighting (natural/indoor), level of noise, physical/space environment, temperature.\n",
        "\n",
        "Dependent Variable (variables measured to determine the effect of independent variables): Change of mood: anxiety, productivity, level of energy.\n",
        "\n",
        "Confounding Variable (unrelated variables that may affect the dependent variables/potentially distort the experiment result if not accounted for): External stress, support, health, prior experiences.\n",
        "\n",
        "Controlled Variable (constant variables to ensure effect on the dependent variable is due to manipulation of the independent variable alone): Assess at consistent times, balanced demographics."
      ],
      "metadata": {
        "id": "ynfFh7pXH8Nb"
      }
    },
    {
      "cell_type": "markdown",
      "source": [
        "##PART 2\n",
        "\n",
        "Conceptualize 2 experimental designs. Explain how you would conduct it in terms of:\n",
        "\n",
        "1. What variables would it involved?\n",
        "2. How would you gather the data?\n",
        "3. How would you measure the variables?\n",
        "4. How would you ensure a valid, unbiased, and informative results?"
      ],
      "metadata": {
        "id": "raF0S4eXxTHG"
      }
    },
    {
      "cell_type": "markdown",
      "source": [
        "**1. Natural Environment**\n",
        "\n",
        "Variables:\n",
        "\n",
        "Independent: exposure to nature (indoor vs outdoor)\n",
        "<br>\n",
        "Dependent: mood changes (happiness, relaxed)\n",
        "<br>\n",
        "Controlled: weather, noise level, time of day\n",
        "<br><br>\n",
        "Gather Data:<br>\n",
        "Surveys, observe behavior, experiment with exposure to natural environments.<br><br>Measure:<br>Record the time spent outdoors and the environment(are there plants and grass and trees, natural light).\n",
        "\n",
        "Ensuring valid, unbiased, informative results:<br>\n",
        "Have participants randomly assigned to indoor vs oudoor exposure<br>Conduct assessment to follow up over a few days for observation of any sustained effects of exposure to natural environment."
      ],
      "metadata": {
        "id": "70_gmAhlJCOS"
      }
    },
    {
      "cell_type": "markdown",
      "source": [
        "**2. Noise Level**\n",
        "\n",
        "Variables:\n",
        "\n",
        "Independent: Noise level (quiet vs noisy)<br>Dependent: mood changes (levels of energy/stress)<br>Controlled: Lighting, climate/temperature, kind of noise.\n",
        "\n",
        "Gather Data:<br> Collect data on controlled experiment with different noise levels, monitor physical indicators such has heart rate, conduct survey before and after exposure to noise variations.\n",
        "\n",
        "Measure:<br>Equipment to measure noise.\n",
        "\n",
        "\n",
        "Ensuring valid, unbiased, informative results:\n",
        "\n",
        "Have participants randomly assigned to quiet or noisy conditions<br>Ensure participants are able to participate in quiet and noisy experiences<br>Consistent environment conditions"
      ],
      "metadata": {
        "id": "uItVygjTMPzM"
      }
    }
  ]
}