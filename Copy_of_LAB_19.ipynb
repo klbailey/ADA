{
  "nbformat": 4,
  "nbformat_minor": 0,
  "metadata": {
    "colab": {
      "provenance": [],
      "include_colab_link": true
    },
    "kernelspec": {
      "name": "python3",
      "display_name": "Python 3"
    },
    "language_info": {
      "name": "python"
    }
  },
  "cells": [
    {
      "cell_type": "markdown",
      "metadata": {
        "id": "view-in-github",
        "colab_type": "text"
      },
      "source": [
        "<a href=\"https://colab.research.google.com/github/klbailey/ADA/blob/main/Copy_of_LAB_19.ipynb\" target=\"_parent\"><img src=\"https://colab.research.google.com/assets/colab-badge.svg\" alt=\"Open In Colab\"/></a>"
      ]
    },
    {
      "cell_type": "markdown",
      "source": [
        "#LAB 19\n",
        "\n",
        "Use train.csv from here https://www.kaggle.com/competitions/titanic/data?select=train.csv. Run a logistic Regression Model following these crucial steps.\n",
        "\n",
        "1. Replace 'male' with 1 and 'female' with 0 in the 'Sex' column.\n",
        "2. Have Sex and Age as your Independent Variables (Predictors) and Survived as your DV.\n",
        "\n",
        "IMPORTANT NOTE: You will encounter this error *\"MissingDataError: exog contains inf or nans\"* Figure out what it says, figure out how to get past it. The hint is on the error name itself."
      ],
      "metadata": {
        "id": "I5K5_8XB6xnL"
      }
    },
    {
      "cell_type": "markdown",
      "source": [
        "Import Libraries"
      ],
      "metadata": {
        "id": "qSXPiH9iCNKr"
      }
    },
    {
      "cell_type": "code",
      "source": [
        "import pandas as pd\n",
        "import numpy as np\n",
        "from sklearn.model_selection import train_test_split\n",
        "import statsmodels.api as sm\n",
        "from sklearn.linear_model import LogisticRegression\n",
        "import matplotlib.pyplot as plt\n"
      ],
      "metadata": {
        "id": "Pmnx9mJkCPiT"
      },
      "execution_count": null,
      "outputs": []
    },
    {
      "cell_type": "markdown",
      "source": [
        "Import train.csv into dataframe"
      ],
      "metadata": {
        "id": "cq6rC_eqCAP8"
      }
    },
    {
      "cell_type": "code",
      "source": [
        "# Read the CSV file into a DataFrame\n",
        "df = pd.read_csv('train.csv')\n",
        "\n",
        "column_names = df.columns\n",
        "print(column_names)\n",
        "\n",
        "# Print data types of each column\n",
        "data_types = df.dtypes\n",
        "print(\"Data types of each column:\")\n",
        "print(data_types)"
      ],
      "metadata": {
        "colab": {
          "base_uri": "https://localhost:8080/"
        },
        "id": "RelFP_JyCnA5",
        "outputId": "2388d7fd-f9ec-4988-e6e6-67e10873a09f"
      },
      "execution_count": null,
      "outputs": [
        {
          "output_type": "stream",
          "name": "stdout",
          "text": [
            "Index(['PassengerId', 'Survived', 'Pclass', 'Name', 'Sex', 'Age', 'SibSp',\n",
            "       'Parch', 'Ticket', 'Fare', 'Cabin', 'Embarked'],\n",
            "      dtype='object')\n",
            "Data types of each column:\n",
            "PassengerId      int64\n",
            "Survived         int64\n",
            "Pclass           int64\n",
            "Name            object\n",
            "Sex             object\n",
            "Age            float64\n",
            "SibSp            int64\n",
            "Parch            int64\n",
            "Ticket          object\n",
            "Fare           float64\n",
            "Cabin           object\n",
            "Embarked        object\n",
            "dtype: object\n"
          ]
        }
      ]
    },
    {
      "cell_type": "markdown",
      "source": [
        "Check for missing values."
      ],
      "metadata": {
        "id": "wNOescRJEBhw"
      }
    },
    {
      "cell_type": "code",
      "source": [
        "# Check for missing values\n",
        "missing_values = df.isnull().sum()\n",
        "print(\"Missing values in each column:\")\n",
        "print(missing_values)"
      ],
      "metadata": {
        "colab": {
          "base_uri": "https://localhost:8080/"
        },
        "id": "QJ9ENEMEEDJ2",
        "outputId": "eee1fbb2-f286-4078-cf9d-0b99d2224f8a"
      },
      "execution_count": null,
      "outputs": [
        {
          "output_type": "stream",
          "name": "stdout",
          "text": [
            "Missing values in each column:\n",
            "PassengerId      0\n",
            "Survived         0\n",
            "Pclass           0\n",
            "Name             0\n",
            "Sex              0\n",
            "Age            177\n",
            "SibSp            0\n",
            "Parch            0\n",
            "Ticket           0\n",
            "Fare             0\n",
            "Cabin          687\n",
            "Embarked         2\n",
            "dtype: int64\n"
          ]
        }
      ]
    },
    {
      "cell_type": "markdown",
      "source": [
        "How much is missing? Look at it as percentage."
      ],
      "metadata": {
        "id": "uV0VuLKFE4Ex"
      }
    },
    {
      "cell_type": "code",
      "source": [
        "# Check for missing values in percentage\n",
        "missing_percentage = (df.isnull().sum() / len(df)) * 100\n",
        "print(\"\\nMissing values in percentage:\")\n",
        "print(missing_percentage)"
      ],
      "metadata": {
        "colab": {
          "base_uri": "https://localhost:8080/"
        },
        "id": "QGHinuwmE7x8",
        "outputId": "462953bd-95dc-4730-f956-cdf798c549a7"
      },
      "execution_count": null,
      "outputs": [
        {
          "output_type": "stream",
          "name": "stdout",
          "text": [
            "\n",
            "Missing values in percentage:\n",
            "PassengerId     0.000000\n",
            "Survived        0.000000\n",
            "Pclass          0.000000\n",
            "Name            0.000000\n",
            "Sex             0.000000\n",
            "Age            19.865320\n",
            "SibSp           0.000000\n",
            "Parch           0.000000\n",
            "Ticket          0.000000\n",
            "Fare            0.000000\n",
            "Cabin          77.104377\n",
            "Embarked        0.224467\n",
            "dtype: float64\n"
          ]
        }
      ]
    },
    {
      "cell_type": "markdown",
      "source": [
        "Treat 'Embarked' missing values: Embarked column df['Embarked'] Find most common value .mode() Fill in missing value with most common value .fillna(df['Embarked'].mode()[0]) Do this change directly in our existing dataframe inplace=True"
      ],
      "metadata": {
        "id": "YApb1wT1EtXj"
      }
    },
    {
      "cell_type": "code",
      "source": [
        "# Fill missing values in 'Embarked' with the mode\n",
        "df['Embarked'].fillna(df['Embarked'].mode()[0], inplace=True)"
      ],
      "metadata": {
        "id": "wvEN4pL_ExwZ"
      },
      "execution_count": null,
      "outputs": []
    },
    {
      "cell_type": "markdown",
      "source": [
        "Treat 'Cabin' missing values: Due to high percentage of 77.10 we will drop the column."
      ],
      "metadata": {
        "id": "JjZJCbw5HSy-"
      }
    },
    {
      "cell_type": "code",
      "source": [
        "# Drop the 'Cabin' column due to a high percentage of missing values\n",
        "df.drop(columns=['Cabin'], inplace=True)"
      ],
      "metadata": {
        "id": "_ClzhBT0Hhz5"
      },
      "execution_count": null,
      "outputs": []
    },
    {
      "cell_type": "markdown",
      "source": [
        "Treat 'Age' missing values: Fill in with the median."
      ],
      "metadata": {
        "id": "ylcB_mwQHk7o"
      }
    },
    {
      "cell_type": "code",
      "source": [
        "# Fill missing values in 'Age' with the median\n",
        "df['Age'].fillna(df['Age'].median(), inplace=True)\n"
      ],
      "metadata": {
        "id": "-36UzWuUHt1N"
      },
      "execution_count": null,
      "outputs": []
    },
    {
      "cell_type": "markdown",
      "source": [
        "Verify no more missing values."
      ],
      "metadata": {
        "id": "ciKFQa_hHxn7"
      }
    },
    {
      "cell_type": "code",
      "source": [
        "# Verify that there are no missing values\n",
        "print(\"Missing values after imputation:\")\n",
        "print(df.isnull().sum())"
      ],
      "metadata": {
        "colab": {
          "base_uri": "https://localhost:8080/"
        },
        "id": "vRFcbmFAH0bJ",
        "outputId": "99f4ac49-8a78-443b-bea5-bec9be32d380"
      },
      "execution_count": null,
      "outputs": [
        {
          "output_type": "stream",
          "name": "stdout",
          "text": [
            "Missing values after imputation:\n",
            "PassengerId    0\n",
            "Survived       0\n",
            "Pclass         0\n",
            "Name           0\n",
            "Sex            0\n",
            "Age            0\n",
            "SibSp          0\n",
            "Parch          0\n",
            "Ticket         0\n",
            "Fare           0\n",
            "Embarked       0\n",
            "dtype: int64\n"
          ]
        }
      ]
    },
    {
      "cell_type": "markdown",
      "source": [
        "Replace 'male' with 1 and 'female' with 0 in the 'Sex' column."
      ],
      "metadata": {
        "id": "wEiwLtvLC8qI"
      }
    },
    {
      "cell_type": "code",
      "source": [
        "# Replace 'male' with 1 and 'female' with 0\n",
        "df['Sex'] = df['Sex'].replace({'male': 1, 'female': 0})\n",
        "\n",
        "# Convert the data type of the 'Sex' column to integer\n",
        "df['Sex'] = df['Sex'].astype(int)\n",
        "\n",
        "# Check data types of each column again\n",
        "print(\"Data types of each column:\")\n",
        "print(df.dtypes)\n",
        "\n",
        "# Check unique values in the 'Sex' column again\n",
        "print(\"Unique values in 'Sex' column:\", df['Sex'].unique())\n"
      ],
      "metadata": {
        "colab": {
          "base_uri": "https://localhost:8080/"
        },
        "id": "2f1be9WlYMUA",
        "outputId": "9738a44a-d672-4742-825a-a950125175a0"
      },
      "execution_count": null,
      "outputs": [
        {
          "output_type": "stream",
          "name": "stdout",
          "text": [
            "Data types of each column:\n",
            "PassengerId      int64\n",
            "Survived         int64\n",
            "Pclass           int64\n",
            "Name            object\n",
            "Sex              int64\n",
            "Age            float64\n",
            "SibSp            int64\n",
            "Parch            int64\n",
            "Ticket          object\n",
            "Fare           float64\n",
            "Embarked        object\n",
            "dtype: object\n",
            "Unique values in 'Sex' column: [1 0]\n"
          ]
        }
      ]
    },
    {
      "cell_type": "markdown",
      "source": [
        "Have Sex and Age as your Independent Variables (Predictors) and Survived as your DV."
      ],
      "metadata": {
        "id": "vKEuDge4DhIf"
      }
    },
    {
      "cell_type": "code",
      "source": [
        "X = df[['Sex', 'Age']]\n",
        "y = df['Survived']\n"
      ],
      "metadata": {
        "id": "QV5AFxEPzB7t"
      },
      "execution_count": null,
      "outputs": []
    },
    {
      "cell_type": "markdown",
      "source": [
        "Fit the logistic regression model."
      ],
      "metadata": {
        "id": "7UtOsXPWzPuY"
      }
    },
    {
      "cell_type": "code",
      "source": [
        "import statsmodels.api as sm\n",
        "\n",
        "# Add a constant term to the independent variables\n",
        "X = sm.add_constant(X)\n",
        "\n",
        "# Fit the logistic regression model\n",
        "model = sm.Logit(y, X).fit()\n"
      ],
      "metadata": {
        "colab": {
          "base_uri": "https://localhost:8080/"
        },
        "id": "Jt_5WB97zS0Z",
        "outputId": "bb92006b-00b5-41a2-e288-76f7bad728e3"
      },
      "execution_count": null,
      "outputs": [
        {
          "output_type": "stream",
          "name": "stdout",
          "text": [
            "Optimization terminated successfully.\n",
            "         Current function value: 0.514730\n",
            "         Iterations 5\n"
          ]
        }
      ]
    },
    {
      "cell_type": "markdown",
      "source": [
        "Current function value: 0.514730 is level of fit of the logistic regression model to the data<br>\n",
        "Iterations 5"
      ],
      "metadata": {
        "id": "69hPUkt1ze_d"
      }
    },
    {
      "cell_type": "markdown",
      "source": [
        "Print summary of the model."
      ],
      "metadata": {
        "id": "KyL8L4xZzViw"
      }
    },
    {
      "cell_type": "code",
      "source": [
        "print(model.summary())\n"
      ],
      "metadata": {
        "colab": {
          "base_uri": "https://localhost:8080/"
        },
        "id": "cnXE4Sw9zYcu",
        "outputId": "154d9836-0303-4815-b2d2-053591d2eed1"
      },
      "execution_count": null,
      "outputs": [
        {
          "output_type": "stream",
          "name": "stdout",
          "text": [
            "                           Logit Regression Results                           \n",
            "==============================================================================\n",
            "Dep. Variable:               Survived   No. Observations:                  891\n",
            "Model:                          Logit   Df Residuals:                      888\n",
            "Method:                           MLE   Df Model:                            2\n",
            "Date:                Thu, 30 May 2024   Pseudo R-squ.:                  0.2270\n",
            "Time:                        18:40:21   Log-Likelihood:                -458.62\n",
            "converged:                       True   LL-Null:                       -593.33\n",
            "Covariance Type:            nonrobust   LLR p-value:                 3.157e-59\n",
            "==============================================================================\n",
            "                 coef    std err          z      P>|z|      [0.025      0.975]\n",
            "------------------------------------------------------------------------------\n",
            "const          1.1898      0.222      5.361      0.000       0.755       1.625\n",
            "Sex           -2.5053      0.167    -14.962      0.000      -2.834      -2.177\n",
            "Age           -0.0047      0.006     -0.743      0.458      -0.017       0.008\n",
            "==============================================================================\n"
          ]
        }
      ]
    },
    {
      "cell_type": "markdown",
      "source": [
        "DV: Survived\n",
        "\n",
        "No. of Observations: 891 rows/passengers.\n",
        "\n",
        "Model: Logit (logistic regression).\n",
        "\n",
        "Df Residuals: 888 is 891 rows - 3 variables.\n",
        "\n",
        "Method: MLE Maximum Likelihood Estimation.\n",
        "\n",
        "Df: 2 degrees of freedom or 2 IV(predictors) in model\n",
        "\n",
        "Pseudo R-Squared: 0.2270 Sex and Age explain around 22.% of the variation in DV Survived / Sex and Age explain about 22.7% of the variation in whether a passenger survived the Titanic.\n",
        "\n",
        "Log-Likelihood: -458.62 A less negative log-likelihood suggests the model is better at explaining the observed data.\n",
        "\n",
        "Converged: The model-building process is smooth and reached a good solution because it is True.\n",
        "\n",
        "LL-null: -593.33 A lower lL-Null value means the model is better at guessing survival than flipping a coin.\n",
        "\n",
        "LLR p-Value: 3.157e-59 is a really low score which means sthe model is better than just random guessing.\n",
        "\n",
        "Coefficients: Show the impact of Sex is -2.5053(male=1) indicating that males are less likely to survive compared to females(0). Age -0.0047(male=1) for every year of age, the likelihood of survival changes by 0.0047 very small so age doesn't seem to have a strong impact on survival.\n",
        "\n",
        "P>|z|: for both sex and age the p-values are close to zero indicating they are statistically significant in predicting survival."
      ],
      "metadata": {
        "id": "jSERLaOUz6d0"
      }
    }
  ]
}