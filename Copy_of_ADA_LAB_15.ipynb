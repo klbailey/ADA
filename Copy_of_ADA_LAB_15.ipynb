{
  "nbformat": 4,
  "nbformat_minor": 0,
  "metadata": {
    "colab": {
      "provenance": []
    },
    "kernelspec": {
      "name": "python3",
      "display_name": "Python 3"
    },
    "language_info": {
      "name": "python"
    }
  },
  "cells": [
    {
      "cell_type": "markdown",
      "source": [
        "##PART 1"
      ],
      "metadata": {
        "id": "jdaJxtEtR3q9"
      }
    },
    {
      "cell_type": "markdown",
      "source": [
        "- You're the data scientist for a BPO company where employees use a portal for taking calls and ticketing. You are given the file 'user_id' consisting of the employee ids.\n",
        "<br>\n",
        "- The company is planning to change the layout and has a proposed New Version\n",
        "<br>\n",
        "- Currently, there are 1000 employees."
      ],
      "metadata": {
        "id": "aXJ1e3rMTlNq"
      }
    },
    {
      "cell_type": "markdown",
      "source": [
        "##Question 1: Your boss says that it takes money to deploy the new layout and asked you how many employees do you need to test the new layout? You found out the the effect size for the same concept in the pilot study was 0.71. What would you tell him?"
      ],
      "metadata": {
        "id": "jDkWwmZQdvzP"
      }
    },
    {
      "cell_type": "code",
      "source": [
        "# Power Analysis - Determine Sample Size\n",
        "import statsmodels.stats.power as smp\n",
        "\n",
        "# Set parameters for the power analysis\n",
        "effect_size = 0.71  # Specify the effect size\n",
        "alpha = 0.05       # Set the significance level\n",
        "power = 0.8        # Set the desired power usually set at 0.8 or 0.9 Is influenced by eff size, sample, and alpha\n",
        "\n",
        "# Conduct power analysis for a two-sample t-test(compare means of 2 independent groups-old system/new system)\n",
        "analysis = smp.TTestIndPower()\n",
        "required_sample_size = analysis.solve_power(effect_size=effect_size, alpha=alpha, power=power)\n",
        "\n",
        "# Print the result\n",
        "print(f\"Required sample size: {round(required_sample_size)} participants\")\n"
      ],
      "metadata": {
        "id": "MFsq-qlm88_6",
        "colab": {
          "base_uri": "https://localhost:8080/"
        },
        "outputId": "bd6ee957-299e-48d4-8c3a-77cceb1635be"
      },
      "execution_count": null,
      "outputs": [
        {
          "output_type": "stream",
          "name": "stdout",
          "text": [
            "Required sample size: 32 participants\n"
          ]
        }
      ]
    },
    {
      "cell_type": "markdown",
      "source": [
        "I would inform the boss that I need a sample size of 32 employees to effectively test the new layout and get statistically reliable results."
      ],
      "metadata": {
        "id": "kxLOFl1Bjf4P"
      }
    },
    {
      "cell_type": "markdown",
      "source": [
        "#Question 2: The boss then asked which employees would you need specifically so that the data team can pull their data for you? He needs a file consisting their user ids where you would also specify which users would have the old version and which users would they deploy the new versions to."
      ],
      "metadata": {
        "id": "W8Ehn9BodxQS"
      }
    },
    {
      "cell_type": "code",
      "source": [
        "#randomization\n",
        "#print the list, export the list into a csv."
      ],
      "metadata": {
        "id": "gCSiO705Vy40"
      },
      "execution_count": null,
      "outputs": []
    },
    {
      "cell_type": "code",
      "source": [
        "import pandas as pd\n",
        "import numpy as np\n",
        "\n",
        "# Read the CSV file containing the employee data\n",
        "data = pd.read_csv(\"lab15_data.csv\")\n",
        "\n",
        "# Display the first few rows of the DataFrame to understand its structure\n",
        "print(data.head())\n",
        "\n",
        "# Set random seed for reproducibility\n",
        "np.random.seed(42)\n",
        "\n",
        "# Define the desired sample size\n",
        "sample_size = 32  # From previous analysis\n",
        "\n",
        "# Randomly select sample_size number of employees (32)\n",
        "selected_employee_ids = np.random.choice(data['user_id'], size=sample_size, replace=False)\n",
        "\n",
        "# Assign half of the selected employees to the control group (old version) [ // is integer division ]\n",
        "control_group_size = sample_size // 2\n",
        "control_group_ids = selected_employee_ids[:control_group_size]\n",
        "\n",
        "# Assign the remaining employees to the experimental group (new version)\n",
        "experimental_group_ids = selected_employee_ids[control_group_size:]\n",
        "\n",
        "# Create a DataFrame to store the user IDs and their assigned groups\n",
        "employee_groups = pd.DataFrame({'user_id': selected_employee_ids,\n",
        "                                'group': ['Old Version'] * control_group_size + ['New Version'] * (sample_size - control_group_size)})\n",
        "\n",
        "# Display the DataFrame\n",
        "print(employee_groups)\n",
        "\n",
        "# Save the DataFrame to a CSV file\n",
        "employee_groups.to_csv(\"employee_groups.csv\", index=False)\n",
        "\n",
        "print(\"File 'employee_groups.csv' saved successfully.\")\n"
      ],
      "metadata": {
        "colab": {
          "base_uri": "https://localhost:8080/"
        },
        "id": "s7w-FDh_lGNw",
        "outputId": "6f5fe418-aede-46aa-8d1e-dfaadb4d71f1"
      },
      "execution_count": null,
      "outputs": [
        {
          "output_type": "stream",
          "name": "stdout",
          "text": [
            "   user_id version  new_user_activation  purchases\n",
            "0        0       A                False          1\n",
            "1        1       A                 True          1\n",
            "2        2       A                 True          3\n",
            "3        3       A                False          0\n",
            "4        4       A                 True          0\n",
            "    user_id        group\n",
            "0       521  Old Version\n",
            "1       737  Old Version\n",
            "2       740  Old Version\n",
            "3       660  Old Version\n",
            "4       411  Old Version\n",
            "5       678  Old Version\n",
            "6       626  Old Version\n",
            "7       513  Old Version\n",
            "8       859  Old Version\n",
            "9       136  Old Version\n",
            "10      811  Old Version\n",
            "11       76  Old Version\n",
            "12      636  Old Version\n",
            "13      973  Old Version\n",
            "14      938  Old Version\n",
            "15      899  Old Version\n",
            "16      280  New Version\n",
            "17      883  New Version\n",
            "18      761  New Version\n",
            "19      319  New Version\n",
            "20      549  New Version\n",
            "21      174  New Version\n",
            "22      371  New Version\n",
            "23      527  New Version\n",
            "24      210  New Version\n",
            "25      235  New Version\n",
            "26      101  New Version\n",
            "27      986  New Version\n",
            "28      902  New Version\n",
            "29      947  New Version\n",
            "30      346  New Version\n",
            "31      139  New Version\n",
            "File 'employee_groups.csv' saved successfully.\n"
          ]
        }
      ]
    },
    {
      "cell_type": "markdown",
      "source": [
        "#PART 2 (FOR HOMEWORK/OPTIONAL)\n",
        "\n",
        "use lab15_data.csv and perform all of the experiment steps you think you would need.\n",
        "\n"
      ],
      "metadata": {
        "id": "0zV6oDAjQwq8"
      }
    },
    {
      "cell_type": "code",
      "source": [
        "# Load/Inspect Data\n",
        "\n",
        "# Load the CSV file containing the employee data\n",
        "data = pd.read_csv(\"lab15_data.csv\")\n",
        "\n",
        "# Display the first few rows of the DataFrame to understand its structure\n",
        "print(data.head())\n",
        "\n",
        "# Display basic information about the DataFrame\n",
        "print(data.info())"
      ],
      "metadata": {
        "colab": {
          "base_uri": "https://localhost:8080/"
        },
        "id": "fKNWs4yfyq30",
        "outputId": "7bdfe41e-8155-49d2-e6e0-f8de5e2bd583"
      },
      "execution_count": null,
      "outputs": [
        {
          "output_type": "stream",
          "name": "stdout",
          "text": [
            "   user_id version  new_user_activation  purchases\n",
            "0        0       A                False          1\n",
            "1        1       A                 True          1\n",
            "2        2       A                 True          3\n",
            "3        3       A                False          0\n",
            "4        4       A                 True          0\n",
            "<class 'pandas.core.frame.DataFrame'>\n",
            "RangeIndex: 1000 entries, 0 to 999\n",
            "Data columns (total 4 columns):\n",
            " #   Column               Non-Null Count  Dtype \n",
            "---  ------               --------------  ----- \n",
            " 0   user_id              1000 non-null   int64 \n",
            " 1   version              1000 non-null   object\n",
            " 2   new_user_activation  1000 non-null   bool  \n",
            " 3   purchases            1000 non-null   int64 \n",
            "dtypes: bool(1), int64(2), object(1)\n",
            "memory usage: 24.5+ KB\n",
            "None\n"
          ]
        }
      ]
    },
    {
      "cell_type": "code",
      "source": [
        "# Randomly Select Required Sample size\n",
        "\n",
        "# Set random seed for reproducibility\n",
        "np.random.seed(42)\n",
        "\n",
        "# Define the desired sample size\n",
        "sample_size = 32  # From previous analysis\n",
        "\n",
        "# Randomly select sample_size number of employees\n",
        "selected_employee_ids = np.random.choice(data['user_id'], size=sample_size, replace=False)\n",
        "\n",
        "# Create a DataFrame with the selected employee IDs\n",
        "selected_employees = data[data['user_id'].isin(selected_employee_ids)]\n",
        "\n",
        "# Display the selected employees\n",
        "print(selected_employees)"
      ],
      "metadata": {
        "colab": {
          "base_uri": "https://localhost:8080/"
        },
        "id": "qy3jf-uCyx5V",
        "outputId": "037a54de-4622-4c88-cfa3-327e20114349"
      },
      "execution_count": null,
      "outputs": [
        {
          "output_type": "stream",
          "name": "stdout",
          "text": [
            "     user_id version  new_user_activation  purchases\n",
            "76        76       B                 True          1\n",
            "101      101       B                 True          2\n",
            "136      136       A                 True          3\n",
            "139      139       A                 True          0\n",
            "174      174       A                 True          1\n",
            "210      210       B                False          1\n",
            "235      235       A                False          0\n",
            "280      280       B                 True          0\n",
            "319      319       B                False          1\n",
            "346      346       A                 True          0\n",
            "371      371       B                 True          0\n",
            "411      411       B                 True          1\n",
            "513      513       B                 True          1\n",
            "521      521       A                False          3\n",
            "527      527       B                 True          0\n",
            "549      549       A                 True          1\n",
            "626      626       B                False          0\n",
            "636      636       B                False          1\n",
            "660      660       A                 True          2\n",
            "678      678       B                 True          1\n",
            "737      737       A                 True          1\n",
            "740      740       B                 True          3\n",
            "761      761       B                False          2\n",
            "811      811       B                False          0\n",
            "859      859       A                 True          2\n",
            "883      883       B                False          0\n",
            "899      899       A                False          0\n",
            "902      902       B                 True          0\n",
            "938      938       B                 True          1\n",
            "947      947       B                False          1\n",
            "973      973       B                 True          2\n",
            "986      986       A                False          0\n"
          ]
        }
      ]
    },
    {
      "cell_type": "code",
      "source": [
        "# Randomly Assign Sample to Control Experimental Groups\n",
        "\n",
        "# Determine the size of the control group\n",
        "control_group_size = sample_size // 2\n",
        "\n",
        "# Randomly assign half of the selected employees to the control group\n",
        "control_group_ids = selected_employee_ids[:control_group_size]\n",
        "\n",
        "# Assign the remaining employees to the experimental group\n",
        "experimental_group_ids = selected_employee_ids[control_group_size:]\n",
        "\n",
        "# Create a new column 'group' and initialize it with 'Old Version' for control group\n",
        "selected_employees.loc[selected_employees['user_id'].isin(control_group_ids), 'group'] = 'Old Version'\n",
        "\n",
        "# Update the 'group' column to 'New Version' for experimental group\n",
        "selected_employees.loc[selected_employees['user_id'].isin(experimental_group_ids), 'group'] = 'New Version'\n",
        "\n",
        "# Display the selected employees with their assigned groups\n",
        "print(selected_employees)\n"
      ],
      "metadata": {
        "colab": {
          "base_uri": "https://localhost:8080/"
        },
        "id": "zbpcSrCyzGc7",
        "outputId": "568aed84-d827-4219-975a-8721a60cf23b"
      },
      "execution_count": null,
      "outputs": [
        {
          "output_type": "stream",
          "name": "stdout",
          "text": [
            "     user_id version  new_user_activation  purchases        group  \\\n",
            "76        76       B                 True          1  Old Version   \n",
            "101      101       B                 True          2  New Version   \n",
            "136      136       A                 True          3  Old Version   \n",
            "139      139       A                 True          0  New Version   \n",
            "174      174       A                 True          1  New Version   \n",
            "210      210       B                False          1  New Version   \n",
            "235      235       A                False          0  New Version   \n",
            "280      280       B                 True          0  New Version   \n",
            "319      319       B                False          1  New Version   \n",
            "346      346       A                 True          0  New Version   \n",
            "371      371       B                 True          0  New Version   \n",
            "411      411       B                 True          1  Old Version   \n",
            "513      513       B                 True          1  Old Version   \n",
            "521      521       A                False          3  Old Version   \n",
            "527      527       B                 True          0  New Version   \n",
            "549      549       A                 True          1  New Version   \n",
            "626      626       B                False          0  Old Version   \n",
            "636      636       B                False          1  Old Version   \n",
            "660      660       A                 True          2  Old Version   \n",
            "678      678       B                 True          1  Old Version   \n",
            "737      737       A                 True          1  Old Version   \n",
            "740      740       B                 True          3  Old Version   \n",
            "761      761       B                False          2  New Version   \n",
            "811      811       B                False          0  Old Version   \n",
            "859      859       A                 True          2  Old Version   \n",
            "883      883       B                False          0  New Version   \n",
            "899      899       A                False          0  Old Version   \n",
            "902      902       B                 True          0  New Version   \n",
            "938      938       B                 True          1  Old Version   \n",
            "947      947       B                False          1  New Version   \n",
            "973      973       B                 True          2  Old Version   \n",
            "986      986       A                False          0  New Version   \n",
            "\n",
            "     performance_score  \n",
            "76           74.967142  \n",
            "101          64.871689  \n",
            "136          68.617357  \n",
            "139          78.142473  \n",
            "174          65.919759  \n",
            "210          60.876963  \n",
            "235          89.656488  \n",
            "280          72.742237  \n",
            "319          75.675282  \n",
            "346          60.752518  \n",
            "371          69.556173  \n",
            "411          76.476885  \n",
            "513          85.230299  \n",
            "521          67.658466  \n",
            "527          76.109226  \n",
            "549          63.490064  \n",
            "626          67.658630  \n",
            "636          85.792128  \n",
            "660          77.674347  \n",
            "678          65.305256  \n",
            "737          75.425600  \n",
            "740          65.365823  \n",
            "761          78.756980  \n",
            "811          65.342702  \n",
            "859          72.419623  \n",
            "883          68.993613  \n",
            "899          50.867198  \n",
            "902          72.083063  \n",
            "938          52.750822  \n",
            "947          68.982934  \n",
            "973          64.377125  \n",
            "986          93.522782  \n"
          ]
        }
      ]
    },
    {
      "cell_type": "code",
      "source": [
        "# Simulate Performance Data\n",
        "\n",
        "np.random.seed(42)\n",
        "performance_old_version = np.random.normal(loc=70, scale=10, size=control_group_size)\n",
        "performance_new_version = np.random.normal(loc=75, scale=10, size=sample_size - control_group_size)\n",
        "\n",
        "# Assign the performance data to the DataFrame\n",
        "selected_employees.loc[selected_employees['group'] == 'Old Version', 'performance_score'] = performance_old_version\n",
        "selected_employees.loc[selected_employees['group'] == 'New Version', 'performance_score'] = performance_new_version\n",
        "\n",
        "# Display the selected employees with their performance scores\n",
        "print(selected_employees)\n"
      ],
      "metadata": {
        "colab": {
          "base_uri": "https://localhost:8080/"
        },
        "id": "zRnl6Dz6zR3Z",
        "outputId": "b8718d86-e15e-46da-f4bb-5c3c3fe67b16"
      },
      "execution_count": null,
      "outputs": [
        {
          "output_type": "stream",
          "name": "stdout",
          "text": [
            "     user_id version  new_user_activation  purchases        group  \\\n",
            "76        76       B                 True          1  Old Version   \n",
            "101      101       B                 True          2  New Version   \n",
            "136      136       A                 True          3  Old Version   \n",
            "139      139       A                 True          0  New Version   \n",
            "174      174       A                 True          1  New Version   \n",
            "210      210       B                False          1  New Version   \n",
            "235      235       A                False          0  New Version   \n",
            "280      280       B                 True          0  New Version   \n",
            "319      319       B                False          1  New Version   \n",
            "346      346       A                 True          0  New Version   \n",
            "371      371       B                 True          0  New Version   \n",
            "411      411       B                 True          1  Old Version   \n",
            "513      513       B                 True          1  Old Version   \n",
            "521      521       A                False          3  Old Version   \n",
            "527      527       B                 True          0  New Version   \n",
            "549      549       A                 True          1  New Version   \n",
            "626      626       B                False          0  Old Version   \n",
            "636      636       B                False          1  Old Version   \n",
            "660      660       A                 True          2  Old Version   \n",
            "678      678       B                 True          1  Old Version   \n",
            "737      737       A                 True          1  Old Version   \n",
            "740      740       B                 True          3  Old Version   \n",
            "761      761       B                False          2  New Version   \n",
            "811      811       B                False          0  Old Version   \n",
            "859      859       A                 True          2  Old Version   \n",
            "883      883       B                False          0  New Version   \n",
            "899      899       A                False          0  Old Version   \n",
            "902      902       B                 True          0  New Version   \n",
            "938      938       B                 True          1  Old Version   \n",
            "947      947       B                False          1  New Version   \n",
            "973      973       B                 True          2  Old Version   \n",
            "986      986       A                False          0  New Version   \n",
            "\n",
            "     performance_score  \n",
            "76           74.967142  \n",
            "101          64.871689  \n",
            "136          68.617357  \n",
            "139          78.142473  \n",
            "174          65.919759  \n",
            "210          60.876963  \n",
            "235          89.656488  \n",
            "280          72.742237  \n",
            "319          75.675282  \n",
            "346          60.752518  \n",
            "371          69.556173  \n",
            "411          76.476885  \n",
            "513          85.230299  \n",
            "521          67.658466  \n",
            "527          76.109226  \n",
            "549          63.490064  \n",
            "626          67.658630  \n",
            "636          85.792128  \n",
            "660          77.674347  \n",
            "678          65.305256  \n",
            "737          75.425600  \n",
            "740          65.365823  \n",
            "761          78.756980  \n",
            "811          65.342702  \n",
            "859          72.419623  \n",
            "883          68.993613  \n",
            "899          50.867198  \n",
            "902          72.083063  \n",
            "938          52.750822  \n",
            "947          68.982934  \n",
            "973          64.377125  \n",
            "986          93.522782  \n"
          ]
        }
      ]
    },
    {
      "cell_type": "code",
      "source": [
        "# Analyze Results of A/B Test\n",
        "\n",
        "from scipy.stats import ttest_ind\n",
        "\n",
        "# Separate the performance scores into two groups\n",
        "performance_old_version = selected_employees[selected_employees['group'] == 'Old Version']['performance_score']\n",
        "performance_new_version = selected_employees[selected_employees['group'] == 'New Version']['performance_score']\n",
        "\n",
        "# Perform a two-sample t-test\n",
        "t_stat, p_value = ttest_ind(performance_old_version, performance_new_version)\n",
        "\n",
        "# Print the results of the t-test\n",
        "print(f\"T-statistic: {t_stat}\")\n",
        "print(f\"P-value: {p_value}\")\n",
        "\n",
        "# Interpret the results\n",
        "alpha = 0.05\n",
        "if p_value < alpha:\n",
        "    print(\"Reject the null hypothesis: There is a significant difference in performance between the old and new layouts.\")\n",
        "else:\n",
        "    print(\"Fail to reject the null hypothesis: There is no significant difference in performance between the old and new layouts.\")\n"
      ],
      "metadata": {
        "colab": {
          "base_uri": "https://localhost:8080/"
        },
        "id": "2kiw6tn4ztk9",
        "outputId": "3de86816-f13b-4796-8d45-08b92a9decd6"
      },
      "execution_count": null,
      "outputs": [
        {
          "output_type": "stream",
          "name": "stdout",
          "text": [
            "T-statistic: -0.8185105831753815\n",
            "P-value: 0.4195201489501176\n",
            "Fail to reject the null hypothesis: There is no significant difference in performance between the old and new layouts.\n"
          ]
        }
      ]
    },
    {
      "cell_type": "markdown",
      "source": [
        "P-value 0.42 > significance(alpha, 0.05) we fail to reject the null - there is no statistically significant difference in performance between the employees using old and new layouts.\n"
      ],
      "metadata": {
        "id": "oM-1Q7yyz5XH"
      }
    },
    {
      "cell_type": "markdown",
      "source": [
        "*Note: this is a different dataset*"
      ],
      "metadata": {
        "id": "fzBmTmnXdOTV"
      }
    }
  ]
}